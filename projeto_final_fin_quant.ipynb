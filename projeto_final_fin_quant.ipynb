{
 "cells": [
  {
   "cell_type": "markdown",
   "metadata": {},
   "source": [
    "# **Configurando as bibliotecas do projeto**"
   ]
  },
  {
   "cell_type": "markdown",
   "metadata": {},
   "source": [
    "## *Instalação de bibliotecas*"
   ]
  },
  {
   "cell_type": "code",
   "execution_count": 85,
   "metadata": {},
   "outputs": [
    {
     "name": "stdout",
     "output_type": "stream",
     "text": [
      "Defaulting to user installation because normal site-packages is not writeable\n",
      "Requirement already satisfied: Ta-Lib in /home/user/.local/lib/python3.10/site-packages (0.4.32)\n",
      "Requirement already satisfied: numpy in /home/user/.local/lib/python3.10/site-packages (from Ta-Lib) (1.24.3)\n"
     ]
    }
   ],
   "source": [
    "# Instala a biblioteca \"TA-Lib\" que será responsável por fornecer a implementação de alguns indicadores técnicos.\n",
    "!pip install Ta-Lib"
   ]
  },
  {
   "cell_type": "code",
   "execution_count": 86,
   "metadata": {},
   "outputs": [
    {
     "name": "stdout",
     "output_type": "stream",
     "text": [
      "Defaulting to user installation because normal site-packages is not writeable\n",
      "Requirement already satisfied: tensorflow in /home/user/.local/lib/python3.10/site-packages (2.17.0)\n",
      "Requirement already satisfied: requests<3,>=2.21.0 in /home/user/.local/lib/python3.10/site-packages (from tensorflow) (2.31.0)\n",
      "Requirement already satisfied: absl-py>=1.0.0 in /home/user/.local/lib/python3.10/site-packages (from tensorflow) (2.1.0)\n",
      "Requirement already satisfied: tensorboard<2.18,>=2.17 in /home/user/.local/lib/python3.10/site-packages (from tensorflow) (2.17.1)\n",
      "Requirement already satisfied: keras>=3.2.0 in /home/user/.local/lib/python3.10/site-packages (from tensorflow) (3.5.0)\n",
      "Requirement already satisfied: google-pasta>=0.1.1 in /home/user/.local/lib/python3.10/site-packages (from tensorflow) (0.2.0)\n",
      "Requirement already satisfied: gast!=0.5.0,!=0.5.1,!=0.5.2,>=0.2.1 in /home/user/.local/lib/python3.10/site-packages (from tensorflow) (0.6.0)\n",
      "Requirement already satisfied: numpy<2.0.0,>=1.23.5 in /home/user/.local/lib/python3.10/site-packages (from tensorflow) (1.24.3)\n",
      "Requirement already satisfied: ml-dtypes<0.5.0,>=0.3.1 in /home/user/.local/lib/python3.10/site-packages (from tensorflow) (0.4.0)\n",
      "Requirement already satisfied: wrapt>=1.11.0 in /home/user/.local/lib/python3.10/site-packages (from tensorflow) (1.16.0)\n",
      "Requirement already satisfied: flatbuffers>=24.3.25 in /home/user/.local/lib/python3.10/site-packages (from tensorflow) (24.3.25)\n",
      "Requirement already satisfied: protobuf!=4.21.0,!=4.21.1,!=4.21.2,!=4.21.3,!=4.21.4,!=4.21.5,<5.0.0dev,>=3.20.3 in /home/user/.local/lib/python3.10/site-packages (from tensorflow) (4.25.4)\n",
      "Requirement already satisfied: packaging in /home/user/.local/lib/python3.10/site-packages (from tensorflow) (23.1)\n",
      "Requirement already satisfied: tensorflow-io-gcs-filesystem>=0.23.1 in /home/user/.local/lib/python3.10/site-packages (from tensorflow) (0.37.1)\n",
      "Requirement already satisfied: opt-einsum>=2.3.2 in /home/user/.local/lib/python3.10/site-packages (from tensorflow) (3.3.0)\n",
      "Requirement already satisfied: h5py>=3.10.0 in /home/user/.local/lib/python3.10/site-packages (from tensorflow) (3.11.0)\n",
      "Requirement already satisfied: termcolor>=1.1.0 in /home/user/.local/lib/python3.10/site-packages (from tensorflow) (2.4.0)\n",
      "Requirement already satisfied: libclang>=13.0.0 in /home/user/.local/lib/python3.10/site-packages (from tensorflow) (18.1.1)\n",
      "Requirement already satisfied: six>=1.12.0 in /usr/lib/python3/dist-packages (from tensorflow) (1.16.0)\n",
      "Requirement already satisfied: grpcio<2.0,>=1.24.3 in /home/user/.local/lib/python3.10/site-packages (from tensorflow) (1.66.1)\n",
      "Requirement already satisfied: typing-extensions>=3.6.6 in /home/user/.local/lib/python3.10/site-packages (from tensorflow) (4.10.0)\n",
      "Requirement already satisfied: setuptools in /usr/lib/python3/dist-packages (from tensorflow) (59.6.0)\n",
      "Requirement already satisfied: astunparse>=1.6.0 in /home/user/.local/lib/python3.10/site-packages (from tensorflow) (1.6.3)\n",
      "Requirement already satisfied: wheel<1.0,>=0.23.0 in /usr/lib/python3/dist-packages (from astunparse>=1.6.0->tensorflow) (0.37.1)\n",
      "Requirement already satisfied: optree in /home/user/.local/lib/python3.10/site-packages (from keras>=3.2.0->tensorflow) (0.12.1)\n",
      "Requirement already satisfied: rich in /home/user/.local/lib/python3.10/site-packages (from keras>=3.2.0->tensorflow) (13.8.0)\n",
      "Requirement already satisfied: namex in /home/user/.local/lib/python3.10/site-packages (from keras>=3.2.0->tensorflow) (0.0.8)\n",
      "Requirement already satisfied: urllib3<3,>=1.21.1 in /usr/lib/python3/dist-packages (from requests<3,>=2.21.0->tensorflow) (1.26.5)\n",
      "Requirement already satisfied: charset-normalizer<4,>=2 in /home/user/.local/lib/python3.10/site-packages (from requests<3,>=2.21.0->tensorflow) (3.3.2)\n",
      "Requirement already satisfied: certifi>=2017.4.17 in /usr/lib/python3/dist-packages (from requests<3,>=2.21.0->tensorflow) (2020.6.20)\n",
      "Requirement already satisfied: idna<4,>=2.5 in /usr/lib/python3/dist-packages (from requests<3,>=2.21.0->tensorflow) (3.3)\n",
      "Requirement already satisfied: markdown>=2.6.8 in /home/user/.local/lib/python3.10/site-packages (from tensorboard<2.18,>=2.17->tensorflow) (3.5.1)\n",
      "Requirement already satisfied: tensorboard-data-server<0.8.0,>=0.7.0 in /home/user/.local/lib/python3.10/site-packages (from tensorboard<2.18,>=2.17->tensorflow) (0.7.2)\n",
      "Requirement already satisfied: werkzeug>=1.0.1 in /home/user/.local/lib/python3.10/site-packages (from tensorboard<2.18,>=2.17->tensorflow) (3.0.1)\n",
      "Requirement already satisfied: MarkupSafe>=2.1.1 in /home/user/.local/lib/python3.10/site-packages (from werkzeug>=1.0.1->tensorboard<2.18,>=2.17->tensorflow) (2.1.3)\n",
      "Requirement already satisfied: markdown-it-py>=2.2.0 in /home/user/.local/lib/python3.10/site-packages (from rich->keras>=3.2.0->tensorflow) (3.0.0)\n",
      "Requirement already satisfied: pygments<3.0.0,>=2.13.0 in /home/user/.local/lib/python3.10/site-packages (from rich->keras>=3.2.0->tensorflow) (2.16.1)\n",
      "Requirement already satisfied: mdurl~=0.1 in /home/user/.local/lib/python3.10/site-packages (from markdown-it-py>=2.2.0->rich->keras>=3.2.0->tensorflow) (0.1.2)\n"
     ]
    }
   ],
   "source": [
    "# Instala a biblioteca \"tensorflow\" que será responsável por fornecer a implementação dos métodos necessários para a construção da LSTM.\n",
    "!pip install tensorflow"
   ]
  },
  {
   "cell_type": "markdown",
   "metadata": {},
   "source": [
    "## *Importação de bibliotecas*"
   ]
  },
  {
   "cell_type": "code",
   "execution_count": 87,
   "metadata": {},
   "outputs": [],
   "source": [
    "'''\n",
    "    Essa célula será usada para a importação de bibliotecas.\n",
    "'''\n",
    "\n",
    "# Importa a biblioteca que será utilizada para a obtenção dos dados financeiros.\n",
    "import yfinance as yf\n",
    "# Importa a biblioteca que será utilizada para a manipulação de DataFrames.\n",
    "import pandas as pd\n",
    "# Importa o módulo da biblioteca \"datetime\" que será utilizada para lidar com objetos do tipo \"datetime\".\n",
    "from datetime import datetime\n",
    "# Importa o módulo da biblioteca \"typing\" que será utilizado para tipar parâmetros opcionais de funções.\n",
    "from typing import Optional\n",
    "# Importa a biblioteca que será utilizada para a manipulação de arrays e também para o uso de algumas funções matemáticas.\n",
    "import numpy as np\n",
    "# Importa a biblioteca que será utilizada para calcular algumas métricas de análise técnica.\n",
    "import talib\n",
    "# Importa o módulo da biblioteca \"sklearn\" que será utilizado para escalar as features dos DataFrames que serão usados no modelo LSTM.\n",
    "from sklearn.preprocessing import MinMaxScaler\n",
    "# Importa um dos módulos da biblioteca \"tensorflow\" que será utilizado para criar o modelo LSTM. \n",
    "from tensorflow.keras.models import Sequential\n",
    "# Importa um dos módulos da biblioteca \"tensorflow\" que será utilizado para construir as camadas que farão parte da arquitetura do modelo LSTM \n",
    "# a ser usado. \n",
    "from tensorflow.keras.layers import LSTM, Dense, Dropout\n",
    "# Importa a biblioteca que será utilizada para criar gráficos interativos.\n",
    "import plotly.graph_objects as go\n",
    "# Importa a função \"mean_squared_error\" da biblioteca sklearn.metrics.\n",
    "from sklearn.metrics import mean_squared_error"
   ]
  },
  {
   "cell_type": "markdown",
   "metadata": {},
   "source": [
    "# **Data Engineering**"
   ]
  },
  {
   "cell_type": "markdown",
   "metadata": {},
   "source": [
    "### *Configurações iniciais*"
   ]
  },
  {
   "cell_type": "code",
   "execution_count": 88,
   "metadata": {},
   "outputs": [
    {
     "data": {
      "text/plain": [
       "['MMM',\n",
       " 'AOS',\n",
       " 'ABT',\n",
       " 'ABBV',\n",
       " 'ACN',\n",
       " 'ADBE',\n",
       " 'AMD',\n",
       " 'AES',\n",
       " 'AFL',\n",
       " 'A',\n",
       " 'APD',\n",
       " 'ABNB',\n",
       " 'AKAM',\n",
       " 'ALB',\n",
       " 'ARE',\n",
       " 'ALGN',\n",
       " 'ALLE',\n",
       " 'LNT',\n",
       " 'ALL',\n",
       " 'GOOGL',\n",
       " 'GOOG',\n",
       " 'MO',\n",
       " 'AMZN',\n",
       " 'AMCR',\n",
       " 'AEE',\n",
       " 'AAL',\n",
       " 'AEP',\n",
       " 'AXP',\n",
       " 'AIG',\n",
       " 'AMT',\n",
       " 'AWK',\n",
       " 'AMP',\n",
       " 'AME',\n",
       " 'AMGN',\n",
       " 'APH',\n",
       " 'ADI',\n",
       " 'ANSS',\n",
       " 'AON',\n",
       " 'APA',\n",
       " 'AAPL',\n",
       " 'AMAT',\n",
       " 'APTV',\n",
       " 'ACGL',\n",
       " 'ADM',\n",
       " 'ANET',\n",
       " 'AJG',\n",
       " 'AIZ',\n",
       " 'T',\n",
       " 'ATO',\n",
       " 'ADSK',\n",
       " 'ADP',\n",
       " 'AZO',\n",
       " 'AVB',\n",
       " 'AVY',\n",
       " 'AXON',\n",
       " 'BKR',\n",
       " 'BALL',\n",
       " 'BAC',\n",
       " 'BK',\n",
       " 'BBWI',\n",
       " 'BAX',\n",
       " 'BDX',\n",
       " 'BRK.B',\n",
       " 'BBY',\n",
       " 'BIO',\n",
       " 'TECH',\n",
       " 'BIIB',\n",
       " 'BLK',\n",
       " 'BX',\n",
       " 'BA',\n",
       " 'BKNG',\n",
       " 'BWA',\n",
       " 'BSX',\n",
       " 'BMY',\n",
       " 'AVGO',\n",
       " 'BR',\n",
       " 'BRO',\n",
       " 'BF.B',\n",
       " 'BLDR',\n",
       " 'BG',\n",
       " 'BXP',\n",
       " 'CHRW',\n",
       " 'CDNS',\n",
       " 'CZR',\n",
       " 'CPT',\n",
       " 'CPB',\n",
       " 'COF',\n",
       " 'CAH',\n",
       " 'KMX',\n",
       " 'CCL',\n",
       " 'CARR',\n",
       " 'CTLT',\n",
       " 'CAT',\n",
       " 'CBOE',\n",
       " 'CBRE',\n",
       " 'CDW',\n",
       " 'CE',\n",
       " 'COR',\n",
       " 'CNC',\n",
       " 'CNP',\n",
       " 'CF',\n",
       " 'CRL',\n",
       " 'SCHW',\n",
       " 'CHTR',\n",
       " 'CVX',\n",
       " 'CMG',\n",
       " 'CB',\n",
       " 'CHD',\n",
       " 'CI',\n",
       " 'CINF',\n",
       " 'CTAS',\n",
       " 'CSCO',\n",
       " 'C',\n",
       " 'CFG',\n",
       " 'CLX',\n",
       " 'CME',\n",
       " 'CMS',\n",
       " 'KO',\n",
       " 'CTSH',\n",
       " 'CL',\n",
       " 'CMCSA',\n",
       " 'CAG',\n",
       " 'COP',\n",
       " 'ED',\n",
       " 'STZ',\n",
       " 'CEG',\n",
       " 'COO',\n",
       " 'CPRT',\n",
       " 'GLW',\n",
       " 'CPAY',\n",
       " 'CTVA',\n",
       " 'CSGP',\n",
       " 'COST',\n",
       " 'CTRA',\n",
       " 'CRWD',\n",
       " 'CCI',\n",
       " 'CSX',\n",
       " 'CMI',\n",
       " 'CVS',\n",
       " 'DHR',\n",
       " 'DRI',\n",
       " 'DVA',\n",
       " 'DAY',\n",
       " 'DECK',\n",
       " 'DE',\n",
       " 'DAL',\n",
       " 'DVN',\n",
       " 'DXCM',\n",
       " 'FANG',\n",
       " 'DLR',\n",
       " 'DFS',\n",
       " 'DG',\n",
       " 'DLTR',\n",
       " 'D',\n",
       " 'DPZ',\n",
       " 'DOV',\n",
       " 'DOW',\n",
       " 'DHI',\n",
       " 'DTE',\n",
       " 'DUK',\n",
       " 'DD',\n",
       " 'EMN',\n",
       " 'ETN',\n",
       " 'EBAY',\n",
       " 'ECL',\n",
       " 'EIX',\n",
       " 'EW',\n",
       " 'EA',\n",
       " 'ELV',\n",
       " 'EMR',\n",
       " 'ENPH',\n",
       " 'ETR',\n",
       " 'EOG',\n",
       " 'EPAM',\n",
       " 'EQT',\n",
       " 'EFX',\n",
       " 'EQIX',\n",
       " 'EQR',\n",
       " 'ESS',\n",
       " 'EL',\n",
       " 'ETSY',\n",
       " 'EG',\n",
       " 'EVRG',\n",
       " 'ES',\n",
       " 'EXC',\n",
       " 'EXPE',\n",
       " 'EXPD',\n",
       " 'EXR',\n",
       " 'XOM',\n",
       " 'FFIV',\n",
       " 'FDS',\n",
       " 'FICO',\n",
       " 'FAST',\n",
       " 'FRT',\n",
       " 'FDX',\n",
       " 'FIS',\n",
       " 'FITB',\n",
       " 'FSLR',\n",
       " 'FE',\n",
       " 'FI',\n",
       " 'FMC',\n",
       " 'F',\n",
       " 'FTNT',\n",
       " 'FTV',\n",
       " 'FOXA',\n",
       " 'FOX',\n",
       " 'BEN',\n",
       " 'FCX',\n",
       " 'GRMN',\n",
       " 'IT',\n",
       " 'GE',\n",
       " 'GEHC',\n",
       " 'GEV',\n",
       " 'GEN',\n",
       " 'GNRC',\n",
       " 'GD',\n",
       " 'GIS',\n",
       " 'GM',\n",
       " 'GPC',\n",
       " 'GILD',\n",
       " 'GPN',\n",
       " 'GL',\n",
       " 'GDDY',\n",
       " 'GS',\n",
       " 'HAL',\n",
       " 'HIG',\n",
       " 'HAS',\n",
       " 'HCA',\n",
       " 'DOC',\n",
       " 'HSIC',\n",
       " 'HSY',\n",
       " 'HES',\n",
       " 'HPE',\n",
       " 'HLT',\n",
       " 'HOLX',\n",
       " 'HD',\n",
       " 'HON',\n",
       " 'HRL',\n",
       " 'HST',\n",
       " 'HWM',\n",
       " 'HPQ',\n",
       " 'HUBB',\n",
       " 'HUM',\n",
       " 'HBAN',\n",
       " 'HII',\n",
       " 'IBM',\n",
       " 'IEX',\n",
       " 'IDXX',\n",
       " 'ITW',\n",
       " 'INCY',\n",
       " 'IR',\n",
       " 'PODD',\n",
       " 'INTC',\n",
       " 'ICE',\n",
       " 'IFF',\n",
       " 'IP',\n",
       " 'IPG',\n",
       " 'INTU',\n",
       " 'ISRG',\n",
       " 'IVZ',\n",
       " 'INVH',\n",
       " 'IQV',\n",
       " 'IRM',\n",
       " 'JBHT',\n",
       " 'JBL',\n",
       " 'JKHY',\n",
       " 'J',\n",
       " 'JNJ',\n",
       " 'JCI',\n",
       " 'JPM',\n",
       " 'JNPR',\n",
       " 'K',\n",
       " 'KVUE',\n",
       " 'KDP',\n",
       " 'KEY',\n",
       " 'KEYS',\n",
       " 'KMB',\n",
       " 'KIM',\n",
       " 'KMI',\n",
       " 'KKR',\n",
       " 'KLAC',\n",
       " 'KHC',\n",
       " 'KR',\n",
       " 'LHX',\n",
       " 'LH',\n",
       " 'LRCX',\n",
       " 'LW',\n",
       " 'LVS',\n",
       " 'LDOS',\n",
       " 'LEN',\n",
       " 'LLY',\n",
       " 'LIN',\n",
       " 'LYV',\n",
       " 'LKQ',\n",
       " 'LMT',\n",
       " 'L',\n",
       " 'LOW',\n",
       " 'LULU',\n",
       " 'LYB',\n",
       " 'MTB',\n",
       " 'MRO',\n",
       " 'MPC',\n",
       " 'MKTX',\n",
       " 'MAR',\n",
       " 'MMC',\n",
       " 'MLM',\n",
       " 'MAS',\n",
       " 'MA',\n",
       " 'MTCH',\n",
       " 'MKC',\n",
       " 'MCD',\n",
       " 'MCK',\n",
       " 'MDT',\n",
       " 'MRK',\n",
       " 'META',\n",
       " 'MET',\n",
       " 'MTD',\n",
       " 'MGM',\n",
       " 'MCHP',\n",
       " 'MU',\n",
       " 'MSFT',\n",
       " 'MAA',\n",
       " 'MRNA',\n",
       " 'MHK',\n",
       " 'MOH',\n",
       " 'TAP',\n",
       " 'MDLZ',\n",
       " 'MPWR',\n",
       " 'MNST',\n",
       " 'MCO',\n",
       " 'MS',\n",
       " 'MOS',\n",
       " 'MSI',\n",
       " 'MSCI',\n",
       " 'NDAQ',\n",
       " 'NTAP',\n",
       " 'NFLX',\n",
       " 'NEM',\n",
       " 'NWSA',\n",
       " 'NWS',\n",
       " 'NEE',\n",
       " 'NKE',\n",
       " 'NI',\n",
       " 'NDSN',\n",
       " 'NSC',\n",
       " 'NTRS',\n",
       " 'NOC',\n",
       " 'NCLH',\n",
       " 'NRG',\n",
       " 'NUE',\n",
       " 'NVDA',\n",
       " 'NVR',\n",
       " 'NXPI',\n",
       " 'ORLY',\n",
       " 'OXY',\n",
       " 'ODFL',\n",
       " 'OMC',\n",
       " 'ON',\n",
       " 'OKE',\n",
       " 'ORCL',\n",
       " 'OTIS',\n",
       " 'PCAR',\n",
       " 'PKG',\n",
       " 'PANW',\n",
       " 'PARA',\n",
       " 'PH',\n",
       " 'PAYX',\n",
       " 'PAYC',\n",
       " 'PYPL',\n",
       " 'PNR',\n",
       " 'PEP',\n",
       " 'PFE',\n",
       " 'PCG',\n",
       " 'PM',\n",
       " 'PSX',\n",
       " 'PNW',\n",
       " 'PNC',\n",
       " 'POOL',\n",
       " 'PPG',\n",
       " 'PPL',\n",
       " 'PFG',\n",
       " 'PG',\n",
       " 'PGR',\n",
       " 'PLD',\n",
       " 'PRU',\n",
       " 'PEG',\n",
       " 'PTC',\n",
       " 'PSA',\n",
       " 'PHM',\n",
       " 'QRVO',\n",
       " 'PWR',\n",
       " 'QCOM',\n",
       " 'DGX',\n",
       " 'RL',\n",
       " 'RJF',\n",
       " 'RTX',\n",
       " 'O',\n",
       " 'REG',\n",
       " 'REGN',\n",
       " 'RF',\n",
       " 'RSG',\n",
       " 'RMD',\n",
       " 'RVTY',\n",
       " 'ROK',\n",
       " 'ROL',\n",
       " 'ROP',\n",
       " 'ROST',\n",
       " 'RCL',\n",
       " 'SPGI',\n",
       " 'CRM',\n",
       " 'SBAC',\n",
       " 'SLB',\n",
       " 'STX',\n",
       " 'SRE',\n",
       " 'NOW',\n",
       " 'SHW',\n",
       " 'SPG',\n",
       " 'SWKS',\n",
       " 'SJM',\n",
       " 'SW',\n",
       " 'SNA',\n",
       " 'SOLV',\n",
       " 'SO',\n",
       " 'LUV',\n",
       " 'SWK',\n",
       " 'SBUX',\n",
       " 'STT',\n",
       " 'STLD',\n",
       " 'STE',\n",
       " 'SYK',\n",
       " 'SMCI',\n",
       " 'SYF',\n",
       " 'SNPS',\n",
       " 'SYY',\n",
       " 'TMUS',\n",
       " 'TROW',\n",
       " 'TTWO',\n",
       " 'TPR',\n",
       " 'TRGP',\n",
       " 'TGT',\n",
       " 'TEL',\n",
       " 'TDY',\n",
       " 'TFX',\n",
       " 'TER',\n",
       " 'TSLA',\n",
       " 'TXN',\n",
       " 'TXT',\n",
       " 'TMO',\n",
       " 'TJX',\n",
       " 'TSCO',\n",
       " 'TT',\n",
       " 'TDG',\n",
       " 'TRV',\n",
       " 'TRMB',\n",
       " 'TFC',\n",
       " 'TYL',\n",
       " 'TSN',\n",
       " 'USB',\n",
       " 'UBER',\n",
       " 'UDR',\n",
       " 'ULTA',\n",
       " 'UNP',\n",
       " 'UAL',\n",
       " 'UPS',\n",
       " 'URI',\n",
       " 'UNH',\n",
       " 'UHS',\n",
       " 'VLO',\n",
       " 'VTR',\n",
       " 'VLTO',\n",
       " 'VRSN',\n",
       " 'VRSK',\n",
       " 'VZ',\n",
       " 'VRTX',\n",
       " 'VTRS',\n",
       " 'VICI',\n",
       " 'V',\n",
       " 'VST',\n",
       " 'VMC',\n",
       " 'WRB',\n",
       " 'GWW',\n",
       " 'WAB',\n",
       " 'WBA',\n",
       " 'WMT',\n",
       " 'DIS',\n",
       " 'WBD',\n",
       " 'WM',\n",
       " 'WAT',\n",
       " 'WEC',\n",
       " 'WFC',\n",
       " 'WELL',\n",
       " 'WST',\n",
       " 'WDC',\n",
       " 'WY',\n",
       " 'WMB',\n",
       " 'WTW',\n",
       " 'WYNN',\n",
       " 'XEL',\n",
       " 'XYL',\n",
       " 'YUM',\n",
       " 'ZBRA',\n",
       " 'ZBH',\n",
       " 'ZTS']"
      ]
     },
     "execution_count": 88,
     "metadata": {},
     "output_type": "execute_result"
    }
   ],
   "source": [
    "'''\n",
    "    Essa célula será usada para se obter os tickets das companhias que fazem parte do S&P 500, com base em dados da wikipedia.\n",
    "'''\n",
    "\n",
    "# Salva em uma variável a url que contém a tabela com os tickets das companhias.\n",
    "url = 'https://en.wikipedia.org/wiki/List_of_S%26P_500_companies'\n",
    "\n",
    "# Lê todas as tabelas presentes na url acima.\n",
    "sp500_table = pd.read_html(url)\n",
    "\n",
    "# Salva a coluna \"Symbol\" da primeira tabela em uma variável (tal coluna contém todos os tickets das companhias que fazem parte do S&P 500).\n",
    "sp500_tickets = sp500_table[0]['Symbol']\n",
    "\n",
    "# Transforma os tickets obtidos em uma lista.\n",
    "sp500_tickets = sp500_tickets.tolist()\n",
    "\n",
    "# Exibe a lista de tickets criada acima.\n",
    "sp500_tickets"
   ]
  },
  {
   "cell_type": "code",
   "execution_count": 89,
   "metadata": {},
   "outputs": [],
   "source": [
    "'''\n",
    "    Essa célula será usada para definir o intervalo de tempo dos dados que serão coletados, especificando a data de início e a data de fim.\n",
    "'''\n",
    "\n",
    "# Define a data inicial cujos dados serão coletados.\n",
    "start_date = datetime(2019,1,2).date()\n",
    "# Define a data final cujos dados serão coletados.\n",
    "end_date = datetime(2023,12,30).date()"
   ]
  },
  {
   "cell_type": "code",
   "execution_count": 90,
   "metadata": {},
   "outputs": [],
   "source": [
    "'''\n",
    "    Essa célula será usada para criar um dicionário chamado setup, que contém os parâmetros principais para a coleta de dados, \n",
    "    incluindo a lista de tickers das companhias do S&P 500 e o intervalo de tempo.\n",
    "'''\n",
    "\n",
    "# Cria um dicionário para guardar alguns parâmetros importantes para a coleta de dados.\n",
    "setup = {\n",
    "    # Tickers das ações que serão usadas no código.\n",
    "    \"tickers\": sp500_tickets,\n",
    "    # Data inicial cujo alguns dados das ações de cada ticker serão coletados.\n",
    "    \"start_date\": start_date,\n",
    "    # Data final cujo alguns dados das ações de cada ticker serão coletados.\n",
    "    \"end_date\": end_date,\n",
    "    # Número de tickers com maior \"V Value\" que terão seus preços estimados por um modelo LSTM.\n",
    "    \"tickers_to_select\": 5,\n",
    "    # Data a partir do qual os valores dos tickers com maior \"V Value\" serão estimados.\n",
    "    \"test_initial_day\": np.datetime64('2023-12-01'),\n",
    "    # Tamanho das sequências temporais de dados que o modelo LSTM usará para se treinar.\n",
    "    \"sequence_length\": 7\n",
    "}"
   ]
  },
  {
   "cell_type": "markdown",
   "metadata": {},
   "source": [
    "### *Obtendo dados dos tickers via yfinance (Open, High, Low, Close, Adj Close, Volume)*"
   ]
  },
  {
   "cell_type": "code",
   "execution_count": 91,
   "metadata": {},
   "outputs": [
    {
     "name": "stderr",
     "output_type": "stream",
     "text": [
      "[*********************100%%**********************]  1 of 1 completed\n",
      "[*********************100%%**********************]  1 of 1 completed\n",
      "[*********************100%%**********************]  1 of 1 completed\n",
      "[*********************100%%**********************]  1 of 1 completed\n",
      "[*********************100%%**********************]  1 of 1 completed\n",
      "[*********************100%%**********************]  1 of 1 completed\n",
      "[*********************100%%**********************]  1 of 1 completed\n",
      "[*********************100%%**********************]  1 of 1 completed\n",
      "[*********************100%%**********************]  1 of 1 completed\n",
      "[*********************100%%**********************]  1 of 1 completed\n",
      "[*********************100%%**********************]  1 of 1 completed\n",
      "[*********************100%%**********************]  1 of 1 completed\n",
      "[*********************100%%**********************]  1 of 1 completed\n",
      "[*********************100%%**********************]  1 of 1 completed\n",
      "[*********************100%%**********************]  1 of 1 completed\n",
      "[*********************100%%**********************]  1 of 1 completed\n",
      "[*********************100%%**********************]  1 of 1 completed\n",
      "[*********************100%%**********************]  1 of 1 completed\n",
      "[*********************100%%**********************]  1 of 1 completed\n",
      "[*********************100%%**********************]  1 of 1 completed\n",
      "[*********************100%%**********************]  1 of 1 completed\n",
      "[*********************100%%**********************]  1 of 1 completed\n",
      "[*********************100%%**********************]  1 of 1 completed\n",
      "[*********************100%%**********************]  1 of 1 completed\n",
      "[*********************100%%**********************]  1 of 1 completed\n",
      "[*********************100%%**********************]  1 of 1 completed\n",
      "[*********************100%%**********************]  1 of 1 completed\n",
      "[*********************100%%**********************]  1 of 1 completed\n",
      "[*********************100%%**********************]  1 of 1 completed\n",
      "[*********************100%%**********************]  1 of 1 completed\n",
      "[*********************100%%**********************]  1 of 1 completed\n",
      "[*********************100%%**********************]  1 of 1 completed\n",
      "[*********************100%%**********************]  1 of 1 completed\n",
      "[*********************100%%**********************]  1 of 1 completed\n",
      "[*********************100%%**********************]  1 of 1 completed\n",
      "[*********************100%%**********************]  1 of 1 completed\n",
      "[*********************100%%**********************]  1 of 1 completed\n",
      "[*********************100%%**********************]  1 of 1 completed\n",
      "[*********************100%%**********************]  1 of 1 completed\n",
      "[*********************100%%**********************]  1 of 1 completed\n",
      "[*********************100%%**********************]  1 of 1 completed\n",
      "[*********************100%%**********************]  1 of 1 completed\n",
      "[*********************100%%**********************]  1 of 1 completed\n",
      "[*********************100%%**********************]  1 of 1 completed\n",
      "[*********************100%%**********************]  1 of 1 completed\n",
      "[*********************100%%**********************]  1 of 1 completed\n",
      "[*********************100%%**********************]  1 of 1 completed\n",
      "[*********************100%%**********************]  1 of 1 completed\n",
      "[*********************100%%**********************]  1 of 1 completed\n",
      "[*********************100%%**********************]  1 of 1 completed\n",
      "[*********************100%%**********************]  1 of 1 completed\n",
      "[*********************100%%**********************]  1 of 1 completed\n",
      "[*********************100%%**********************]  1 of 1 completed\n",
      "[*********************100%%**********************]  1 of 1 completed\n",
      "[*********************100%%**********************]  1 of 1 completed\n",
      "[*********************100%%**********************]  1 of 1 completed\n",
      "[*********************100%%**********************]  1 of 1 completed\n",
      "[*********************100%%**********************]  1 of 1 completed\n",
      "[*********************100%%**********************]  1 of 1 completed\n",
      "[*********************100%%**********************]  1 of 1 completed\n",
      "[*********************100%%**********************]  1 of 1 completed\n",
      "[*********************100%%**********************]  1 of 1 completed\n",
      "[*********************100%%**********************]  1 of 1 completed\n",
      "\n",
      "1 Failed download:\n",
      "['BRK.B']: YFTzMissingError('$%ticker%: possibly delisted; No timezone found')\n",
      "[*********************100%%**********************]  1 of 1 completed\n",
      "[*********************100%%**********************]  1 of 1 completed\n",
      "[*********************100%%**********************]  1 of 1 completed\n",
      "[*********************100%%**********************]  1 of 1 completed\n",
      "[*********************100%%**********************]  1 of 1 completed\n",
      "[*********************100%%**********************]  1 of 1 completed\n",
      "[*********************100%%**********************]  1 of 1 completed\n",
      "[*********************100%%**********************]  1 of 1 completed\n",
      "[*********************100%%**********************]  1 of 1 completed\n",
      "[*********************100%%**********************]  1 of 1 completed\n",
      "[*********************100%%**********************]  1 of 1 completed\n",
      "[*********************100%%**********************]  1 of 1 completed\n",
      "[*********************100%%**********************]  1 of 1 completed\n",
      "[*********************100%%**********************]  1 of 1 completed\n",
      "[*********************100%%**********************]  1 of 1 completed\n",
      "\n",
      "1 Failed download:\n",
      "['BF.B']: YFPricesMissingError('$%ticker%: possibly delisted; No price data found  (1d 2019-01-02 -> 2023-12-30)')\n"
     ]
    },
    {
     "name": "stdout",
     "output_type": "stream",
     "text": [
      "$BF.B: possibly delisted; No price data found  (1d 2019-01-02 -> 2023-12-30)\n"
     ]
    },
    {
     "name": "stderr",
     "output_type": "stream",
     "text": [
      "[*********************100%%**********************]  1 of 1 completed\n",
      "[*********************100%%**********************]  1 of 1 completed\n",
      "[*********************100%%**********************]  1 of 1 completed\n",
      "[*********************100%%**********************]  1 of 1 completed\n",
      "[*********************100%%**********************]  1 of 1 completed\n",
      "[*********************100%%**********************]  1 of 1 completed\n",
      "[*********************100%%**********************]  1 of 1 completed\n",
      "[*********************100%%**********************]  1 of 1 completed\n",
      "[*********************100%%**********************]  1 of 1 completed\n",
      "[*********************100%%**********************]  1 of 1 completed\n",
      "[*********************100%%**********************]  1 of 1 completed\n",
      "[*********************100%%**********************]  1 of 1 completed\n",
      "[*********************100%%**********************]  1 of 1 completed\n",
      "[*********************100%%**********************]  1 of 1 completed\n",
      "[*********************100%%**********************]  1 of 1 completed\n",
      "[*********************100%%**********************]  1 of 1 completed\n",
      "[*********************100%%**********************]  1 of 1 completed\n",
      "[*********************100%%**********************]  1 of 1 completed\n",
      "[*********************100%%**********************]  1 of 1 completed\n",
      "[*********************100%%**********************]  1 of 1 completed\n",
      "[*********************100%%**********************]  1 of 1 completed\n",
      "[*********************100%%**********************]  1 of 1 completed\n",
      "[*********************100%%**********************]  1 of 1 completed\n",
      "[*********************100%%**********************]  1 of 1 completed\n",
      "[*********************100%%**********************]  1 of 1 completed\n",
      "[*********************100%%**********************]  1 of 1 completed\n",
      "[*********************100%%**********************]  1 of 1 completed\n",
      "[*********************100%%**********************]  1 of 1 completed\n",
      "[*********************100%%**********************]  1 of 1 completed\n",
      "[*********************100%%**********************]  1 of 1 completed\n",
      "[*********************100%%**********************]  1 of 1 completed\n",
      "[*********************100%%**********************]  1 of 1 completed\n",
      "[*********************100%%**********************]  1 of 1 completed\n",
      "[*********************100%%**********************]  1 of 1 completed\n",
      "[*********************100%%**********************]  1 of 1 completed\n",
      "[*********************100%%**********************]  1 of 1 completed\n",
      "[*********************100%%**********************]  1 of 1 completed\n",
      "[*********************100%%**********************]  1 of 1 completed\n",
      "[*********************100%%**********************]  1 of 1 completed\n",
      "[*********************100%%**********************]  1 of 1 completed\n",
      "[*********************100%%**********************]  1 of 1 completed\n",
      "[*********************100%%**********************]  1 of 1 completed\n",
      "[*********************100%%**********************]  1 of 1 completed\n",
      "[*********************100%%**********************]  1 of 1 completed\n",
      "[*********************100%%**********************]  1 of 1 completed\n",
      "[*********************100%%**********************]  1 of 1 completed\n",
      "[*********************100%%**********************]  1 of 1 completed\n",
      "[*********************100%%**********************]  1 of 1 completed\n",
      "[*********************100%%**********************]  1 of 1 completed\n",
      "[*********************100%%**********************]  1 of 1 completed\n",
      "[*********************100%%**********************]  1 of 1 completed\n",
      "[*********************100%%**********************]  1 of 1 completed\n",
      "[*********************100%%**********************]  1 of 1 completed\n",
      "[*********************100%%**********************]  1 of 1 completed\n",
      "[*********************100%%**********************]  1 of 1 completed\n",
      "[*********************100%%**********************]  1 of 1 completed\n",
      "[*********************100%%**********************]  1 of 1 completed\n",
      "[*********************100%%**********************]  1 of 1 completed\n",
      "[*********************100%%**********************]  1 of 1 completed\n",
      "[*********************100%%**********************]  1 of 1 completed\n",
      "[*********************100%%**********************]  1 of 1 completed\n",
      "[*********************100%%**********************]  1 of 1 completed\n",
      "[*********************100%%**********************]  1 of 1 completed\n",
      "[*********************100%%**********************]  1 of 1 completed\n",
      "[*********************100%%**********************]  1 of 1 completed\n",
      "[*********************100%%**********************]  1 of 1 completed\n",
      "[*********************100%%**********************]  1 of 1 completed\n",
      "[*********************100%%**********************]  1 of 1 completed\n",
      "[*********************100%%**********************]  1 of 1 completed\n",
      "[*********************100%%**********************]  1 of 1 completed\n",
      "[*********************100%%**********************]  1 of 1 completed\n",
      "[*********************100%%**********************]  1 of 1 completed\n",
      "[*********************100%%**********************]  1 of 1 completed\n",
      "[*********************100%%**********************]  1 of 1 completed\n",
      "[*********************100%%**********************]  1 of 1 completed\n",
      "[*********************100%%**********************]  1 of 1 completed\n",
      "[*********************100%%**********************]  1 of 1 completed\n",
      "[*********************100%%**********************]  1 of 1 completed\n",
      "[*********************100%%**********************]  1 of 1 completed\n",
      "[*********************100%%**********************]  1 of 1 completed\n",
      "[*********************100%%**********************]  1 of 1 completed\n",
      "[*********************100%%**********************]  1 of 1 completed\n",
      "[*********************100%%**********************]  1 of 1 completed\n",
      "[*********************100%%**********************]  1 of 1 completed\n",
      "[*********************100%%**********************]  1 of 1 completed\n",
      "[*********************100%%**********************]  1 of 1 completed\n",
      "[*********************100%%**********************]  1 of 1 completed\n",
      "[*********************100%%**********************]  1 of 1 completed\n",
      "[*********************100%%**********************]  1 of 1 completed\n",
      "[*********************100%%**********************]  1 of 1 completed\n",
      "[*********************100%%**********************]  1 of 1 completed\n",
      "[*********************100%%**********************]  1 of 1 completed\n",
      "[*********************100%%**********************]  1 of 1 completed\n",
      "[*********************100%%**********************]  1 of 1 completed\n",
      "[*********************100%%**********************]  1 of 1 completed\n",
      "[*********************100%%**********************]  1 of 1 completed\n",
      "[*********************100%%**********************]  1 of 1 completed\n",
      "[*********************100%%**********************]  1 of 1 completed\n",
      "[*********************100%%**********************]  1 of 1 completed\n",
      "[*********************100%%**********************]  1 of 1 completed\n",
      "[*********************100%%**********************]  1 of 1 completed\n",
      "[*********************100%%**********************]  1 of 1 completed\n",
      "[*********************100%%**********************]  1 of 1 completed\n",
      "[*********************100%%**********************]  1 of 1 completed\n",
      "[*********************100%%**********************]  1 of 1 completed\n",
      "[*********************100%%**********************]  1 of 1 completed\n",
      "[*********************100%%**********************]  1 of 1 completed\n",
      "[*********************100%%**********************]  1 of 1 completed\n",
      "[*********************100%%**********************]  1 of 1 completed\n",
      "[*********************100%%**********************]  1 of 1 completed\n",
      "[*********************100%%**********************]  1 of 1 completed\n",
      "[*********************100%%**********************]  1 of 1 completed\n",
      "[*********************100%%**********************]  1 of 1 completed\n",
      "[*********************100%%**********************]  1 of 1 completed\n",
      "[*********************100%%**********************]  1 of 1 completed\n",
      "[*********************100%%**********************]  1 of 1 completed\n",
      "[*********************100%%**********************]  1 of 1 completed\n",
      "[*********************100%%**********************]  1 of 1 completed\n",
      "[*********************100%%**********************]  1 of 1 completed\n",
      "[*********************100%%**********************]  1 of 1 completed\n",
      "[*********************100%%**********************]  1 of 1 completed\n",
      "[*********************100%%**********************]  1 of 1 completed\n",
      "[*********************100%%**********************]  1 of 1 completed\n",
      "[*********************100%%**********************]  1 of 1 completed\n",
      "[*********************100%%**********************]  1 of 1 completed\n",
      "[*********************100%%**********************]  1 of 1 completed\n",
      "[*********************100%%**********************]  1 of 1 completed\n",
      "[*********************100%%**********************]  1 of 1 completed\n",
      "[*********************100%%**********************]  1 of 1 completed\n",
      "[*********************100%%**********************]  1 of 1 completed\n",
      "[*********************100%%**********************]  1 of 1 completed\n",
      "[*********************100%%**********************]  1 of 1 completed\n",
      "[*********************100%%**********************]  1 of 1 completed\n",
      "[*********************100%%**********************]  1 of 1 completed\n",
      "[*********************100%%**********************]  1 of 1 completed\n",
      "\n",
      "1 Failed download:\n",
      "['GEV']: YFChartError(\"%ticker%: Data doesn't exist for startDate = 1546405200, endDate = 1703912400\")\n",
      "[*********************100%%**********************]  1 of 1 completed\n",
      "[*********************100%%**********************]  1 of 1 completed\n",
      "[*********************100%%**********************]  1 of 1 completed\n",
      "[*********************100%%**********************]  1 of 1 completed\n",
      "[*********************100%%**********************]  1 of 1 completed\n",
      "[*********************100%%**********************]  1 of 1 completed\n",
      "[*********************100%%**********************]  1 of 1 completed\n",
      "[*********************100%%**********************]  1 of 1 completed\n",
      "[*********************100%%**********************]  1 of 1 completed\n",
      "[*********************100%%**********************]  1 of 1 completed\n",
      "[*********************100%%**********************]  1 of 1 completed\n",
      "[*********************100%%**********************]  1 of 1 completed\n",
      "[*********************100%%**********************]  1 of 1 completed\n",
      "[*********************100%%**********************]  1 of 1 completed\n",
      "[*********************100%%**********************]  1 of 1 completed\n",
      "[*********************100%%**********************]  1 of 1 completed\n",
      "[*********************100%%**********************]  1 of 1 completed\n",
      "[*********************100%%**********************]  1 of 1 completed\n",
      "[*********************100%%**********************]  1 of 1 completed\n",
      "[*********************100%%**********************]  1 of 1 completed\n",
      "[*********************100%%**********************]  1 of 1 completed\n",
      "[*********************100%%**********************]  1 of 1 completed\n",
      "[*********************100%%**********************]  1 of 1 completed\n",
      "[*********************100%%**********************]  1 of 1 completed\n",
      "[*********************100%%**********************]  1 of 1 completed\n",
      "[*********************100%%**********************]  1 of 1 completed\n",
      "[*********************100%%**********************]  1 of 1 completed\n",
      "[*********************100%%**********************]  1 of 1 completed\n",
      "[*********************100%%**********************]  1 of 1 completed\n",
      "[*********************100%%**********************]  1 of 1 completed\n",
      "[*********************100%%**********************]  1 of 1 completed\n",
      "[*********************100%%**********************]  1 of 1 completed\n",
      "[*********************100%%**********************]  1 of 1 completed\n",
      "[*********************100%%**********************]  1 of 1 completed\n",
      "[*********************100%%**********************]  1 of 1 completed\n",
      "[*********************100%%**********************]  1 of 1 completed\n",
      "[*********************100%%**********************]  1 of 1 completed\n",
      "[*********************100%%**********************]  1 of 1 completed\n",
      "[*********************100%%**********************]  1 of 1 completed\n",
      "[*********************100%%**********************]  1 of 1 completed\n",
      "[*********************100%%**********************]  1 of 1 completed\n",
      "[*********************100%%**********************]  1 of 1 completed\n",
      "[*********************100%%**********************]  1 of 1 completed\n",
      "[*********************100%%**********************]  1 of 1 completed\n",
      "[*********************100%%**********************]  1 of 1 completed\n",
      "[*********************100%%**********************]  1 of 1 completed\n",
      "[*********************100%%**********************]  1 of 1 completed\n",
      "[*********************100%%**********************]  1 of 1 completed\n",
      "[*********************100%%**********************]  1 of 1 completed\n",
      "[*********************100%%**********************]  1 of 1 completed\n",
      "[*********************100%%**********************]  1 of 1 completed\n",
      "[*********************100%%**********************]  1 of 1 completed\n",
      "[*********************100%%**********************]  1 of 1 completed\n",
      "[*********************100%%**********************]  1 of 1 completed\n",
      "[*********************100%%**********************]  1 of 1 completed\n",
      "[*********************100%%**********************]  1 of 1 completed\n",
      "[*********************100%%**********************]  1 of 1 completed\n",
      "[*********************100%%**********************]  1 of 1 completed\n",
      "[*********************100%%**********************]  1 of 1 completed\n",
      "[*********************100%%**********************]  1 of 1 completed\n",
      "[*********************100%%**********************]  1 of 1 completed\n",
      "[*********************100%%**********************]  1 of 1 completed\n",
      "[*********************100%%**********************]  1 of 1 completed\n",
      "[*********************100%%**********************]  1 of 1 completed\n",
      "[*********************100%%**********************]  1 of 1 completed\n",
      "[*********************100%%**********************]  1 of 1 completed\n",
      "[*********************100%%**********************]  1 of 1 completed\n",
      "[*********************100%%**********************]  1 of 1 completed\n",
      "[*********************100%%**********************]  1 of 1 completed\n",
      "[*********************100%%**********************]  1 of 1 completed\n",
      "[*********************100%%**********************]  1 of 1 completed\n",
      "[*********************100%%**********************]  1 of 1 completed\n",
      "[*********************100%%**********************]  1 of 1 completed\n",
      "[*********************100%%**********************]  1 of 1 completed\n",
      "[*********************100%%**********************]  1 of 1 completed\n",
      "[*********************100%%**********************]  1 of 1 completed\n",
      "[*********************100%%**********************]  1 of 1 completed\n",
      "[*********************100%%**********************]  1 of 1 completed\n",
      "[*********************100%%**********************]  1 of 1 completed\n",
      "[*********************100%%**********************]  1 of 1 completed\n",
      "[*********************100%%**********************]  1 of 1 completed\n",
      "[*********************100%%**********************]  1 of 1 completed\n",
      "[*********************100%%**********************]  1 of 1 completed\n",
      "[*********************100%%**********************]  1 of 1 completed\n",
      "[*********************100%%**********************]  1 of 1 completed\n",
      "[*********************100%%**********************]  1 of 1 completed\n",
      "[*********************100%%**********************]  1 of 1 completed\n",
      "[*********************100%%**********************]  1 of 1 completed\n",
      "[*********************100%%**********************]  1 of 1 completed\n",
      "[*********************100%%**********************]  1 of 1 completed\n",
      "[*********************100%%**********************]  1 of 1 completed\n",
      "[*********************100%%**********************]  1 of 1 completed\n",
      "[*********************100%%**********************]  1 of 1 completed\n",
      "[*********************100%%**********************]  1 of 1 completed\n",
      "[*********************100%%**********************]  1 of 1 completed\n",
      "[*********************100%%**********************]  1 of 1 completed\n",
      "[*********************100%%**********************]  1 of 1 completed\n",
      "[*********************100%%**********************]  1 of 1 completed\n",
      "[*********************100%%**********************]  1 of 1 completed\n",
      "[*********************100%%**********************]  1 of 1 completed\n",
      "[*********************100%%**********************]  1 of 1 completed\n",
      "[*********************100%%**********************]  1 of 1 completed\n",
      "[*********************100%%**********************]  1 of 1 completed\n",
      "[*********************100%%**********************]  1 of 1 completed\n",
      "[*********************100%%**********************]  1 of 1 completed\n",
      "[*********************100%%**********************]  1 of 1 completed\n",
      "[*********************100%%**********************]  1 of 1 completed\n",
      "[*********************100%%**********************]  1 of 1 completed\n",
      "[*********************100%%**********************]  1 of 1 completed\n",
      "[*********************100%%**********************]  1 of 1 completed\n",
      "[*********************100%%**********************]  1 of 1 completed\n",
      "[*********************100%%**********************]  1 of 1 completed\n",
      "[*********************100%%**********************]  1 of 1 completed\n",
      "[*********************100%%**********************]  1 of 1 completed\n",
      "[*********************100%%**********************]  1 of 1 completed\n",
      "[*********************100%%**********************]  1 of 1 completed\n",
      "[*********************100%%**********************]  1 of 1 completed\n",
      "[*********************100%%**********************]  1 of 1 completed\n",
      "[*********************100%%**********************]  1 of 1 completed\n",
      "[*********************100%%**********************]  1 of 1 completed\n",
      "[*********************100%%**********************]  1 of 1 completed\n",
      "[*********************100%%**********************]  1 of 1 completed\n",
      "[*********************100%%**********************]  1 of 1 completed\n",
      "[*********************100%%**********************]  1 of 1 completed\n",
      "[*********************100%%**********************]  1 of 1 completed\n",
      "[*********************100%%**********************]  1 of 1 completed\n",
      "[*********************100%%**********************]  1 of 1 completed\n",
      "[*********************100%%**********************]  1 of 1 completed\n",
      "[*********************100%%**********************]  1 of 1 completed\n",
      "[*********************100%%**********************]  1 of 1 completed\n",
      "[*********************100%%**********************]  1 of 1 completed\n",
      "[*********************100%%**********************]  1 of 1 completed\n",
      "[*********************100%%**********************]  1 of 1 completed\n",
      "[*********************100%%**********************]  1 of 1 completed\n",
      "[*********************100%%**********************]  1 of 1 completed\n",
      "[*********************100%%**********************]  1 of 1 completed\n",
      "[*********************100%%**********************]  1 of 1 completed\n",
      "[*********************100%%**********************]  1 of 1 completed\n",
      "[*********************100%%**********************]  1 of 1 completed\n",
      "[*********************100%%**********************]  1 of 1 completed\n",
      "[*********************100%%**********************]  1 of 1 completed\n",
      "[*********************100%%**********************]  1 of 1 completed\n",
      "[*********************100%%**********************]  1 of 1 completed\n",
      "[*********************100%%**********************]  1 of 1 completed\n",
      "[*********************100%%**********************]  1 of 1 completed\n",
      "[*********************100%%**********************]  1 of 1 completed\n",
      "[*********************100%%**********************]  1 of 1 completed\n",
      "[*********************100%%**********************]  1 of 1 completed\n",
      "[*********************100%%**********************]  1 of 1 completed\n",
      "[*********************100%%**********************]  1 of 1 completed\n",
      "[*********************100%%**********************]  1 of 1 completed\n",
      "[*********************100%%**********************]  1 of 1 completed\n",
      "[*********************100%%**********************]  1 of 1 completed\n",
      "[*********************100%%**********************]  1 of 1 completed\n",
      "[*********************100%%**********************]  1 of 1 completed\n",
      "[*********************100%%**********************]  1 of 1 completed\n",
      "[*********************100%%**********************]  1 of 1 completed\n",
      "[*********************100%%**********************]  1 of 1 completed\n",
      "[*********************100%%**********************]  1 of 1 completed\n",
      "[*********************100%%**********************]  1 of 1 completed\n",
      "[*********************100%%**********************]  1 of 1 completed\n",
      "[*********************100%%**********************]  1 of 1 completed\n",
      "[*********************100%%**********************]  1 of 1 completed\n",
      "[*********************100%%**********************]  1 of 1 completed\n",
      "[*********************100%%**********************]  1 of 1 completed\n",
      "[*********************100%%**********************]  1 of 1 completed\n",
      "[*********************100%%**********************]  1 of 1 completed\n",
      "[*********************100%%**********************]  1 of 1 completed\n",
      "[*********************100%%**********************]  1 of 1 completed\n",
      "[*********************100%%**********************]  1 of 1 completed\n",
      "[*********************100%%**********************]  1 of 1 completed\n",
      "[*********************100%%**********************]  1 of 1 completed\n",
      "[*********************100%%**********************]  1 of 1 completed\n",
      "[*********************100%%**********************]  1 of 1 completed\n",
      "[*********************100%%**********************]  1 of 1 completed\n",
      "[*********************100%%**********************]  1 of 1 completed\n",
      "[*********************100%%**********************]  1 of 1 completed\n",
      "[*********************100%%**********************]  1 of 1 completed\n",
      "[*********************100%%**********************]  1 of 1 completed\n",
      "[*********************100%%**********************]  1 of 1 completed\n",
      "[*********************100%%**********************]  1 of 1 completed\n",
      "[*********************100%%**********************]  1 of 1 completed\n",
      "[*********************100%%**********************]  1 of 1 completed\n",
      "[*********************100%%**********************]  1 of 1 completed\n",
      "[*********************100%%**********************]  1 of 1 completed\n",
      "[*********************100%%**********************]  1 of 1 completed\n",
      "[*********************100%%**********************]  1 of 1 completed\n",
      "[*********************100%%**********************]  1 of 1 completed\n",
      "[*********************100%%**********************]  1 of 1 completed\n",
      "[*********************100%%**********************]  1 of 1 completed\n",
      "[*********************100%%**********************]  1 of 1 completed\n",
      "[*********************100%%**********************]  1 of 1 completed\n",
      "[*********************100%%**********************]  1 of 1 completed\n",
      "[*********************100%%**********************]  1 of 1 completed\n",
      "[*********************100%%**********************]  1 of 1 completed\n",
      "[*********************100%%**********************]  1 of 1 completed\n",
      "[*********************100%%**********************]  1 of 1 completed\n",
      "[*********************100%%**********************]  1 of 1 completed\n",
      "[*********************100%%**********************]  1 of 1 completed\n",
      "[*********************100%%**********************]  1 of 1 completed\n",
      "[*********************100%%**********************]  1 of 1 completed\n",
      "[*********************100%%**********************]  1 of 1 completed\n",
      "[*********************100%%**********************]  1 of 1 completed\n",
      "[*********************100%%**********************]  1 of 1 completed\n",
      "[*********************100%%**********************]  1 of 1 completed\n",
      "[*********************100%%**********************]  1 of 1 completed\n",
      "[*********************100%%**********************]  1 of 1 completed\n",
      "\n",
      "1 Failed download:\n",
      "['SW']: YFChartError(\"%ticker%: Data doesn't exist for startDate = 1546405200, endDate = 1703912400\")\n",
      "[*********************100%%**********************]  1 of 1 completed\n",
      "[*********************100%%**********************]  1 of 1 completed\n",
      "\n",
      "1 Failed download:\n",
      "['SOLV']: YFChartError(\"%ticker%: Data doesn't exist for startDate = 1546405200, endDate = 1703912400\")\n",
      "[*********************100%%**********************]  1 of 1 completed\n",
      "[*********************100%%**********************]  1 of 1 completed\n",
      "[*********************100%%**********************]  1 of 1 completed\n",
      "[*********************100%%**********************]  1 of 1 completed\n",
      "[*********************100%%**********************]  1 of 1 completed\n",
      "[*********************100%%**********************]  1 of 1 completed\n",
      "[*********************100%%**********************]  1 of 1 completed\n",
      "[*********************100%%**********************]  1 of 1 completed\n",
      "[*********************100%%**********************]  1 of 1 completed\n",
      "[*********************100%%**********************]  1 of 1 completed\n",
      "[*********************100%%**********************]  1 of 1 completed\n",
      "[*********************100%%**********************]  1 of 1 completed\n",
      "[*********************100%%**********************]  1 of 1 completed\n",
      "[*********************100%%**********************]  1 of 1 completed\n",
      "[*********************100%%**********************]  1 of 1 completed\n",
      "[*********************100%%**********************]  1 of 1 completed\n",
      "[*********************100%%**********************]  1 of 1 completed\n",
      "[*********************100%%**********************]  1 of 1 completed\n",
      "[*********************100%%**********************]  1 of 1 completed\n",
      "[*********************100%%**********************]  1 of 1 completed\n",
      "[*********************100%%**********************]  1 of 1 completed\n",
      "[*********************100%%**********************]  1 of 1 completed\n",
      "[*********************100%%**********************]  1 of 1 completed\n",
      "[*********************100%%**********************]  1 of 1 completed\n",
      "[*********************100%%**********************]  1 of 1 completed\n",
      "[*********************100%%**********************]  1 of 1 completed\n",
      "[*********************100%%**********************]  1 of 1 completed\n",
      "[*********************100%%**********************]  1 of 1 completed\n",
      "[*********************100%%**********************]  1 of 1 completed\n",
      "[*********************100%%**********************]  1 of 1 completed\n",
      "[*********************100%%**********************]  1 of 1 completed\n",
      "[*********************100%%**********************]  1 of 1 completed\n",
      "[*********************100%%**********************]  1 of 1 completed\n",
      "[*********************100%%**********************]  1 of 1 completed\n",
      "[*********************100%%**********************]  1 of 1 completed\n",
      "[*********************100%%**********************]  1 of 1 completed\n",
      "[*********************100%%**********************]  1 of 1 completed\n",
      "[*********************100%%**********************]  1 of 1 completed\n",
      "[*********************100%%**********************]  1 of 1 completed\n",
      "[*********************100%%**********************]  1 of 1 completed\n",
      "[*********************100%%**********************]  1 of 1 completed\n",
      "[*********************100%%**********************]  1 of 1 completed\n",
      "[*********************100%%**********************]  1 of 1 completed\n",
      "[*********************100%%**********************]  1 of 1 completed\n",
      "[*********************100%%**********************]  1 of 1 completed\n",
      "[*********************100%%**********************]  1 of 1 completed\n",
      "[*********************100%%**********************]  1 of 1 completed\n",
      "[*********************100%%**********************]  1 of 1 completed\n",
      "[*********************100%%**********************]  1 of 1 completed\n",
      "[*********************100%%**********************]  1 of 1 completed\n",
      "[*********************100%%**********************]  1 of 1 completed\n",
      "[*********************100%%**********************]  1 of 1 completed\n",
      "[*********************100%%**********************]  1 of 1 completed\n",
      "[*********************100%%**********************]  1 of 1 completed\n",
      "[*********************100%%**********************]  1 of 1 completed\n",
      "[*********************100%%**********************]  1 of 1 completed\n",
      "[*********************100%%**********************]  1 of 1 completed\n",
      "[*********************100%%**********************]  1 of 1 completed\n",
      "[*********************100%%**********************]  1 of 1 completed\n",
      "[*********************100%%**********************]  1 of 1 completed\n",
      "[*********************100%%**********************]  1 of 1 completed\n",
      "[*********************100%%**********************]  1 of 1 completed\n",
      "[*********************100%%**********************]  1 of 1 completed\n",
      "[*********************100%%**********************]  1 of 1 completed\n",
      "[*********************100%%**********************]  1 of 1 completed\n",
      "[*********************100%%**********************]  1 of 1 completed\n",
      "[*********************100%%**********************]  1 of 1 completed\n",
      "[*********************100%%**********************]  1 of 1 completed\n",
      "[*********************100%%**********************]  1 of 1 completed\n",
      "[*********************100%%**********************]  1 of 1 completed\n",
      "[*********************100%%**********************]  1 of 1 completed\n",
      "[*********************100%%**********************]  1 of 1 completed\n",
      "[*********************100%%**********************]  1 of 1 completed\n",
      "[*********************100%%**********************]  1 of 1 completed\n",
      "[*********************100%%**********************]  1 of 1 completed\n",
      "[*********************100%%**********************]  1 of 1 completed\n",
      "[*********************100%%**********************]  1 of 1 completed\n",
      "[*********************100%%**********************]  1 of 1 completed\n",
      "[*********************100%%**********************]  1 of 1 completed\n",
      "[*********************100%%**********************]  1 of 1 completed\n",
      "[*********************100%%**********************]  1 of 1 completed\n"
     ]
    }
   ],
   "source": [
    "'''\n",
    "    Essa célula será usada para a obtenção de alguns dados (Open, High, Low, Close, Adj Close, Volume) \n",
    "    dos tickers presentes na variável de configuração setup.\n",
    "'''\n",
    "\n",
    "# Cria um array que guardará os DataFrames que contém os dados referentes a cada um dos tickers presentes na variável de configuração setup.\n",
    "data_array = np.empty(len(setup['tickers']), dtype=object)\n",
    "\n",
    "# Itera sobre cada um dos tickers presentes na variável de configuração setup.\n",
    "for i, ticker in enumerate(setup['tickers']):\n",
    "    # Faz o download dos dados do ticker em questão\n",
    "    ticker_data = yf.download(ticker, setup['start_date'], setup['end_date'])\n",
    "    # Adiciona um nome ao DataFrame do ticker em questão.\n",
    "    ticker_data.name=ticker\n",
    "    # Salva o DataFrame do ticker em questão na variável \"data_array\".\n",
    "    data_array[i] = ticker_data"
   ]
  },
  {
   "cell_type": "markdown",
   "metadata": {},
   "source": [
    "### *Filtrando os dados obtidos*"
   ]
  },
  {
   "cell_type": "code",
   "execution_count": 92,
   "metadata": {},
   "outputs": [
    {
     "name": "stdout",
     "output_type": "stream",
     "text": [
      "Foram removidos 5 tickers que estavam vazios.\n"
     ]
    }
   ],
   "source": [
    "'''\n",
    "    Essa célula será responsável por filtrar a variável \"data_array\" de modo que esta só contenha DataFrames não vazios.\n",
    "'''\n",
    "\n",
    "# Cria um filtro para identificar quais DataFrames presentes em \"data_array\" são vazios, isto é, não possuem nenhum índice.\n",
    "void_filter = np.array([df.index.empty for df in data_array])\n",
    "\n",
    "# Aplica a negação do filtro gerado acima (ou seja, filtra os DataFrames que não são vazios) no array \"data_array\" e armazena o resultado \n",
    "# na variável \"filtered_data_array\". \n",
    "filtered_data_array = data_array[~void_filter]\n",
    "\n",
    "# Exibe uma mensagem que informa quantos tickers foram removidos na filtragem realizada acima.\n",
    "print(f\"Foram removidos {len(data_array) - len(filtered_data_array)} tickers que estavam vazios.\")"
   ]
  },
  {
   "cell_type": "code",
   "execution_count": 93,
   "metadata": {},
   "outputs": [
    {
     "name": "stdout",
     "output_type": "stream",
     "text": [
      "Foram removidos 13 tickers que não possuiam data inicial igual à 2019-01-02. Agora, todos os demais 485 tickers \n",
      "possuem data de inicio em 2019-01-02.\n"
     ]
    }
   ],
   "source": [
    "'''\n",
    "    Essa célula será responsável por filtrar a variável \"data_array\" de modo que esta só contenha DataFrames cujos índices se iniciem em \n",
    "    setup['start_date'].\n",
    "'''\n",
    "\n",
    "# Armazena o tamanho atual do array \"filtered_data_array\" para que se tenha ideia ao final dessa célula, de quantos tickers \n",
    "# foram removidos com o filtro que será aplicado aqui.\n",
    "filtered_data_array_initial_len = len(filtered_data_array)\n",
    "\n",
    "# Cria um filtro para saber quais dos DataFrames presentes em \"filtered_data_array\" possuem datas iniciais (isto é, índices de posição 0) \n",
    "# iguais à \"setup['start_date']\".\n",
    "start_date_filter = [df.index[0].date() == setup['start_date'] for df in filtered_data_array]\n",
    "\n",
    "# Aplica o filtro criado acima, removendo assim todos os DataFrames presentes em \"filtered_data_array\" cujos índices iniciais são diferentes de \n",
    "# \"setup['start_date']\".\n",
    "filtered_data_array = filtered_data_array[start_date_filter]\n",
    "\n",
    "# Exibe uma mensagem informando quantos DataFrames não satisfaziam a condição do filtro criado acima, e informando também quantos DataFrames\n",
    "# ainda existem em \"data_array\".\n",
    "print(f\"Foram removidos {filtered_data_array_initial_len - len(filtered_data_array)} tickers que não possuiam data inicial igual à {setup['start_date']}. Agora, todos os demais {len(filtered_data_array)} tickers \\npossuem data de inicio em {setup['start_date']}.\")"
   ]
  },
  {
   "cell_type": "code",
   "execution_count": 94,
   "metadata": {},
   "outputs": [
    {
     "name": "stdout",
     "output_type": "stream",
     "text": [
      "Dentre os tickers que passaram nos filtros acima, a menor data final é 2023-12-29, que é a última data possível de negociação dentro do \n",
      "periodo estabelecido na variável 'setup' (2023-12-30). Ou seja, nenhum filtro precisa ser aplicado em relação a data final dos tickers.\n"
     ]
    }
   ],
   "source": [
    "'''\n",
    "    Essa célula será utilizada para mostrar que, nos dados baixados, não existem DataFrames em \"data_array\" cujos índices terminam em uma \n",
    "    data anterior à última data de negociação possível antes de setup['end_date'], isto é não existem DataFrames em \"data_array\" cujos índices\n",
    "    terminam em uma data anterior à 2023-12-29.\n",
    "'''\n",
    "\n",
    "# Obtem qual é o menor dentre os últimos índices de cada um dos DataFrames presentes em \"filtered_data_array\"\n",
    "lowest_last_date = np.min(np.array([df.index[len(df.index)-1] for df in filtered_data_array]))\n",
    "\n",
    "# Exibe uma mensagem que informa qual é a menor data final entre todos os DataFrames presentes em \"filtered_data_array\" e gera uma\n",
    "# conclusão a partir de tal data.\n",
    "print(f\"Dentre os tickers que passaram nos filtros acima, a menor data final é {lowest_last_date.date()}, que é a última data possível de negociação dentro do \\nperiodo estabelecido na variável 'setup' ({setup['end_date']}). Ou seja, nenhum filtro precisa ser aplicado em relação a data final dos tickers.\")"
   ]
  },
  {
   "cell_type": "code",
   "execution_count": 95,
   "metadata": {},
   "outputs": [
    {
     "name": "stdout",
     "output_type": "stream",
     "text": [
      "Não existem DataFrames em 'filtered_data_array' que possuam valores nulos.\n"
     ]
    }
   ],
   "source": [
    "'''\n",
    "    Essa célula verifica se algum dos DataFrames presentes em \"filtered_data_array\" possui valores nulos.\n",
    "'''\n",
    "\n",
    "# Cria uma lista auxiliar que conterá valores booleanos em todas as suas posições. Sendo que, para qualquer posição \"i\" dessa lista, \n",
    "# se tal posição contiver o valor True, indica que o DataFrame que ocupa essa mesma posição \"i\" na variável \"filtered_data_array\" \n",
    "# possui valores nulos. Caso contrário, indica que o DataFrame que ocupa tal posição em \"filtered_data_array\" não possui valores nulos.\n",
    "aux_list = [df.isnull().values.any() for df in filtered_data_array]\n",
    "\n",
    "# Exibe mensagens indicando se existem ou não DataFrames com valores nulos na variável \"filtered_data_array\".\n",
    "if True in aux_list: \n",
    "    print(\"Existem DataFrames em 'filtered_data_array' que possuem valores nulos.\")\n",
    "else: \n",
    "    print(\"Não existem DataFrames em 'filtered_data_array' que possuam valores nulos.\")"
   ]
  },
  {
   "cell_type": "code",
   "execution_count": 96,
   "metadata": {},
   "outputs": [
    {
     "name": "stdout",
     "output_type": "stream",
     "text": [
      "Todos os DataFrames presentes em 'filtered_data_array' possuem os mesmos índices.\n"
     ]
    }
   ],
   "source": [
    "'''\n",
    "    Essa célula verifica se todos os DataFrames presentes em \"filtered_data_array\" possuem os mesmos índices.\n",
    "'''\n",
    "\n",
    "# Vamos tomar como referência os índices do DataFrame que ocupa a posição 0 da variável \"filtered_data_array\".\n",
    "reference_indexes = filtered_data_array[0].index\n",
    "\n",
    "# Verifica se todos os DataFrames presentes em \"filtered_data_array\" possuem os mesmos índices.\n",
    "areAllIndexesEquals = all(df.index.equals(reference_indexes) for df in filtered_data_array)\n",
    "\n",
    "if areAllIndexesEquals:\n",
    "    print(\"Todos os DataFrames presentes em 'filtered_data_array' possuem os mesmos índices.\")\n",
    "else:\n",
    "    print(\"Existem DataFrames presentes em 'filtered_data_array' que possuem índices distintos.\")"
   ]
  },
  {
   "cell_type": "markdown",
   "metadata": {},
   "source": [
    "# **Feature Engineering**"
   ]
  },
  {
   "cell_type": "markdown",
   "metadata": {},
   "source": [
    "#### *Gerando os retornos aritméticos diários dos tickers*"
   ]
  },
  {
   "cell_type": "code",
   "execution_count": 97,
   "metadata": {},
   "outputs": [],
   "source": [
    "def get_ticker_daily_arithmetic_returns(daily_adjusted_closing_prices: pd.Series) -> pd.Series:\n",
    "    '''\n",
    "        Description:\n",
    "            Essa função calcula e retorna a série temporal dos retornos aritméticos diários de um certo ticker.\n",
    "        Args:\n",
    "            daily_adjusted_closing_prices (pd.Series): Série temporal dos preços de fechamento diários ajustados do ticker em questão.\n",
    "        Return:\n",
    "            ticker_daily_arithmetic_returns (pd.Series): Série temporal dos retornos aritméticos diários do ticker em questão.\n",
    "        Errors:\n",
    "            TypeError: É esperado que o parâmetro \"daily_adjusted_closing_prices\" seja um objeto do tipo pd.Series.\n",
    "            ValueError: É esperado que a série temporal \"daily_adjusted_closing_prices\" contenha apenas números.\n",
    "    '''\n",
    "\n",
    "    # Caso o parâmetro 'daily_adjusted_closing_prices' não seja um objeto do tipo pd.Series, um erro é retornado.\n",
    "    if not isinstance(daily_adjusted_closing_prices, pd.Series):\n",
    "        raise TypeError(\"É esperado que o parâmetro 'daily_adjusted_closing_prices' seja um objeto do tipo pd.Series.\")\n",
    "\n",
    "    # Caso a série temporal 'daily_adjusted_closing_prices' não seja numérica, um erro é retornado.\n",
    "    if not(pd.api.types.is_numeric_dtype(daily_adjusted_closing_prices)):\n",
    "        raise ValueError(\"É esperado que a série temporal 'daily_adjusted_closing_prices' contenha apenas números.\")\n",
    "    \n",
    "    # Cria uma série temporal contendo os retornos diários do ticker em questão.\n",
    "    ticker_daily_arithmetic_returns = daily_adjusted_closing_prices.pct_change()\n",
    "\n",
    "    # Como não é possível calcular o retorno diário do \"dia 0\", removeremos a primeira linha da série temporal gerada acima.\n",
    "    ticker_daily_arithmetic_returns = ticker_daily_arithmetic_returns[1:]\n",
    "    \n",
    "    # Retorna a série temporal resultante.\n",
    "    return ticker_daily_arithmetic_returns"
   ]
  },
  {
   "cell_type": "markdown",
   "metadata": {},
   "source": [
    "#### *Gerando os retornos logarítmicos diários dos tickers*"
   ]
  },
  {
   "cell_type": "code",
   "execution_count": 98,
   "metadata": {},
   "outputs": [],
   "source": [
    "def get_ticker_daily_logarithmic_returns(daily_adjusted_closing_prices: pd.Series) -> pd.Series:\n",
    "    '''\n",
    "        Description:\n",
    "            Essa função calcula e retorna a série temporal dos retornos logarítmicos diários de um certo ticker.\n",
    "        Args:\n",
    "            daily_adjusted_closing_prices (pd.Series): Série temporal dos preços de fechamento diários ajustados do ticker em questão.\n",
    "        Return:\n",
    "            ticker_daily_arithmetic_returns (pd.Series): Série temporal dos retornos logarítmicos diários do ticker em questão.\n",
    "        Errors:\n",
    "            TypeError: É esperado que o parâmetro \"daily_adjusted_closing_prices\" seja um objeto do tipo pd.Series.\n",
    "            ValueError: É esperado que a série temporal \"daily_adjusted_closing_prices\" contenha apenas números.\n",
    "    '''\n",
    "\n",
    "    # Caso o parâmetro 'daily_adjusted_closing_prices' não seja um objeto do tipo pd.Series, um erro é retornado.\n",
    "    if not isinstance(daily_adjusted_closing_prices, pd.Series):\n",
    "        raise TypeError(\"É esperado que o parâmetro 'daily_adjusted_closing_prices' seja um objeto do tipo pd.Series.\")\n",
    "    \n",
    "    # Caso a série temporal 'daily_adjusted_closing_prices' não seja numérica, um erro é retornado.\n",
    "    if not(pd.api.types.is_numeric_dtype(daily_adjusted_closing_prices)):\n",
    "        raise ValueError(\"É esperado que a série temporal 'daily_adjusted_closing_prices' contenha apenas números.\")\n",
    "    \n",
    "    # Obtem a série temporal dos retornos diários do ticker em questão\n",
    "    ticker_daily_arithmetic_returns = get_ticker_daily_arithmetic_returns(daily_adjusted_closing_prices)\n",
    "    \n",
    "    # Transforma a série temporal dos retornos diários do ticker em questão em sua versão logarítmica.\n",
    "    ticker_daily_logarithmic_returns = ticker_daily_arithmetic_returns.apply(lambda x: np.log(1 + x))\n",
    "    \n",
    "    # Retorna a série temporal resultante.\n",
    "    return ticker_daily_logarithmic_returns"
   ]
  },
  {
   "cell_type": "markdown",
   "metadata": {},
   "source": [
    "#### *Gerando uma métrica de volatilidade móvel*"
   ]
  },
  {
   "cell_type": "code",
   "execution_count": 99,
   "metadata": {},
   "outputs": [],
   "source": [
    "def get_ticker_moving_volatility(daily_adjusted_closing_prices: pd.Series, time_interval: int) -> pd.Series:\n",
    "    '''\n",
    "        Description:\n",
    "            Essa função calcula a volatilidade móvel de \"time_interval\" dias de um certo ticker.\n",
    "        Args:\n",
    "            daily_adjusted_closing_prices (pd.Series): Série temporal dos preços de fechamento diários ajustados do ticker em questão.\n",
    "            time_interval (int): Quantidade de dias da janela móvel.\n",
    "        Return:\n",
    "            moving_volatility (pd.Series): Série temporal que representa a evolução da volatilidade móvel de \"time_interval\" dias do ticker\n",
    "                                           em questão.\n",
    "        Errors:\n",
    "            TypeError: É esperado que o parâmetro \"daily_adjusted_closing_prices\" seja um objeto do tipo pd.Series.\n",
    "            TypeError: É esperado que o parâmetro \"time_interval\" seja do tipo int.\n",
    "            ValueError: É esperado que a série temporal \"daily_adjusted_closing_prices\" contenha apenas números.\n",
    "    '''\n",
    "    \n",
    "    # Caso o parâmetro 'daily_adjusted_closing_prices' não seja um objeto do tipo pd.Series, um erro é retornado.\n",
    "    if not isinstance(daily_adjusted_closing_prices, pd.Series):\n",
    "        raise TypeError(\"É esperado que o parâmetro 'daily_adjusted_closing_prices' seja um objeto do tipo pd.Series.\")\n",
    "\n",
    "    # Caso o parâmetro 'time_interval' não seja do tipo int, um erro é retornado.\n",
    "    if not isinstance(time_interval, int):\n",
    "        raise TypeError(\"É esperado que o parâmetro 'time_interval' seja do tipo int.\")\n",
    "    \n",
    "    # Caso a série temporal 'daily_adjusted_closing_prices' não seja numérica, um erro é retornado.\n",
    "    if not(pd.api.types.is_numeric_dtype(daily_adjusted_closing_prices)):\n",
    "        raise ValueError(\"É esperado que a série temporal 'daily_adjusted_closing_prices' contenha apenas números.\")\n",
    "    \n",
    "    # Calcula a volatilidade móvel de \"time_interval\" dias da série temporal \"daily_adjusted_closing_prices\".\n",
    "    moving_volatility = daily_adjusted_closing_prices.rolling(window=time_interval).std()\n",
    "    \n",
    "    # Remove os primeiros (time_interval - 1) dados da série temporal gerada acima, isto é, remove os dados NaN de tal série temporal.\n",
    "    moving_volatility = moving_volatility[time_interval-1:]\n",
    "\n",
    "    # Retorna o resultado obtido.\n",
    "    return moving_volatility"
   ]
  },
  {
   "cell_type": "markdown",
   "metadata": {},
   "source": [
    "#### *Gerando uma métrica de volume de negociação móvel*"
   ]
  },
  {
   "cell_type": "code",
   "execution_count": 100,
   "metadata": {},
   "outputs": [],
   "source": [
    "def get_ticker_moving_volume(daily_volumes: pd.Series, time_interval: int) -> pd.Series:\n",
    "    '''\n",
    "        Description:\n",
    "            Calcula o volume de negociação móvel de \"time_interval\" dias para uma série temporal de preços de um certo ticker.  \n",
    "        Args:\n",
    "            daily_volumes (pd.Series): Série temporal com os volumes de negociação diários do ticker em questão.\n",
    "            time_interval (int): Número de dias para a janela móvel.\n",
    "        Return:\n",
    "            moving_volume (pd.Series): Série temporal do volume de negociação móvel calculado para o intervalo de dias especificado. \n",
    "        Errors:\n",
    "            TypeError: É esperado que o parâmetro \"daily_volumes\" seja um objeto do tipo pd.Series.\n",
    "            TypeError: É esperado que o parâmetro \"time_interval\" seja do tipo int.\n",
    "            ValueError: É esperado que a série temporal \"daily_volumes\" contenha apenas números.\n",
    "    '''\n",
    "    \n",
    "    # Verifica se o parâmetro 'daily_volumes' é do tipo pd.Series.\n",
    "    if not isinstance(daily_volumes, pd.Series):\n",
    "        raise TypeError(\"O parâmetro 'daily_volumes' deve ser do tipo pd.Series.\")\n",
    "    \n",
    "    # Verifica se o parâmetro 'time_interval' é do tipo int.\n",
    "    if not isinstance(time_interval, int):\n",
    "        raise TypeError(\"O parâmetro 'time_interval' deve ser do tipo int.\")\n",
    "    \n",
    "    # Verifica se a série temporal contém apenas dados numéricos.\n",
    "    if not pd.api.types.is_numeric_dtype(daily_volumes):\n",
    "        raise ValueError(\"A série temporal 'daily_volumes' deve conter apenas números.\")\n",
    "    \n",
    "    # Calcula o volume de negociação móvel usando a janela de 'time_interval' dias.\n",
    "    moving_volume = daily_volumes.rolling(window=time_interval).mean()\n",
    "    \n",
    "    # Remove os valores NaN resultantes do cálculo acima.\n",
    "    moving_volume = moving_volume.dropna()\n",
    "\n",
    "    # Retorna o resultado obtido.\n",
    "    return moving_volume"
   ]
  },
  {
   "cell_type": "markdown",
   "metadata": {},
   "source": [
    "#### *Gerando algumas métricas de análise técnica (EMA , RSI , ATR , MOM) e adicionando novas features aos dados*"
   ]
  },
  {
   "cell_type": "code",
   "execution_count": 101,
   "metadata": {},
   "outputs": [],
   "source": [
    "# Cria uma cópia do array \"filtered_data_array\" para inserir novas features sem eventual prejuizo as já existentes.\n",
    "dfs = filtered_data_array"
   ]
  },
  {
   "cell_type": "code",
   "execution_count": 102,
   "metadata": {},
   "outputs": [
    {
     "data": {
      "text/html": [
       "<div>\n",
       "<style scoped>\n",
       "    .dataframe tbody tr th:only-of-type {\n",
       "        vertical-align: middle;\n",
       "    }\n",
       "\n",
       "    .dataframe tbody tr th {\n",
       "        vertical-align: top;\n",
       "    }\n",
       "\n",
       "    .dataframe thead th {\n",
       "        text-align: right;\n",
       "    }\n",
       "</style>\n",
       "<table border=\"1\" class=\"dataframe\">\n",
       "  <thead>\n",
       "    <tr style=\"text-align: right;\">\n",
       "      <th></th>\n",
       "      <th>Open</th>\n",
       "      <th>High</th>\n",
       "      <th>Low</th>\n",
       "      <th>Close</th>\n",
       "      <th>Adj Close</th>\n",
       "      <th>Volume</th>\n",
       "      <th>Log Returns</th>\n",
       "      <th>MOV_VOLATILITY_14</th>\n",
       "      <th>MOV_VOLUME_14</th>\n",
       "      <th>EMA_14</th>\n",
       "      <th>RSI_14</th>\n",
       "      <th>ATR_14</th>\n",
       "      <th>MOM_14</th>\n",
       "      <th>Ticker</th>\n",
       "    </tr>\n",
       "    <tr>\n",
       "      <th>Date</th>\n",
       "      <th></th>\n",
       "      <th></th>\n",
       "      <th></th>\n",
       "      <th></th>\n",
       "      <th></th>\n",
       "      <th></th>\n",
       "      <th></th>\n",
       "      <th></th>\n",
       "      <th></th>\n",
       "      <th></th>\n",
       "      <th></th>\n",
       "      <th></th>\n",
       "      <th></th>\n",
       "      <th></th>\n",
       "    </tr>\n",
       "  </thead>\n",
       "  <tbody>\n",
       "    <tr>\n",
       "      <th>2019-01-02</th>\n",
       "      <td>146.649994</td>\n",
       "      <td>148.000000</td>\n",
       "      <td>145.000000</td>\n",
       "      <td>145.899994</td>\n",
       "      <td>137.548737</td>\n",
       "      <td>260000</td>\n",
       "      <td>NaN</td>\n",
       "      <td>NaN</td>\n",
       "      <td>NaN</td>\n",
       "      <td>NaN</td>\n",
       "      <td>NaN</td>\n",
       "      <td>NaN</td>\n",
       "      <td>NaN</td>\n",
       "      <td>POOL</td>\n",
       "    </tr>\n",
       "    <tr>\n",
       "      <th>2019-01-03</th>\n",
       "      <td>146.990005</td>\n",
       "      <td>146.990005</td>\n",
       "      <td>141.820007</td>\n",
       "      <td>144.369995</td>\n",
       "      <td>136.106354</td>\n",
       "      <td>215200</td>\n",
       "      <td>-0.010542</td>\n",
       "      <td>NaN</td>\n",
       "      <td>NaN</td>\n",
       "      <td>NaN</td>\n",
       "      <td>NaN</td>\n",
       "      <td>NaN</td>\n",
       "      <td>NaN</td>\n",
       "      <td>POOL</td>\n",
       "    </tr>\n",
       "    <tr>\n",
       "      <th>2019-01-04</th>\n",
       "      <td>145.820007</td>\n",
       "      <td>149.889999</td>\n",
       "      <td>145.089996</td>\n",
       "      <td>149.279999</td>\n",
       "      <td>140.735291</td>\n",
       "      <td>162000</td>\n",
       "      <td>0.033444</td>\n",
       "      <td>NaN</td>\n",
       "      <td>NaN</td>\n",
       "      <td>NaN</td>\n",
       "      <td>NaN</td>\n",
       "      <td>NaN</td>\n",
       "      <td>NaN</td>\n",
       "      <td>POOL</td>\n",
       "    </tr>\n",
       "    <tr>\n",
       "      <th>2019-01-07</th>\n",
       "      <td>149.679993</td>\n",
       "      <td>151.429993</td>\n",
       "      <td>148.600006</td>\n",
       "      <td>150.149994</td>\n",
       "      <td>141.555496</td>\n",
       "      <td>139500</td>\n",
       "      <td>0.005811</td>\n",
       "      <td>NaN</td>\n",
       "      <td>NaN</td>\n",
       "      <td>NaN</td>\n",
       "      <td>NaN</td>\n",
       "      <td>NaN</td>\n",
       "      <td>NaN</td>\n",
       "      <td>POOL</td>\n",
       "    </tr>\n",
       "    <tr>\n",
       "      <th>2019-01-08</th>\n",
       "      <td>151.009995</td>\n",
       "      <td>151.059998</td>\n",
       "      <td>149.020004</td>\n",
       "      <td>149.830002</td>\n",
       "      <td>141.253799</td>\n",
       "      <td>163800</td>\n",
       "      <td>-0.002134</td>\n",
       "      <td>NaN</td>\n",
       "      <td>NaN</td>\n",
       "      <td>NaN</td>\n",
       "      <td>NaN</td>\n",
       "      <td>NaN</td>\n",
       "      <td>NaN</td>\n",
       "      <td>POOL</td>\n",
       "    </tr>\n",
       "    <tr>\n",
       "      <th>...</th>\n",
       "      <td>...</td>\n",
       "      <td>...</td>\n",
       "      <td>...</td>\n",
       "      <td>...</td>\n",
       "      <td>...</td>\n",
       "      <td>...</td>\n",
       "      <td>...</td>\n",
       "      <td>...</td>\n",
       "      <td>...</td>\n",
       "      <td>...</td>\n",
       "      <td>...</td>\n",
       "      <td>...</td>\n",
       "      <td>...</td>\n",
       "      <td>...</td>\n",
       "    </tr>\n",
       "    <tr>\n",
       "      <th>2023-12-22</th>\n",
       "      <td>395.829987</td>\n",
       "      <td>397.760010</td>\n",
       "      <td>393.100006</td>\n",
       "      <td>396.109985</td>\n",
       "      <td>392.405090</td>\n",
       "      <td>178000</td>\n",
       "      <td>0.001212</td>\n",
       "      <td>18.510585</td>\n",
       "      <td>396964.285714</td>\n",
       "      <td>375.631987</td>\n",
       "      <td>70.963958</td>\n",
       "      <td>10.068693</td>\n",
       "      <td>42.072723</td>\n",
       "      <td>POOL</td>\n",
       "    </tr>\n",
       "    <tr>\n",
       "      <th>2023-12-26</th>\n",
       "      <td>396.660004</td>\n",
       "      <td>402.209991</td>\n",
       "      <td>395.500000</td>\n",
       "      <td>400.890015</td>\n",
       "      <td>397.140411</td>\n",
       "      <td>199800</td>\n",
       "      <td>0.011995</td>\n",
       "      <td>18.492598</td>\n",
       "      <td>389928.571429</td>\n",
       "      <td>378.499777</td>\n",
       "      <td>72.859206</td>\n",
       "      <td>9.828786</td>\n",
       "      <td>46.847687</td>\n",
       "      <td>POOL</td>\n",
       "    </tr>\n",
       "    <tr>\n",
       "      <th>2023-12-27</th>\n",
       "      <td>402.359985</td>\n",
       "      <td>405.010010</td>\n",
       "      <td>399.480011</td>\n",
       "      <td>403.739990</td>\n",
       "      <td>399.963715</td>\n",
       "      <td>193400</td>\n",
       "      <td>0.007084</td>\n",
       "      <td>18.929313</td>\n",
       "      <td>378607.142857</td>\n",
       "      <td>381.361635</td>\n",
       "      <td>73.950932</td>\n",
       "      <td>9.521730</td>\n",
       "      <td>40.844299</td>\n",
       "      <td>POOL</td>\n",
       "    </tr>\n",
       "    <tr>\n",
       "      <th>2023-12-28</th>\n",
       "      <td>403.010010</td>\n",
       "      <td>404.790009</td>\n",
       "      <td>401.040009</td>\n",
       "      <td>402.390015</td>\n",
       "      <td>398.626434</td>\n",
       "      <td>131700</td>\n",
       "      <td>-0.003349</td>\n",
       "      <td>18.884951</td>\n",
       "      <td>367464.285714</td>\n",
       "      <td>383.663608</td>\n",
       "      <td>72.464094</td>\n",
       "      <td>9.109463</td>\n",
       "      <td>38.288544</td>\n",
       "      <td>POOL</td>\n",
       "    </tr>\n",
       "    <tr>\n",
       "      <th>2023-12-29</th>\n",
       "      <td>401.279999</td>\n",
       "      <td>403.980011</td>\n",
       "      <td>398.049988</td>\n",
       "      <td>398.709991</td>\n",
       "      <td>394.980804</td>\n",
       "      <td>201500</td>\n",
       "      <td>-0.009188</td>\n",
       "      <td>17.027100</td>\n",
       "      <td>358185.714286</td>\n",
       "      <td>385.172568</td>\n",
       "      <td>68.425127</td>\n",
       "      <td>8.882361</td>\n",
       "      <td>44.172943</td>\n",
       "      <td>POOL</td>\n",
       "    </tr>\n",
       "  </tbody>\n",
       "</table>\n",
       "<p>1258 rows × 14 columns</p>\n",
       "</div>"
      ],
      "text/plain": [
       "                  Open        High         Low       Close   Adj Close  \\\n",
       "Date                                                                     \n",
       "2019-01-02  146.649994  148.000000  145.000000  145.899994  137.548737   \n",
       "2019-01-03  146.990005  146.990005  141.820007  144.369995  136.106354   \n",
       "2019-01-04  145.820007  149.889999  145.089996  149.279999  140.735291   \n",
       "2019-01-07  149.679993  151.429993  148.600006  150.149994  141.555496   \n",
       "2019-01-08  151.009995  151.059998  149.020004  149.830002  141.253799   \n",
       "...                ...         ...         ...         ...         ...   \n",
       "2023-12-22  395.829987  397.760010  393.100006  396.109985  392.405090   \n",
       "2023-12-26  396.660004  402.209991  395.500000  400.890015  397.140411   \n",
       "2023-12-27  402.359985  405.010010  399.480011  403.739990  399.963715   \n",
       "2023-12-28  403.010010  404.790009  401.040009  402.390015  398.626434   \n",
       "2023-12-29  401.279999  403.980011  398.049988  398.709991  394.980804   \n",
       "\n",
       "            Volume  Log Returns  MOV_VOLATILITY_14  MOV_VOLUME_14      EMA_14  \\\n",
       "Date                                                                            \n",
       "2019-01-02  260000          NaN                NaN            NaN         NaN   \n",
       "2019-01-03  215200    -0.010542                NaN            NaN         NaN   \n",
       "2019-01-04  162000     0.033444                NaN            NaN         NaN   \n",
       "2019-01-07  139500     0.005811                NaN            NaN         NaN   \n",
       "2019-01-08  163800    -0.002134                NaN            NaN         NaN   \n",
       "...            ...          ...                ...            ...         ...   \n",
       "2023-12-22  178000     0.001212          18.510585  396964.285714  375.631987   \n",
       "2023-12-26  199800     0.011995          18.492598  389928.571429  378.499777   \n",
       "2023-12-27  193400     0.007084          18.929313  378607.142857  381.361635   \n",
       "2023-12-28  131700    -0.003349          18.884951  367464.285714  383.663608   \n",
       "2023-12-29  201500    -0.009188          17.027100  358185.714286  385.172568   \n",
       "\n",
       "               RSI_14     ATR_14     MOM_14 Ticker  \n",
       "Date                                                \n",
       "2019-01-02        NaN        NaN        NaN   POOL  \n",
       "2019-01-03        NaN        NaN        NaN   POOL  \n",
       "2019-01-04        NaN        NaN        NaN   POOL  \n",
       "2019-01-07        NaN        NaN        NaN   POOL  \n",
       "2019-01-08        NaN        NaN        NaN   POOL  \n",
       "...               ...        ...        ...    ...  \n",
       "2023-12-22  70.963958  10.068693  42.072723   POOL  \n",
       "2023-12-26  72.859206   9.828786  46.847687   POOL  \n",
       "2023-12-27  73.950932   9.521730  40.844299   POOL  \n",
       "2023-12-28  72.464094   9.109463  38.288544   POOL  \n",
       "2023-12-29  68.425127   8.882361  44.172943   POOL  \n",
       "\n",
       "[1258 rows x 14 columns]"
      ]
     },
     "execution_count": 102,
     "metadata": {},
     "output_type": "execute_result"
    }
   ],
   "source": [
    "# Itero por cada DataFrame presente na variável \"dfs\" para adicionar novas features a cada um deles.\n",
    "for df in dfs:\n",
    "    \n",
    "    # Calcula os retornos logarítmicos diários com base nos preços ajustados de fechamento e adiciona uma nova coluna 'Log Returns' ao DataFrame.\n",
    "    df['Log Returns'] = get_ticker_daily_logarithmic_returns(df['Adj Close'])\n",
    "    \n",
    "    # Calcula a volatilidade móvel de 14 dias com base nos preços ajustados de fechamento e adiciona uma nova coluna 'MOV_VOL_14' ao DataFrame.\n",
    "    df['MOV_VOLATILITY_14'] = get_ticker_moving_volatility(df['Adj Close'], 14)\n",
    "    \n",
    "    # Calcula o volume de negociação móvel de 14 dias com base nos preços ajustados de fechamento e adiciona uma nova coluna 'MOV_VOLUME_14' \n",
    "    # ao DataFrame.\n",
    "    df['MOV_VOLUME_14'] = get_ticker_moving_volume(df['Volume'], 14)\n",
    "    \n",
    "    # Calcula a Média Móvel Exponencial (EMA) de 14 dias. A EMA é usada no lugar da Média Móvel Simples (SMA) para reduzir o atraso de sinal \n",
    "    # típico das médias móveis.\n",
    "    # [Indicador de média móvel]\n",
    "    df['EMA_14'] = talib.EMA(df['Adj Close'], timeperiod=14)\n",
    "    \n",
    "    # Calcula o Índice de Força Relativa (RSI) de 14 dias, que é um indicador de momentum utilizado para medir a velocidade e a mudança de\n",
    "    # movimentos de preços.\n",
    "    # [Indicador de momentum]\n",
    "    df['RSI_14'] = talib.RSI(df['Adj Close'], timeperiod=14)\n",
    "    \n",
    "    # Calcula o Average True Range (ATR) de 14 dias, que é um indicador de volatilidade utilizado para medir a volatilidade do ativo com \n",
    "    # base na amplitude de preços (máxima, mínima e fechamento).\n",
    "    # [Indicador de volatilidade]\n",
    "    df['ATR_14'] = talib.ATR(df['High'], df['Low'], df['Close'], timeperiod=14)\n",
    "    \n",
    "    # Calcula o Momentum (MOM) de 14 dias, que é um indicador de momentum usado para identificar a força da tendência de um ativo.\n",
    "    # [Indicador de momentum]\n",
    "    df['MOM_14'] = talib.MOM(df['Adj Close'], timeperiod=14)\n",
    "    \n",
    "    # Adiciona uma coluna 'Ticker' ao DataFrame para identificar o ticker associado a cada conjunto de dados.\n",
    "    df['Ticker'] = [df.name for _ in range(len(df))]\n",
    "    \n",
    "# Calcula um índice aleatório entre 0 e len(dfs).\n",
    "random_index = np.random.randint(0,len(dfs))\n",
    "\n",
    "# Exibe o resultado obtido com a operação dessa célula para o DataFrame na posição \"random_index\" da variável \"dfs\".\n",
    "dfs[random_index]\n",
    "\n",
    "# Observação: valores NaN foram inseridos nos DataFrames juntamente com as novas features. Esses valores NaN são inerentes ao cálculo de alguns\n",
    "# indicadores técnicos, uma vez que eles requerem um período de ajuste."
   ]
  },
  {
   "cell_type": "markdown",
   "metadata": {},
   "source": [
    "#### *Eliminando redundâncias nas features e lidando com os valores nulos*"
   ]
  },
  {
   "cell_type": "markdown",
   "metadata": {},
   "source": [
    "*Como o indicador ATR_14 é calculado a partir das variáveis \"High\" e \"Low\", essas duas variáveis se tornam redundantes para o treinamento do modelo. Além disso, utilizaremos a coluna \"Adj Close\" como variável alvo. Como \"Adj Close\" é uma versão ajustada da variável \"Close\", esta última também se torna redundante e pouco relevante como feature. Da mesma forma, sem a variável \"Close\", a variável \"Open\" perde parte de sua relevância. Ademais, temos duas features que medem aspectos semelhantes de maneiras diferentes: \"Volume\" e \"MOV_VOLUME_14\". Como a feature \"MOV_VOLUME_14\" parece ser mais relevante para o escopo deste projeto, a manutenção da feature \"Volume\" não é necessária. Portanto, remover essas features do conjunto de dados é uma boa abordagem.*"
   ]
  },
  {
   "cell_type": "code",
   "execution_count": 103,
   "metadata": {},
   "outputs": [
    {
     "data": {
      "text/html": [
       "<div>\n",
       "<style scoped>\n",
       "    .dataframe tbody tr th:only-of-type {\n",
       "        vertical-align: middle;\n",
       "    }\n",
       "\n",
       "    .dataframe tbody tr th {\n",
       "        vertical-align: top;\n",
       "    }\n",
       "\n",
       "    .dataframe thead th {\n",
       "        text-align: right;\n",
       "    }\n",
       "</style>\n",
       "<table border=\"1\" class=\"dataframe\">\n",
       "  <thead>\n",
       "    <tr style=\"text-align: right;\">\n",
       "      <th></th>\n",
       "      <th>Adj Close</th>\n",
       "      <th>Log Returns</th>\n",
       "      <th>MOV_VOLATILITY_14</th>\n",
       "      <th>MOV_VOLUME_14</th>\n",
       "      <th>EMA_14</th>\n",
       "      <th>RSI_14</th>\n",
       "      <th>ATR_14</th>\n",
       "      <th>MOM_14</th>\n",
       "      <th>Ticker</th>\n",
       "    </tr>\n",
       "    <tr>\n",
       "      <th>Date</th>\n",
       "      <th></th>\n",
       "      <th></th>\n",
       "      <th></th>\n",
       "      <th></th>\n",
       "      <th></th>\n",
       "      <th></th>\n",
       "      <th></th>\n",
       "      <th></th>\n",
       "      <th></th>\n",
       "    </tr>\n",
       "  </thead>\n",
       "  <tbody>\n",
       "    <tr>\n",
       "      <th>2019-01-02</th>\n",
       "      <td>59.009998</td>\n",
       "      <td>NaN</td>\n",
       "      <td>NaN</td>\n",
       "      <td>NaN</td>\n",
       "      <td>NaN</td>\n",
       "      <td>NaN</td>\n",
       "      <td>NaN</td>\n",
       "      <td>NaN</td>\n",
       "      <td>AKAM</td>\n",
       "    </tr>\n",
       "    <tr>\n",
       "      <th>2019-01-03</th>\n",
       "      <td>57.700001</td>\n",
       "      <td>-0.022450</td>\n",
       "      <td>NaN</td>\n",
       "      <td>NaN</td>\n",
       "      <td>NaN</td>\n",
       "      <td>NaN</td>\n",
       "      <td>NaN</td>\n",
       "      <td>NaN</td>\n",
       "      <td>AKAM</td>\n",
       "    </tr>\n",
       "    <tr>\n",
       "      <th>2019-01-04</th>\n",
       "      <td>59.380001</td>\n",
       "      <td>0.028700</td>\n",
       "      <td>NaN</td>\n",
       "      <td>NaN</td>\n",
       "      <td>NaN</td>\n",
       "      <td>NaN</td>\n",
       "      <td>NaN</td>\n",
       "      <td>NaN</td>\n",
       "      <td>AKAM</td>\n",
       "    </tr>\n",
       "    <tr>\n",
       "      <th>2019-01-07</th>\n",
       "      <td>61.240002</td>\n",
       "      <td>0.030843</td>\n",
       "      <td>NaN</td>\n",
       "      <td>NaN</td>\n",
       "      <td>NaN</td>\n",
       "      <td>NaN</td>\n",
       "      <td>NaN</td>\n",
       "      <td>NaN</td>\n",
       "      <td>AKAM</td>\n",
       "    </tr>\n",
       "    <tr>\n",
       "      <th>2019-01-08</th>\n",
       "      <td>62.450001</td>\n",
       "      <td>0.019566</td>\n",
       "      <td>NaN</td>\n",
       "      <td>NaN</td>\n",
       "      <td>NaN</td>\n",
       "      <td>NaN</td>\n",
       "      <td>NaN</td>\n",
       "      <td>NaN</td>\n",
       "      <td>AKAM</td>\n",
       "    </tr>\n",
       "    <tr>\n",
       "      <th>...</th>\n",
       "      <td>...</td>\n",
       "      <td>...</td>\n",
       "      <td>...</td>\n",
       "      <td>...</td>\n",
       "      <td>...</td>\n",
       "      <td>...</td>\n",
       "      <td>...</td>\n",
       "      <td>...</td>\n",
       "      <td>...</td>\n",
       "    </tr>\n",
       "    <tr>\n",
       "      <th>2023-12-22</th>\n",
       "      <td>119.620003</td>\n",
       "      <td>0.001087</td>\n",
       "      <td>2.311506</td>\n",
       "      <td>1.413850e+06</td>\n",
       "      <td>117.774475</td>\n",
       "      <td>74.279862</td>\n",
       "      <td>1.389361</td>\n",
       "      <td>3.720001</td>\n",
       "      <td>AKAM</td>\n",
       "    </tr>\n",
       "    <tr>\n",
       "      <th>2023-12-26</th>\n",
       "      <td>119.480003</td>\n",
       "      <td>-0.001171</td>\n",
       "      <td>2.318194</td>\n",
       "      <td>1.398900e+06</td>\n",
       "      <td>118.001879</td>\n",
       "      <td>73.019474</td>\n",
       "      <td>1.326550</td>\n",
       "      <td>3.860001</td>\n",
       "      <td>AKAM</td>\n",
       "    </tr>\n",
       "    <tr>\n",
       "      <th>2023-12-27</th>\n",
       "      <td>119.000000</td>\n",
       "      <td>-0.004026</td>\n",
       "      <td>2.152567</td>\n",
       "      <td>1.418086e+06</td>\n",
       "      <td>118.134961</td>\n",
       "      <td>68.714373</td>\n",
       "      <td>1.324653</td>\n",
       "      <td>4.529999</td>\n",
       "      <td>AKAM</td>\n",
       "    </tr>\n",
       "    <tr>\n",
       "      <th>2023-12-28</th>\n",
       "      <td>119.019997</td>\n",
       "      <td>0.000168</td>\n",
       "      <td>1.980477</td>\n",
       "      <td>1.353993e+06</td>\n",
       "      <td>118.252966</td>\n",
       "      <td>68.796909</td>\n",
       "      <td>1.260750</td>\n",
       "      <td>4.089996</td>\n",
       "      <td>AKAM</td>\n",
       "    </tr>\n",
       "    <tr>\n",
       "      <th>2023-12-29</th>\n",
       "      <td>118.349998</td>\n",
       "      <td>-0.005645</td>\n",
       "      <td>1.643965</td>\n",
       "      <td>1.328450e+06</td>\n",
       "      <td>118.265904</td>\n",
       "      <td>62.817267</td>\n",
       "      <td>1.272838</td>\n",
       "      <td>3.939995</td>\n",
       "      <td>AKAM</td>\n",
       "    </tr>\n",
       "  </tbody>\n",
       "</table>\n",
       "<p>1258 rows × 9 columns</p>\n",
       "</div>"
      ],
      "text/plain": [
       "             Adj Close  Log Returns  MOV_VOLATILITY_14  MOV_VOLUME_14  \\\n",
       "Date                                                                    \n",
       "2019-01-02   59.009998          NaN                NaN            NaN   \n",
       "2019-01-03   57.700001    -0.022450                NaN            NaN   \n",
       "2019-01-04   59.380001     0.028700                NaN            NaN   \n",
       "2019-01-07   61.240002     0.030843                NaN            NaN   \n",
       "2019-01-08   62.450001     0.019566                NaN            NaN   \n",
       "...                ...          ...                ...            ...   \n",
       "2023-12-22  119.620003     0.001087           2.311506   1.413850e+06   \n",
       "2023-12-26  119.480003    -0.001171           2.318194   1.398900e+06   \n",
       "2023-12-27  119.000000    -0.004026           2.152567   1.418086e+06   \n",
       "2023-12-28  119.019997     0.000168           1.980477   1.353993e+06   \n",
       "2023-12-29  118.349998    -0.005645           1.643965   1.328450e+06   \n",
       "\n",
       "                EMA_14     RSI_14    ATR_14    MOM_14 Ticker  \n",
       "Date                                                          \n",
       "2019-01-02         NaN        NaN       NaN       NaN   AKAM  \n",
       "2019-01-03         NaN        NaN       NaN       NaN   AKAM  \n",
       "2019-01-04         NaN        NaN       NaN       NaN   AKAM  \n",
       "2019-01-07         NaN        NaN       NaN       NaN   AKAM  \n",
       "2019-01-08         NaN        NaN       NaN       NaN   AKAM  \n",
       "...                ...        ...       ...       ...    ...  \n",
       "2023-12-22  117.774475  74.279862  1.389361  3.720001   AKAM  \n",
       "2023-12-26  118.001879  73.019474  1.326550  3.860001   AKAM  \n",
       "2023-12-27  118.134961  68.714373  1.324653  4.529999   AKAM  \n",
       "2023-12-28  118.252966  68.796909  1.260750  4.089996   AKAM  \n",
       "2023-12-29  118.265904  62.817267  1.272838  3.939995   AKAM  \n",
       "\n",
       "[1258 rows x 9 columns]"
      ]
     },
     "execution_count": 103,
     "metadata": {},
     "output_type": "execute_result"
    }
   ],
   "source": [
    "# Itera sobre cada um dos DataFrames presentas na variável \"dfs\" para remover as features citadas no texto da célula acima.\n",
    "for df in dfs:\n",
    "    # Remove as colunas 'Open', 'High', 'Low' e 'Close' de cada DataFrame presente em \"dfs\".\n",
    "    df.drop(['Open', 'High', 'Low', 'Close', 'Volume'], axis=1, inplace=True)\n",
    "\n",
    "# Calcula um índice aleatório entre 0 e len(dfs).\n",
    "random_index = np.random.randint(0,len(dfs))\n",
    "\n",
    "# Exibe o resultado obtido com a operação dessa célula para o DataFrame na posição \"random_index\" da variável \"dfs\".\n",
    "dfs[random_index]"
   ]
  },
  {
   "cell_type": "markdown",
   "metadata": {},
   "source": [
    "*Observe que há dados faltantes nos DataFrames, principalmente devido ao período de ajuste dos indicadores técnicos. Como esses indicadores são calculados com uma janela de 14 dias, os primeiros 14 dias podem conter valores nulos. Para resolver isso, podemos remover as linhas com valores faltantes. Como estamos lidando com no máximo 14 linhas faltantes em um total de 1.258 linhas por DataFrame, essa remoção representa apenas uma pequena fração da amostra. Portanto, a quantidade de dados disponível para o treinamento do modelo não será significativamente afetada.*"
   ]
  },
  {
   "cell_type": "code",
   "execution_count": 104,
   "metadata": {},
   "outputs": [
    {
     "data": {
      "text/html": [
       "<div>\n",
       "<style scoped>\n",
       "    .dataframe tbody tr th:only-of-type {\n",
       "        vertical-align: middle;\n",
       "    }\n",
       "\n",
       "    .dataframe tbody tr th {\n",
       "        vertical-align: top;\n",
       "    }\n",
       "\n",
       "    .dataframe thead th {\n",
       "        text-align: right;\n",
       "    }\n",
       "</style>\n",
       "<table border=\"1\" class=\"dataframe\">\n",
       "  <thead>\n",
       "    <tr style=\"text-align: right;\">\n",
       "      <th></th>\n",
       "      <th>Adj Close</th>\n",
       "      <th>Log Returns</th>\n",
       "      <th>MOV_VOLATILITY_14</th>\n",
       "      <th>MOV_VOLUME_14</th>\n",
       "      <th>EMA_14</th>\n",
       "      <th>RSI_14</th>\n",
       "      <th>ATR_14</th>\n",
       "      <th>MOM_14</th>\n",
       "      <th>Ticker</th>\n",
       "    </tr>\n",
       "    <tr>\n",
       "      <th>Date</th>\n",
       "      <th></th>\n",
       "      <th></th>\n",
       "      <th></th>\n",
       "      <th></th>\n",
       "      <th></th>\n",
       "      <th></th>\n",
       "      <th></th>\n",
       "      <th></th>\n",
       "      <th></th>\n",
       "    </tr>\n",
       "  </thead>\n",
       "  <tbody>\n",
       "    <tr>\n",
       "      <th>2019-01-23</th>\n",
       "      <td>14.790000</td>\n",
       "      <td>-0.050752</td>\n",
       "      <td>0.637164</td>\n",
       "      <td>8.973643e+05</td>\n",
       "      <td>16.146333</td>\n",
       "      <td>46.331522</td>\n",
       "      <td>0.957000</td>\n",
       "      <td>-0.540000</td>\n",
       "      <td>MRNA</td>\n",
       "    </tr>\n",
       "    <tr>\n",
       "      <th>2019-01-24</th>\n",
       "      <td>14.640000</td>\n",
       "      <td>-0.010194</td>\n",
       "      <td>0.752879</td>\n",
       "      <td>8.162214e+05</td>\n",
       "      <td>15.945489</td>\n",
       "      <td>45.336472</td>\n",
       "      <td>0.928286</td>\n",
       "      <td>-0.860000</td>\n",
       "      <td>MRNA</td>\n",
       "    </tr>\n",
       "    <tr>\n",
       "      <th>2019-01-25</th>\n",
       "      <td>14.910000</td>\n",
       "      <td>0.018275</td>\n",
       "      <td>0.802907</td>\n",
       "      <td>7.655357e+05</td>\n",
       "      <td>15.807424</td>\n",
       "      <td>47.521259</td>\n",
       "      <td>0.899123</td>\n",
       "      <td>-2.049999</td>\n",
       "      <td>MRNA</td>\n",
       "    </tr>\n",
       "    <tr>\n",
       "      <th>2019-01-28</th>\n",
       "      <td>14.450000</td>\n",
       "      <td>-0.031338</td>\n",
       "      <td>0.914363</td>\n",
       "      <td>6.991857e+05</td>\n",
       "      <td>15.626434</td>\n",
       "      <td>44.274537</td>\n",
       "      <td>0.867757</td>\n",
       "      <td>-1.820001</td>\n",
       "      <td>MRNA</td>\n",
       "    </tr>\n",
       "    <tr>\n",
       "      <th>2019-01-29</th>\n",
       "      <td>14.630000</td>\n",
       "      <td>0.012380</td>\n",
       "      <td>0.934768</td>\n",
       "      <td>6.063357e+05</td>\n",
       "      <td>15.493576</td>\n",
       "      <td>45.834031</td>\n",
       "      <td>0.836131</td>\n",
       "      <td>-2.320001</td>\n",
       "      <td>MRNA</td>\n",
       "    </tr>\n",
       "    <tr>\n",
       "      <th>...</th>\n",
       "      <td>...</td>\n",
       "      <td>...</td>\n",
       "      <td>...</td>\n",
       "      <td>...</td>\n",
       "      <td>...</td>\n",
       "      <td>...</td>\n",
       "      <td>...</td>\n",
       "      <td>...</td>\n",
       "      <td>...</td>\n",
       "    </tr>\n",
       "    <tr>\n",
       "      <th>2023-12-22</th>\n",
       "      <td>94.889999</td>\n",
       "      <td>0.040102</td>\n",
       "      <td>5.210992</td>\n",
       "      <td>6.627893e+06</td>\n",
       "      <td>85.438824</td>\n",
       "      <td>69.662149</td>\n",
       "      <td>4.704113</td>\n",
       "      <td>15.019997</td>\n",
       "      <td>MRNA</td>\n",
       "    </tr>\n",
       "    <tr>\n",
       "      <th>2023-12-26</th>\n",
       "      <td>97.330002</td>\n",
       "      <td>0.025389</td>\n",
       "      <td>6.018648</td>\n",
       "      <td>6.748800e+06</td>\n",
       "      <td>87.024314</td>\n",
       "      <td>71.952821</td>\n",
       "      <td>4.612962</td>\n",
       "      <td>19.050003</td>\n",
       "      <td>MRNA</td>\n",
       "    </tr>\n",
       "    <tr>\n",
       "      <th>2023-12-27</th>\n",
       "      <td>100.730003</td>\n",
       "      <td>0.034336</td>\n",
       "      <td>7.094485</td>\n",
       "      <td>6.820829e+06</td>\n",
       "      <td>88.851739</td>\n",
       "      <td>74.807297</td>\n",
       "      <td>4.544179</td>\n",
       "      <td>20.130005</td>\n",
       "      <td>MRNA</td>\n",
       "    </tr>\n",
       "    <tr>\n",
       "      <th>2023-12-28</th>\n",
       "      <td>98.790001</td>\n",
       "      <td>-0.019447</td>\n",
       "      <td>7.466438</td>\n",
       "      <td>6.898279e+06</td>\n",
       "      <td>90.176841</td>\n",
       "      <td>70.404339</td>\n",
       "      <td>4.579594</td>\n",
       "      <td>18.840004</td>\n",
       "      <td>MRNA</td>\n",
       "    </tr>\n",
       "    <tr>\n",
       "      <th>2023-12-29</th>\n",
       "      <td>99.449997</td>\n",
       "      <td>0.006659</td>\n",
       "      <td>7.666270</td>\n",
       "      <td>7.060564e+06</td>\n",
       "      <td>91.413262</td>\n",
       "      <td>71.029062</td>\n",
       "      <td>4.451052</td>\n",
       "      <td>19.129997</td>\n",
       "      <td>MRNA</td>\n",
       "    </tr>\n",
       "  </tbody>\n",
       "</table>\n",
       "<p>1244 rows × 9 columns</p>\n",
       "</div>"
      ],
      "text/plain": [
       "             Adj Close  Log Returns  MOV_VOLATILITY_14  MOV_VOLUME_14  \\\n",
       "Date                                                                    \n",
       "2019-01-23   14.790000    -0.050752           0.637164   8.973643e+05   \n",
       "2019-01-24   14.640000    -0.010194           0.752879   8.162214e+05   \n",
       "2019-01-25   14.910000     0.018275           0.802907   7.655357e+05   \n",
       "2019-01-28   14.450000    -0.031338           0.914363   6.991857e+05   \n",
       "2019-01-29   14.630000     0.012380           0.934768   6.063357e+05   \n",
       "...                ...          ...                ...            ...   \n",
       "2023-12-22   94.889999     0.040102           5.210992   6.627893e+06   \n",
       "2023-12-26   97.330002     0.025389           6.018648   6.748800e+06   \n",
       "2023-12-27  100.730003     0.034336           7.094485   6.820829e+06   \n",
       "2023-12-28   98.790001    -0.019447           7.466438   6.898279e+06   \n",
       "2023-12-29   99.449997     0.006659           7.666270   7.060564e+06   \n",
       "\n",
       "               EMA_14     RSI_14    ATR_14     MOM_14 Ticker  \n",
       "Date                                                          \n",
       "2019-01-23  16.146333  46.331522  0.957000  -0.540000   MRNA  \n",
       "2019-01-24  15.945489  45.336472  0.928286  -0.860000   MRNA  \n",
       "2019-01-25  15.807424  47.521259  0.899123  -2.049999   MRNA  \n",
       "2019-01-28  15.626434  44.274537  0.867757  -1.820001   MRNA  \n",
       "2019-01-29  15.493576  45.834031  0.836131  -2.320001   MRNA  \n",
       "...               ...        ...       ...        ...    ...  \n",
       "2023-12-22  85.438824  69.662149  4.704113  15.019997   MRNA  \n",
       "2023-12-26  87.024314  71.952821  4.612962  19.050003   MRNA  \n",
       "2023-12-27  88.851739  74.807297  4.544179  20.130005   MRNA  \n",
       "2023-12-28  90.176841  70.404339  4.579594  18.840004   MRNA  \n",
       "2023-12-29  91.413262  71.029062  4.451052  19.129997   MRNA  \n",
       "\n",
       "[1244 rows x 9 columns]"
      ]
     },
     "execution_count": 104,
     "metadata": {},
     "output_type": "execute_result"
    }
   ],
   "source": [
    "# Itera sobre cada um dos DataFrames presentas na variável \"dfs\" para remover as linhas com valores NaN presentes em cada um deles.\n",
    "for df in dfs:\n",
    "    # Remove todas as linhas com valores NaN de cada DataFrame na lista \"dfs\".\n",
    "    df.dropna(inplace=True)\n",
    "\n",
    "# Calcula um índice aleatório entre 0 e len(dfs).\n",
    "random_index = np.random.randint(0,len(dfs))\n",
    "\n",
    "# Exibe o resultado obtido com a operação dessa célula para o DataFrame na posição \"random_index\" da variável \"dfs\".\n",
    "dfs[random_index]"
   ]
  },
  {
   "cell_type": "markdown",
   "metadata": {},
   "source": [
    "####"
   ]
  },
  {
   "cell_type": "markdown",
   "metadata": {},
   "source": [
    "# **Filtrando as ações**"
   ]
  },
  {
   "cell_type": "markdown",
   "metadata": {},
   "source": [
    "Para esse projeto, buscaremos trabalhar com ações que possuam, para um período de 14 dias, alto volume de negociação e baixa volatilidade. Para tal, filtraremos todas as ações obtidas através da métrica $V$ abaixo:\n",
    "\n",
    "$$V = \\dfrac{V_{l}}{V_{t}}$$\n",
    "\n",
    "Onde,\n",
    "\n",
    "$V_{l} =$ Volume móvel dos últimos 14 dias.\n",
    "\n",
    "$V_{t} =$ Volatilidade móvel dos últimos 14 dias."
   ]
  },
  {
   "cell_type": "code",
   "execution_count": 105,
   "metadata": {},
   "outputs": [],
   "source": [
    "# Cria um DataFrame vazio para armazenar o \"V Value\" de cada DataFrame presente em \"dfs\", juntamente do nome do ticker que cada um desses\n",
    "# DataFrames representam.\n",
    "v_value_results = pd.DataFrame()  \n",
    "\n",
    "# Itera sobre todos os DataFrames presentes na variável \"dfs\"  para criar o DataFrame \"aux_df\" que será utilizado para descobrir quais tickers,\n",
    "# dentre os tickers presentes na variável de configuração \"setup\" possuem o maior \"V Value\".\n",
    "for df in dfs:  \n",
    "    # Obtém o último valor da feature 'MOV_VOLUME_14' do DataFrame em questão.\n",
    "    df_mov_volume = df.tail(1)['MOV_VOLUME_14']  \n",
    "    \n",
    "    # Obtém o último valor da feature 'MOV_VOLATILITY_14' do DataFrame em questão.\n",
    "    df_mov_volatility = df.tail(1)['MOV_VOLATILITY_14']  \n",
    "    \n",
    "    # Obtem o nome do ticker que representa os dados do DataFrame em questão.\n",
    "    df_ticker = df.tail(1)['Ticker'] \n",
    "    \n",
    "    # Calcula o 'V_Value' do DataFrame em questão.\n",
    "    df_v_value = df_mov_volume / df_mov_volatility  \n",
    "    \n",
    "    # Cria um DataFrame auxiliar com os valores calculados.\n",
    "    aux_df = pd.DataFrame({  \n",
    "        \"V_Value\": df_v_value,\n",
    "        \"Ticker\": df_ticker\n",
    "    })\n",
    "    \n",
    "    # Concatena o DataFrame auxiliar com o DataFrame de resultados, acumulando os dados e gerando o resultado final ao final do loop.\n",
    "    v_value_results = pd.concat([v_value_results, aux_df])  "
   ]
  },
  {
   "cell_type": "code",
   "execution_count": 106,
   "metadata": {},
   "outputs": [
    {
     "data": {
      "text/html": [
       "<div>\n",
       "<style scoped>\n",
       "    .dataframe tbody tr th:only-of-type {\n",
       "        vertical-align: middle;\n",
       "    }\n",
       "\n",
       "    .dataframe tbody tr th {\n",
       "        vertical-align: top;\n",
       "    }\n",
       "\n",
       "    .dataframe thead th {\n",
       "        text-align: right;\n",
       "    }\n",
       "</style>\n",
       "<table border=\"1\" class=\"dataframe\">\n",
       "  <thead>\n",
       "    <tr style=\"text-align: right;\">\n",
       "      <th></th>\n",
       "      <th>V_Value</th>\n",
       "      <th>Ticker</th>\n",
       "    </tr>\n",
       "    <tr>\n",
       "      <th>Date</th>\n",
       "      <th></th>\n",
       "      <th></th>\n",
       "    </tr>\n",
       "  </thead>\n",
       "  <tbody>\n",
       "    <tr>\n",
       "      <th>2023-12-29</th>\n",
       "      <td>1.393141e+02</td>\n",
       "      <td>NVR</td>\n",
       "    </tr>\n",
       "    <tr>\n",
       "      <th>2023-12-29</th>\n",
       "      <td>3.201976e+03</td>\n",
       "      <td>AZO</td>\n",
       "    </tr>\n",
       "    <tr>\n",
       "      <th>2023-12-29</th>\n",
       "      <td>3.805557e+03</td>\n",
       "      <td>MTD</td>\n",
       "    </tr>\n",
       "    <tr>\n",
       "      <th>2023-12-29</th>\n",
       "      <td>4.296227e+03</td>\n",
       "      <td>BKNG</td>\n",
       "    </tr>\n",
       "    <tr>\n",
       "      <th>2023-12-29</th>\n",
       "      <td>1.464196e+04</td>\n",
       "      <td>FICO</td>\n",
       "    </tr>\n",
       "    <tr>\n",
       "      <th>...</th>\n",
       "      <td>...</td>\n",
       "      <td>...</td>\n",
       "    </tr>\n",
       "    <tr>\n",
       "      <th>2023-12-29</th>\n",
       "      <td>1.037063e+08</td>\n",
       "      <td>AMCR</td>\n",
       "    </tr>\n",
       "    <tr>\n",
       "      <th>2023-12-29</th>\n",
       "      <td>1.110892e+08</td>\n",
       "      <td>AAL</td>\n",
       "    </tr>\n",
       "    <tr>\n",
       "      <th>2023-12-29</th>\n",
       "      <td>1.149379e+08</td>\n",
       "      <td>F</td>\n",
       "    </tr>\n",
       "    <tr>\n",
       "      <th>2023-12-29</th>\n",
       "      <td>3.477433e+08</td>\n",
       "      <td>T</td>\n",
       "    </tr>\n",
       "    <tr>\n",
       "      <th>2023-12-29</th>\n",
       "      <td>3.960952e+08</td>\n",
       "      <td>NVDA</td>\n",
       "    </tr>\n",
       "  </tbody>\n",
       "</table>\n",
       "<p>485 rows × 2 columns</p>\n",
       "</div>"
      ],
      "text/plain": [
       "                 V_Value Ticker\n",
       "Date                           \n",
       "2023-12-29  1.393141e+02    NVR\n",
       "2023-12-29  3.201976e+03    AZO\n",
       "2023-12-29  3.805557e+03    MTD\n",
       "2023-12-29  4.296227e+03   BKNG\n",
       "2023-12-29  1.464196e+04   FICO\n",
       "...                  ...    ...\n",
       "2023-12-29  1.037063e+08   AMCR\n",
       "2023-12-29  1.110892e+08    AAL\n",
       "2023-12-29  1.149379e+08      F\n",
       "2023-12-29  3.477433e+08      T\n",
       "2023-12-29  3.960952e+08   NVDA\n",
       "\n",
       "[485 rows x 2 columns]"
      ]
     },
     "execution_count": 106,
     "metadata": {},
     "output_type": "execute_result"
    }
   ],
   "source": [
    "# Ordena o DataFrame 'v_value_results' com base na coluna 'V_Value' em ordem crescente.\n",
    "v_value_results = v_value_results.sort_values(by=\"V_Value\")  \n",
    "\n",
    "# Exibe o DataFrame ordenado.\n",
    "v_value_results"
   ]
  },
  {
   "cell_type": "code",
   "execution_count": 107,
   "metadata": {},
   "outputs": [
    {
     "data": {
      "text/plain": [
       "array(['AMCR', 'AAL', 'F', 'T', 'NVDA'], dtype=object)"
      ]
     },
     "execution_count": 107,
     "metadata": {},
     "output_type": "execute_result"
    }
   ],
   "source": [
    "# Obtem o nome dos tickers com maior \"V Value\" e os junta em um ndarray.\n",
    "selected_tickers = v_value_results.tail(setup['tickers_to_select'])['Ticker'].to_numpy() \n",
    "# Exibe o array que contém os tickers que possuem o maior \"V Value\".\n",
    "selected_tickers"
   ]
  },
  {
   "cell_type": "code",
   "execution_count": 108,
   "metadata": {},
   "outputs": [
    {
     "data": {
      "text/plain": [
       "[            Adj Close  Log Returns  MOV_VOLATILITY_14  MOV_VOLUME_14  \\\n",
       " Date                                                                   \n",
       " 2019-01-23   7.437139     0.014553           0.086415   1.913571e+04   \n",
       " 2019-01-24   7.437139     0.000000           0.088650   1.042143e+04   \n",
       " 2019-01-25   7.437139     0.000000           0.085239   1.041429e+04   \n",
       " 2019-01-28   7.437139     0.000000           0.091333   7.850000e+03   \n",
       " 2019-01-29   7.437139     0.000000           0.093392   7.121429e+03   \n",
       " ...               ...          ...                ...            ...   \n",
       " 2023-12-22   9.324051    -0.003094           0.117780   9.159857e+06   \n",
       " 2023-12-26   9.324051     0.000000           0.097765   8.763057e+06   \n",
       " 2023-12-27   9.362580     0.004124           0.077678   8.754850e+06   \n",
       " 2023-12-28   9.352948    -0.001029           0.078750   8.373714e+06   \n",
       " 2023-12-29   9.285523    -0.007235           0.078889   8.181264e+06   \n",
       " \n",
       "               EMA_14     RSI_14    ATR_14    MOM_14 Ticker  \n",
       " Date                                                        \n",
       " 2019-01-23  7.272271  72.413860  0.062857  0.299328   AMCR  \n",
       " 2019-01-24  7.294254  72.413860  0.058367  0.299328   AMCR  \n",
       " 2019-01-25  7.313305  72.413860  0.054198  0.299328   AMCR  \n",
       " 2019-01-28  7.329816  72.413860  0.050327  0.145827   AMCR  \n",
       " 2019-01-29  7.344126  72.413860  0.046732  0.191877   AMCR  \n",
       " ...              ...        ...       ...       ...    ...  \n",
       " 2023-12-22  9.250234  58.965231  0.174854  0.192645   AMCR  \n",
       " 2023-12-26  9.260076  58.965231  0.170222  0.298599   AMCR  \n",
       " 2023-12-27  9.273743  60.395799  0.167349  0.298601   AMCR  \n",
       " 2023-12-28  9.284304  59.834208  0.161824  0.067425   AMCR  \n",
       " 2023-12-29  9.284467  55.914781  0.158837 -0.009631   AMCR  \n",
       " \n",
       " [1244 rows x 9 columns],\n",
       "             Adj Close  Log Returns  MOV_VOLATILITY_14  MOV_VOLUME_14  \\\n",
       " Date                                                                   \n",
       " 2019-01-23  31.146366    -0.033860           0.973723   9.816450e+06   \n",
       " 2019-01-24  33.124378     0.061572           0.774769   9.724243e+06   \n",
       " 2019-01-25  34.423378     0.038466           0.967787   1.018436e+07   \n",
       " 2019-01-28  35.988075     0.044452           1.377883   1.067242e+07   \n",
       " 2019-01-29  35.712532    -0.007686           1.593484   1.078932e+07   \n",
       " ...               ...          ...                ...            ...   \n",
       " 2023-12-22  14.310000    -0.002791           0.404307   3.454201e+07   \n",
       " 2023-12-26  14.110000    -0.014075           0.310958   3.325740e+07   \n",
       " 2023-12-27  13.990000    -0.008541           0.258448   3.126270e+07   \n",
       " 2023-12-28  13.980000    -0.000715           0.254421   2.894711e+07   \n",
       " 2023-12-29  13.740000    -0.017316           0.256760   2.852330e+07   \n",
       " \n",
       "                EMA_14     RSI_14    ATR_14    MOM_14 Ticker  \n",
       " Date                                                         \n",
       " 2019-01-23  31.819527  46.839310  1.759286 -0.816790    AAL  \n",
       " 2019-01-24  31.993507  54.363023  1.826479  3.542715    AAL  \n",
       " 2019-01-25  32.317490  58.515370  1.827445  2.893219    AAL  \n",
       " 2019-01-28  32.806901  62.894799  1.848342  3.562397    AAL  \n",
       " 2019-01-29  33.194319  61.660330  1.788460  3.808422    AAL  \n",
       " ...               ...        ...       ...       ...    ...  \n",
       " 2023-12-22  13.931539  65.313689  0.392536  0.960000    AAL  \n",
       " 2023-12-26  13.955334  60.967040  0.383783  0.980000    AAL  \n",
       " 2023-12-27  13.959956  58.453450  0.375656  0.510000    AAL  \n",
       " 2023-12-28  13.962628  58.237964  0.364538  0.070000    AAL  \n",
       " 2023-12-29  13.932945  53.171834  0.359214 -0.020000    AAL  \n",
       " \n",
       " [1244 rows x 9 columns],\n",
       "             Adj Close  Log Returns  MOV_VOLATILITY_14  MOV_VOLUME_14  \\\n",
       " Date                                                                   \n",
       " 2019-01-23  15.227885     0.010086           0.265821   4.542227e+07   \n",
       " 2019-01-24  15.084925    -0.009432           0.166245   4.417300e+07   \n",
       " 2019-01-25  15.114506     0.001959           0.116466   4.307654e+07   \n",
       " 2019-01-28  15.119437     0.000326           0.104138   4.212682e+07   \n",
       " 2019-01-29  15.134224     0.000978           0.104542   4.097073e+07   \n",
       " ...               ...          ...                ...            ...   \n",
       " 2023-12-22  15.785001     0.003632           0.254131   4.357361e+07   \n",
       " 2023-12-26  15.804076     0.001208           0.204151   4.004928e+07   \n",
       " 2023-12-27  15.813613     0.000603           0.184327   3.875365e+07   \n",
       " 2023-12-28  15.966218     0.009604           0.132870   3.881106e+07   \n",
       " 2023-12-29  16.004370     0.002387           0.109802   3.818276e+07   \n",
       " \n",
       "                EMA_14     RSI_14    ATR_14    MOM_14 Ticker  \n",
       " Date                                                         \n",
       " 2019-01-23  14.960152  72.704962  0.455330  0.979866      T  \n",
       " 2019-01-24  14.976788  67.863035  0.456255  0.817614      T  \n",
       " 2019-01-25  14.995151  68.332976  0.447403  0.480624      T  \n",
       " 2019-01-28  15.011722  68.415895  0.428933  0.220275      T  \n",
       " 2019-01-29  15.028056  68.680708  0.411782  0.046950      T  \n",
       " ...               ...        ...       ...       ...    ...  \n",
       " 2023-12-22  15.764780  54.667469  0.280229 -0.104915      T  \n",
       " 2023-12-26  15.770019  55.120849  0.272355 -0.619954      T  \n",
       " 2023-12-27  15.775832  55.361216  0.265044 -0.343360      T  \n",
       " 2023-12-28  15.801217  59.133086  0.270398 -0.333821      T  \n",
       " 2023-12-29  15.828304  60.042114  0.266798 -0.133530      T  \n",
       " \n",
       " [1244 rows x 9 columns],\n",
       "             Adj Close  Log Returns  MOV_VOLATILITY_14  MOV_VOLUME_14  \\\n",
       " Date                                                                   \n",
       " 2019-01-23   6.352287    -0.019003           0.247901   4.873473e+07   \n",
       " 2019-01-24   6.550319     0.030699           0.196362   5.161644e+07   \n",
       " 2019-01-25   6.748353     0.029785           0.179702   5.233494e+07   \n",
       " 2019-01-28   6.596020    -0.022832           0.167718   5.243401e+07   \n",
       " 2019-01-29   6.672185     0.011481           0.161025   5.135122e+07   \n",
       " ...               ...          ...                ...            ...   \n",
       " 2023-12-22  11.698984     0.000810           0.594240   5.475192e+07   \n",
       " 2023-12-26  11.793712     0.008064           0.583318   5.366211e+07   \n",
       " 2023-12-27  11.736876    -0.004831           0.549733   5.313838e+07   \n",
       " 2023-12-28  11.689511    -0.004044           0.502438   5.215019e+07   \n",
       " 2023-12-29  11.547418    -0.012230           0.448733   5.157647e+07   \n",
       " \n",
       "                EMA_14     RSI_14    ATR_14    MOM_14 Ticker  \n",
       " Date                                                         \n",
       " 2019-01-23   6.419712  58.270701  0.300000  0.335134      F  \n",
       " 2019-01-24   6.437126  62.244894  0.311429  0.624565      F  \n",
       " 2019-01-25   6.478623  65.757014  0.314898  0.594099      F  \n",
       " 2019-01-28   6.494276  61.052302  0.312405  0.281817      F  \n",
       " 2019-01-29   6.517997  62.497093  0.302233  0.297049      F  \n",
       " ...               ...        ...       ...       ...    ...  \n",
       " 2023-12-22  11.009479  71.521281  0.318548  1.563023      F  \n",
       " 2023-12-26  11.114043  72.605384  0.306509  1.752479      F  \n",
       " 2023-12-27  11.197088  70.862378  0.300330  1.610386      F  \n",
       " 2023-12-28  11.262744  69.367868  0.289592  1.439876      F  \n",
       " 2023-12-29  11.300701  64.942770  0.285335  1.117797      F  \n",
       " \n",
       " [1244 rows x 9 columns],\n",
       "             Adj Close  Log Returns  MOV_VOLATILITY_14  MOV_VOLUME_14  \\\n",
       " Date                                                                   \n",
       " 2019-01-23   3.702781     0.003489           0.181737   6.440111e+08   \n",
       " 2019-01-24   3.914844     0.055691           0.148750   6.442554e+08   \n",
       " 2019-01-25   3.972138     0.014529           0.144687   6.848949e+08   \n",
       " 2019-01-28   3.423008    -0.148785           0.159213   8.136354e+08   \n",
       " 2019-01-29   3.264024    -0.047559           0.188672   8.399151e+08   \n",
       " ...               ...          ...                ...            ...   \n",
       " 2023-12-22  48.823704    -0.003271           1.299941   3.922356e+08   \n",
       " 2023-12-26  49.272640     0.009153           1.278713   3.831272e+08   \n",
       " 2023-12-27  49.410622     0.002796           1.065473   3.726314e+08   \n",
       " 2023-12-28  49.515610     0.002123           0.959779   3.651859e+08   \n",
       " 2023-12-29  49.515610     0.000000           0.927387   3.673337e+08   \n",
       " \n",
       "                EMA_14     RSI_14    ATR_14    MOM_14 Ticker  \n",
       " Date                                                         \n",
       " 2019-01-23   3.605714  61.630189  0.173286  0.324170   NVDA  \n",
       " 2019-01-24   3.646931  67.032498  0.177444  0.740358   NVDA  \n",
       " 2019-01-25   3.690292  68.329875  0.181876  0.594270   NVDA  \n",
       " 2019-01-28   3.654654  48.592089  0.220939 -0.133686   NVDA  \n",
       " 2019-01-29   3.602570  44.577259  0.217818 -0.204126   NVDA  \n",
       " ...               ...        ...       ...       ...    ...  \n",
       " 2023-12-22  48.316349  55.352140  1.346709  3.323582   NVDA  \n",
       " 2023-12-26  48.443854  57.245977  1.305515  2.712650   NVDA  \n",
       " 2023-12-27  48.572757  57.837926  1.254764  3.913494   NVDA  \n",
       " 2023-12-28  48.698470  58.310896  1.198853  2.925621   NVDA  \n",
       " 2023-12-29  48.807422  58.310896  1.202220  2.015739   NVDA  \n",
       " \n",
       " [1244 rows x 9 columns]]"
      ]
     },
     "execution_count": 108,
     "metadata": {},
     "output_type": "execute_result"
    }
   ],
   "source": [
    "# Cria uma lista vazia para armazenar o resultado final (DataFrames que passaram pelo filtro, ou seja, os que possuem o maior \"V Value\").\n",
    "dfs_list = []\n",
    "\n",
    "# Itera sobre cada um dos DataFrames da variável \"dfs\".\n",
    "for df in dfs: \n",
    "    # Verifica se o nome do DataFrame está na lista de tickers selecionados.\n",
    "    if df.name in selected_tickers:\n",
    "        # Guarda o DataFrame que contém os dados do ticker em questão em \"dfs_list\".\n",
    "        dfs_list.append(df)\n",
    "     \n",
    "# Exibe o resultado obtido (isto é, uma lista que contém os DataFrames que possuem o maior \"V Value\").\n",
    "dfs_list"
   ]
  },
  {
   "cell_type": "markdown",
   "metadata": {},
   "source": [
    "# **Data Preparation**"
   ]
  },
  {
   "cell_type": "markdown",
   "metadata": {},
   "source": [
    "#### *Preparando os DataFrames que serão usados como exemplos*"
   ]
  },
  {
   "cell_type": "code",
   "execution_count": 109,
   "metadata": {},
   "outputs": [
    {
     "data": {
      "text/html": [
       "<div>\n",
       "<style scoped>\n",
       "    .dataframe tbody tr th:only-of-type {\n",
       "        vertical-align: middle;\n",
       "    }\n",
       "\n",
       "    .dataframe tbody tr th {\n",
       "        vertical-align: top;\n",
       "    }\n",
       "\n",
       "    .dataframe thead th {\n",
       "        text-align: right;\n",
       "    }\n",
       "</style>\n",
       "<table border=\"1\" class=\"dataframe\">\n",
       "  <thead>\n",
       "    <tr style=\"text-align: right;\">\n",
       "      <th></th>\n",
       "      <th>Adj Close</th>\n",
       "      <th>Log Returns</th>\n",
       "      <th>MOV_VOLATILITY_14</th>\n",
       "      <th>MOV_VOLUME_14</th>\n",
       "      <th>EMA_14</th>\n",
       "      <th>RSI_14</th>\n",
       "      <th>ATR_14</th>\n",
       "      <th>MOM_14</th>\n",
       "      <th>Ticker</th>\n",
       "    </tr>\n",
       "    <tr>\n",
       "      <th>Date</th>\n",
       "      <th></th>\n",
       "      <th></th>\n",
       "      <th></th>\n",
       "      <th></th>\n",
       "      <th></th>\n",
       "      <th></th>\n",
       "      <th></th>\n",
       "      <th></th>\n",
       "      <th></th>\n",
       "    </tr>\n",
       "  </thead>\n",
       "  <tbody>\n",
       "    <tr>\n",
       "      <th>2019-01-23</th>\n",
       "      <td>7.437139</td>\n",
       "      <td>0.014553</td>\n",
       "      <td>0.086415</td>\n",
       "      <td>1.913571e+04</td>\n",
       "      <td>7.272271</td>\n",
       "      <td>72.413860</td>\n",
       "      <td>0.062857</td>\n",
       "      <td>0.299328</td>\n",
       "      <td>AMCR</td>\n",
       "    </tr>\n",
       "    <tr>\n",
       "      <th>2019-01-24</th>\n",
       "      <td>7.437139</td>\n",
       "      <td>0.000000</td>\n",
       "      <td>0.088650</td>\n",
       "      <td>1.042143e+04</td>\n",
       "      <td>7.294254</td>\n",
       "      <td>72.413860</td>\n",
       "      <td>0.058367</td>\n",
       "      <td>0.299328</td>\n",
       "      <td>AMCR</td>\n",
       "    </tr>\n",
       "    <tr>\n",
       "      <th>2019-01-25</th>\n",
       "      <td>7.437139</td>\n",
       "      <td>0.000000</td>\n",
       "      <td>0.085239</td>\n",
       "      <td>1.041429e+04</td>\n",
       "      <td>7.313305</td>\n",
       "      <td>72.413860</td>\n",
       "      <td>0.054198</td>\n",
       "      <td>0.299328</td>\n",
       "      <td>AMCR</td>\n",
       "    </tr>\n",
       "    <tr>\n",
       "      <th>2019-01-28</th>\n",
       "      <td>7.437139</td>\n",
       "      <td>0.000000</td>\n",
       "      <td>0.091333</td>\n",
       "      <td>7.850000e+03</td>\n",
       "      <td>7.329816</td>\n",
       "      <td>72.413860</td>\n",
       "      <td>0.050327</td>\n",
       "      <td>0.145827</td>\n",
       "      <td>AMCR</td>\n",
       "    </tr>\n",
       "    <tr>\n",
       "      <th>2019-01-29</th>\n",
       "      <td>7.437139</td>\n",
       "      <td>0.000000</td>\n",
       "      <td>0.093392</td>\n",
       "      <td>7.121429e+03</td>\n",
       "      <td>7.344126</td>\n",
       "      <td>72.413860</td>\n",
       "      <td>0.046732</td>\n",
       "      <td>0.191877</td>\n",
       "      <td>AMCR</td>\n",
       "    </tr>\n",
       "    <tr>\n",
       "      <th>...</th>\n",
       "      <td>...</td>\n",
       "      <td>...</td>\n",
       "      <td>...</td>\n",
       "      <td>...</td>\n",
       "      <td>...</td>\n",
       "      <td>...</td>\n",
       "      <td>...</td>\n",
       "      <td>...</td>\n",
       "      <td>...</td>\n",
       "    </tr>\n",
       "    <tr>\n",
       "      <th>2023-12-22</th>\n",
       "      <td>9.324051</td>\n",
       "      <td>-0.003094</td>\n",
       "      <td>0.117780</td>\n",
       "      <td>9.159857e+06</td>\n",
       "      <td>9.250234</td>\n",
       "      <td>58.965231</td>\n",
       "      <td>0.174854</td>\n",
       "      <td>0.192645</td>\n",
       "      <td>AMCR</td>\n",
       "    </tr>\n",
       "    <tr>\n",
       "      <th>2023-12-26</th>\n",
       "      <td>9.324051</td>\n",
       "      <td>0.000000</td>\n",
       "      <td>0.097765</td>\n",
       "      <td>8.763057e+06</td>\n",
       "      <td>9.260076</td>\n",
       "      <td>58.965231</td>\n",
       "      <td>0.170222</td>\n",
       "      <td>0.298599</td>\n",
       "      <td>AMCR</td>\n",
       "    </tr>\n",
       "    <tr>\n",
       "      <th>2023-12-27</th>\n",
       "      <td>9.362580</td>\n",
       "      <td>0.004124</td>\n",
       "      <td>0.077678</td>\n",
       "      <td>8.754850e+06</td>\n",
       "      <td>9.273743</td>\n",
       "      <td>60.395799</td>\n",
       "      <td>0.167349</td>\n",
       "      <td>0.298601</td>\n",
       "      <td>AMCR</td>\n",
       "    </tr>\n",
       "    <tr>\n",
       "      <th>2023-12-28</th>\n",
       "      <td>9.352948</td>\n",
       "      <td>-0.001029</td>\n",
       "      <td>0.078750</td>\n",
       "      <td>8.373714e+06</td>\n",
       "      <td>9.284304</td>\n",
       "      <td>59.834208</td>\n",
       "      <td>0.161824</td>\n",
       "      <td>0.067425</td>\n",
       "      <td>AMCR</td>\n",
       "    </tr>\n",
       "    <tr>\n",
       "      <th>2023-12-29</th>\n",
       "      <td>9.285523</td>\n",
       "      <td>-0.007235</td>\n",
       "      <td>0.078889</td>\n",
       "      <td>8.181264e+06</td>\n",
       "      <td>9.284467</td>\n",
       "      <td>55.914781</td>\n",
       "      <td>0.158837</td>\n",
       "      <td>-0.009631</td>\n",
       "      <td>AMCR</td>\n",
       "    </tr>\n",
       "  </tbody>\n",
       "</table>\n",
       "<p>1244 rows × 9 columns</p>\n",
       "</div>"
      ],
      "text/plain": [
       "            Adj Close  Log Returns  MOV_VOLATILITY_14  MOV_VOLUME_14  \\\n",
       "Date                                                                   \n",
       "2019-01-23   7.437139     0.014553           0.086415   1.913571e+04   \n",
       "2019-01-24   7.437139     0.000000           0.088650   1.042143e+04   \n",
       "2019-01-25   7.437139     0.000000           0.085239   1.041429e+04   \n",
       "2019-01-28   7.437139     0.000000           0.091333   7.850000e+03   \n",
       "2019-01-29   7.437139     0.000000           0.093392   7.121429e+03   \n",
       "...               ...          ...                ...            ...   \n",
       "2023-12-22   9.324051    -0.003094           0.117780   9.159857e+06   \n",
       "2023-12-26   9.324051     0.000000           0.097765   8.763057e+06   \n",
       "2023-12-27   9.362580     0.004124           0.077678   8.754850e+06   \n",
       "2023-12-28   9.352948    -0.001029           0.078750   8.373714e+06   \n",
       "2023-12-29   9.285523    -0.007235           0.078889   8.181264e+06   \n",
       "\n",
       "              EMA_14     RSI_14    ATR_14    MOM_14 Ticker  \n",
       "Date                                                        \n",
       "2019-01-23  7.272271  72.413860  0.062857  0.299328   AMCR  \n",
       "2019-01-24  7.294254  72.413860  0.058367  0.299328   AMCR  \n",
       "2019-01-25  7.313305  72.413860  0.054198  0.299328   AMCR  \n",
       "2019-01-28  7.329816  72.413860  0.050327  0.145827   AMCR  \n",
       "2019-01-29  7.344126  72.413860  0.046732  0.191877   AMCR  \n",
       "...              ...        ...       ...       ...    ...  \n",
       "2023-12-22  9.250234  58.965231  0.174854  0.192645   AMCR  \n",
       "2023-12-26  9.260076  58.965231  0.170222  0.298599   AMCR  \n",
       "2023-12-27  9.273743  60.395799  0.167349  0.298601   AMCR  \n",
       "2023-12-28  9.284304  59.834208  0.161824  0.067425   AMCR  \n",
       "2023-12-29  9.284467  55.914781  0.158837 -0.009631   AMCR  \n",
       "\n",
       "[1244 rows x 9 columns]"
      ]
     },
     "execution_count": 109,
     "metadata": {},
     "output_type": "execute_result"
    }
   ],
   "source": [
    "# Escolhe aleatoriamente um dos tickers que passaram pelo filtro e o exibe.\n",
    "dfs_list[np.random.randint(0, len(dfs_list))]"
   ]
  },
  {
   "cell_type": "code",
   "execution_count": 110,
   "metadata": {},
   "outputs": [
    {
     "data": {
      "text/html": [
       "<div>\n",
       "<style scoped>\n",
       "    .dataframe tbody tr th:only-of-type {\n",
       "        vertical-align: middle;\n",
       "    }\n",
       "\n",
       "    .dataframe tbody tr th {\n",
       "        vertical-align: top;\n",
       "    }\n",
       "\n",
       "    .dataframe thead th {\n",
       "        text-align: right;\n",
       "    }\n",
       "</style>\n",
       "<table border=\"1\" class=\"dataframe\">\n",
       "  <thead>\n",
       "    <tr style=\"text-align: right;\">\n",
       "      <th></th>\n",
       "      <th>Adj Close</th>\n",
       "      <th>Log Returns</th>\n",
       "      <th>MOV_VOLATILITY_14</th>\n",
       "      <th>MOV_VOLUME_14</th>\n",
       "      <th>EMA_14</th>\n",
       "      <th>RSI_14</th>\n",
       "      <th>ATR_14</th>\n",
       "      <th>MOM_14</th>\n",
       "    </tr>\n",
       "    <tr>\n",
       "      <th>Date</th>\n",
       "      <th></th>\n",
       "      <th></th>\n",
       "      <th></th>\n",
       "      <th></th>\n",
       "      <th></th>\n",
       "      <th></th>\n",
       "      <th></th>\n",
       "      <th></th>\n",
       "    </tr>\n",
       "  </thead>\n",
       "  <tbody>\n",
       "    <tr>\n",
       "      <th>2019-01-23</th>\n",
       "      <td>15.227885</td>\n",
       "      <td>0.010086</td>\n",
       "      <td>0.265821</td>\n",
       "      <td>4.542227e+07</td>\n",
       "      <td>14.960152</td>\n",
       "      <td>72.704962</td>\n",
       "      <td>0.455330</td>\n",
       "      <td>0.979866</td>\n",
       "    </tr>\n",
       "    <tr>\n",
       "      <th>2019-01-24</th>\n",
       "      <td>15.084925</td>\n",
       "      <td>-0.009432</td>\n",
       "      <td>0.166245</td>\n",
       "      <td>4.417300e+07</td>\n",
       "      <td>14.976788</td>\n",
       "      <td>67.863035</td>\n",
       "      <td>0.456255</td>\n",
       "      <td>0.817614</td>\n",
       "    </tr>\n",
       "    <tr>\n",
       "      <th>2019-01-25</th>\n",
       "      <td>15.114506</td>\n",
       "      <td>0.001959</td>\n",
       "      <td>0.116466</td>\n",
       "      <td>4.307654e+07</td>\n",
       "      <td>14.995151</td>\n",
       "      <td>68.332976</td>\n",
       "      <td>0.447403</td>\n",
       "      <td>0.480624</td>\n",
       "    </tr>\n",
       "    <tr>\n",
       "      <th>2019-01-28</th>\n",
       "      <td>15.119437</td>\n",
       "      <td>0.000326</td>\n",
       "      <td>0.104138</td>\n",
       "      <td>4.212682e+07</td>\n",
       "      <td>15.011722</td>\n",
       "      <td>68.415895</td>\n",
       "      <td>0.428933</td>\n",
       "      <td>0.220275</td>\n",
       "    </tr>\n",
       "    <tr>\n",
       "      <th>2019-01-29</th>\n",
       "      <td>15.134224</td>\n",
       "      <td>0.000978</td>\n",
       "      <td>0.104542</td>\n",
       "      <td>4.097073e+07</td>\n",
       "      <td>15.028056</td>\n",
       "      <td>68.680708</td>\n",
       "      <td>0.411782</td>\n",
       "      <td>0.046950</td>\n",
       "    </tr>\n",
       "    <tr>\n",
       "      <th>...</th>\n",
       "      <td>...</td>\n",
       "      <td>...</td>\n",
       "      <td>...</td>\n",
       "      <td>...</td>\n",
       "      <td>...</td>\n",
       "      <td>...</td>\n",
       "      <td>...</td>\n",
       "      <td>...</td>\n",
       "    </tr>\n",
       "    <tr>\n",
       "      <th>2023-12-22</th>\n",
       "      <td>15.785001</td>\n",
       "      <td>0.003632</td>\n",
       "      <td>0.254131</td>\n",
       "      <td>4.357361e+07</td>\n",
       "      <td>15.764780</td>\n",
       "      <td>54.667469</td>\n",
       "      <td>0.280229</td>\n",
       "      <td>-0.104915</td>\n",
       "    </tr>\n",
       "    <tr>\n",
       "      <th>2023-12-26</th>\n",
       "      <td>15.804076</td>\n",
       "      <td>0.001208</td>\n",
       "      <td>0.204151</td>\n",
       "      <td>4.004928e+07</td>\n",
       "      <td>15.770019</td>\n",
       "      <td>55.120849</td>\n",
       "      <td>0.272355</td>\n",
       "      <td>-0.619954</td>\n",
       "    </tr>\n",
       "    <tr>\n",
       "      <th>2023-12-27</th>\n",
       "      <td>15.813613</td>\n",
       "      <td>0.000603</td>\n",
       "      <td>0.184327</td>\n",
       "      <td>3.875365e+07</td>\n",
       "      <td>15.775832</td>\n",
       "      <td>55.361216</td>\n",
       "      <td>0.265044</td>\n",
       "      <td>-0.343360</td>\n",
       "    </tr>\n",
       "    <tr>\n",
       "      <th>2023-12-28</th>\n",
       "      <td>15.966218</td>\n",
       "      <td>0.009604</td>\n",
       "      <td>0.132870</td>\n",
       "      <td>3.881106e+07</td>\n",
       "      <td>15.801217</td>\n",
       "      <td>59.133086</td>\n",
       "      <td>0.270398</td>\n",
       "      <td>-0.333821</td>\n",
       "    </tr>\n",
       "    <tr>\n",
       "      <th>2023-12-29</th>\n",
       "      <td>16.004370</td>\n",
       "      <td>0.002387</td>\n",
       "      <td>0.109802</td>\n",
       "      <td>3.818276e+07</td>\n",
       "      <td>15.828304</td>\n",
       "      <td>60.042114</td>\n",
       "      <td>0.266798</td>\n",
       "      <td>-0.133530</td>\n",
       "    </tr>\n",
       "  </tbody>\n",
       "</table>\n",
       "<p>1244 rows × 8 columns</p>\n",
       "</div>"
      ],
      "text/plain": [
       "            Adj Close  Log Returns  MOV_VOLATILITY_14  MOV_VOLUME_14  \\\n",
       "Date                                                                   \n",
       "2019-01-23  15.227885     0.010086           0.265821   4.542227e+07   \n",
       "2019-01-24  15.084925    -0.009432           0.166245   4.417300e+07   \n",
       "2019-01-25  15.114506     0.001959           0.116466   4.307654e+07   \n",
       "2019-01-28  15.119437     0.000326           0.104138   4.212682e+07   \n",
       "2019-01-29  15.134224     0.000978           0.104542   4.097073e+07   \n",
       "...               ...          ...                ...            ...   \n",
       "2023-12-22  15.785001     0.003632           0.254131   4.357361e+07   \n",
       "2023-12-26  15.804076     0.001208           0.204151   4.004928e+07   \n",
       "2023-12-27  15.813613     0.000603           0.184327   3.875365e+07   \n",
       "2023-12-28  15.966218     0.009604           0.132870   3.881106e+07   \n",
       "2023-12-29  16.004370     0.002387           0.109802   3.818276e+07   \n",
       "\n",
       "               EMA_14     RSI_14    ATR_14    MOM_14  \n",
       "Date                                                  \n",
       "2019-01-23  14.960152  72.704962  0.455330  0.979866  \n",
       "2019-01-24  14.976788  67.863035  0.456255  0.817614  \n",
       "2019-01-25  14.995151  68.332976  0.447403  0.480624  \n",
       "2019-01-28  15.011722  68.415895  0.428933  0.220275  \n",
       "2019-01-29  15.028056  68.680708  0.411782  0.046950  \n",
       "...               ...        ...       ...       ...  \n",
       "2023-12-22  15.764780  54.667469  0.280229 -0.104915  \n",
       "2023-12-26  15.770019  55.120849  0.272355 -0.619954  \n",
       "2023-12-27  15.775832  55.361216  0.265044 -0.343360  \n",
       "2023-12-28  15.801217  59.133086  0.270398 -0.333821  \n",
       "2023-12-29  15.828304  60.042114  0.266798 -0.133530  \n",
       "\n",
       "[1244 rows x 8 columns]"
      ]
     },
     "execution_count": 110,
     "metadata": {},
     "output_type": "execute_result"
    }
   ],
   "source": [
    "# Itera sobre cada um dos DataFrames presentes na variável \"dfs\" para adicionar um nome a eles e também para remover a feature \"Ticker\" de cada um.\n",
    "for df in dfs_list:\n",
    "    # Seta o nome do DataFrame em questão como sendo o nome do ticker que este DataFrame representa.\n",
    "    df.name = df['Ticker'].values[0]\n",
    "    # Remove a coluna \"Ticker\" do DataFrame em questão (Dado o modo que treinaremos a LSTM, tal coluna não é necessária).\n",
    "    df.drop(['Ticker'], axis=1, inplace=True)\n",
    "    \n",
    "# Escolhe aleatoriamente um dos tickers que passaram pelo filtro e o exibe, no intuito de mostrar as modificações feitas nessa célula.\n",
    "dfs_list[np.random.randint(0, len(dfs_list))]"
   ]
  },
  {
   "cell_type": "code",
   "execution_count": 111,
   "metadata": {},
   "outputs": [
    {
     "data": {
      "text/plain": [
       "'AMCR'"
      ]
     },
     "execution_count": 111,
     "metadata": {},
     "output_type": "execute_result"
    }
   ],
   "source": [
    "# Lembre que agora cada um dos DataFrames em \"data_list\" possuem o atributo name como sendo a sigla do ticker que tais DataFrames representam.\n",
    "dfs_list[np.random.randint(0, len(dfs_list))].name"
   ]
  },
  {
   "cell_type": "markdown",
   "metadata": {},
   "source": [
    "#### *Dividindo os dados em treino e teste*"
   ]
  },
  {
   "cell_type": "code",
   "execution_count": 112,
   "metadata": {},
   "outputs": [
    {
     "data": {
      "text/plain": [
       "array(['AMCR', 'AAL', 'F', 'T', 'NVDA'], dtype=object)"
      ]
     },
     "execution_count": 112,
     "metadata": {},
     "output_type": "execute_result"
    }
   ],
   "source": [
    "# Lembre que possuímos a variável \"selected_tickers\" que contém o nome dos tickers que passaram pelo filtro.\n",
    "\n",
    "# Exibe o nome dos tickers que passaram pelo filtro.\n",
    "selected_tickers"
   ]
  },
  {
   "cell_type": "code",
   "execution_count": 113,
   "metadata": {},
   "outputs": [],
   "source": [
    "def split_dfs(dfs_list: list, target: str) -> dict:\n",
    "    '''\n",
    "    Description:\n",
    "        Esta função divide cada DataFrame de uma lista de DataFrames em dados de treino e teste e salva tais dados em um dicionário. Tal divisão\n",
    "        é feita tendo como base os valores definidos nas variáveis \"setup['start_date']\", setup['end_date'] e \"setup['test_initial_day']\". Visto\n",
    "        que, tal divisão deixa (aproximadamente, devido aos dias sem negociação), para cada DataFrame (df) presente em \"dfs_list\", \n",
    "        (setup['test_initial_day'] - setup['start_date']) amostras de treino e (setup['end_date'] - setup['test_initial_day']) \n",
    "        amostras de teste.\n",
    "    Args:\n",
    "        dfs_list (list): Lista de DataFrames.\n",
    "        target (str): Nome da feature target.\n",
    "    Return:\n",
    "        train_test_data (dict): Um dicionário contendo os dados de treino e teste para cada ticker que possui um DataFrame presente em \"dfs_list\".\n",
    "    Errors:\n",
    "        TypeError: É esperado que o parâmetro \"dfs_list\" seja uma lista de DataFrames.\n",
    "        KeyError: É esperado que todos os DataFrames presentes em \"dfs_list\" possuam uma coluna com o nome da variável \"target\".\n",
    "        ValueError: É esperado que os índices de cada um dos DataFrames presentes em \"dfs_list\" seja uma série temporal.\n",
    "    '''\n",
    "    \n",
    "    # Verifica se 'dfs_list' é do tipo list.\n",
    "    if not isinstance(dfs_list, list):\n",
    "        raise TypeError(\"É esperado que o parâmetro 'dfs_list' seja uma lista.\")\n",
    "\n",
    "    # Inicializa um dicionário para armazenar os dados de treino e teste para cada ticker.\n",
    "    subdict = {\n",
    "        'X_train': [],\n",
    "        'X_train_scaled': [],\n",
    "        'X_train_scaled_sequences': [],\n",
    "        'X_test': [],\n",
    "        'X_test_scaled': [],\n",
    "        'X_test_scaled_sequences': [],\n",
    "        'y_train': [],\n",
    "        'y_train_scaled': [],\n",
    "        'y_train_scaled_sequences': [],\n",
    "        'y_test': [],\n",
    "        'y_test_scaled': [],\n",
    "        'y_test_scaled_sequences': [],\n",
    "        'predicted': [],\n",
    "        'RMSE': 0\n",
    "    } # Existem formas mais eficientes e \"bonitas\" de se fazer algo que faça um papel semelhante ao dessa estrutura. Contudo, por questões de\n",
    "    # didática e legibilidade essa estrutura será mantida assim.\n",
    "\n",
    "    # Inicializa um dicionário onde as chaves são os nomes de cada ticker que possui um DataFrame em \"dfs_list\".\n",
    "    train_test_data = dict.fromkeys([df.name for df in dfs_list])\n",
    "\n",
    "    # Itera sobre cada DataFrame presente na variável \"dfs_list\".\n",
    "    for df in dfs_list:\n",
    "        \n",
    "        # Verifica se o DataFrame em questão possui a coluna target.\n",
    "        if target not in df.columns:\n",
    "            raise KeyError(f\"Todos os DataFrames devem a coluna {target}.\")\n",
    "        \n",
    "        # Separa as features (X) e o target (y).\n",
    "        X = df.drop(columns=['Adj Close'])\n",
    "        y = df['Adj Close']\n",
    "        \n",
    "        # Verifica se o índice do DataFrame é uma série temporal.\n",
    "        if not pd.api.types.is_datetime64_any_dtype(df.index):\n",
    "            raise ValueError(\"É esperado que os índices de todos os DataFrames sejam uma série temporal.\")\n",
    "        \n",
    "        # Separa o conjunto de séries temporais das features em dados de treino e dados de teste.\n",
    "        X_train, X_test = X[X.index < setup['test_initial_day']], X[X.index >= setup['test_initial_day']]\n",
    "        # Separa a série temporal do target em dados de treino e dados de teste.\n",
    "        y_train, y_test = y[y.index < setup['test_initial_day']], y[y.index >= setup['test_initial_day']]\n",
    "        \n",
    "        # Inicializa o dicionário para o ticker atual.\n",
    "        train_test_data[df.name] = subdict.copy()\n",
    "        \n",
    "        # Atribui os conjuntos de treino e teste ao dicionário do ticker atual.\n",
    "        train_test_data[df.name]['X_train'] = X_train\n",
    "        train_test_data[df.name]['X_test'] = X_test\n",
    "        train_test_data[df.name]['y_train'] = y_train\n",
    "        train_test_data[df.name]['y_test'] = y_test\n",
    "\n",
    "    return train_test_data"
   ]
  },
  {
   "cell_type": "code",
   "execution_count": 114,
   "metadata": {},
   "outputs": [
    {
     "name": "stdout",
     "output_type": "stream",
     "text": [
      "AAL\n"
     ]
    }
   ],
   "source": [
    "# Seta o nome do target.\n",
    "target = 'Adj Close'\n",
    "# Separa os dados de cada DataFrame presente em \"dfs_list\" em dados de treino e dados de teste.\n",
    "train_test_data = split_dfs(dfs_list, target)\n",
    "# Obtem, de forma aleatória, o ticker que representa um dos DataFrames presentes em \"dfs_list\".\n",
    "random_ticker = list(train_test_data.keys())[np.random.randint(0,len(train_test_data.keys()))]\n",
    "# Exibe qual ticker foi escolhido aleatoriamente.\n",
    "print(random_ticker)"
   ]
  },
  {
   "cell_type": "code",
   "execution_count": 115,
   "metadata": {},
   "outputs": [
    {
     "data": {
      "text/html": [
       "<div>\n",
       "<style scoped>\n",
       "    .dataframe tbody tr th:only-of-type {\n",
       "        vertical-align: middle;\n",
       "    }\n",
       "\n",
       "    .dataframe tbody tr th {\n",
       "        vertical-align: top;\n",
       "    }\n",
       "\n",
       "    .dataframe thead th {\n",
       "        text-align: right;\n",
       "    }\n",
       "</style>\n",
       "<table border=\"1\" class=\"dataframe\">\n",
       "  <thead>\n",
       "    <tr style=\"text-align: right;\">\n",
       "      <th></th>\n",
       "      <th>Log Returns</th>\n",
       "      <th>MOV_VOLATILITY_14</th>\n",
       "      <th>MOV_VOLUME_14</th>\n",
       "      <th>EMA_14</th>\n",
       "      <th>RSI_14</th>\n",
       "      <th>ATR_14</th>\n",
       "      <th>MOM_14</th>\n",
       "    </tr>\n",
       "    <tr>\n",
       "      <th>Date</th>\n",
       "      <th></th>\n",
       "      <th></th>\n",
       "      <th></th>\n",
       "      <th></th>\n",
       "      <th></th>\n",
       "      <th></th>\n",
       "      <th></th>\n",
       "    </tr>\n",
       "  </thead>\n",
       "  <tbody>\n",
       "    <tr>\n",
       "      <th>2019-01-23</th>\n",
       "      <td>-0.033860</td>\n",
       "      <td>0.973723</td>\n",
       "      <td>9.816450e+06</td>\n",
       "      <td>31.819527</td>\n",
       "      <td>46.839310</td>\n",
       "      <td>1.759286</td>\n",
       "      <td>-0.816790</td>\n",
       "    </tr>\n",
       "    <tr>\n",
       "      <th>2019-01-24</th>\n",
       "      <td>0.061572</td>\n",
       "      <td>0.774769</td>\n",
       "      <td>9.724243e+06</td>\n",
       "      <td>31.993507</td>\n",
       "      <td>54.363023</td>\n",
       "      <td>1.826479</td>\n",
       "      <td>3.542715</td>\n",
       "    </tr>\n",
       "    <tr>\n",
       "      <th>2019-01-25</th>\n",
       "      <td>0.038466</td>\n",
       "      <td>0.967787</td>\n",
       "      <td>1.018436e+07</td>\n",
       "      <td>32.317490</td>\n",
       "      <td>58.515370</td>\n",
       "      <td>1.827445</td>\n",
       "      <td>2.893219</td>\n",
       "    </tr>\n",
       "    <tr>\n",
       "      <th>2019-01-28</th>\n",
       "      <td>0.044452</td>\n",
       "      <td>1.377883</td>\n",
       "      <td>1.067242e+07</td>\n",
       "      <td>32.806901</td>\n",
       "      <td>62.894799</td>\n",
       "      <td>1.848342</td>\n",
       "      <td>3.562397</td>\n",
       "    </tr>\n",
       "    <tr>\n",
       "      <th>2019-01-29</th>\n",
       "      <td>-0.007686</td>\n",
       "      <td>1.593484</td>\n",
       "      <td>1.078932e+07</td>\n",
       "      <td>33.194319</td>\n",
       "      <td>61.660330</td>\n",
       "      <td>1.788460</td>\n",
       "      <td>3.808422</td>\n",
       "    </tr>\n",
       "    <tr>\n",
       "      <th>...</th>\n",
       "      <td>...</td>\n",
       "      <td>...</td>\n",
       "      <td>...</td>\n",
       "      <td>...</td>\n",
       "      <td>...</td>\n",
       "      <td>...</td>\n",
       "      <td>...</td>\n",
       "    </tr>\n",
       "    <tr>\n",
       "      <th>2023-11-24</th>\n",
       "      <td>0.000000</td>\n",
       "      <td>0.274359</td>\n",
       "      <td>3.058833e+07</td>\n",
       "      <td>12.087330</td>\n",
       "      <td>55.387377</td>\n",
       "      <td>0.393913</td>\n",
       "      <td>0.330001</td>\n",
       "    </tr>\n",
       "    <tr>\n",
       "      <th>2023-11-27</th>\n",
       "      <td>-0.010617</td>\n",
       "      <td>0.247765</td>\n",
       "      <td>3.017891e+07</td>\n",
       "      <td>12.099686</td>\n",
       "      <td>52.589478</td>\n",
       "      <td>0.382205</td>\n",
       "      <td>0.520000</td>\n",
       "    </tr>\n",
       "    <tr>\n",
       "      <th>2023-11-28</th>\n",
       "      <td>-0.000821</td>\n",
       "      <td>0.224916</td>\n",
       "      <td>3.061784e+07</td>\n",
       "      <td>12.109061</td>\n",
       "      <td>52.370320</td>\n",
       "      <td>0.377048</td>\n",
       "      <td>0.420000</td>\n",
       "    </tr>\n",
       "    <tr>\n",
       "      <th>2023-11-29</th>\n",
       "      <td>0.004918</td>\n",
       "      <td>0.222648</td>\n",
       "      <td>2.996751e+07</td>\n",
       "      <td>12.125186</td>\n",
       "      <td>53.619195</td>\n",
       "      <td>0.377973</td>\n",
       "      <td>0.219999</td>\n",
       "    </tr>\n",
       "    <tr>\n",
       "      <th>2023-11-30</th>\n",
       "      <td>0.016221</td>\n",
       "      <td>0.199831</td>\n",
       "      <td>2.974044e+07</td>\n",
       "      <td>12.165828</td>\n",
       "      <td>57.609269</td>\n",
       "      <td>0.378832</td>\n",
       "      <td>0.680000</td>\n",
       "    </tr>\n",
       "  </tbody>\n",
       "</table>\n",
       "<p>1224 rows × 7 columns</p>\n",
       "</div>"
      ],
      "text/plain": [
       "            Log Returns  MOV_VOLATILITY_14  MOV_VOLUME_14     EMA_14  \\\n",
       "Date                                                                   \n",
       "2019-01-23    -0.033860           0.973723   9.816450e+06  31.819527   \n",
       "2019-01-24     0.061572           0.774769   9.724243e+06  31.993507   \n",
       "2019-01-25     0.038466           0.967787   1.018436e+07  32.317490   \n",
       "2019-01-28     0.044452           1.377883   1.067242e+07  32.806901   \n",
       "2019-01-29    -0.007686           1.593484   1.078932e+07  33.194319   \n",
       "...                 ...                ...            ...        ...   \n",
       "2023-11-24     0.000000           0.274359   3.058833e+07  12.087330   \n",
       "2023-11-27    -0.010617           0.247765   3.017891e+07  12.099686   \n",
       "2023-11-28    -0.000821           0.224916   3.061784e+07  12.109061   \n",
       "2023-11-29     0.004918           0.222648   2.996751e+07  12.125186   \n",
       "2023-11-30     0.016221           0.199831   2.974044e+07  12.165828   \n",
       "\n",
       "               RSI_14    ATR_14    MOM_14  \n",
       "Date                                       \n",
       "2019-01-23  46.839310  1.759286 -0.816790  \n",
       "2019-01-24  54.363023  1.826479  3.542715  \n",
       "2019-01-25  58.515370  1.827445  2.893219  \n",
       "2019-01-28  62.894799  1.848342  3.562397  \n",
       "2019-01-29  61.660330  1.788460  3.808422  \n",
       "...               ...       ...       ...  \n",
       "2023-11-24  55.387377  0.393913  0.330001  \n",
       "2023-11-27  52.589478  0.382205  0.520000  \n",
       "2023-11-28  52.370320  0.377048  0.420000  \n",
       "2023-11-29  53.619195  0.377973  0.219999  \n",
       "2023-11-30  57.609269  0.378832  0.680000  \n",
       "\n",
       "[1224 rows x 7 columns]"
      ]
     },
     "execution_count": 115,
     "metadata": {},
     "output_type": "execute_result"
    }
   ],
   "source": [
    "# Exibe, para o ticker selecionado aleatoriamente, o conjunto de séries temporais das features que será utilizado para treino.\n",
    "train_test_data[random_ticker]['X_train']"
   ]
  },
  {
   "cell_type": "code",
   "execution_count": 116,
   "metadata": {},
   "outputs": [
    {
     "data": {
      "text/html": [
       "<div>\n",
       "<style scoped>\n",
       "    .dataframe tbody tr th:only-of-type {\n",
       "        vertical-align: middle;\n",
       "    }\n",
       "\n",
       "    .dataframe tbody tr th {\n",
       "        vertical-align: top;\n",
       "    }\n",
       "\n",
       "    .dataframe thead th {\n",
       "        text-align: right;\n",
       "    }\n",
       "</style>\n",
       "<table border=\"1\" class=\"dataframe\">\n",
       "  <thead>\n",
       "    <tr style=\"text-align: right;\">\n",
       "      <th></th>\n",
       "      <th>Log Returns</th>\n",
       "      <th>MOV_VOLATILITY_14</th>\n",
       "      <th>MOV_VOLUME_14</th>\n",
       "      <th>EMA_14</th>\n",
       "      <th>RSI_14</th>\n",
       "      <th>ATR_14</th>\n",
       "      <th>MOM_14</th>\n",
       "    </tr>\n",
       "    <tr>\n",
       "      <th>Date</th>\n",
       "      <th></th>\n",
       "      <th></th>\n",
       "      <th></th>\n",
       "      <th></th>\n",
       "      <th></th>\n",
       "      <th></th>\n",
       "      <th></th>\n",
       "    </tr>\n",
       "  </thead>\n",
       "  <tbody>\n",
       "    <tr>\n",
       "      <th>2023-12-01</th>\n",
       "      <td>0.046374</td>\n",
       "      <td>0.264506</td>\n",
       "      <td>3.101082e+07</td>\n",
       "      <td>12.279718</td>\n",
       "      <td>66.708115</td>\n",
       "      <td>0.396772</td>\n",
       "      <td>1.220000</td>\n",
       "    </tr>\n",
       "    <tr>\n",
       "      <th>2023-12-04</th>\n",
       "      <td>0.025030</td>\n",
       "      <td>0.349257</td>\n",
       "      <td>3.319716e+07</td>\n",
       "      <td>12.422422</td>\n",
       "      <td>70.519607</td>\n",
       "      <td>0.408432</td>\n",
       "      <td>1.570001</td>\n",
       "    </tr>\n",
       "    <tr>\n",
       "      <th>2023-12-05</th>\n",
       "      <td>-0.016617</td>\n",
       "      <td>0.395238</td>\n",
       "      <td>3.352663e+07</td>\n",
       "      <td>12.516766</td>\n",
       "      <td>65.163433</td>\n",
       "      <td>0.403544</td>\n",
       "      <td>0.880000</td>\n",
       "    </tr>\n",
       "    <tr>\n",
       "      <th>2023-12-06</th>\n",
       "      <td>0.026307</td>\n",
       "      <td>0.478068</td>\n",
       "      <td>3.451209e+07</td>\n",
       "      <td>12.645197</td>\n",
       "      <td>69.174695</td>\n",
       "      <td>0.418290</td>\n",
       "      <td>1.059999</td>\n",
       "    </tr>\n",
       "    <tr>\n",
       "      <th>2023-12-07</th>\n",
       "      <td>0.031401</td>\n",
       "      <td>0.588315</td>\n",
       "      <td>3.558389e+07</td>\n",
       "      <td>12.813837</td>\n",
       "      <td>73.249962</td>\n",
       "      <td>0.436270</td>\n",
       "      <td>1.720000</td>\n",
       "    </tr>\n",
       "    <tr>\n",
       "      <th>2023-12-08</th>\n",
       "      <td>-0.010842</td>\n",
       "      <td>0.644338</td>\n",
       "      <td>3.590361e+07</td>\n",
       "      <td>12.939992</td>\n",
       "      <td>69.784100</td>\n",
       "      <td>0.424393</td>\n",
       "      <td>1.470000</td>\n",
       "    </tr>\n",
       "    <tr>\n",
       "      <th>2023-12-11</th>\n",
       "      <td>-0.002911</td>\n",
       "      <td>0.681216</td>\n",
       "      <td>3.622539e+07</td>\n",
       "      <td>13.043993</td>\n",
       "      <td>68.848580</td>\n",
       "      <td>0.406937</td>\n",
       "      <td>1.320001</td>\n",
       "    </tr>\n",
       "    <tr>\n",
       "      <th>2023-12-12</th>\n",
       "      <td>0.023056</td>\n",
       "      <td>0.712908</td>\n",
       "      <td>3.692546e+07</td>\n",
       "      <td>13.176794</td>\n",
       "      <td>72.073958</td>\n",
       "      <td>0.410727</td>\n",
       "      <td>1.910000</td>\n",
       "    </tr>\n",
       "    <tr>\n",
       "      <th>2023-12-13</th>\n",
       "      <td>0.003555</td>\n",
       "      <td>0.738116</td>\n",
       "      <td>3.679037e+07</td>\n",
       "      <td>13.298555</td>\n",
       "      <td>72.552167</td>\n",
       "      <td>0.417818</td>\n",
       "      <td>1.780000</td>\n",
       "    </tr>\n",
       "    <tr>\n",
       "      <th>2023-12-14</th>\n",
       "      <td>0.034871</td>\n",
       "      <td>0.792779</td>\n",
       "      <td>3.879038e+07</td>\n",
       "      <td>13.470748</td>\n",
       "      <td>76.825789</td>\n",
       "      <td>0.427974</td>\n",
       "      <td>2.280000</td>\n",
       "    </tr>\n",
       "    <tr>\n",
       "      <th>2023-12-15</th>\n",
       "      <td>-0.006878</td>\n",
       "      <td>0.783681</td>\n",
       "      <td>3.931167e+07</td>\n",
       "      <td>13.606648</td>\n",
       "      <td>74.332997</td>\n",
       "      <td>0.415975</td>\n",
       "      <td>2.309999</td>\n",
       "    </tr>\n",
       "    <tr>\n",
       "      <th>2023-12-18</th>\n",
       "      <td>-0.017404</td>\n",
       "      <td>0.714204</td>\n",
       "      <td>3.891932e+07</td>\n",
       "      <td>13.691095</td>\n",
       "      <td>68.361115</td>\n",
       "      <td>0.416977</td>\n",
       "      <td>2.070000</td>\n",
       "    </tr>\n",
       "    <tr>\n",
       "      <th>2023-12-19</th>\n",
       "      <td>0.004205</td>\n",
       "      <td>0.614850</td>\n",
       "      <td>3.826297e+07</td>\n",
       "      <td>13.772282</td>\n",
       "      <td>69.004727</td>\n",
       "      <td>0.402193</td>\n",
       "      <td>2.070001</td>\n",
       "    </tr>\n",
       "    <tr>\n",
       "      <th>2023-12-20</th>\n",
       "      <td>-0.022632</td>\n",
       "      <td>0.483763</td>\n",
       "      <td>3.768882e+07</td>\n",
       "      <td>13.799978</td>\n",
       "      <td>61.785798</td>\n",
       "      <td>0.404894</td>\n",
       "      <td>1.549999</td>\n",
       "    </tr>\n",
       "    <tr>\n",
       "      <th>2023-12-21</th>\n",
       "      <td>0.026122</td>\n",
       "      <td>0.433154</td>\n",
       "      <td>3.636961e+07</td>\n",
       "      <td>13.873314</td>\n",
       "      <td>66.190075</td>\n",
       "      <td>0.408116</td>\n",
       "      <td>1.330000</td>\n",
       "    </tr>\n",
       "    <tr>\n",
       "      <th>2023-12-22</th>\n",
       "      <td>-0.002791</td>\n",
       "      <td>0.404307</td>\n",
       "      <td>3.454201e+07</td>\n",
       "      <td>13.931539</td>\n",
       "      <td>65.313689</td>\n",
       "      <td>0.392536</td>\n",
       "      <td>0.960000</td>\n",
       "    </tr>\n",
       "    <tr>\n",
       "      <th>2023-12-26</th>\n",
       "      <td>-0.014075</td>\n",
       "      <td>0.310958</td>\n",
       "      <td>3.325740e+07</td>\n",
       "      <td>13.955334</td>\n",
       "      <td>60.967040</td>\n",
       "      <td>0.383783</td>\n",
       "      <td>0.980000</td>\n",
       "    </tr>\n",
       "    <tr>\n",
       "      <th>2023-12-27</th>\n",
       "      <td>-0.008541</td>\n",
       "      <td>0.258448</td>\n",
       "      <td>3.126270e+07</td>\n",
       "      <td>13.959956</td>\n",
       "      <td>58.453450</td>\n",
       "      <td>0.375656</td>\n",
       "      <td>0.510000</td>\n",
       "    </tr>\n",
       "    <tr>\n",
       "      <th>2023-12-28</th>\n",
       "      <td>-0.000715</td>\n",
       "      <td>0.254421</td>\n",
       "      <td>2.894711e+07</td>\n",
       "      <td>13.962628</td>\n",
       "      <td>58.237964</td>\n",
       "      <td>0.364538</td>\n",
       "      <td>0.070000</td>\n",
       "    </tr>\n",
       "    <tr>\n",
       "      <th>2023-12-29</th>\n",
       "      <td>-0.017316</td>\n",
       "      <td>0.256760</td>\n",
       "      <td>2.852330e+07</td>\n",
       "      <td>13.932945</td>\n",
       "      <td>53.171834</td>\n",
       "      <td>0.359214</td>\n",
       "      <td>-0.020000</td>\n",
       "    </tr>\n",
       "  </tbody>\n",
       "</table>\n",
       "</div>"
      ],
      "text/plain": [
       "            Log Returns  MOV_VOLATILITY_14  MOV_VOLUME_14     EMA_14  \\\n",
       "Date                                                                   \n",
       "2023-12-01     0.046374           0.264506   3.101082e+07  12.279718   \n",
       "2023-12-04     0.025030           0.349257   3.319716e+07  12.422422   \n",
       "2023-12-05    -0.016617           0.395238   3.352663e+07  12.516766   \n",
       "2023-12-06     0.026307           0.478068   3.451209e+07  12.645197   \n",
       "2023-12-07     0.031401           0.588315   3.558389e+07  12.813837   \n",
       "2023-12-08    -0.010842           0.644338   3.590361e+07  12.939992   \n",
       "2023-12-11    -0.002911           0.681216   3.622539e+07  13.043993   \n",
       "2023-12-12     0.023056           0.712908   3.692546e+07  13.176794   \n",
       "2023-12-13     0.003555           0.738116   3.679037e+07  13.298555   \n",
       "2023-12-14     0.034871           0.792779   3.879038e+07  13.470748   \n",
       "2023-12-15    -0.006878           0.783681   3.931167e+07  13.606648   \n",
       "2023-12-18    -0.017404           0.714204   3.891932e+07  13.691095   \n",
       "2023-12-19     0.004205           0.614850   3.826297e+07  13.772282   \n",
       "2023-12-20    -0.022632           0.483763   3.768882e+07  13.799978   \n",
       "2023-12-21     0.026122           0.433154   3.636961e+07  13.873314   \n",
       "2023-12-22    -0.002791           0.404307   3.454201e+07  13.931539   \n",
       "2023-12-26    -0.014075           0.310958   3.325740e+07  13.955334   \n",
       "2023-12-27    -0.008541           0.258448   3.126270e+07  13.959956   \n",
       "2023-12-28    -0.000715           0.254421   2.894711e+07  13.962628   \n",
       "2023-12-29    -0.017316           0.256760   2.852330e+07  13.932945   \n",
       "\n",
       "               RSI_14    ATR_14    MOM_14  \n",
       "Date                                       \n",
       "2023-12-01  66.708115  0.396772  1.220000  \n",
       "2023-12-04  70.519607  0.408432  1.570001  \n",
       "2023-12-05  65.163433  0.403544  0.880000  \n",
       "2023-12-06  69.174695  0.418290  1.059999  \n",
       "2023-12-07  73.249962  0.436270  1.720000  \n",
       "2023-12-08  69.784100  0.424393  1.470000  \n",
       "2023-12-11  68.848580  0.406937  1.320001  \n",
       "2023-12-12  72.073958  0.410727  1.910000  \n",
       "2023-12-13  72.552167  0.417818  1.780000  \n",
       "2023-12-14  76.825789  0.427974  2.280000  \n",
       "2023-12-15  74.332997  0.415975  2.309999  \n",
       "2023-12-18  68.361115  0.416977  2.070000  \n",
       "2023-12-19  69.004727  0.402193  2.070001  \n",
       "2023-12-20  61.785798  0.404894  1.549999  \n",
       "2023-12-21  66.190075  0.408116  1.330000  \n",
       "2023-12-22  65.313689  0.392536  0.960000  \n",
       "2023-12-26  60.967040  0.383783  0.980000  \n",
       "2023-12-27  58.453450  0.375656  0.510000  \n",
       "2023-12-28  58.237964  0.364538  0.070000  \n",
       "2023-12-29  53.171834  0.359214 -0.020000  "
      ]
     },
     "execution_count": 116,
     "metadata": {},
     "output_type": "execute_result"
    }
   ],
   "source": [
    "# Exibe, para o ticker selecionado aleatoriamente, o conjunto de séries temporais das features que será utilizado para teste.\n",
    "train_test_data[random_ticker]['X_test']"
   ]
  },
  {
   "cell_type": "code",
   "execution_count": 117,
   "metadata": {},
   "outputs": [
    {
     "data": {
      "text/plain": [
       "Date\n",
       "2019-01-23    31.146366\n",
       "2019-01-24    33.124378\n",
       "2019-01-25    34.423378\n",
       "2019-01-28    35.988075\n",
       "2019-01-29    35.712532\n",
       "                ...    \n",
       "2023-11-24    12.310000\n",
       "2023-11-27    12.180000\n",
       "2023-11-28    12.170000\n",
       "2023-11-29    12.230000\n",
       "2023-11-30    12.430000\n",
       "Name: Adj Close, Length: 1224, dtype: float64"
      ]
     },
     "execution_count": 117,
     "metadata": {},
     "output_type": "execute_result"
    }
   ],
   "source": [
    "# Exibe, para o ticker selecionado aleatoriamente, a série temporal do target que será utilizada para treino.\n",
    "train_test_data[random_ticker]['y_train']"
   ]
  },
  {
   "cell_type": "code",
   "execution_count": 118,
   "metadata": {},
   "outputs": [
    {
     "data": {
      "text/plain": [
       "Date\n",
       "2023-12-01    13.02\n",
       "2023-12-04    13.35\n",
       "2023-12-05    13.13\n",
       "2023-12-06    13.48\n",
       "2023-12-07    13.91\n",
       "2023-12-08    13.76\n",
       "2023-12-11    13.72\n",
       "2023-12-12    14.04\n",
       "2023-12-13    14.09\n",
       "2023-12-14    14.59\n",
       "2023-12-15    14.49\n",
       "2023-12-18    14.24\n",
       "2023-12-19    14.30\n",
       "2023-12-20    13.98\n",
       "2023-12-21    14.35\n",
       "2023-12-22    14.31\n",
       "2023-12-26    14.11\n",
       "2023-12-27    13.99\n",
       "2023-12-28    13.98\n",
       "2023-12-29    13.74\n",
       "Name: Adj Close, dtype: float64"
      ]
     },
     "execution_count": 118,
     "metadata": {},
     "output_type": "execute_result"
    }
   ],
   "source": [
    "# Exibe, para o ticker selecionado aleatoriamente, a série temporal do target que será utilizada para teste.\n",
    "train_test_data[random_ticker]['y_test']"
   ]
  },
  {
   "cell_type": "markdown",
   "metadata": {},
   "source": [
    "#### *Normalizando as features*"
   ]
  },
  {
   "cell_type": "code",
   "execution_count": 119,
   "metadata": {},
   "outputs": [],
   "source": [
    "def scale_dfs(train_test_data: dict) -> dict:\n",
    "    '''\n",
    "    Description:\n",
    "        Esta função normaliza os conjuntos de dados de treino e teste das features e do target para cada ticker presente no dicionário \n",
    "        \"train_test_data\" usando o MinMaxScaler. Tais dados serão escalados de modo que todos eles estejam entre 0 e 1.\n",
    "    Args:\n",
    "        train_test_data (dict): Um dicionário contendo os dados de treino e teste para cada ticker. Cada chave é um ticker, e os valores \n",
    "        são dicionários com as chaves 'X_train', 'X_test', 'y_train', 'y_test', entre outros.\n",
    "    Return:\n",
    "        train_test_data (dict): O mesmo dicionário de entrada, mas com os dados de treino e teste normalizados adicionados nas chaves \n",
    "        'X_train_scaled', 'X_test_scaled', 'y_train_scaled', 'y_test_scaled' de cada ticker.\n",
    "    Errors:\n",
    "        TypeError: É esperado que o parâmetro \"train_test_data\" seja um dicionário.\n",
    "    '''\n",
    "    \n",
    "    # Verifica se 'train_test_data' é um dicionário.\n",
    "    if not isinstance(train_test_data, dict):\n",
    "        raise TypeError(\"É esperado que o parâmetro 'train_test_data' seja um dicionário.\")\n",
    "    \n",
    "    # Obtém a lista de tickers.\n",
    "    tickers = train_test_data.keys()\n",
    "    \n",
    "    # Itera sobre cada ticker no dicionário.\n",
    "    for ticker in tickers:\n",
    "\n",
    "        # Cria uma instancia do MinMaxScaler para as features do ticker em questão.\n",
    "        scaler_features = MinMaxScaler()\n",
    "\n",
    "        # Ajusta a instância criada acima ao conjunto de treino das features do ticker em questão.\n",
    "        train_test_data[ticker]['X_train_scaled'] = scaler_features.fit_transform(train_test_data[ticker]['X_train'])  \n",
    "\n",
    "        # Redimensiona y_train para que ele seja bidimensional (Necessário para o MinMaxScaler).\n",
    "        resized_y_train = train_test_data[ticker]['y_train'].values.reshape(-1, 1)  \n",
    "\n",
    "        # Cria uma instancia do MinMaxScaler para o target do ticker em questão.\n",
    "        scaler_target = MinMaxScaler()\n",
    "\n",
    "        # Ajusta a instância criada acima ao conjunto de treino do target do ticker em questão.\n",
    "        train_test_data[ticker]['y_train_scaled'] = scaler_target.fit_transform(resized_y_train)  \n",
    "\n",
    "        # Normaliza o conjunto de teste das features do ticker em questão usando a instância que foi criada e ajustada aos dados de treino\n",
    "        # desse mesmo ticker.\n",
    "        train_test_data[ticker]['X_test_scaled'] = scaler_features.transform(train_test_data[ticker]['X_test'])  \n",
    "\n",
    "        # Redimensiona y_test para que seja bidimensional (Necessário para o MinMaxScaler).\n",
    "        resized_y_test = train_test_data[ticker]['y_test'].values.reshape(-1, 1) \n",
    "\n",
    "        # Normaliza o conjunto de teste do target  do ticker em questão usando a instância que foi criada e ajustada aos dados de treino desse\n",
    "        # mesmo ticker.\n",
    "        train_test_data[ticker]['y_test_scaled'] = scaler_target.transform(resized_y_test)\n",
    "        \n",
    "    return train_test_data"
   ]
  },
  {
   "cell_type": "code",
   "execution_count": 120,
   "metadata": {},
   "outputs": [
    {
     "name": "stdout",
     "output_type": "stream",
     "text": [
      "F\n"
     ]
    }
   ],
   "source": [
    "# Normaliza, para cada ticker presente no dicionário \"train_test_data\", os conjuntos de dados de treino e teste das features e do target.\n",
    "train_test_data = scale_dfs(train_test_data)\n",
    "# Obtem, de forma aleatória, o ticker que representa um dos DataFrames presentes em \"dfs_list\".\n",
    "random_ticker = list(train_test_data.keys())[np.random.randint(0,len(train_test_data.keys()))]\n",
    "# Exibe qual ticker foi escolhido aleatoriamente.\n",
    "print(random_ticker)"
   ]
  },
  {
   "cell_type": "code",
   "execution_count": 121,
   "metadata": {},
   "outputs": [
    {
     "data": {
      "text/plain": [
       "array([[0.32889316, 0.1162648 , 0.15445932, ..., 0.63314448, 0.15959323,\n",
       "        0.6333181 ],\n",
       "       [0.47416909, 0.08766792, 0.1760828 , ..., 0.69275783, 0.1706339 ,\n",
       "        0.66259553],\n",
       "       [0.47149734, 0.07842361, 0.1814742 , ..., 0.74544005, 0.1739855 ,\n",
       "        0.65951378],\n",
       "       ...,\n",
       "       [0.39290639, 0.10593788, 0.11061974, ..., 0.46552164, 0.1396482 ,\n",
       "        0.61858217],\n",
       "       [0.44580024, 0.1157402 , 0.13127964, ..., 0.53615129, 0.16108405,\n",
       "        0.65116197],\n",
       "       [0.29190527, 0.09022513, 0.14262564, ..., 0.43847232, 0.17615844,\n",
       "        0.65307852]])"
      ]
     },
     "execution_count": 121,
     "metadata": {},
     "output_type": "execute_result"
    }
   ],
   "source": [
    "# Exibe, para o ticker obtido de forma aleatória, o resultado da normalização do conjunto de treino das features.\n",
    "train_test_data[random_ticker]['X_train_scaled']"
   ]
  },
  {
   "cell_type": "code",
   "execution_count": 122,
   "metadata": {},
   "outputs": [
    {
     "data": {
      "text/plain": [
       "array([[0.47420938, 0.07984257, 0.1514683 , 0.37472395, 0.53369335,\n",
       "        0.18049555, 0.66841015],\n",
       "       [0.41740406, 0.06170461, 0.16204732, 0.37743806, 0.56616427,\n",
       "        0.17831248, 0.68374178],\n",
       "       [0.35699247, 0.06726182, 0.14804067, 0.37897932, 0.53499415,\n",
       "        0.16731479, 0.61858217],\n",
       "       [0.40915114, 0.07616717, 0.1491286 , 0.38104497, 0.56112091,\n",
       "        0.16538315, 0.62049872],\n",
       "       [0.41976914, 0.08388049, 0.1465104 , 0.38388945, 0.59821349,\n",
       "        0.15806915, 0.66266069],\n",
       "       [0.43532013, 0.10503717, 0.15317432, 0.38789554, 0.64922682,\n",
       "        0.15679791, 0.67032641],\n",
       "       [0.40032351, 0.12423622, 0.14929802, 0.39185405, 0.66482648,\n",
       "        0.14802704, 0.66936818],\n",
       "       [0.40810613, 0.13482893, 0.14550432, 0.39601465, 0.68840764,\n",
       "        0.13850254, 0.69236572],\n",
       "       [0.40531644, 0.14551659, 0.15994913, 0.40026928, 0.70929178,\n",
       "        0.15311979, 0.69332395],\n",
       "       [0.5951022 , 0.22760033, 0.20751686, 0.41076884, 0.87021189,\n",
       "        0.19429464, 0.76040001],\n",
       "       [0.36988405, 0.26718038, 0.23593658, 0.41938187, 0.84574602,\n",
       "        0.18836576, 0.76040001],\n",
       "       [0.36246996, 0.28416544, 0.23857027, 0.42611661, 0.80842161,\n",
       "        0.17734004, 0.74890119],\n",
       "       [0.40640637, 0.30348798, 0.21631439, 0.43268327, 0.82449702,\n",
       "        0.16779187, 0.73644425],\n",
       "       [0.33044411, 0.28473625, 0.20262306, 0.43659022, 0.7330413 ,\n",
       "        0.17065648, 0.74698474],\n",
       "       [0.51522995, 0.30039882, 0.20522614, 0.44435552, 0.83032915,\n",
       "        0.18780729, 0.76806582],\n",
       "       [0.38680588, 0.30843478, 0.19961044, 0.45116654, 0.83190472,\n",
       "        0.17751152, 0.75752533],\n",
       "       [0.4080102 , 0.30237455, 0.19143282, 0.4578804 , 0.84816639,\n",
       "        0.16588099, 0.77668977],\n",
       "       [0.37031787, 0.28373955, 0.18750292, 0.46321249, 0.82202111,\n",
       "        0.15991155, 0.76231637],\n",
       "       [0.37261872, 0.25749729, 0.18008784, 0.46742816, 0.79960328,\n",
       "        0.14953822, 0.74506838],\n",
       "       [0.34869008, 0.22769888, 0.17578287, 0.46986526, 0.73322629,\n",
       "        0.14542618, 0.71248848]])"
      ]
     },
     "execution_count": 122,
     "metadata": {},
     "output_type": "execute_result"
    }
   ],
   "source": [
    "# Exibe, para o ticker obtido de forma aleatória, o resultado da normalização do conjunto de teste das features.\n",
    "train_test_data[random_ticker]['X_test_scaled']"
   ]
  },
  {
   "cell_type": "code",
   "execution_count": 123,
   "metadata": {},
   "outputs": [
    {
     "data": {
      "text/plain": [
       "array([[0.1727139 ],\n",
       "       [0.18396541],\n",
       "       [0.19521705],\n",
       "       ...,\n",
       "       [0.36992889],\n",
       "       [0.3817697 ],\n",
       "       [0.36400851]])"
      ]
     },
     "execution_count": 123,
     "metadata": {},
     "output_type": "execute_result"
    }
   ],
   "source": [
    "# Exibe, para o ticker obtido de forma aleatória, o resultado da normalização do conjunto de treino do target.\n",
    "train_test_data[random_ticker]['y_train_scaled']"
   ]
  },
  {
   "cell_type": "code",
   "execution_count": 124,
   "metadata": {},
   "outputs": [
    {
     "data": {
      "text/plain": [
       "array([[0.38123143],\n",
       "       [0.38769003],\n",
       "       [0.38230787],\n",
       "       [0.38715187],\n",
       "       [0.39414863],\n",
       "       [0.4043748 ],\n",
       "       [0.40760404],\n",
       "       [0.41244805],\n",
       "       [0.41675378],\n",
       "       [0.46196407],\n",
       "       [0.45873478],\n",
       "       [0.45389077],\n",
       "       [0.45873478],\n",
       "       [0.44689396],\n",
       "       [0.4759577 ],\n",
       "       [0.47649592],\n",
       "       [0.48187803],\n",
       "       [0.47864879],\n",
       "       [0.4759577 ],\n",
       "       [0.4678844 ]])"
      ]
     },
     "execution_count": 124,
     "metadata": {},
     "output_type": "execute_result"
    }
   ],
   "source": [
    "# Exibe, para o ticker obtido de forma aleatória, o resultado da normalização do conjunto de teste do target.\n",
    "train_test_data[random_ticker]['y_test_scaled']"
   ]
  },
  {
   "cell_type": "markdown",
   "metadata": {},
   "source": [
    "#### *Ajustando os dados para o formato aceito por modelos LSTM*"
   ]
  },
  {
   "cell_type": "code",
   "execution_count": 125,
   "metadata": {},
   "outputs": [],
   "source": [
    "def create_time_sequences(train_test_data: dict, sequence_length: int) -> dict:\n",
    "    '''\n",
    "        Description:\n",
    "            Esta função cria e retorna sequências temporais de tamanho fixo para treinamento de redes neurais LSTM. Cada sequência temporal \n",
    "            é composta por 'sequence_length' dias consecutivos de dados.\n",
    "        Args:\n",
    "            train_test_data (dict): Um dicionário contendo os dados de treino e teste para cada ticker. Cada chave é um ticker, e os valores \n",
    "            são dicionários com as chaves 'X_train', 'X_train_scaled', 'X_train_scaled_sequences','X_test', 'X_test_scaled',\n",
    "            'X_test_scaled_sequence', 'y_train', 'y_train_scaled', 'y_train_scaled_sequence', 'y_test', 'y_test_scaled' e\n",
    "            'y_test_scaled_sequence'.\n",
    "            sequence_length (int): O comprimento das sequências temporais de dados que serão geradas para cada ticker.\n",
    "        Return:\n",
    "            train_test_data (dict): O mesmo dicionário de entrada, mas com as sequências temporais de dados de treino e teste adicionadas nas \n",
    "            chaves 'X_train_scaled_sequences', 'X_test_scaled_sequences', 'y_train_scaled_sequences', 'y_test_scaled_sequences' de cada ticker.\n",
    "        Errors:\n",
    "            TypeError: É esperado que o parâmetro \"train_test_data\" seja um dicionário.\n",
    "            ValueError: É esperado que o parâmetro \"sequence_length\" seja um número inteiro positivo.\n",
    "            ValueError: É esperado que o parâmetro \"sequence_length\" não seja maior que o número de amostras em \"X_train_scaled\".\n",
    "            ValueError: É esperado que o parâmetro \"sequence_length\" não seja maior que o número de amostras em \"X_test_scaled\".\n",
    "    '''\n",
    "    \n",
    "    # Verifica se 'train_test_data' é um dicionário.\n",
    "    if not isinstance(train_test_data, dict):\n",
    "        raise TypeError(\"É esperado que o parâmetro 'train_test_data' seja um dicionário.\")\n",
    "\n",
    "    # Verifica se 'sequence_length' é um número inteiro positivo.\n",
    "    if not isinstance(sequence_length, int) or sequence_length <= 0:\n",
    "        raise ValueError(\"É esperado que o parâmetro 'sequence_length' seja um número inteiro positivo.\")\n",
    "\n",
    "    # A ideia aqui é que todos os tickers de treino têm o mesmo tamanho, da mesma forma que todos os tickers de teste tem o mesmo tamanho. Logo,\n",
    "    # podemos pegar um ticker aleatório para determinar o tamanho.\n",
    "    random_ticker = list(train_test_data.keys())[np.random.randint(0, len(train_test_data.keys()))]\n",
    "    \n",
    "    # Verifica se o sequence_length é maior que o número de amostras disponíveis\n",
    "    if sequence_length > len(train_test_data[random_ticker]['X_train_scaled']):\n",
    "        raise ValueError(\"O 'sequence_length' não pode ser maior que o número de amostras em 'X_train_scaled'.\")\n",
    "    if sequence_length > len(train_test_data[random_ticker]['X_test_scaled']):\n",
    "        raise ValueError(\"O 'sequence_length' não pode ser maior que o número de amostras em 'X_test_scaled'.\")\n",
    "\n",
    "    # Calcula o comprimento dos intervalos de treino e teste, assumindo que 'X_train' e 'y_train' têm o mesmo comprimento, tal como 'X_test' e\n",
    "    # 'y_test'.\n",
    "    train_interval_length = len(train_test_data[random_ticker]['X_train_scaled']) - sequence_length\n",
    "    test_interval_length = len(train_test_data[random_ticker]['X_test_scaled']) - sequence_length\n",
    "    \n",
    "    # Itera sobre cada ticker no dicionário.\n",
    "    for ticker in train_test_data.keys():\n",
    "        # Inicializa listas para armazenar sequências temporais de treino e teste.\n",
    "        X_train_sequences = []\n",
    "        X_test_sequences = []\n",
    "        y_train_sequences = []\n",
    "        y_test_sequences = []\n",
    "    \n",
    "        # Cria sequências para os dados de treino\n",
    "        for i in range(train_interval_length):\n",
    "            # Cria uma sequência temporal de 'sequence_length' dias para as features de treino.\n",
    "            X_train_sequence = train_test_data[ticker]['X_train_scaled'][i: (i + sequence_length)]\n",
    "            # O alvo será o valor no dia seguinte após a sequência temporal.\n",
    "            y_train_sequence = train_test_data[ticker]['y_train_scaled'][i + sequence_length]\n",
    "            # Adiciona as sequências temporais às listas correspondentes.\n",
    "            X_train_sequences.append(X_train_sequence)\n",
    "            y_train_sequences.append(y_train_sequence)\n",
    "\n",
    "        # Cria sequências para os dados de teste\n",
    "        for j in range(test_interval_length):\n",
    "            # Cria uma sequência temporal de 'sequence_length' dias para as features de teste.\n",
    "            X_test_sequence = train_test_data[ticker]['X_test_scaled'][j: (j + sequence_length)]\n",
    "            # O alvo será o valor no dia seguinte após a sequência temporal.\n",
    "            y_test_sequence = train_test_data[ticker]['y_test_scaled'][j + sequence_length]\n",
    "            # Adiciona as sequências temporais às listas correspondentes.\n",
    "            X_test_sequences.append(X_test_sequence)\n",
    "            y_test_sequences.append(y_test_sequence)\n",
    "            \n",
    "        # Adiciona as listas de sequências temporais ao dicionário do ticker correspondente.\n",
    "        train_test_data[ticker]['X_train_scaled_sequences'] = np.array([np.array(arr) for arr in X_train_sequences])\n",
    "        train_test_data[ticker]['X_test_scaled_sequences'] = np.array([np.array(arr) for arr in X_test_sequences])\n",
    "        train_test_data[ticker]['y_train_scaled_sequences'] = np.array(y_train_sequences)\n",
    "        train_test_data[ticker]['y_test_scaled_sequences'] = np.array(y_test_sequences)\n",
    "        \n",
    "    # Retorna o dicionário atualizado com os novos valores das chaves 'X_train_scaled_sequences', 'X_test_scaled_sequences'\n",
    "    # 'y_train_scaled_sequences' e 'y_test_scaled_sequences'.\n",
    "    return train_test_data\n"
   ]
  },
  {
   "cell_type": "code",
   "execution_count": 126,
   "metadata": {},
   "outputs": [
    {
     "name": "stdout",
     "output_type": "stream",
     "text": [
      "AAL\n"
     ]
    }
   ],
   "source": [
    "# Cria sequências temporais (de treino e teste) de tamanho \"setup['sequence_length']\" no intuito de usa-lás na rede neural que iremos criar.\n",
    "train_test_data = create_time_sequences(train_test_data, setup['sequence_length'])\n",
    "# Obtem, de forma aleatória, o ticker que representa um dos DataFrames presentes em \"dfs_list\".\n",
    "random_ticker = list(train_test_data.keys())[np.random.randint(0,len(train_test_data.keys()))]\n",
    "# Exibe qual ticker foi escolhido aleatoriamente.\n",
    "print(random_ticker)"
   ]
  },
  {
   "cell_type": "code",
   "execution_count": 127,
   "metadata": {},
   "outputs": [
    {
     "data": {
      "text/plain": [
       "1217"
      ]
     },
     "execution_count": 127,
     "metadata": {},
     "output_type": "execute_result"
    }
   ],
   "source": [
    "# Exibe a quantidade de sequências temporais de features que serão utilizadas no treinamento da rede neural.\n",
    "len(train_test_data[random_ticker]['X_train_scaled_sequences'])"
   ]
  },
  {
   "cell_type": "code",
   "execution_count": 128,
   "metadata": {},
   "outputs": [
    {
     "data": {
      "text/plain": [
       "array([[[0.40447043, 0.16943409, 0.03005749, ..., 0.45187391,\n",
       "         0.67691892, 0.54628015],\n",
       "        [0.55476576, 0.12587564, 0.02949554, ..., 0.56540249,\n",
       "         0.70923703, 0.72199578],\n",
       "        [0.5183768 , 0.1681344 , 0.03229972, ..., 0.62805907,\n",
       "         0.70970154, 0.69581698],\n",
       "        ...,\n",
       "        [0.44569124, 0.30512324, 0.03598659, ..., 0.67551474,\n",
       "         0.69095112, 0.73270546],\n",
       "        [0.4599642 , 0.3445453 , 0.03653343, ..., 0.67769008,\n",
       "         0.64702982, 0.69502375],\n",
       "        [0.43289735, 0.35070734, 0.03130106, ..., 0.6365361 ,\n",
       "         0.62307958, 0.72715208]],\n",
       "\n",
       "       [[0.55476576, 0.12587564, 0.02949554, ..., 0.56540249,\n",
       "         0.70923703, 0.72199578],\n",
       "        [0.5183768 , 0.1681344 , 0.03229972, ..., 0.62805907,\n",
       "         0.70970154, 0.69581698],\n",
       "        [0.52780307, 0.25792004, 0.03527415, ..., 0.69414218,\n",
       "         0.71975219, 0.72278909],\n",
       "        ...,\n",
       "        [0.4599642 , 0.3445453 , 0.03653343, ..., 0.67769008,\n",
       "         0.64702982, 0.69502375],\n",
       "        [0.43289735, 0.35070734, 0.03130106, ..., 0.6365361 ,\n",
       "         0.62307958, 0.72715208],\n",
       "        [0.47269517, 0.3485136 , 0.0311756 , ..., 0.65355812,\n",
       "         0.59465618, 0.75015797]],\n",
       "\n",
       "       [[0.5183768 , 0.1681344 , 0.03229972, ..., 0.62805907,\n",
       "         0.70970154, 0.69581698],\n",
       "        [0.52780307, 0.25792004, 0.03527415, ..., 0.69414218,\n",
       "         0.71975219, 0.72278909],\n",
       "        [0.44569124, 0.30512324, 0.03598659, ..., 0.67551474,\n",
       "         0.69095112, 0.73270546],\n",
       "        ...,\n",
       "        [0.43289735, 0.35070734, 0.03130106, ..., 0.6365361 ,\n",
       "         0.62307958, 0.72715208],\n",
       "        [0.47269517, 0.3485136 , 0.0311756 , ..., 0.65355812,\n",
       "         0.59465618, 0.75015797],\n",
       "        [0.4867496 , 0.3438208 , 0.03257331, ..., 0.68674421,\n",
       "         0.56414047, 0.78030353]],\n",
       "\n",
       "       ...,\n",
       "\n",
       "       [[0.42835754, 0.04639481, 0.18433125, ..., 0.5676731 ,\n",
       "         0.03171037, 0.63039096],\n",
       "        [0.47066289, 0.04401214, 0.17888575, ..., 0.59148034,\n",
       "         0.02319696, 0.62394195],\n",
       "        [0.47182912, 0.03881276, 0.17095976, ..., 0.61762988,\n",
       "         0.01907067, 0.62958485],\n",
       "        ...,\n",
       "        [0.48099462, 0.01463686, 0.17323307, ..., 0.58085942,\n",
       "         0.0262821 , 0.61588073],\n",
       "        [0.45779591, 0.01631708, 0.15665033, ..., 0.58085942,\n",
       "         0.02021769, 0.59250307],\n",
       "        [0.44107565, 0.0104945 , 0.15415514, ..., 0.53864071,\n",
       "         0.01458649, 0.60016125]],\n",
       "\n",
       "       [[0.47066289, 0.04401214, 0.17888575, ..., 0.59148034,\n",
       "         0.02319696, 0.62394195],\n",
       "        [0.47182912, 0.03881276, 0.17095976, ..., 0.61762988,\n",
       "         0.01907067, 0.62958485],\n",
       "        [0.42312487, 0.02339979, 0.16836884, ..., 0.53520064,\n",
       "         0.01764395, 0.6191052 ],\n",
       "        ...,\n",
       "        [0.45779591, 0.01631708, 0.15665033, ..., 0.58085942,\n",
       "         0.02021769, 0.59250307],\n",
       "        [0.44107565, 0.0104945 , 0.15415514, ..., 0.53864071,\n",
       "         0.01458649, 0.60016125],\n",
       "        [0.45650233, 0.00549213, 0.15683016, ..., 0.53533374,\n",
       "         0.01210591, 0.5961306 ]],\n",
       "\n",
       "       [[0.47182912, 0.03881276, 0.17095976, ..., 0.61762988,\n",
       "         0.01907067, 0.62958485],\n",
       "        [0.42312487, 0.02339979, 0.16836884, ..., 0.53520064,\n",
       "         0.01764395, 0.6191052 ],\n",
       "        [0.48099462, 0.01463686, 0.17323307, ..., 0.58085942,\n",
       "         0.0262821 , 0.61588073],\n",
       "        ...,\n",
       "        [0.44107565, 0.0104945 , 0.15415514, ..., 0.53864071,\n",
       "         0.01458649, 0.60016125],\n",
       "        [0.45650233, 0.00549213, 0.15683016, ..., 0.53533374,\n",
       "         0.01210591, 0.5961306 ],\n",
       "        [0.46554129, 0.00499543, 0.15286678, ..., 0.55417855,\n",
       "         0.0125509 , 0.58806931]]])"
      ]
     },
     "execution_count": 128,
     "metadata": {},
     "output_type": "execute_result"
    }
   ],
   "source": [
    "# Exibe algumas das sequências temporais de features que serão utilizadas no treinamento da rede neural.\n",
    "train_test_data[random_ticker]['X_train_scaled_sequences']"
   ]
  },
  {
   "cell_type": "code",
   "execution_count": 129,
   "metadata": {},
   "outputs": [
    {
     "data": {
      "text/plain": [
       "13"
      ]
     },
     "execution_count": 129,
     "metadata": {},
     "output_type": "execute_result"
    }
   ],
   "source": [
    "# Exibe a quantidade de sequências temporais de features que serão utilizadas no teste da rede neural.\n",
    "len(train_test_data[random_ticker]['X_test_scaled_sequences']) "
   ]
  },
  {
   "cell_type": "code",
   "execution_count": 130,
   "metadata": {},
   "outputs": [
    {
     "data": {
      "text/plain": [
       "array([[[0.53083008, 0.01415972, 0.15922519, 0.09605425, 0.75168297,\n",
       "         0.02159297, 0.62837567],\n",
       "        [0.49721534, 0.03271493, 0.17254967, 0.10165955, 0.80919624,\n",
       "         0.02720062, 0.64248291],\n",
       "        [0.43162619, 0.04278201, 0.17455761, 0.10536528, 0.72837459,\n",
       "         0.02484966, 0.61467152],\n",
       "        [0.49922749, 0.06091666, 0.18056346, 0.11040994, 0.78890227,\n",
       "         0.03194244, 0.62192663],\n",
       "        [0.50724933, 0.08505372, 0.18709543, 0.11703399, 0.85039576,\n",
       "         0.0405899 , 0.64852884],\n",
       "        [0.44072058, 0.0973194 , 0.18904395, 0.12198924, 0.79809785,\n",
       "         0.03487771, 0.63845226],\n",
       "        [0.45321104, 0.10539334, 0.19100501, 0.12607431, 0.78398138,\n",
       "         0.02648161, 0.63240632]],\n",
       "\n",
       "       [[0.49721534, 0.03271493, 0.17254967, 0.10165955, 0.80919624,\n",
       "         0.02720062, 0.64248291],\n",
       "        [0.43162619, 0.04278201, 0.17455761, 0.10536528, 0.72837459,\n",
       "         0.02484966, 0.61467152],\n",
       "        [0.49922749, 0.06091666, 0.18056346, 0.11040994, 0.78890227,\n",
       "         0.03194244, 0.62192663],\n",
       "        [0.50724933, 0.08505372, 0.18709543, 0.11703399, 0.85039576,\n",
       "         0.0405899 , 0.64852884],\n",
       "        [0.44072058, 0.0973194 , 0.18904395, 0.12198924, 0.79809785,\n",
       "         0.03487771, 0.63845226],\n",
       "        [0.45321104, 0.10539334, 0.19100501, 0.12607431, 0.78398138,\n",
       "         0.02648161, 0.63240632],\n",
       "        [0.4941065 , 0.1123318 , 0.19527159, 0.13129061, 0.83265051,\n",
       "         0.0283046 , 0.65618702]],\n",
       "\n",
       "       [[0.43162619, 0.04278201, 0.17455761, 0.10536528, 0.72837459,\n",
       "         0.02484966, 0.61467152],\n",
       "        [0.49922749, 0.06091666, 0.18056346, 0.11040994, 0.78890227,\n",
       "         0.03194244, 0.62192663],\n",
       "        [0.50724933, 0.08505372, 0.18709543, 0.11703399, 0.85039576,\n",
       "         0.0405899 , 0.64852884],\n",
       "        [0.44072058, 0.0973194 , 0.18904395, 0.12198924, 0.79809785,\n",
       "         0.03487771, 0.63845226],\n",
       "        [0.45321104, 0.10539334, 0.19100501, 0.12607431, 0.78398138,\n",
       "         0.02648161, 0.63240632],\n",
       "        [0.4941065 , 0.1123318 , 0.19527159, 0.13129061, 0.83265051,\n",
       "         0.0283046 , 0.65618702],\n",
       "        [0.4633946 , 0.11785088, 0.19444828, 0.13607326, 0.83986642,\n",
       "         0.03171509, 0.6509472 ]],\n",
       "\n",
       "       [[0.49922749, 0.06091666, 0.18056346, 0.11040994, 0.78890227,\n",
       "         0.03194244, 0.62192663],\n",
       "        [0.50724933, 0.08505372, 0.18709543, 0.11703399, 0.85039576,\n",
       "         0.0405899 , 0.64852884],\n",
       "        [0.44072058, 0.0973194 , 0.18904395, 0.12198924, 0.79809785,\n",
       "         0.03487771, 0.63845226],\n",
       "        [0.45321104, 0.10539334, 0.19100501, 0.12607431, 0.78398138,\n",
       "         0.02648161, 0.63240632],\n",
       "        [0.4941065 , 0.1123318 , 0.19527159, 0.13129061, 0.83265051,\n",
       "         0.0283046 , 0.65618702],\n",
       "        [0.4633946 , 0.11785088, 0.19444828, 0.13607326, 0.83986642,\n",
       "         0.03171509, 0.6509472 ],\n",
       "        [0.51271443, 0.1298187 , 0.20663719, 0.14283684, 0.90435297,\n",
       "         0.03659973, 0.67110036]],\n",
       "\n",
       "       [[0.50724933, 0.08505372, 0.18709543, 0.11703399, 0.85039576,\n",
       "         0.0405899 , 0.64852884],\n",
       "        [0.44072058, 0.0973194 , 0.18904395, 0.12198924, 0.79809785,\n",
       "         0.03487771, 0.63845226],\n",
       "        [0.45321104, 0.10539334, 0.19100501, 0.12607431, 0.78398138,\n",
       "         0.02648161, 0.63240632],\n",
       "        [0.4941065 , 0.1123318 , 0.19527159, 0.13129061, 0.83265051,\n",
       "         0.0283046 , 0.65618702],\n",
       "        [0.4633946 , 0.11785088, 0.19444828, 0.13607326, 0.83986642,\n",
       "         0.03171509, 0.6509472 ],\n",
       "        [0.51271443, 0.1298187 , 0.20663719, 0.14283684, 0.90435297,\n",
       "         0.03659973, 0.67110036],\n",
       "        [0.4469643 , 0.12782685, 0.20981417, 0.14817488, 0.86673814,\n",
       "         0.03082903, 0.67230954]],\n",
       "\n",
       "       [[0.44072058, 0.0973194 , 0.18904395, 0.12198924, 0.79809785,\n",
       "         0.03487771, 0.63845226],\n",
       "        [0.45321104, 0.10539334, 0.19100501, 0.12607431, 0.78398138,\n",
       "         0.02648161, 0.63240632],\n",
       "        [0.4941065 , 0.1123318 , 0.19527159, 0.13129061, 0.83265051,\n",
       "         0.0283046 , 0.65618702],\n",
       "        [0.4633946 , 0.11785088, 0.19444828, 0.13607326, 0.83986642,\n",
       "         0.03171509, 0.6509472 ],\n",
       "        [0.51271443, 0.1298187 , 0.20663719, 0.14283684, 0.90435297,\n",
       "         0.03659973, 0.67110036],\n",
       "        [0.4469643 , 0.12782685, 0.20981417, 0.14817488, 0.86673814,\n",
       "         0.03082903, 0.67230954],\n",
       "        [0.43038653, 0.1126157 , 0.20742302, 0.15149187, 0.77662581,\n",
       "         0.03131081, 0.66263603]],\n",
       "\n",
       "       [[0.45321104, 0.10539334, 0.19100501, 0.12607431, 0.78398138,\n",
       "         0.02648161, 0.63240632],\n",
       "        [0.4941065 , 0.1123318 , 0.19527159, 0.13129061, 0.83265051,\n",
       "         0.0283046 , 0.65618702],\n",
       "        [0.4633946 , 0.11785088, 0.19444828, 0.13607326, 0.83986642,\n",
       "         0.03171509, 0.6509472 ],\n",
       "        [0.51271443, 0.1298187 , 0.20663719, 0.14283684, 0.90435297,\n",
       "         0.03659973, 0.67110036],\n",
       "        [0.4469643 , 0.12782685, 0.20981417, 0.14817488, 0.86673814,\n",
       "         0.03082903, 0.67230954],\n",
       "        [0.43038653, 0.1126157 , 0.20742302, 0.15149187, 0.77662581,\n",
       "         0.03131081, 0.66263603],\n",
       "        [0.46441785, 0.09086319, 0.20342294, 0.15468084, 0.78633755,\n",
       "         0.02420014, 0.66263607]],\n",
       "\n",
       "       [[0.4941065 , 0.1123318 , 0.19527159, 0.13129061, 0.83265051,\n",
       "         0.0283046 , 0.65618702],\n",
       "        [0.4633946 , 0.11785088, 0.19444828, 0.13607326, 0.83986642,\n",
       "         0.03171509, 0.6509472 ],\n",
       "        [0.51271443, 0.1298187 , 0.20663719, 0.14283684, 0.90435297,\n",
       "         0.03659973, 0.67110036],\n",
       "        [0.4469643 , 0.12782685, 0.20981417, 0.14817488, 0.86673814,\n",
       "         0.03082903, 0.67230954],\n",
       "        [0.43038653, 0.1126157 , 0.20742302, 0.15149187, 0.77662581,\n",
       "         0.03131081, 0.66263603],\n",
       "        [0.46441785, 0.09086319, 0.20342294, 0.15468084, 0.78633755,\n",
       "         0.02420014, 0.66263607],\n",
       "        [0.42215294, 0.06216333, 0.19992382, 0.1557687 , 0.67740799,\n",
       "         0.02549901, 0.64167672]],\n",
       "\n",
       "       [[0.4633946 , 0.11785088, 0.19444828, 0.13607326, 0.83986642,\n",
       "         0.03171509, 0.6509472 ],\n",
       "        [0.51271443, 0.1298187 , 0.20663719, 0.14283684, 0.90435297,\n",
       "         0.03659973, 0.67110036],\n",
       "        [0.4469643 , 0.12782685, 0.20981417, 0.14817488, 0.86673814,\n",
       "         0.03082903, 0.67230954],\n",
       "        [0.43038653, 0.1126157 , 0.20742302, 0.15149187, 0.77662581,\n",
       "         0.03131081, 0.66263603],\n",
       "        [0.46441785, 0.09086319, 0.20342294, 0.15468084, 0.78633755,\n",
       "         0.02420014, 0.66263607],\n",
       "        [0.42215294, 0.06216333, 0.19992382, 0.1557687 , 0.67740799,\n",
       "         0.02549901, 0.64167672],\n",
       "        [0.49893596, 0.05108322, 0.191884  , 0.15864929, 0.74386605,\n",
       "         0.02704866, 0.63280936]],\n",
       "\n",
       "       [[0.51271443, 0.1298187 , 0.20663719, 0.14283684, 0.90435297,\n",
       "         0.03659973, 0.67110036],\n",
       "        [0.4469643 , 0.12782685, 0.20981417, 0.14817488, 0.86673814,\n",
       "         0.03082903, 0.67230954],\n",
       "        [0.43038653, 0.1126157 , 0.20742302, 0.15149187, 0.77662581,\n",
       "         0.03131081, 0.66263603],\n",
       "        [0.46441785, 0.09086319, 0.20342294, 0.15468084, 0.78633755,\n",
       "         0.02420014, 0.66263607],\n",
       "        [0.42215294, 0.06216333, 0.19992382, 0.1557687 , 0.67740799,\n",
       "         0.02549901, 0.64167672],\n",
       "        [0.49893596, 0.05108322, 0.191884  , 0.15864929, 0.74386605,\n",
       "         0.02704866, 0.63280936],\n",
       "        [0.45339981, 0.04476754, 0.18074577, 0.1609363 , 0.73064187,\n",
       "         0.0195553 , 0.61789602]],\n",
       "\n",
       "       [[0.4469643 , 0.12782685, 0.20981417, 0.14817488, 0.86673814,\n",
       "         0.03082903, 0.67230954],\n",
       "        [0.43038653, 0.1126157 , 0.20742302, 0.15149187, 0.77662581,\n",
       "         0.03131081, 0.66263603],\n",
       "        [0.46441785, 0.09086319, 0.20342294, 0.15468084, 0.78633755,\n",
       "         0.02420014, 0.66263607],\n",
       "        [0.42215294, 0.06216333, 0.19992382, 0.1557687 , 0.67740799,\n",
       "         0.02549901, 0.64167672],\n",
       "        [0.49893596, 0.05108322, 0.191884  , 0.15864929, 0.74386605,\n",
       "         0.02704866, 0.63280936],\n",
       "        [0.45339981, 0.04476754, 0.18074577, 0.1609363 , 0.73064187,\n",
       "         0.0195553 , 0.61789602],\n",
       "        [0.43562933, 0.02432997, 0.17291681, 0.16187094, 0.66505338,\n",
       "         0.01534561, 0.61870213]],\n",
       "\n",
       "       [[0.43038653, 0.1126157 , 0.20742302, 0.15149187, 0.77662581,\n",
       "         0.03131081, 0.66263603],\n",
       "        [0.46441785, 0.09086319, 0.20342294, 0.15468084, 0.78633755,\n",
       "         0.02420014, 0.66263607],\n",
       "        [0.42215294, 0.06216333, 0.19992382, 0.1557687 , 0.67740799,\n",
       "         0.02549901, 0.64167672],\n",
       "        [0.49893596, 0.05108322, 0.191884  , 0.15864929, 0.74386605,\n",
       "         0.02704866, 0.63280936],\n",
       "        [0.45339981, 0.04476754, 0.18074577, 0.1609363 , 0.73064187,\n",
       "         0.0195553 , 0.61789602],\n",
       "        [0.43562933, 0.02432997, 0.17291681, 0.16187094, 0.66505338,\n",
       "         0.01534561, 0.61870213],\n",
       "        [0.44434471, 0.01283357, 0.16076025, 0.16205249, 0.62712473,\n",
       "         0.01143661, 0.59975818]],\n",
       "\n",
       "       [[0.46441785, 0.09086319, 0.20342294, 0.15468084, 0.78633755,\n",
       "         0.02420014, 0.66263607],\n",
       "        [0.42215294, 0.06216333, 0.19992382, 0.1557687 , 0.67740799,\n",
       "         0.02549901, 0.64167672],\n",
       "        [0.49893596, 0.05108322, 0.191884  , 0.15864929, 0.74386605,\n",
       "         0.02704866, 0.63280936],\n",
       "        [0.45339981, 0.04476754, 0.18074577, 0.1609363 , 0.73064187,\n",
       "         0.0195553 , 0.61789602],\n",
       "        [0.43562933, 0.02432997, 0.17291681, 0.16187094, 0.66505338,\n",
       "         0.01534561, 0.61870213],\n",
       "        [0.44434471, 0.01283357, 0.16076025, 0.16205249, 0.62712473,\n",
       "         0.01143661, 0.59975818],\n",
       "        [0.45666975, 0.01195189, 0.14664802, 0.16215747, 0.62387317,\n",
       "         0.00608908, 0.58202337]]])"
      ]
     },
     "execution_count": 130,
     "metadata": {},
     "output_type": "execute_result"
    }
   ],
   "source": [
    "# Exibe algumas das sequências temporais de features que serão utilizadas no teste da rede neural.\n",
    "train_test_data[random_ticker]['X_test_scaled_sequences']"
   ]
  },
  {
   "cell_type": "code",
   "execution_count": 131,
   "metadata": {},
   "outputs": [
    {
     "data": {
      "text/plain": [
       "1217"
      ]
     },
     "execution_count": 131,
     "metadata": {},
     "output_type": "execute_result"
    }
   ],
   "source": [
    "# Exibe a quantidade de valores alvo que serão utilizados no treinamento da rede neural.\n",
    "len(train_test_data[random_ticker]['y_train_scaled_sequences'])"
   ]
  },
  {
   "cell_type": "code",
   "execution_count": 132,
   "metadata": {},
   "outputs": [
    {
     "data": {
      "text/plain": [
       "array([[0.96693498],\n",
       "       [0.99099723],\n",
       "       [1.        ],\n",
       "       ...,\n",
       "       [0.11422764],\n",
       "       [0.11641729],\n",
       "       [0.1237162 ]])"
      ]
     },
     "execution_count": 132,
     "metadata": {},
     "output_type": "execute_result"
    }
   ],
   "source": [
    "# Exibe alguns dos valores alvos que serão utilizados no treinamento da rede neural.\n",
    "train_test_data[random_ticker]['y_train_scaled_sequences']"
   ]
  },
  {
   "cell_type": "code",
   "execution_count": 133,
   "metadata": {},
   "outputs": [
    {
     "data": {
      "text/plain": [
       "13"
      ]
     },
     "execution_count": 133,
     "metadata": {},
     "output_type": "execute_result"
    }
   ],
   "source": [
    "# Exibe a quantidade de valores alvo que serão utilizados no teste da rede neural.\n",
    "len(train_test_data[random_ticker]['y_test_scaled_sequences'])"
   ]
  },
  {
   "cell_type": "code",
   "execution_count": 134,
   "metadata": {},
   "outputs": [
    {
     "data": {
      "text/plain": [
       "array([[0.18247226],\n",
       "       [0.18429699],\n",
       "       [0.20254422],\n",
       "       [0.19889476],\n",
       "       [0.18977114],\n",
       "       [0.19196083],\n",
       "       [0.18028258],\n",
       "       [0.19378555],\n",
       "       [0.19232578],\n",
       "       [0.18502686],\n",
       "       [0.18064753],\n",
       "       [0.18028258],\n",
       "       [0.17152392]])"
      ]
     },
     "execution_count": 134,
     "metadata": {},
     "output_type": "execute_result"
    }
   ],
   "source": [
    "# Exibe alguns dos valores alvos que serão utilizados no teste da rede neural.\n",
    "train_test_data[random_ticker]['y_test_scaled_sequences']"
   ]
  },
  {
   "cell_type": "markdown",
   "metadata": {},
   "source": [
    "# **Criando a rede neural**"
   ]
  },
  {
   "cell_type": "code",
   "execution_count": 135,
   "metadata": {},
   "outputs": [
    {
     "name": "stderr",
     "output_type": "stream",
     "text": [
      "/home/user/.local/lib/python3.10/site-packages/keras/src/layers/rnn/rnn.py:204: UserWarning:\n",
      "\n",
      "Do not pass an `input_shape`/`input_dim` argument to a layer. When using Sequential models, prefer using an `Input(shape)` object as the first layer in the model instead.\n",
      "\n"
     ]
    }
   ],
   "source": [
    "\"\"\"\n",
    "    Este código define, constrói e compila um modelo LSTM (Long Short-Term Memory) para previsões de séries temporais.\n",
    "\n",
    "    Parâmetros dos métodos utilizados:\n",
    "    1. `LSTM`:\n",
    "        - `units`: Número de neurônios na camada LSTM.\n",
    "        - `return_sequences`: Se `True`, retorna a sequência completa de saídas para cada unidade LSTM; se `False`, retorna apenas \n",
    "           a saída final.\n",
    "        - `input_shape`: Tupla que define a forma da entrada (tamanho da sequência de tempo, número de features).\n",
    "\n",
    "    2. `Dropout`:\n",
    "        - `rate`: Fração de neurônios a serem descartados durante o treinamento para evitar overfitting.\n",
    "\n",
    "    3. `Dense`:\n",
    "        - `units`: Número de neurônios na camada densa (totalmente conectada). No contexto de regressão, geralmente é 1.\n",
    "\n",
    "    4. `compile`:\n",
    "        - `optimizer`: Algoritmo de otimização utilizado para ajustar os pesos do modelo. 'adam' é uma escolha comum para LSTM.\n",
    "        - `loss`: Função de perda que o modelo tentará minimizar durante o treinamento. Neste caso, 'mean_squared_error' (erro quadrático médio) é usado para problemas de regressão.\n",
    "\"\"\"\n",
    "\n",
    "# Como os DataFrames de todos os tickers possuem o mesmo número de features, podemos escolher um ticker aleatório para obter o número de\n",
    "# features de todos os Dataframes.\n",
    "random_ticker = list(train_test_data.keys())[np.random.randint(0, len(train_test_data.keys()))]\n",
    "    \n",
    "# Define o número de features\n",
    "n_features = train_test_data[random_ticker]['X_test'].shape[1]\n",
    "\n",
    "# Definindo o modelo LSTM\n",
    "# Utilizamos o modelo 'Sequential', que permite empilhar camadas de forma linear. Esse tipo de modelo é adequado para a maioria das \n",
    "# arquiteturas de rede neural onde as camadas são adicionadas uma após a outra.\n",
    "model = Sequential()\n",
    "\n",
    "# Adiciona a primeira camada LSTM com 50 unidades (neurônios).\n",
    "model.add(LSTM(units=50, return_sequences=True, input_shape=(setup['sequence_length'], n_features)))\n",
    "\n",
    "# Adiciona uma camada de Dropout. Tal camada é usada para evitar overfitting durante o treinamento do modelo. Ao definir `rate=0.2`, \n",
    "# estamos especificando que 20% dos neurônios da camada anterior serão desligados aleatoriamente em cada atualização do ciclo de treinamento.\n",
    "model.add(Dropout(0.2))\n",
    "\n",
    "# Adiciona uma segunda LSTM. Ao definirmos`return_sequences=False` indicamos que esta é a última camada LSTM na rede, e \n",
    "# ela só retorna a última saída em vez de toda a sequência.\n",
    "model.add(LSTM(units=50, return_sequences=False))\n",
    "\n",
    "# Adiciona uma segunda camada de Dropout. Assim como antes, 20% dos neurônios serão desativados em cada iteração de treinamento.\n",
    "model.add(Dropout(0.2))\n",
    "\n",
    "# Adiciona a camada de saída. Tal camada é uma camada densa totalmente conectada com um único neurônio (units=1). Isso é adequado para \n",
    "# problemas de regressão onde a previsão final é um único valor contínuo.\n",
    "model.add(Dense(units=1))\n",
    "\n",
    "# Compila o modelo criado. O modelo é compilado com o otimizador 'adam', que é eficiente para grandes volumes de dados e adequado para\n",
    "# problemas de regressão. Além disso, setamos a função de perda como sendo a 'mean_squared_error' (MSE), que é uma escolha comum para medir \n",
    "# o erro médio ao quadrado entre as previsões e os valores reais.\n",
    "model.compile(optimizer='adam', loss='mean_squared_error')\n",
    "\n",
    "# A variável 'model' agora contém o modelo LSTM compilado e pode ser usada para treinamento e previsões."
   ]
  },
  {
   "cell_type": "code",
   "execution_count": 136,
   "metadata": {},
   "outputs": [],
   "source": [
    "def train_model_and_get_results(model: Sequential, train_test_data: dict) -> dict:\n",
    "   '''\n",
    "      Description:\n",
    "         Esta função treina um modelo LSTM para cada ticker presente no dicionário `train_test_data`. O modelo é treinado usando os dados de\n",
    "         treinamento normalizados e as sequências temporais geradas previamente. Após o treinamento, o modelo realiza previsões com os dados \n",
    "         de teste disponíveis e avalia o desempenho usando a métrica Root Mean Squared Error (RMSE). As previsões e os valores de RMSE para\n",
    "         cada ticker são armazenados no dicionário `train_test_data`.\n",
    "      \n",
    "      Args:\n",
    "         model (Sequential): O modelo LSTM a ser treinado. Deve ser uma instância da classe Sequential da biblioteca keras.\n",
    "         train_test_data (dict): Um dicionário contendo os dados de treino e teste para cada ticker. Cada chave é um ticker, e os valores \n",
    "         são dicionários com as chaves 'X_train_scaled_sequences', 'X_test_scaled_sequence', 'y_train_scaled_sequences', 'y_test_scaled_sequence',\n",
    "         'predicted', 'RMSE', entre outras.\n",
    "\n",
    "      Return:\n",
    "         train_test_data (dict): O mesmo dicionário de entrada, mas com as previsões e métricas de avaliação (RMSE) adicionadas nas chaves \n",
    "         'predicted' e 'RMSE' de cada ticker.\n",
    "   '''\n",
    "   \n",
    "   # Itera sobre cada ticker presente em \"train_test_data.keys()\".\n",
    "   for ticker in train_test_data.keys():\n",
    "      \n",
    "      \"\"\"\n",
    "         Este código treina o modelo LSTM usando o método `fit` do módulo Keras da biblioteca tensorflow.\n",
    "\n",
    "         Parâmetros do método `fit`:\n",
    "         1. `x`: Dados de entrada para treinamento. No contexto de séries temporais com LSTM, este é um array de sequências escaladas.\n",
    "         2. `y`: Dados de saída (alvo) para treinamento. Correspondem aos valores que o modelo deve prever com base nos dados de entrada.\n",
    "         3. `epochs`: Número de vezes que o modelo passará por todo o conjunto de dados de treinamento. Um número maior de épocas pode melhorar o \n",
    "            ajuste do modelo, mas também aumenta o risco de overfitting.\n",
    "         4. `batch_size`: Número de amostras que o modelo processa antes de atualizar os pesos. Tamanhos de batch menores podem resultar em um \n",
    "            treinamento mais ruidoso, mas permitem uma melhor generalização.\n",
    "         5. `validation_split`: Proporção dos dados de treinamento que será usada para validação. Ajuda a monitorar a performance do modelo em \n",
    "            dados que ele não viu durante o treinamento.\n",
    "         6. `verbose`: Nível de verbosidade do processo de treinamento. `verbose=1` exibe uma barra de progresso detalhada durante o treinamento.\n",
    "      \"\"\"\n",
    "\n",
    "      # Treina o modelo\n",
    "      # O método `fit` treina o modelo LSTM usando os dados de entrada (`X_train_scaled_sequence`) e as saídas correspondentes \n",
    "      # (`y_train_scaled_sequence`).\n",
    "      model.fit(\n",
    "         train_test_data[ticker]['X_train_scaled_sequences'],  # Dados de entrada de treino (sequências temporais)\n",
    "         train_test_data[ticker]['y_train_scaled_sequences'],  # Dados de saída de treino (valores de previsão para cada sequência)\n",
    "         epochs=50,  # Número de épocas: o modelo passará 50 vezes por todo o conjunto de dados de treinamento\n",
    "         batch_size=32,  # Tamanho do batch: o modelo ajusta os pesos após processar cada lote de 32 amostras\n",
    "         validation_split=0.2,  # 20% dos dados de treinamento serão usados para validação.\n",
    "         verbose=1  # Nível de verbosidade: 1 mostra uma barra de progresso e resultados após cada época\n",
    "      )\n",
    "      \n",
    "      \"\"\"\n",
    "            Este bloco de código faz previsões sobre um conjunto de dados de teste usando o modelo LSTM treinado acima, e, em seguida,\n",
    "            avalia a precisão dessas previsões usando a métrica de Root Mean Squared Error (RMSE).\n",
    "      \"\"\"\n",
    "\n",
    "      \n",
    "      # Realiza a previsão de valores para dados não vistos até então.\n",
    "      train_test_data[ticker]['predicted'] = model.predict(train_test_data[ticker]['X_test_scaled_sequences'])\n",
    "\n",
    "      # Avalia, utilizando a métrica RMSE, o resultado das previsões feitas acima.\n",
    "      train_test_data[ticker]['RMSE'] = np.sqrt(mean_squared_error(train_test_data[ticker]['y_test_scaled_sequences'],\n",
    "                                                                  train_test_data[ticker]['predicted']))\n",
    "   \n",
    "   return train_test_data"
   ]
  },
  {
   "cell_type": "code",
   "execution_count": 137,
   "metadata": {},
   "outputs": [
    {
     "name": "stdout",
     "output_type": "stream",
     "text": [
      "Epoch 1/50\n",
      "\u001b[1m31/31\u001b[0m \u001b[32m━━━━━━━━━━━━━━━━━━━━\u001b[0m\u001b[37m\u001b[0m \u001b[1m6s\u001b[0m 35ms/step - loss: 0.1197 - val_loss: 0.0041\n",
      "Epoch 2/50\n",
      "\u001b[1m31/31\u001b[0m \u001b[32m━━━━━━━━━━━━━━━━━━━━\u001b[0m\u001b[37m\u001b[0m \u001b[1m0s\u001b[0m 14ms/step - loss: 0.0159 - val_loss: 9.9603e-04\n",
      "Epoch 3/50\n",
      "\u001b[1m31/31\u001b[0m \u001b[32m━━━━━━━━━━━━━━━━━━━━\u001b[0m\u001b[37m\u001b[0m \u001b[1m0s\u001b[0m 15ms/step - loss: 0.0085 - val_loss: 0.0011\n",
      "Epoch 4/50\n",
      "\u001b[1m31/31\u001b[0m \u001b[32m━━━━━━━━━━━━━━━━━━━━\u001b[0m\u001b[37m\u001b[0m \u001b[1m0s\u001b[0m 14ms/step - loss: 0.0072 - val_loss: 8.9435e-04\n",
      "Epoch 5/50\n",
      "\u001b[1m31/31\u001b[0m \u001b[32m━━━━━━━━━━━━━━━━━━━━\u001b[0m\u001b[37m\u001b[0m \u001b[1m0s\u001b[0m 14ms/step - loss: 0.0063 - val_loss: 8.2165e-04\n",
      "Epoch 6/50\n",
      "\u001b[1m31/31\u001b[0m \u001b[32m━━━━━━━━━━━━━━━━━━━━\u001b[0m\u001b[37m\u001b[0m \u001b[1m0s\u001b[0m 14ms/step - loss: 0.0055 - val_loss: 0.0011\n",
      "Epoch 7/50\n",
      "\u001b[1m31/31\u001b[0m \u001b[32m━━━━━━━━━━━━━━━━━━━━\u001b[0m\u001b[37m\u001b[0m \u001b[1m0s\u001b[0m 14ms/step - loss: 0.0059 - val_loss: 0.0017\n",
      "Epoch 8/50\n",
      "\u001b[1m31/31\u001b[0m \u001b[32m━━━━━━━━━━━━━━━━━━━━\u001b[0m\u001b[37m\u001b[0m \u001b[1m0s\u001b[0m 14ms/step - loss: 0.0054 - val_loss: 7.0298e-04\n",
      "Epoch 9/50\n",
      "\u001b[1m31/31\u001b[0m \u001b[32m━━━━━━━━━━━━━━━━━━━━\u001b[0m\u001b[37m\u001b[0m \u001b[1m0s\u001b[0m 14ms/step - loss: 0.0059 - val_loss: 6.8150e-04\n",
      "Epoch 10/50\n",
      "\u001b[1m31/31\u001b[0m \u001b[32m━━━━━━━━━━━━━━━━━━━━\u001b[0m\u001b[37m\u001b[0m \u001b[1m0s\u001b[0m 14ms/step - loss: 0.0056 - val_loss: 6.5233e-04\n",
      "Epoch 11/50\n",
      "\u001b[1m31/31\u001b[0m \u001b[32m━━━━━━━━━━━━━━━━━━━━\u001b[0m\u001b[37m\u001b[0m \u001b[1m0s\u001b[0m 14ms/step - loss: 0.0041 - val_loss: 6.7799e-04\n",
      "Epoch 12/50\n",
      "\u001b[1m31/31\u001b[0m \u001b[32m━━━━━━━━━━━━━━━━━━━━\u001b[0m\u001b[37m\u001b[0m \u001b[1m0s\u001b[0m 14ms/step - loss: 0.0049 - val_loss: 6.8800e-04\n",
      "Epoch 13/50\n",
      "\u001b[1m31/31\u001b[0m \u001b[32m━━━━━━━━━━━━━━━━━━━━\u001b[0m\u001b[37m\u001b[0m \u001b[1m0s\u001b[0m 13ms/step - loss: 0.0054 - val_loss: 7.7544e-04\n",
      "Epoch 14/50\n",
      "\u001b[1m31/31\u001b[0m \u001b[32m━━━━━━━━━━━━━━━━━━━━\u001b[0m\u001b[37m\u001b[0m \u001b[1m0s\u001b[0m 14ms/step - loss: 0.0051 - val_loss: 6.5980e-04\n",
      "Epoch 15/50\n",
      "\u001b[1m31/31\u001b[0m \u001b[32m━━━━━━━━━━━━━━━━━━━━\u001b[0m\u001b[37m\u001b[0m \u001b[1m0s\u001b[0m 14ms/step - loss: 0.0047 - val_loss: 6.6985e-04\n",
      "Epoch 16/50\n",
      "\u001b[1m31/31\u001b[0m \u001b[32m━━━━━━━━━━━━━━━━━━━━\u001b[0m\u001b[37m\u001b[0m \u001b[1m0s\u001b[0m 14ms/step - loss: 0.0044 - val_loss: 7.4878e-04\n",
      "Epoch 17/50\n",
      "\u001b[1m31/31\u001b[0m \u001b[32m━━━━━━━━━━━━━━━━━━━━\u001b[0m\u001b[37m\u001b[0m \u001b[1m0s\u001b[0m 14ms/step - loss: 0.0046 - val_loss: 8.6941e-04\n",
      "Epoch 18/50\n",
      "\u001b[1m31/31\u001b[0m \u001b[32m━━━━━━━━━━━━━━━━━━━━\u001b[0m\u001b[37m\u001b[0m \u001b[1m0s\u001b[0m 14ms/step - loss: 0.0046 - val_loss: 6.0077e-04\n",
      "Epoch 19/50\n",
      "\u001b[1m31/31\u001b[0m \u001b[32m━━━━━━━━━━━━━━━━━━━━\u001b[0m\u001b[37m\u001b[0m \u001b[1m0s\u001b[0m 14ms/step - loss: 0.0038 - val_loss: 6.7821e-04\n",
      "Epoch 20/50\n",
      "\u001b[1m31/31\u001b[0m \u001b[32m━━━━━━━━━━━━━━━━━━━━\u001b[0m\u001b[37m\u001b[0m \u001b[1m1s\u001b[0m 15ms/step - loss: 0.0045 - val_loss: 9.6349e-04\n",
      "Epoch 21/50\n",
      "\u001b[1m31/31\u001b[0m \u001b[32m━━━━━━━━━━━━━━━━━━━━\u001b[0m\u001b[37m\u001b[0m \u001b[1m1s\u001b[0m 14ms/step - loss: 0.0041 - val_loss: 5.9127e-04\n",
      "Epoch 22/50\n",
      "\u001b[1m31/31\u001b[0m \u001b[32m━━━━━━━━━━━━━━━━━━━━\u001b[0m\u001b[37m\u001b[0m \u001b[1m1s\u001b[0m 17ms/step - loss: 0.0038 - val_loss: 6.4901e-04\n",
      "Epoch 23/50\n",
      "\u001b[1m31/31\u001b[0m \u001b[32m━━━━━━━━━━━━━━━━━━━━\u001b[0m\u001b[37m\u001b[0m \u001b[1m1s\u001b[0m 24ms/step - loss: 0.0037 - val_loss: 6.6591e-04\n",
      "Epoch 24/50\n",
      "\u001b[1m31/31\u001b[0m \u001b[32m━━━━━━━━━━━━━━━━━━━━\u001b[0m\u001b[37m\u001b[0m \u001b[1m0s\u001b[0m 14ms/step - loss: 0.0042 - val_loss: 6.1195e-04\n",
      "Epoch 25/50\n",
      "\u001b[1m31/31\u001b[0m \u001b[32m━━━━━━━━━━━━━━━━━━━━\u001b[0m\u001b[37m\u001b[0m \u001b[1m0s\u001b[0m 14ms/step - loss: 0.0041 - val_loss: 5.8890e-04\n",
      "Epoch 26/50\n",
      "\u001b[1m31/31\u001b[0m \u001b[32m━━━━━━━━━━━━━━━━━━━━\u001b[0m\u001b[37m\u001b[0m \u001b[1m0s\u001b[0m 14ms/step - loss: 0.0046 - val_loss: 5.9819e-04\n",
      "Epoch 27/50\n",
      "\u001b[1m31/31\u001b[0m \u001b[32m━━━━━━━━━━━━━━━━━━━━\u001b[0m\u001b[37m\u001b[0m \u001b[1m0s\u001b[0m 14ms/step - loss: 0.0037 - val_loss: 0.0010\n",
      "Epoch 28/50\n",
      "\u001b[1m31/31\u001b[0m \u001b[32m━━━━━━━━━━━━━━━━━━━━\u001b[0m\u001b[37m\u001b[0m \u001b[1m0s\u001b[0m 14ms/step - loss: 0.0040 - val_loss: 7.6867e-04\n",
      "Epoch 29/50\n",
      "\u001b[1m31/31\u001b[0m \u001b[32m━━━━━━━━━━━━━━━━━━━━\u001b[0m\u001b[37m\u001b[0m \u001b[1m0s\u001b[0m 13ms/step - loss: 0.0038 - val_loss: 8.4862e-04\n",
      "Epoch 30/50\n",
      "\u001b[1m31/31\u001b[0m \u001b[32m━━━━━━━━━━━━━━━━━━━━\u001b[0m\u001b[37m\u001b[0m \u001b[1m0s\u001b[0m 13ms/step - loss: 0.0039 - val_loss: 0.0013\n",
      "Epoch 31/50\n",
      "\u001b[1m31/31\u001b[0m \u001b[32m━━━━━━━━━━━━━━━━━━━━\u001b[0m\u001b[37m\u001b[0m \u001b[1m0s\u001b[0m 13ms/step - loss: 0.0035 - val_loss: 5.6292e-04\n",
      "Epoch 32/50\n",
      "\u001b[1m31/31\u001b[0m \u001b[32m━━━━━━━━━━━━━━━━━━━━\u001b[0m\u001b[37m\u001b[0m \u001b[1m0s\u001b[0m 14ms/step - loss: 0.0032 - val_loss: 5.7272e-04\n",
      "Epoch 33/50\n",
      "\u001b[1m31/31\u001b[0m \u001b[32m━━━━━━━━━━━━━━━━━━━━\u001b[0m\u001b[37m\u001b[0m \u001b[1m0s\u001b[0m 13ms/step - loss: 0.0032 - val_loss: 5.4920e-04\n",
      "Epoch 34/50\n",
      "\u001b[1m31/31\u001b[0m \u001b[32m━━━━━━━━━━━━━━━━━━━━\u001b[0m\u001b[37m\u001b[0m \u001b[1m1s\u001b[0m 18ms/step - loss: 0.0037 - val_loss: 4.9227e-04\n",
      "Epoch 35/50\n",
      "\u001b[1m31/31\u001b[0m \u001b[32m━━━━━━━━━━━━━━━━━━━━\u001b[0m\u001b[37m\u001b[0m \u001b[1m0s\u001b[0m 14ms/step - loss: 0.0032 - val_loss: 7.0269e-04\n",
      "Epoch 36/50\n",
      "\u001b[1m31/31\u001b[0m \u001b[32m━━━━━━━━━━━━━━━━━━━━\u001b[0m\u001b[37m\u001b[0m \u001b[1m0s\u001b[0m 14ms/step - loss: 0.0031 - val_loss: 5.8417e-04\n",
      "Epoch 37/50\n",
      "\u001b[1m31/31\u001b[0m \u001b[32m━━━━━━━━━━━━━━━━━━━━\u001b[0m\u001b[37m\u001b[0m \u001b[1m0s\u001b[0m 14ms/step - loss: 0.0035 - val_loss: 6.5495e-04\n",
      "Epoch 38/50\n",
      "\u001b[1m31/31\u001b[0m \u001b[32m━━━━━━━━━━━━━━━━━━━━\u001b[0m\u001b[37m\u001b[0m \u001b[1m0s\u001b[0m 13ms/step - loss: 0.0030 - val_loss: 5.3711e-04\n",
      "Epoch 39/50\n",
      "\u001b[1m31/31\u001b[0m \u001b[32m━━━━━━━━━━━━━━━━━━━━\u001b[0m\u001b[37m\u001b[0m \u001b[1m0s\u001b[0m 13ms/step - loss: 0.0031 - val_loss: 0.0011\n",
      "Epoch 40/50\n",
      "\u001b[1m31/31\u001b[0m \u001b[32m━━━━━━━━━━━━━━━━━━━━\u001b[0m\u001b[37m\u001b[0m \u001b[1m0s\u001b[0m 14ms/step - loss: 0.0035 - val_loss: 6.6851e-04\n",
      "Epoch 41/50\n",
      "\u001b[1m31/31\u001b[0m \u001b[32m━━━━━━━━━━━━━━━━━━━━\u001b[0m\u001b[37m\u001b[0m \u001b[1m0s\u001b[0m 14ms/step - loss: 0.0034 - val_loss: 7.8675e-04\n",
      "Epoch 42/50\n",
      "\u001b[1m31/31\u001b[0m \u001b[32m━━━━━━━━━━━━━━━━━━━━\u001b[0m\u001b[37m\u001b[0m \u001b[1m1s\u001b[0m 18ms/step - loss: 0.0030 - val_loss: 8.5777e-04\n",
      "Epoch 43/50\n",
      "\u001b[1m31/31\u001b[0m \u001b[32m━━━━━━━━━━━━━━━━━━━━\u001b[0m\u001b[37m\u001b[0m \u001b[1m0s\u001b[0m 14ms/step - loss: 0.0031 - val_loss: 6.9594e-04\n",
      "Epoch 44/50\n",
      "\u001b[1m31/31\u001b[0m \u001b[32m━━━━━━━━━━━━━━━━━━━━\u001b[0m\u001b[37m\u001b[0m \u001b[1m0s\u001b[0m 14ms/step - loss: 0.0030 - val_loss: 8.2360e-04\n",
      "Epoch 45/50\n",
      "\u001b[1m31/31\u001b[0m \u001b[32m━━━━━━━━━━━━━━━━━━━━\u001b[0m\u001b[37m\u001b[0m \u001b[1m0s\u001b[0m 13ms/step - loss: 0.0028 - val_loss: 5.9645e-04\n",
      "Epoch 46/50\n",
      "\u001b[1m31/31\u001b[0m \u001b[32m━━━━━━━━━━━━━━━━━━━━\u001b[0m\u001b[37m\u001b[0m \u001b[1m1s\u001b[0m 15ms/step - loss: 0.0029 - val_loss: 9.5417e-04\n",
      "Epoch 47/50\n",
      "\u001b[1m31/31\u001b[0m \u001b[32m━━━━━━━━━━━━━━━━━━━━\u001b[0m\u001b[37m\u001b[0m \u001b[1m0s\u001b[0m 14ms/step - loss: 0.0029 - val_loss: 4.7723e-04\n",
      "Epoch 48/50\n",
      "\u001b[1m31/31\u001b[0m \u001b[32m━━━━━━━━━━━━━━━━━━━━\u001b[0m\u001b[37m\u001b[0m \u001b[1m0s\u001b[0m 14ms/step - loss: 0.0029 - val_loss: 7.8041e-04\n",
      "Epoch 49/50\n",
      "\u001b[1m31/31\u001b[0m \u001b[32m━━━━━━━━━━━━━━━━━━━━\u001b[0m\u001b[37m\u001b[0m \u001b[1m0s\u001b[0m 14ms/step - loss: 0.0029 - val_loss: 7.3314e-04\n",
      "Epoch 50/50\n",
      "\u001b[1m31/31\u001b[0m \u001b[32m━━━━━━━━━━━━━━━━━━━━\u001b[0m\u001b[37m\u001b[0m \u001b[1m1s\u001b[0m 18ms/step - loss: 0.0027 - val_loss: 5.0597e-04\n",
      "\u001b[1m1/1\u001b[0m \u001b[32m━━━━━━━━━━━━━━━━━━━━\u001b[0m\u001b[37m\u001b[0m \u001b[1m0s\u001b[0m 441ms/step\n",
      "Epoch 1/50\n",
      "\u001b[1m31/31\u001b[0m \u001b[32m━━━━━━━━━━━━━━━━━━━━\u001b[0m\u001b[37m\u001b[0m \u001b[1m1s\u001b[0m 16ms/step - loss: 0.0052 - val_loss: 7.1701e-04\n",
      "Epoch 2/50\n",
      "\u001b[1m31/31\u001b[0m \u001b[32m━━━━━━━━━━━━━━━━━━━━\u001b[0m\u001b[37m\u001b[0m \u001b[1m0s\u001b[0m 13ms/step - loss: 0.0026 - val_loss: 6.0150e-04\n",
      "Epoch 3/50\n",
      "\u001b[1m31/31\u001b[0m \u001b[32m━━━━━━━━━━━━━━━━━━━━\u001b[0m\u001b[37m\u001b[0m \u001b[1m0s\u001b[0m 13ms/step - loss: 0.0025 - val_loss: 6.1272e-04\n",
      "Epoch 4/50\n",
      "\u001b[1m31/31\u001b[0m \u001b[32m━━━━━━━━━━━━━━━━━━━━\u001b[0m\u001b[37m\u001b[0m \u001b[1m0s\u001b[0m 14ms/step - loss: 0.0023 - val_loss: 4.5078e-04\n",
      "Epoch 5/50\n",
      "\u001b[1m31/31\u001b[0m \u001b[32m━━━━━━━━━━━━━━━━━━━━\u001b[0m\u001b[37m\u001b[0m \u001b[1m0s\u001b[0m 14ms/step - loss: 0.0023 - val_loss: 4.8986e-04\n",
      "Epoch 6/50\n",
      "\u001b[1m31/31\u001b[0m \u001b[32m━━━━━━━━━━━━━━━━━━━━\u001b[0m\u001b[37m\u001b[0m \u001b[1m0s\u001b[0m 14ms/step - loss: 0.0024 - val_loss: 0.0010\n",
      "Epoch 7/50\n",
      "\u001b[1m31/31\u001b[0m \u001b[32m━━━━━━━━━━━━━━━━━━━━\u001b[0m\u001b[37m\u001b[0m \u001b[1m1s\u001b[0m 13ms/step - loss: 0.0023 - val_loss: 0.0011\n",
      "Epoch 8/50\n",
      "\u001b[1m31/31\u001b[0m \u001b[32m━━━━━━━━━━━━━━━━━━━━\u001b[0m\u001b[37m\u001b[0m \u001b[1m0s\u001b[0m 14ms/step - loss: 0.0029 - val_loss: 0.0010\n",
      "Epoch 9/50\n",
      "\u001b[1m31/31\u001b[0m \u001b[32m━━━━━━━━━━━━━━━━━━━━\u001b[0m\u001b[37m\u001b[0m \u001b[1m1s\u001b[0m 15ms/step - loss: 0.0026 - val_loss: 7.9733e-04\n",
      "Epoch 10/50\n",
      "\u001b[1m31/31\u001b[0m \u001b[32m━━━━━━━━━━━━━━━━━━━━\u001b[0m\u001b[37m\u001b[0m \u001b[1m0s\u001b[0m 15ms/step - loss: 0.0024 - val_loss: 4.8847e-04\n",
      "Epoch 11/50\n",
      "\u001b[1m31/31\u001b[0m \u001b[32m━━━━━━━━━━━━━━━━━━━━\u001b[0m\u001b[37m\u001b[0m \u001b[1m0s\u001b[0m 13ms/step - loss: 0.0022 - val_loss: 3.8411e-04\n",
      "Epoch 12/50\n",
      "\u001b[1m31/31\u001b[0m \u001b[32m━━━━━━━━━━━━━━━━━━━━\u001b[0m\u001b[37m\u001b[0m \u001b[1m0s\u001b[0m 14ms/step - loss: 0.0021 - val_loss: 4.6240e-04\n",
      "Epoch 13/50\n",
      "\u001b[1m31/31\u001b[0m \u001b[32m━━━━━━━━━━━━━━━━━━━━\u001b[0m\u001b[37m\u001b[0m \u001b[1m0s\u001b[0m 13ms/step - loss: 0.0020 - val_loss: 9.4952e-04\n",
      "Epoch 14/50\n",
      "\u001b[1m31/31\u001b[0m \u001b[32m━━━━━━━━━━━━━━━━━━━━\u001b[0m\u001b[37m\u001b[0m \u001b[1m0s\u001b[0m 14ms/step - loss: 0.0022 - val_loss: 6.0043e-04\n",
      "Epoch 15/50\n",
      "\u001b[1m31/31\u001b[0m \u001b[32m━━━━━━━━━━━━━━━━━━━━\u001b[0m\u001b[37m\u001b[0m \u001b[1m0s\u001b[0m 14ms/step - loss: 0.0022 - val_loss: 4.0437e-04\n",
      "Epoch 16/50\n",
      "\u001b[1m31/31\u001b[0m \u001b[32m━━━━━━━━━━━━━━━━━━━━\u001b[0m\u001b[37m\u001b[0m \u001b[1m1s\u001b[0m 17ms/step - loss: 0.0022 - val_loss: 4.2380e-04\n",
      "Epoch 17/50\n",
      "\u001b[1m31/31\u001b[0m \u001b[32m━━━━━━━━━━━━━━━━━━━━\u001b[0m\u001b[37m\u001b[0m \u001b[1m1s\u001b[0m 14ms/step - loss: 0.0023 - val_loss: 4.0759e-04\n",
      "Epoch 18/50\n",
      "\u001b[1m31/31\u001b[0m \u001b[32m━━━━━━━━━━━━━━━━━━━━\u001b[0m\u001b[37m\u001b[0m \u001b[1m0s\u001b[0m 14ms/step - loss: 0.0021 - val_loss: 4.7747e-04\n",
      "Epoch 19/50\n",
      "\u001b[1m31/31\u001b[0m \u001b[32m━━━━━━━━━━━━━━━━━━━━\u001b[0m\u001b[37m\u001b[0m \u001b[1m0s\u001b[0m 14ms/step - loss: 0.0021 - val_loss: 8.7981e-04\n",
      "Epoch 20/50\n",
      "\u001b[1m31/31\u001b[0m \u001b[32m━━━━━━━━━━━━━━━━━━━━\u001b[0m\u001b[37m\u001b[0m \u001b[1m0s\u001b[0m 13ms/step - loss: 0.0019 - val_loss: 4.4136e-04\n",
      "Epoch 21/50\n",
      "\u001b[1m31/31\u001b[0m \u001b[32m━━━━━━━━━━━━━━━━━━━━\u001b[0m\u001b[37m\u001b[0m \u001b[1m0s\u001b[0m 13ms/step - loss: 0.0021 - val_loss: 7.7708e-04\n",
      "Epoch 22/50\n",
      "\u001b[1m31/31\u001b[0m \u001b[32m━━━━━━━━━━━━━━━━━━━━\u001b[0m\u001b[37m\u001b[0m \u001b[1m0s\u001b[0m 14ms/step - loss: 0.0022 - val_loss: 6.5888e-04\n",
      "Epoch 23/50\n",
      "\u001b[1m31/31\u001b[0m \u001b[32m━━━━━━━━━━━━━━━━━━━━\u001b[0m\u001b[37m\u001b[0m \u001b[1m0s\u001b[0m 13ms/step - loss: 0.0022 - val_loss: 4.7045e-04\n",
      "Epoch 24/50\n",
      "\u001b[1m31/31\u001b[0m \u001b[32m━━━━━━━━━━━━━━━━━━━━\u001b[0m\u001b[37m\u001b[0m \u001b[1m1s\u001b[0m 20ms/step - loss: 0.0024 - val_loss: 4.5652e-04\n",
      "Epoch 25/50\n",
      "\u001b[1m31/31\u001b[0m \u001b[32m━━━━━━━━━━━━━━━━━━━━\u001b[0m\u001b[37m\u001b[0m \u001b[1m0s\u001b[0m 14ms/step - loss: 0.0019 - val_loss: 4.5642e-04\n",
      "Epoch 26/50\n",
      "\u001b[1m31/31\u001b[0m \u001b[32m━━━━━━━━━━━━━━━━━━━━\u001b[0m\u001b[37m\u001b[0m \u001b[1m0s\u001b[0m 13ms/step - loss: 0.0019 - val_loss: 3.6738e-04\n",
      "Epoch 27/50\n",
      "\u001b[1m31/31\u001b[0m \u001b[32m━━━━━━━━━━━━━━━━━━━━\u001b[0m\u001b[37m\u001b[0m \u001b[1m0s\u001b[0m 13ms/step - loss: 0.0017 - val_loss: 5.5039e-04\n",
      "Epoch 28/50\n",
      "\u001b[1m31/31\u001b[0m \u001b[32m━━━━━━━━━━━━━━━━━━━━\u001b[0m\u001b[37m\u001b[0m \u001b[1m0s\u001b[0m 13ms/step - loss: 0.0017 - val_loss: 4.2312e-04\n",
      "Epoch 29/50\n",
      "\u001b[1m31/31\u001b[0m \u001b[32m━━━━━━━━━━━━━━━━━━━━\u001b[0m\u001b[37m\u001b[0m \u001b[1m0s\u001b[0m 13ms/step - loss: 0.0019 - val_loss: 6.0339e-04\n",
      "Epoch 30/50\n",
      "\u001b[1m31/31\u001b[0m \u001b[32m━━━━━━━━━━━━━━━━━━━━\u001b[0m\u001b[37m\u001b[0m \u001b[1m0s\u001b[0m 14ms/step - loss: 0.0018 - val_loss: 3.6765e-04\n",
      "Epoch 31/50\n",
      "\u001b[1m31/31\u001b[0m \u001b[32m━━━━━━━━━━━━━━━━━━━━\u001b[0m\u001b[37m\u001b[0m \u001b[1m1s\u001b[0m 20ms/step - loss: 0.0017 - val_loss: 5.5815e-04\n",
      "Epoch 32/50\n",
      "\u001b[1m31/31\u001b[0m \u001b[32m━━━━━━━━━━━━━━━━━━━━\u001b[0m\u001b[37m\u001b[0m \u001b[1m0s\u001b[0m 14ms/step - loss: 0.0019 - val_loss: 3.5101e-04\n",
      "Epoch 33/50\n",
      "\u001b[1m31/31\u001b[0m \u001b[32m━━━━━━━━━━━━━━━━━━━━\u001b[0m\u001b[37m\u001b[0m \u001b[1m0s\u001b[0m 14ms/step - loss: 0.0019 - val_loss: 5.1146e-04\n",
      "Epoch 34/50\n",
      "\u001b[1m31/31\u001b[0m \u001b[32m━━━━━━━━━━━━━━━━━━━━\u001b[0m\u001b[37m\u001b[0m \u001b[1m0s\u001b[0m 13ms/step - loss: 0.0016 - val_loss: 4.8141e-04\n",
      "Epoch 35/50\n",
      "\u001b[1m31/31\u001b[0m \u001b[32m━━━━━━━━━━━━━━━━━━━━\u001b[0m\u001b[37m\u001b[0m \u001b[1m0s\u001b[0m 14ms/step - loss: 0.0018 - val_loss: 4.0895e-04\n",
      "Epoch 36/50\n",
      "\u001b[1m31/31\u001b[0m \u001b[32m━━━━━━━━━━━━━━━━━━━━\u001b[0m\u001b[37m\u001b[0m \u001b[1m0s\u001b[0m 13ms/step - loss: 0.0019 - val_loss: 6.6196e-04\n",
      "Epoch 37/50\n",
      "\u001b[1m31/31\u001b[0m \u001b[32m━━━━━━━━━━━━━━━━━━━━\u001b[0m\u001b[37m\u001b[0m \u001b[1m0s\u001b[0m 13ms/step - loss: 0.0021 - val_loss: 6.9781e-04\n",
      "Epoch 38/50\n",
      "\u001b[1m31/31\u001b[0m \u001b[32m━━━━━━━━━━━━━━━━━━━━\u001b[0m\u001b[37m\u001b[0m \u001b[1m1s\u001b[0m 19ms/step - loss: 0.0019 - val_loss: 7.4633e-04\n",
      "Epoch 39/50\n",
      "\u001b[1m31/31\u001b[0m \u001b[32m━━━━━━━━━━━━━━━━━━━━\u001b[0m\u001b[37m\u001b[0m \u001b[1m0s\u001b[0m 14ms/step - loss: 0.0019 - val_loss: 4.5738e-04\n",
      "Epoch 40/50\n",
      "\u001b[1m31/31\u001b[0m \u001b[32m━━━━━━━━━━━━━━━━━━━━\u001b[0m\u001b[37m\u001b[0m \u001b[1m0s\u001b[0m 14ms/step - loss: 0.0017 - val_loss: 3.9405e-04\n",
      "Epoch 41/50\n",
      "\u001b[1m31/31\u001b[0m \u001b[32m━━━━━━━━━━━━━━━━━━━━\u001b[0m\u001b[37m\u001b[0m \u001b[1m0s\u001b[0m 14ms/step - loss: 0.0019 - val_loss: 9.3541e-04\n",
      "Epoch 42/50\n",
      "\u001b[1m31/31\u001b[0m \u001b[32m━━━━━━━━━━━━━━━━━━━━\u001b[0m\u001b[37m\u001b[0m \u001b[1m0s\u001b[0m 13ms/step - loss: 0.0020 - val_loss: 4.9790e-04\n",
      "Epoch 43/50\n",
      "\u001b[1m31/31\u001b[0m \u001b[32m━━━━━━━━━━━━━━━━━━━━\u001b[0m\u001b[37m\u001b[0m \u001b[1m0s\u001b[0m 13ms/step - loss: 0.0019 - val_loss: 4.5681e-04\n",
      "Epoch 44/50\n",
      "\u001b[1m31/31\u001b[0m \u001b[32m━━━━━━━━━━━━━━━━━━━━\u001b[0m\u001b[37m\u001b[0m \u001b[1m0s\u001b[0m 14ms/step - loss: 0.0018 - val_loss: 5.0530e-04\n",
      "Epoch 45/50\n",
      "\u001b[1m31/31\u001b[0m \u001b[32m━━━━━━━━━━━━━━━━━━━━\u001b[0m\u001b[37m\u001b[0m \u001b[1m1s\u001b[0m 19ms/step - loss: 0.0018 - val_loss: 3.7205e-04\n",
      "Epoch 46/50\n",
      "\u001b[1m31/31\u001b[0m \u001b[32m━━━━━━━━━━━━━━━━━━━━\u001b[0m\u001b[37m\u001b[0m \u001b[1m0s\u001b[0m 13ms/step - loss: 0.0017 - val_loss: 3.8199e-04\n",
      "Epoch 47/50\n",
      "\u001b[1m31/31\u001b[0m \u001b[32m━━━━━━━━━━━━━━━━━━━━\u001b[0m\u001b[37m\u001b[0m \u001b[1m0s\u001b[0m 13ms/step - loss: 0.0019 - val_loss: 5.1079e-04\n",
      "Epoch 48/50\n",
      "\u001b[1m31/31\u001b[0m \u001b[32m━━━━━━━━━━━━━━━━━━━━\u001b[0m\u001b[37m\u001b[0m \u001b[1m0s\u001b[0m 14ms/step - loss: 0.0015 - val_loss: 4.1093e-04\n",
      "Epoch 49/50\n",
      "\u001b[1m31/31\u001b[0m \u001b[32m━━━━━━━━━━━━━━━━━━━━\u001b[0m\u001b[37m\u001b[0m \u001b[1m0s\u001b[0m 13ms/step - loss: 0.0016 - val_loss: 4.6893e-04\n",
      "Epoch 50/50\n",
      "\u001b[1m31/31\u001b[0m \u001b[32m━━━━━━━━━━━━━━━━━━━━\u001b[0m\u001b[37m\u001b[0m \u001b[1m0s\u001b[0m 14ms/step - loss: 0.0016 - val_loss: 4.4300e-04\n",
      "\u001b[1m1/1\u001b[0m \u001b[32m━━━━━━━━━━━━━━━━━━━━\u001b[0m\u001b[37m\u001b[0m \u001b[1m0s\u001b[0m 35ms/step\n",
      "Epoch 1/50\n",
      "\u001b[1m31/31\u001b[0m \u001b[32m━━━━━━━━━━━━━━━━━━━━\u001b[0m\u001b[37m\u001b[0m \u001b[1m1s\u001b[0m 16ms/step - loss: 0.0028 - val_loss: 0.0018\n",
      "Epoch 2/50\n",
      "\u001b[1m31/31\u001b[0m \u001b[32m━━━━━━━━━━━━━━━━━━━━\u001b[0m\u001b[37m\u001b[0m \u001b[1m1s\u001b[0m 16ms/step - loss: 0.0025 - val_loss: 0.0016\n",
      "Epoch 3/50\n",
      "\u001b[1m31/31\u001b[0m \u001b[32m━━━━━━━━━━━━━━━━━━━━\u001b[0m\u001b[37m\u001b[0m \u001b[1m0s\u001b[0m 13ms/step - loss: 0.0027 - val_loss: 0.0013\n",
      "Epoch 4/50\n",
      "\u001b[1m31/31\u001b[0m \u001b[32m━━━━━━━━━━━━━━━━━━━━\u001b[0m\u001b[37m\u001b[0m \u001b[1m0s\u001b[0m 13ms/step - loss: 0.0023 - val_loss: 0.0017\n",
      "Epoch 5/50\n",
      "\u001b[1m31/31\u001b[0m \u001b[32m━━━━━━━━━━━━━━━━━━━━\u001b[0m\u001b[37m\u001b[0m \u001b[1m0s\u001b[0m 14ms/step - loss: 0.0025 - val_loss: 0.0017\n",
      "Epoch 6/50\n",
      "\u001b[1m31/31\u001b[0m \u001b[32m━━━━━━━━━━━━━━━━━━━━\u001b[0m\u001b[37m\u001b[0m \u001b[1m0s\u001b[0m 14ms/step - loss: 0.0024 - val_loss: 0.0015\n",
      "Epoch 7/50\n",
      "\u001b[1m31/31\u001b[0m \u001b[32m━━━━━━━━━━━━━━━━━━━━\u001b[0m\u001b[37m\u001b[0m \u001b[1m0s\u001b[0m 14ms/step - loss: 0.0028 - val_loss: 0.0016\n",
      "Epoch 8/50\n",
      "\u001b[1m31/31\u001b[0m \u001b[32m━━━━━━━━━━━━━━━━━━━━\u001b[0m\u001b[37m\u001b[0m \u001b[1m1s\u001b[0m 17ms/step - loss: 0.0023 - val_loss: 0.0013\n",
      "Epoch 9/50\n",
      "\u001b[1m31/31\u001b[0m \u001b[32m━━━━━━━━━━━━━━━━━━━━\u001b[0m\u001b[37m\u001b[0m \u001b[1m0s\u001b[0m 13ms/step - loss: 0.0020 - val_loss: 0.0014\n",
      "Epoch 10/50\n",
      "\u001b[1m31/31\u001b[0m \u001b[32m━━━━━━━━━━━━━━━━━━━━\u001b[0m\u001b[37m\u001b[0m \u001b[1m0s\u001b[0m 14ms/step - loss: 0.0021 - val_loss: 0.0013\n",
      "Epoch 11/50\n",
      "\u001b[1m31/31\u001b[0m \u001b[32m━━━━━━━━━━━━━━━━━━━━\u001b[0m\u001b[37m\u001b[0m \u001b[1m0s\u001b[0m 13ms/step - loss: 0.0026 - val_loss: 0.0013\n",
      "Epoch 12/50\n",
      "\u001b[1m31/31\u001b[0m \u001b[32m━━━━━━━━━━━━━━━━━━━━\u001b[0m\u001b[37m\u001b[0m \u001b[1m0s\u001b[0m 13ms/step - loss: 0.0024 - val_loss: 0.0014\n",
      "Epoch 13/50\n",
      "\u001b[1m31/31\u001b[0m \u001b[32m━━━━━━━━━━━━━━━━━━━━\u001b[0m\u001b[37m\u001b[0m \u001b[1m0s\u001b[0m 13ms/step - loss: 0.0024 - val_loss: 0.0013\n",
      "Epoch 14/50\n",
      "\u001b[1m31/31\u001b[0m \u001b[32m━━━━━━━━━━━━━━━━━━━━\u001b[0m\u001b[37m\u001b[0m \u001b[1m1s\u001b[0m 19ms/step - loss: 0.0023 - val_loss: 0.0013\n",
      "Epoch 15/50\n",
      "\u001b[1m31/31\u001b[0m \u001b[32m━━━━━━━━━━━━━━━━━━━━\u001b[0m\u001b[37m\u001b[0m \u001b[1m0s\u001b[0m 14ms/step - loss: 0.0023 - val_loss: 0.0013\n",
      "Epoch 16/50\n",
      "\u001b[1m31/31\u001b[0m \u001b[32m━━━━━━━━━━━━━━━━━━━━\u001b[0m\u001b[37m\u001b[0m \u001b[1m0s\u001b[0m 13ms/step - loss: 0.0021 - val_loss: 0.0013\n",
      "Epoch 17/50\n",
      "\u001b[1m31/31\u001b[0m \u001b[32m━━━━━━━━━━━━━━━━━━━━\u001b[0m\u001b[37m\u001b[0m \u001b[1m0s\u001b[0m 13ms/step - loss: 0.0019 - val_loss: 0.0013\n",
      "Epoch 18/50\n",
      "\u001b[1m31/31\u001b[0m \u001b[32m━━━━━━━━━━━━━━━━━━━━\u001b[0m\u001b[37m\u001b[0m \u001b[1m0s\u001b[0m 14ms/step - loss: 0.0023 - val_loss: 0.0020\n",
      "Epoch 19/50\n",
      "\u001b[1m31/31\u001b[0m \u001b[32m━━━━━━━━━━━━━━━━━━━━\u001b[0m\u001b[37m\u001b[0m \u001b[1m0s\u001b[0m 13ms/step - loss: 0.0023 - val_loss: 0.0013\n",
      "Epoch 20/50\n",
      "\u001b[1m31/31\u001b[0m \u001b[32m━━━━━━━━━━━━━━━━━━━━\u001b[0m\u001b[37m\u001b[0m \u001b[1m1s\u001b[0m 19ms/step - loss: 0.0021 - val_loss: 0.0014\n",
      "Epoch 21/50\n",
      "\u001b[1m31/31\u001b[0m \u001b[32m━━━━━━━━━━━━━━━━━━━━\u001b[0m\u001b[37m\u001b[0m \u001b[1m0s\u001b[0m 13ms/step - loss: 0.0021 - val_loss: 0.0015\n",
      "Epoch 22/50\n",
      "\u001b[1m31/31\u001b[0m \u001b[32m━━━━━━━━━━━━━━━━━━━━\u001b[0m\u001b[37m\u001b[0m \u001b[1m0s\u001b[0m 14ms/step - loss: 0.0021 - val_loss: 0.0015\n",
      "Epoch 23/50\n",
      "\u001b[1m31/31\u001b[0m \u001b[32m━━━━━━━━━━━━━━━━━━━━\u001b[0m\u001b[37m\u001b[0m \u001b[1m1s\u001b[0m 14ms/step - loss: 0.0026 - val_loss: 0.0014\n",
      "Epoch 24/50\n",
      "\u001b[1m31/31\u001b[0m \u001b[32m━━━━━━━━━━━━━━━━━━━━\u001b[0m\u001b[37m\u001b[0m \u001b[1m0s\u001b[0m 13ms/step - loss: 0.0020 - val_loss: 0.0013\n",
      "Epoch 25/50\n",
      "\u001b[1m31/31\u001b[0m \u001b[32m━━━━━━━━━━━━━━━━━━━━\u001b[0m\u001b[37m\u001b[0m \u001b[1m0s\u001b[0m 14ms/step - loss: 0.0022 - val_loss: 0.0015\n",
      "Epoch 26/50\n",
      "\u001b[1m31/31\u001b[0m \u001b[32m━━━━━━━━━━━━━━━━━━━━\u001b[0m\u001b[37m\u001b[0m \u001b[1m1s\u001b[0m 20ms/step - loss: 0.0021 - val_loss: 0.0013\n",
      "Epoch 27/50\n",
      "\u001b[1m31/31\u001b[0m \u001b[32m━━━━━━━━━━━━━━━━━━━━\u001b[0m\u001b[37m\u001b[0m \u001b[1m0s\u001b[0m 13ms/step - loss: 0.0019 - val_loss: 0.0013\n",
      "Epoch 28/50\n",
      "\u001b[1m31/31\u001b[0m \u001b[32m━━━━━━━━━━━━━━━━━━━━\u001b[0m\u001b[37m\u001b[0m \u001b[1m0s\u001b[0m 13ms/step - loss: 0.0018 - val_loss: 0.0014\n",
      "Epoch 29/50\n",
      "\u001b[1m31/31\u001b[0m \u001b[32m━━━━━━━━━━━━━━━━━━━━\u001b[0m\u001b[37m\u001b[0m \u001b[1m0s\u001b[0m 13ms/step - loss: 0.0017 - val_loss: 0.0014\n",
      "Epoch 30/50\n",
      "\u001b[1m31/31\u001b[0m \u001b[32m━━━━━━━━━━━━━━━━━━━━\u001b[0m\u001b[37m\u001b[0m \u001b[1m0s\u001b[0m 14ms/step - loss: 0.0019 - val_loss: 0.0014\n",
      "Epoch 31/50\n",
      "\u001b[1m31/31\u001b[0m \u001b[32m━━━━━━━━━━━━━━━━━━━━\u001b[0m\u001b[37m\u001b[0m \u001b[1m1s\u001b[0m 13ms/step - loss: 0.0020 - val_loss: 0.0012\n",
      "Epoch 32/50\n",
      "\u001b[1m31/31\u001b[0m \u001b[32m━━━━━━━━━━━━━━━━━━━━\u001b[0m\u001b[37m\u001b[0m \u001b[1m1s\u001b[0m 19ms/step - loss: 0.0020 - val_loss: 0.0013\n",
      "Epoch 33/50\n",
      "\u001b[1m31/31\u001b[0m \u001b[32m━━━━━━━━━━━━━━━━━━━━\u001b[0m\u001b[37m\u001b[0m \u001b[1m0s\u001b[0m 13ms/step - loss: 0.0020 - val_loss: 0.0014\n",
      "Epoch 34/50\n",
      "\u001b[1m31/31\u001b[0m \u001b[32m━━━━━━━━━━━━━━━━━━━━\u001b[0m\u001b[37m\u001b[0m \u001b[1m0s\u001b[0m 14ms/step - loss: 0.0018 - val_loss: 0.0015\n",
      "Epoch 35/50\n",
      "\u001b[1m31/31\u001b[0m \u001b[32m━━━━━━━━━━━━━━━━━━━━\u001b[0m\u001b[37m\u001b[0m \u001b[1m0s\u001b[0m 13ms/step - loss: 0.0019 - val_loss: 0.0013\n",
      "Epoch 36/50\n",
      "\u001b[1m31/31\u001b[0m \u001b[32m━━━━━━━━━━━━━━━━━━━━\u001b[0m\u001b[37m\u001b[0m \u001b[1m0s\u001b[0m 14ms/step - loss: 0.0019 - val_loss: 0.0014\n",
      "Epoch 37/50\n",
      "\u001b[1m31/31\u001b[0m \u001b[32m━━━━━━━━━━━━━━━━━━━━\u001b[0m\u001b[37m\u001b[0m \u001b[1m0s\u001b[0m 13ms/step - loss: 0.0018 - val_loss: 0.0019\n",
      "Epoch 38/50\n",
      "\u001b[1m31/31\u001b[0m \u001b[32m━━━━━━━━━━━━━━━━━━━━\u001b[0m\u001b[37m\u001b[0m \u001b[1m0s\u001b[0m 13ms/step - loss: 0.0022 - val_loss: 0.0014\n",
      "Epoch 39/50\n",
      "\u001b[1m31/31\u001b[0m \u001b[32m━━━━━━━━━━━━━━━━━━━━\u001b[0m\u001b[37m\u001b[0m \u001b[1m1s\u001b[0m 21ms/step - loss: 0.0018 - val_loss: 0.0012\n",
      "Epoch 40/50\n",
      "\u001b[1m31/31\u001b[0m \u001b[32m━━━━━━━━━━━━━━━━━━━━\u001b[0m\u001b[37m\u001b[0m \u001b[1m0s\u001b[0m 13ms/step - loss: 0.0019 - val_loss: 0.0015\n",
      "Epoch 41/50\n",
      "\u001b[1m31/31\u001b[0m \u001b[32m━━━━━━━━━━━━━━━━━━━━\u001b[0m\u001b[37m\u001b[0m \u001b[1m0s\u001b[0m 13ms/step - loss: 0.0019 - val_loss: 0.0014\n",
      "Epoch 42/50\n",
      "\u001b[1m31/31\u001b[0m \u001b[32m━━━━━━━━━━━━━━━━━━━━\u001b[0m\u001b[37m\u001b[0m \u001b[1m1s\u001b[0m 13ms/step - loss: 0.0019 - val_loss: 0.0013\n",
      "Epoch 43/50\n",
      "\u001b[1m31/31\u001b[0m \u001b[32m━━━━━━━━━━━━━━━━━━━━\u001b[0m\u001b[37m\u001b[0m \u001b[1m0s\u001b[0m 14ms/step - loss: 0.0018 - val_loss: 0.0013\n",
      "Epoch 44/50\n",
      "\u001b[1m31/31\u001b[0m \u001b[32m━━━━━━━━━━━━━━━━━━━━\u001b[0m\u001b[37m\u001b[0m \u001b[1m1s\u001b[0m 17ms/step - loss: 0.0020 - val_loss: 0.0012\n",
      "Epoch 45/50\n",
      "\u001b[1m31/31\u001b[0m \u001b[32m━━━━━━━━━━━━━━━━━━━━\u001b[0m\u001b[37m\u001b[0m \u001b[1m1s\u001b[0m 13ms/step - loss: 0.0015 - val_loss: 0.0013\n",
      "Epoch 46/50\n",
      "\u001b[1m31/31\u001b[0m \u001b[32m━━━━━━━━━━━━━━━━━━━━\u001b[0m\u001b[37m\u001b[0m \u001b[1m0s\u001b[0m 14ms/step - loss: 0.0018 - val_loss: 0.0012\n",
      "Epoch 47/50\n",
      "\u001b[1m31/31\u001b[0m \u001b[32m━━━━━━━━━━━━━━━━━━━━\u001b[0m\u001b[37m\u001b[0m \u001b[1m0s\u001b[0m 14ms/step - loss: 0.0019 - val_loss: 0.0013\n",
      "Epoch 48/50\n",
      "\u001b[1m31/31\u001b[0m \u001b[32m━━━━━━━━━━━━━━━━━━━━\u001b[0m\u001b[37m\u001b[0m \u001b[1m0s\u001b[0m 13ms/step - loss: 0.0020 - val_loss: 0.0017\n",
      "Epoch 49/50\n",
      "\u001b[1m31/31\u001b[0m \u001b[32m━━━━━━━━━━━━━━━━━━━━\u001b[0m\u001b[37m\u001b[0m \u001b[1m0s\u001b[0m 13ms/step - loss: 0.0021 - val_loss: 0.0015\n",
      "Epoch 50/50\n",
      "\u001b[1m31/31\u001b[0m \u001b[32m━━━━━━━━━━━━━━━━━━━━\u001b[0m\u001b[37m\u001b[0m \u001b[1m1s\u001b[0m 20ms/step - loss: 0.0020 - val_loss: 0.0015\n",
      "\u001b[1m1/1\u001b[0m \u001b[32m━━━━━━━━━━━━━━━━━━━━\u001b[0m\u001b[37m\u001b[0m \u001b[1m0s\u001b[0m 34ms/step\n",
      "Epoch 1/50\n",
      "\u001b[1m31/31\u001b[0m \u001b[32m━━━━━━━━━━━━━━━━━━━━\u001b[0m\u001b[37m\u001b[0m \u001b[1m1s\u001b[0m 16ms/step - loss: 0.0025 - val_loss: 6.9245e-04\n",
      "Epoch 2/50\n",
      "\u001b[1m31/31\u001b[0m \u001b[32m━━━━━━━━━━━━━━━━━━━━\u001b[0m\u001b[37m\u001b[0m \u001b[1m0s\u001b[0m 13ms/step - loss: 0.0011 - val_loss: 3.4346e-04\n",
      "Epoch 3/50\n",
      "\u001b[1m31/31\u001b[0m \u001b[32m━━━━━━━━━━━━━━━━━━━━\u001b[0m\u001b[37m\u001b[0m \u001b[1m0s\u001b[0m 13ms/step - loss: 8.2379e-04 - val_loss: 3.3858e-04\n",
      "Epoch 4/50\n",
      "\u001b[1m31/31\u001b[0m \u001b[32m━━━━━━━━━━━━━━━━━━━━\u001b[0m\u001b[37m\u001b[0m \u001b[1m0s\u001b[0m 14ms/step - loss: 7.4593e-04 - val_loss: 3.5651e-04\n",
      "Epoch 5/50\n",
      "\u001b[1m31/31\u001b[0m \u001b[32m━━━━━━━━━━━━━━━━━━━━\u001b[0m\u001b[37m\u001b[0m \u001b[1m0s\u001b[0m 14ms/step - loss: 7.1469e-04 - val_loss: 3.0683e-04\n",
      "Epoch 6/50\n",
      "\u001b[1m31/31\u001b[0m \u001b[32m━━━━━━━━━━━━━━━━━━━━\u001b[0m\u001b[37m\u001b[0m \u001b[1m0s\u001b[0m 13ms/step - loss: 7.8513e-04 - val_loss: 3.6592e-04\n",
      "Epoch 7/50\n",
      "\u001b[1m31/31\u001b[0m \u001b[32m━━━━━━━━━━━━━━━━━━━━\u001b[0m\u001b[37m\u001b[0m \u001b[1m1s\u001b[0m 14ms/step - loss: 7.7267e-04 - val_loss: 3.3241e-04\n",
      "Epoch 8/50\n",
      "\u001b[1m31/31\u001b[0m \u001b[32m━━━━━━━━━━━━━━━━━━━━\u001b[0m\u001b[37m\u001b[0m \u001b[1m0s\u001b[0m 13ms/step - loss: 7.4082e-04 - val_loss: 3.4064e-04\n",
      "Epoch 9/50\n",
      "\u001b[1m31/31\u001b[0m \u001b[32m━━━━━━━━━━━━━━━━━━━━\u001b[0m\u001b[37m\u001b[0m \u001b[1m0s\u001b[0m 14ms/step - loss: 6.7496e-04 - val_loss: 5.1193e-04\n",
      "Epoch 10/50\n",
      "\u001b[1m31/31\u001b[0m \u001b[32m━━━━━━━━━━━━━━━━━━━━\u001b[0m\u001b[37m\u001b[0m \u001b[1m0s\u001b[0m 14ms/step - loss: 6.5613e-04 - val_loss: 3.3531e-04\n",
      "Epoch 11/50\n",
      "\u001b[1m31/31\u001b[0m \u001b[32m━━━━━━━━━━━━━━━━━━━━\u001b[0m\u001b[37m\u001b[0m \u001b[1m0s\u001b[0m 14ms/step - loss: 5.2037e-04 - val_loss: 3.1259e-04\n",
      "Epoch 12/50\n",
      "\u001b[1m31/31\u001b[0m \u001b[32m━━━━━━━━━━━━━━━━━━━━\u001b[0m\u001b[37m\u001b[0m \u001b[1m0s\u001b[0m 13ms/step - loss: 6.5003e-04 - val_loss: 3.3975e-04\n",
      "Epoch 13/50\n",
      "\u001b[1m31/31\u001b[0m \u001b[32m━━━━━━━━━━━━━━━━━━━━\u001b[0m\u001b[37m\u001b[0m \u001b[1m1s\u001b[0m 18ms/step - loss: 7.2714e-04 - val_loss: 2.8279e-04\n",
      "Epoch 14/50\n",
      "\u001b[1m31/31\u001b[0m \u001b[32m━━━━━━━━━━━━━━━━━━━━\u001b[0m\u001b[37m\u001b[0m \u001b[1m0s\u001b[0m 13ms/step - loss: 6.9566e-04 - val_loss: 3.4752e-04\n",
      "Epoch 15/50\n",
      "\u001b[1m31/31\u001b[0m \u001b[32m━━━━━━━━━━━━━━━━━━━━\u001b[0m\u001b[37m\u001b[0m \u001b[1m0s\u001b[0m 13ms/step - loss: 7.4382e-04 - val_loss: 3.2020e-04\n",
      "Epoch 16/50\n",
      "\u001b[1m31/31\u001b[0m \u001b[32m━━━━━━━━━━━━━━━━━━━━\u001b[0m\u001b[37m\u001b[0m \u001b[1m0s\u001b[0m 14ms/step - loss: 6.9008e-04 - val_loss: 3.2383e-04\n",
      "Epoch 17/50\n",
      "\u001b[1m31/31\u001b[0m \u001b[32m━━━━━━━━━━━━━━━━━━━━\u001b[0m\u001b[37m\u001b[0m \u001b[1m0s\u001b[0m 14ms/step - loss: 6.3746e-04 - val_loss: 3.2236e-04\n",
      "Epoch 18/50\n",
      "\u001b[1m31/31\u001b[0m \u001b[32m━━━━━━━━━━━━━━━━━━━━\u001b[0m\u001b[37m\u001b[0m \u001b[1m0s\u001b[0m 14ms/step - loss: 6.5501e-04 - val_loss: 3.3331e-04\n",
      "Epoch 19/50\n",
      "\u001b[1m31/31\u001b[0m \u001b[32m━━━━━━━━━━━━━━━━━━━━\u001b[0m\u001b[37m\u001b[0m \u001b[1m0s\u001b[0m 13ms/step - loss: 6.3213e-04 - val_loss: 2.9359e-04\n",
      "Epoch 20/50\n",
      "\u001b[1m31/31\u001b[0m \u001b[32m━━━━━━━━━━━━━━━━━━━━\u001b[0m\u001b[37m\u001b[0m \u001b[1m1s\u001b[0m 20ms/step - loss: 7.5486e-04 - val_loss: 2.9845e-04\n",
      "Epoch 21/50\n",
      "\u001b[1m31/31\u001b[0m \u001b[32m━━━━━━━━━━━━━━━━━━━━\u001b[0m\u001b[37m\u001b[0m \u001b[1m0s\u001b[0m 14ms/step - loss: 6.4249e-04 - val_loss: 3.9528e-04\n",
      "Epoch 22/50\n",
      "\u001b[1m31/31\u001b[0m \u001b[32m━━━━━━━━━━━━━━━━━━━━\u001b[0m\u001b[37m\u001b[0m \u001b[1m0s\u001b[0m 14ms/step - loss: 7.1007e-04 - val_loss: 2.8700e-04\n",
      "Epoch 23/50\n",
      "\u001b[1m31/31\u001b[0m \u001b[32m━━━━━━━━━━━━━━━━━━━━\u001b[0m\u001b[37m\u001b[0m \u001b[1m0s\u001b[0m 13ms/step - loss: 7.0741e-04 - val_loss: 4.8970e-04\n",
      "Epoch 24/50\n",
      "\u001b[1m31/31\u001b[0m \u001b[32m━━━━━━━━━━━━━━━━━━━━\u001b[0m\u001b[37m\u001b[0m \u001b[1m0s\u001b[0m 14ms/step - loss: 7.4522e-04 - val_loss: 3.7198e-04\n",
      "Epoch 25/50\n",
      "\u001b[1m31/31\u001b[0m \u001b[32m━━━━━━━━━━━━━━━━━━━━\u001b[0m\u001b[37m\u001b[0m \u001b[1m0s\u001b[0m 14ms/step - loss: 6.8829e-04 - val_loss: 2.8913e-04\n",
      "Epoch 26/50\n",
      "\u001b[1m31/31\u001b[0m \u001b[32m━━━━━━━━━━━━━━━━━━━━\u001b[0m\u001b[37m\u001b[0m \u001b[1m1s\u001b[0m 23ms/step - loss: 5.4749e-04 - val_loss: 3.0591e-04\n",
      "Epoch 27/50\n",
      "\u001b[1m31/31\u001b[0m \u001b[32m━━━━━━━━━━━━━━━━━━━━\u001b[0m\u001b[37m\u001b[0m \u001b[1m0s\u001b[0m 14ms/step - loss: 5.5739e-04 - val_loss: 3.3256e-04\n",
      "Epoch 28/50\n",
      "\u001b[1m31/31\u001b[0m \u001b[32m━━━━━━━━━━━━━━━━━━━━\u001b[0m\u001b[37m\u001b[0m \u001b[1m0s\u001b[0m 14ms/step - loss: 6.7486e-04 - val_loss: 2.9137e-04\n",
      "Epoch 29/50\n",
      "\u001b[1m31/31\u001b[0m \u001b[32m━━━━━━━━━━━━━━━━━━━━\u001b[0m\u001b[37m\u001b[0m \u001b[1m0s\u001b[0m 13ms/step - loss: 7.0327e-04 - val_loss: 3.4618e-04\n",
      "Epoch 30/50\n",
      "\u001b[1m31/31\u001b[0m \u001b[32m━━━━━━━━━━━━━━━━━━━━\u001b[0m\u001b[37m\u001b[0m \u001b[1m0s\u001b[0m 14ms/step - loss: 6.1482e-04 - val_loss: 2.9118e-04\n",
      "Epoch 31/50\n",
      "\u001b[1m31/31\u001b[0m \u001b[32m━━━━━━━━━━━━━━━━━━━━\u001b[0m\u001b[37m\u001b[0m \u001b[1m0s\u001b[0m 13ms/step - loss: 6.0271e-04 - val_loss: 2.8293e-04\n",
      "Epoch 32/50\n",
      "\u001b[1m31/31\u001b[0m \u001b[32m━━━━━━━━━━━━━━━━━━━━\u001b[0m\u001b[37m\u001b[0m \u001b[1m1s\u001b[0m 20ms/step - loss: 6.0235e-04 - val_loss: 2.7917e-04\n",
      "Epoch 33/50\n",
      "\u001b[1m31/31\u001b[0m \u001b[32m━━━━━━━━━━━━━━━━━━━━\u001b[0m\u001b[37m\u001b[0m \u001b[1m0s\u001b[0m 13ms/step - loss: 5.9063e-04 - val_loss: 3.4123e-04\n",
      "Epoch 34/50\n",
      "\u001b[1m31/31\u001b[0m \u001b[32m━━━━━━━━━━━━━━━━━━━━\u001b[0m\u001b[37m\u001b[0m \u001b[1m1s\u001b[0m 14ms/step - loss: 5.4902e-04 - val_loss: 2.9991e-04\n",
      "Epoch 35/50\n",
      "\u001b[1m31/31\u001b[0m \u001b[32m━━━━━━━━━━━━━━━━━━━━\u001b[0m\u001b[37m\u001b[0m \u001b[1m0s\u001b[0m 14ms/step - loss: 6.8734e-04 - val_loss: 2.7792e-04\n",
      "Epoch 36/50\n",
      "\u001b[1m31/31\u001b[0m \u001b[32m━━━━━━━━━━━━━━━━━━━━\u001b[0m\u001b[37m\u001b[0m \u001b[1m0s\u001b[0m 14ms/step - loss: 6.2016e-04 - val_loss: 3.1822e-04\n",
      "Epoch 37/50\n",
      "\u001b[1m31/31\u001b[0m \u001b[32m━━━━━━━━━━━━━━━━━━━━\u001b[0m\u001b[37m\u001b[0m \u001b[1m0s\u001b[0m 13ms/step - loss: 7.1825e-04 - val_loss: 2.9100e-04\n",
      "Epoch 38/50\n",
      "\u001b[1m31/31\u001b[0m \u001b[32m━━━━━━━━━━━━━━━━━━━━\u001b[0m\u001b[37m\u001b[0m \u001b[1m1s\u001b[0m 20ms/step - loss: 5.6279e-04 - val_loss: 3.4813e-04\n",
      "Epoch 39/50\n",
      "\u001b[1m31/31\u001b[0m \u001b[32m━━━━━━━━━━━━━━━━━━━━\u001b[0m\u001b[37m\u001b[0m \u001b[1m0s\u001b[0m 13ms/step - loss: 5.9806e-04 - val_loss: 4.6173e-04\n",
      "Epoch 40/50\n",
      "\u001b[1m31/31\u001b[0m \u001b[32m━━━━━━━━━━━━━━━━━━━━\u001b[0m\u001b[37m\u001b[0m \u001b[1m0s\u001b[0m 13ms/step - loss: 8.6535e-04 - val_loss: 2.9820e-04\n",
      "Epoch 41/50\n",
      "\u001b[1m31/31\u001b[0m \u001b[32m━━━━━━━━━━━━━━━━━━━━\u001b[0m\u001b[37m\u001b[0m \u001b[1m0s\u001b[0m 13ms/step - loss: 5.9177e-04 - val_loss: 2.7361e-04\n",
      "Epoch 42/50\n",
      "\u001b[1m31/31\u001b[0m \u001b[32m━━━━━━━━━━━━━━━━━━━━\u001b[0m\u001b[37m\u001b[0m \u001b[1m0s\u001b[0m 13ms/step - loss: 6.9945e-04 - val_loss: 4.6340e-04\n",
      "Epoch 43/50\n",
      "\u001b[1m31/31\u001b[0m \u001b[32m━━━━━━━━━━━━━━━━━━━━\u001b[0m\u001b[37m\u001b[0m \u001b[1m0s\u001b[0m 14ms/step - loss: 7.7322e-04 - val_loss: 3.8564e-04\n",
      "Epoch 44/50\n",
      "\u001b[1m31/31\u001b[0m \u001b[32m━━━━━━━━━━━━━━━━━━━━\u001b[0m\u001b[37m\u001b[0m \u001b[1m1s\u001b[0m 22ms/step - loss: 6.9605e-04 - val_loss: 3.3419e-04\n",
      "Epoch 45/50\n",
      "\u001b[1m31/31\u001b[0m \u001b[32m━━━━━━━━━━━━━━━━━━━━\u001b[0m\u001b[37m\u001b[0m \u001b[1m0s\u001b[0m 13ms/step - loss: 6.5208e-04 - val_loss: 3.4564e-04\n",
      "Epoch 46/50\n",
      "\u001b[1m31/31\u001b[0m \u001b[32m━━━━━━━━━━━━━━━━━━━━\u001b[0m\u001b[37m\u001b[0m \u001b[1m0s\u001b[0m 13ms/step - loss: 6.4694e-04 - val_loss: 3.1823e-04\n",
      "Epoch 47/50\n",
      "\u001b[1m31/31\u001b[0m \u001b[32m━━━━━━━━━━━━━━━━━━━━\u001b[0m\u001b[37m\u001b[0m \u001b[1m0s\u001b[0m 14ms/step - loss: 5.3230e-04 - val_loss: 3.2387e-04\n",
      "Epoch 48/50\n",
      "\u001b[1m31/31\u001b[0m \u001b[32m━━━━━━━━━━━━━━━━━━━━\u001b[0m\u001b[37m\u001b[0m \u001b[1m0s\u001b[0m 13ms/step - loss: 6.7868e-04 - val_loss: 3.4097e-04\n",
      "Epoch 49/50\n",
      "\u001b[1m31/31\u001b[0m \u001b[32m━━━━━━━━━━━━━━━━━━━━\u001b[0m\u001b[37m\u001b[0m \u001b[1m0s\u001b[0m 14ms/step - loss: 5.8565e-04 - val_loss: 3.4709e-04\n",
      "Epoch 50/50\n",
      "\u001b[1m31/31\u001b[0m \u001b[32m━━━━━━━━━━━━━━━━━━━━\u001b[0m\u001b[37m\u001b[0m \u001b[1m0s\u001b[0m 13ms/step - loss: 5.5297e-04 - val_loss: 3.5550e-04\n",
      "\u001b[1m1/1\u001b[0m \u001b[32m━━━━━━━━━━━━━━━━━━━━\u001b[0m\u001b[37m\u001b[0m \u001b[1m0s\u001b[0m 37ms/step\n",
      "Epoch 1/50\n",
      "\u001b[1m31/31\u001b[0m \u001b[32m━━━━━━━━━━━━━━━━━━━━\u001b[0m\u001b[37m\u001b[0m \u001b[1m1s\u001b[0m 16ms/step - loss: 9.2376e-04 - val_loss: 7.8151e-04\n",
      "Epoch 2/50\n",
      "\u001b[1m31/31\u001b[0m \u001b[32m━━━━━━━━━━━━━━━━━━━━\u001b[0m\u001b[37m\u001b[0m \u001b[1m1s\u001b[0m 19ms/step - loss: 5.7342e-04 - val_loss: 7.9131e-04\n",
      "Epoch 3/50\n",
      "\u001b[1m31/31\u001b[0m \u001b[32m━━━━━━━━━━━━━━━━━━━━\u001b[0m\u001b[37m\u001b[0m \u001b[1m0s\u001b[0m 13ms/step - loss: 5.5118e-04 - val_loss: 9.8025e-04\n",
      "Epoch 4/50\n",
      "\u001b[1m31/31\u001b[0m \u001b[32m━━━━━━━━━━━━━━━━━━━━\u001b[0m\u001b[37m\u001b[0m \u001b[1m0s\u001b[0m 13ms/step - loss: 5.5332e-04 - val_loss: 0.0019\n",
      "Epoch 5/50\n",
      "\u001b[1m31/31\u001b[0m \u001b[32m━━━━━━━━━━━━━━━━━━━━\u001b[0m\u001b[37m\u001b[0m \u001b[1m0s\u001b[0m 14ms/step - loss: 5.9866e-04 - val_loss: 0.0016\n",
      "Epoch 6/50\n",
      "\u001b[1m31/31\u001b[0m \u001b[32m━━━━━━━━━━━━━━━━━━━━\u001b[0m\u001b[37m\u001b[0m \u001b[1m0s\u001b[0m 14ms/step - loss: 4.7800e-04 - val_loss: 8.7884e-04\n",
      "Epoch 7/50\n",
      "\u001b[1m31/31\u001b[0m \u001b[32m━━━━━━━━━━━━━━━━━━━━\u001b[0m\u001b[37m\u001b[0m \u001b[1m1s\u001b[0m 21ms/step - loss: 4.4667e-04 - val_loss: 0.0014\n",
      "Epoch 8/50\n",
      "\u001b[1m31/31\u001b[0m \u001b[32m━━━━━━━━━━━━━━━━━━━━\u001b[0m\u001b[37m\u001b[0m \u001b[1m0s\u001b[0m 14ms/step - loss: 4.3150e-04 - val_loss: 0.0016\n",
      "Epoch 9/50\n",
      "\u001b[1m31/31\u001b[0m \u001b[32m━━━━━━━━━━━━━━━━━━━━\u001b[0m\u001b[37m\u001b[0m \u001b[1m0s\u001b[0m 14ms/step - loss: 4.9542e-04 - val_loss: 0.0016\n",
      "Epoch 10/50\n",
      "\u001b[1m31/31\u001b[0m \u001b[32m━━━━━━━━━━━━━━━━━━━━\u001b[0m\u001b[37m\u001b[0m \u001b[1m0s\u001b[0m 14ms/step - loss: 3.9769e-04 - val_loss: 8.6009e-04\n",
      "Epoch 11/50\n",
      "\u001b[1m31/31\u001b[0m \u001b[32m━━━━━━━━━━━━━━━━━━━━\u001b[0m\u001b[37m\u001b[0m \u001b[1m1s\u001b[0m 13ms/step - loss: 4.5265e-04 - val_loss: 0.0021\n",
      "Epoch 12/50\n",
      "\u001b[1m31/31\u001b[0m \u001b[32m━━━━━━━━━━━━━━━━━━━━\u001b[0m\u001b[37m\u001b[0m \u001b[1m1s\u001b[0m 20ms/step - loss: 4.0415e-04 - val_loss: 9.5780e-04\n",
      "Epoch 13/50\n",
      "\u001b[1m31/31\u001b[0m \u001b[32m━━━━━━━━━━━━━━━━━━━━\u001b[0m\u001b[37m\u001b[0m \u001b[1m0s\u001b[0m 13ms/step - loss: 3.7130e-04 - val_loss: 0.0013\n",
      "Epoch 14/50\n",
      "\u001b[1m31/31\u001b[0m \u001b[32m━━━━━━━━━━━━━━━━━━━━\u001b[0m\u001b[37m\u001b[0m \u001b[1m0s\u001b[0m 14ms/step - loss: 4.1757e-04 - val_loss: 0.0011\n",
      "Epoch 15/50\n",
      "\u001b[1m31/31\u001b[0m \u001b[32m━━━━━━━━━━━━━━━━━━━━\u001b[0m\u001b[37m\u001b[0m \u001b[1m1s\u001b[0m 14ms/step - loss: 4.3648e-04 - val_loss: 7.9244e-04\n",
      "Epoch 16/50\n",
      "\u001b[1m31/31\u001b[0m \u001b[32m━━━━━━━━━━━━━━━━━━━━\u001b[0m\u001b[37m\u001b[0m \u001b[1m0s\u001b[0m 14ms/step - loss: 4.0023e-04 - val_loss: 0.0027\n",
      "Epoch 17/50\n",
      "\u001b[1m31/31\u001b[0m \u001b[32m━━━━━━━━━━━━━━━━━━━━\u001b[0m\u001b[37m\u001b[0m \u001b[1m1s\u001b[0m 20ms/step - loss: 4.1153e-04 - val_loss: 0.0018\n",
      "Epoch 18/50\n",
      "\u001b[1m31/31\u001b[0m \u001b[32m━━━━━━━━━━━━━━━━━━━━\u001b[0m\u001b[37m\u001b[0m \u001b[1m0s\u001b[0m 13ms/step - loss: 3.4761e-04 - val_loss: 0.0021\n",
      "Epoch 19/50\n",
      "\u001b[1m31/31\u001b[0m \u001b[32m━━━━━━━━━━━━━━━━━━━━\u001b[0m\u001b[37m\u001b[0m \u001b[1m0s\u001b[0m 13ms/step - loss: 4.0004e-04 - val_loss: 0.0014\n",
      "Epoch 20/50\n",
      "\u001b[1m31/31\u001b[0m \u001b[32m━━━━━━━━━━━━━━━━━━━━\u001b[0m\u001b[37m\u001b[0m \u001b[1m1s\u001b[0m 14ms/step - loss: 3.7306e-04 - val_loss: 8.9821e-04\n",
      "Epoch 21/50\n",
      "\u001b[1m31/31\u001b[0m \u001b[32m━━━━━━━━━━━━━━━━━━━━\u001b[0m\u001b[37m\u001b[0m \u001b[1m0s\u001b[0m 13ms/step - loss: 3.7983e-04 - val_loss: 0.0010\n",
      "Epoch 22/50\n",
      "\u001b[1m31/31\u001b[0m \u001b[32m━━━━━━━━━━━━━━━━━━━━\u001b[0m\u001b[37m\u001b[0m \u001b[1m0s\u001b[0m 13ms/step - loss: 3.8122e-04 - val_loss: 0.0030\n",
      "Epoch 23/50\n",
      "\u001b[1m31/31\u001b[0m \u001b[32m━━━━━━━━━━━━━━━━━━━━\u001b[0m\u001b[37m\u001b[0m \u001b[1m0s\u001b[0m 15ms/step - loss: 4.1471e-04 - val_loss: 0.0010\n",
      "Epoch 24/50\n",
      "\u001b[1m31/31\u001b[0m \u001b[32m━━━━━━━━━━━━━━━━━━━━\u001b[0m\u001b[37m\u001b[0m \u001b[1m1s\u001b[0m 15ms/step - loss: 3.8704e-04 - val_loss: 0.0010\n",
      "Epoch 25/50\n",
      "\u001b[1m31/31\u001b[0m \u001b[32m━━━━━━━━━━━━━━━━━━━━\u001b[0m\u001b[37m\u001b[0m \u001b[1m0s\u001b[0m 14ms/step - loss: 3.6632e-04 - val_loss: 0.0032\n",
      "Epoch 26/50\n",
      "\u001b[1m31/31\u001b[0m \u001b[32m━━━━━━━━━━━━━━━━━━━━\u001b[0m\u001b[37m\u001b[0m \u001b[1m0s\u001b[0m 13ms/step - loss: 3.6073e-04 - val_loss: 0.0015\n",
      "Epoch 27/50\n",
      "\u001b[1m31/31\u001b[0m \u001b[32m━━━━━━━━━━━━━━━━━━━━\u001b[0m\u001b[37m\u001b[0m \u001b[1m0s\u001b[0m 13ms/step - loss: 3.8396e-04 - val_loss: 0.0019\n",
      "Epoch 28/50\n",
      "\u001b[1m31/31\u001b[0m \u001b[32m━━━━━━━━━━━━━━━━━━━━\u001b[0m\u001b[37m\u001b[0m \u001b[1m0s\u001b[0m 13ms/step - loss: 3.8264e-04 - val_loss: 0.0029\n",
      "Epoch 29/50\n",
      "\u001b[1m31/31\u001b[0m \u001b[32m━━━━━━━━━━━━━━━━━━━━\u001b[0m\u001b[37m\u001b[0m \u001b[1m1s\u001b[0m 21ms/step - loss: 4.2348e-04 - val_loss: 0.0011\n",
      "Epoch 30/50\n",
      "\u001b[1m31/31\u001b[0m \u001b[32m━━━━━━━━━━━━━━━━━━━━\u001b[0m\u001b[37m\u001b[0m \u001b[1m0s\u001b[0m 13ms/step - loss: 4.0823e-04 - val_loss: 0.0021\n",
      "Epoch 31/50\n",
      "\u001b[1m31/31\u001b[0m \u001b[32m━━━━━━━━━━━━━━━━━━━━\u001b[0m\u001b[37m\u001b[0m \u001b[1m0s\u001b[0m 13ms/step - loss: 3.6990e-04 - val_loss: 0.0024\n",
      "Epoch 32/50\n",
      "\u001b[1m31/31\u001b[0m \u001b[32m━━━━━━━━━━━━━━━━━━━━\u001b[0m\u001b[37m\u001b[0m \u001b[1m0s\u001b[0m 14ms/step - loss: 3.5417e-04 - val_loss: 0.0019\n",
      "Epoch 33/50\n",
      "\u001b[1m31/31\u001b[0m \u001b[32m━━━━━━━━━━━━━━━━━━━━\u001b[0m\u001b[37m\u001b[0m \u001b[1m0s\u001b[0m 14ms/step - loss: 3.9508e-04 - val_loss: 0.0017\n",
      "Epoch 34/50\n",
      "\u001b[1m31/31\u001b[0m \u001b[32m━━━━━━━━━━━━━━━━━━━━\u001b[0m\u001b[37m\u001b[0m \u001b[1m1s\u001b[0m 19ms/step - loss: 3.3897e-04 - val_loss: 0.0021\n",
      "Epoch 35/50\n",
      "\u001b[1m31/31\u001b[0m \u001b[32m━━━━━━━━━━━━━━━━━━━━\u001b[0m\u001b[37m\u001b[0m \u001b[1m0s\u001b[0m 13ms/step - loss: 3.8715e-04 - val_loss: 0.0013\n",
      "Epoch 36/50\n",
      "\u001b[1m31/31\u001b[0m \u001b[32m━━━━━━━━━━━━━━━━━━━━\u001b[0m\u001b[37m\u001b[0m \u001b[1m0s\u001b[0m 13ms/step - loss: 4.0717e-04 - val_loss: 0.0019\n",
      "Epoch 37/50\n",
      "\u001b[1m31/31\u001b[0m \u001b[32m━━━━━━━━━━━━━━━━━━━━\u001b[0m\u001b[37m\u001b[0m \u001b[1m0s\u001b[0m 14ms/step - loss: 3.2747e-04 - val_loss: 0.0024\n",
      "Epoch 38/50\n",
      "\u001b[1m31/31\u001b[0m \u001b[32m━━━━━━━━━━━━━━━━━━━━\u001b[0m\u001b[37m\u001b[0m \u001b[1m0s\u001b[0m 13ms/step - loss: 3.7298e-04 - val_loss: 0.0020\n",
      "Epoch 39/50\n",
      "\u001b[1m31/31\u001b[0m \u001b[32m━━━━━━━━━━━━━━━━━━━━\u001b[0m\u001b[37m\u001b[0m \u001b[1m1s\u001b[0m 23ms/step - loss: 3.6590e-04 - val_loss: 0.0026\n",
      "Epoch 40/50\n",
      "\u001b[1m31/31\u001b[0m \u001b[32m━━━━━━━━━━━━━━━━━━━━\u001b[0m\u001b[37m\u001b[0m \u001b[1m0s\u001b[0m 14ms/step - loss: 3.5972e-04 - val_loss: 0.0023\n",
      "Epoch 41/50\n",
      "\u001b[1m31/31\u001b[0m \u001b[32m━━━━━━━━━━━━━━━━━━━━\u001b[0m\u001b[37m\u001b[0m \u001b[1m0s\u001b[0m 15ms/step - loss: 3.3880e-04 - val_loss: 0.0023\n",
      "Epoch 42/50\n",
      "\u001b[1m31/31\u001b[0m \u001b[32m━━━━━━━━━━━━━━━━━━━━\u001b[0m\u001b[37m\u001b[0m \u001b[1m0s\u001b[0m 13ms/step - loss: 4.6286e-04 - val_loss: 0.0016\n",
      "Epoch 43/50\n",
      "\u001b[1m31/31\u001b[0m \u001b[32m━━━━━━━━━━━━━━━━━━━━\u001b[0m\u001b[37m\u001b[0m \u001b[1m1s\u001b[0m 14ms/step - loss: 3.4838e-04 - val_loss: 0.0024\n",
      "Epoch 44/50\n",
      "\u001b[1m31/31\u001b[0m \u001b[32m━━━━━━━━━━━━━━━━━━━━\u001b[0m\u001b[37m\u001b[0m \u001b[1m0s\u001b[0m 14ms/step - loss: 3.6013e-04 - val_loss: 0.0024\n",
      "Epoch 45/50\n",
      "\u001b[1m31/31\u001b[0m \u001b[32m━━━━━━━━━━━━━━━━━━━━\u001b[0m\u001b[37m\u001b[0m \u001b[1m1s\u001b[0m 14ms/step - loss: 4.1082e-04 - val_loss: 0.0032\n",
      "Epoch 46/50\n",
      "\u001b[1m31/31\u001b[0m \u001b[32m━━━━━━━━━━━━━━━━━━━━\u001b[0m\u001b[37m\u001b[0m \u001b[1m0s\u001b[0m 14ms/step - loss: 3.7765e-04 - val_loss: 0.0030\n",
      "Epoch 47/50\n",
      "\u001b[1m31/31\u001b[0m \u001b[32m━━━━━━━━━━━━━━━━━━━━\u001b[0m\u001b[37m\u001b[0m \u001b[1m0s\u001b[0m 14ms/step - loss: 3.1956e-04 - val_loss: 0.0021\n",
      "Epoch 48/50\n",
      "\u001b[1m31/31\u001b[0m \u001b[32m━━━━━━━━━━━━━━━━━━━━\u001b[0m\u001b[37m\u001b[0m \u001b[1m0s\u001b[0m 14ms/step - loss: 3.4203e-04 - val_loss: 0.0016\n",
      "Epoch 49/50\n",
      "\u001b[1m31/31\u001b[0m \u001b[32m━━━━━━━━━━━━━━━━━━━━\u001b[0m\u001b[37m\u001b[0m \u001b[1m0s\u001b[0m 15ms/step - loss: 3.1555e-04 - val_loss: 0.0035\n",
      "Epoch 50/50\n",
      "\u001b[1m31/31\u001b[0m \u001b[32m━━━━━━━━━━━━━━━━━━━━\u001b[0m\u001b[37m\u001b[0m \u001b[1m0s\u001b[0m 14ms/step - loss: 3.0464e-04 - val_loss: 0.0050\n",
      "\u001b[1m1/1\u001b[0m \u001b[32m━━━━━━━━━━━━━━━━━━━━\u001b[0m\u001b[37m\u001b[0m \u001b[1m0s\u001b[0m 35ms/step\n"
     ]
    }
   ],
   "source": [
    "# Realiza, para cada um dos tickers presentes na variável \"train_test_data\", o treinamento do modelo LSTM criado e salva os resultados obtidos\n",
    "# por esse modelo em suas tentativas de previsão.\n",
    "train_test_data = train_model_and_get_results(model, train_test_data)"
   ]
  },
  {
   "cell_type": "markdown",
   "metadata": {},
   "source": [
    "# **Resultados obtidos**"
   ]
  },
  {
   "cell_type": "code",
   "execution_count": 138,
   "metadata": {},
   "outputs": [],
   "source": [
    "def plot_multiples_time_series_line_graphs(data_list: list, serie_title: Optional[str] = \"\", serie_xaxis_title: Optional[str] = \"\", \n",
    "                               serie_yaxis_title: Optional[str] = \"\") -> None:\n",
    "    '''\n",
    "        Description:\n",
    "            Esta função exibe em um mesmo plot múltiplos gráficos de séries temporais. \n",
    "        Args:\n",
    "            data_list (list): Lista contendo as séries temporais cujos gráficos serão exibidos no plot. Os valores de tais séries temporais\n",
    "                              estarão no eixo y, enquanto os índices dessas séries estarão no eixo x.\n",
    "            title (string) [Optional]: Título do plot.\n",
    "            xaxis_title (string) [Optional]: Título do eixo x do plot.\n",
    "            yaxis_title (string) [Optional]: Título do eixo y do plot.\n",
    "        Return:\n",
    "            None: A função exibe os gráficos, mas não retorna nenhum valor.  \n",
    "        Errors:\n",
    "            TypeError: É esperado que todas os elementos da lista \"data_list\" sejam objetos do tipo pd.Series, isto é, que sejam séries temporais.\n",
    "            ValueError: É esperado que todas as séries temporais presentes na variável \"data_list\" possuam os mesmos índices. \n",
    "            TypeError: É esperado que todas as séries temporais presentes na variável data_list possuam um atributo \"name\".\n",
    "    '''    \n",
    "\n",
    "    # Verifica se todos os elementos presentes na lista \"data_list\" são séries temporais.\n",
    "    are_all_data_time_series = all(isinstance(df, pd.Series) for df in data_list)\n",
    "    \n",
    "    # Retorna um erro caso algum dos dados presentes na variável \"data_list\" não seja uma série temporal\n",
    "    if not are_all_data_time_series:\n",
    "        raise TypeError(\"Todos os dados presentes no parâmetro 'data_list' devem ser séries temporais.\")\n",
    "    \n",
    "    # Verifica se as séries temporais presentes na variável \"data_list\" possuem os mesmos índices.\n",
    "    are_all_index_equal = all(df.index.equals(data_list[0].index) for df in data_list)\n",
    "    \n",
    "    # Retorna um erro caso as séries temporais possuam índices diferentes.\n",
    "    if not are_all_index_equal:\n",
    "        raise ValueError(\"Todos as séries temporais devem possuir os mesmos índices.\")\n",
    "    \n",
    "    # Verifica se todas as séries temporais presentes na variável \"data_list\" possuem o atributo \"name\".\n",
    "    all_time_series_have_names = all(hasattr(df,\"name\") for df in data_list)\n",
    "    \n",
    "    # Retorna um erro caso uma das séries temporais presentes na variável \"data_list\" não possua o atributo \"name\".\n",
    "    if not all_time_series_have_names:\n",
    "        raise TypeError(\"Todas as séries temporais devem possuir o atributo 'name'\")\n",
    "    \n",
    "    # Cria uma lista de timestamps que representará o eixo x do gráfico que será plotado.\n",
    "    x_axis = data_list[0].index.tolist() # Observe que só podemos fazer isso pois temos certeza que todas as séries temporais possuem os mesmos índices.\n",
    "    # Cria a figura onde será plotado o gráfico.\n",
    "    fig = go.Figure()\n",
    "\n",
    "    # Adiciona cada série temporal ao gráfico.\n",
    "    for time_serie in data_list:\n",
    "        # Plota o gráfico (Data x Valor da Ação) do ticker em questão.\n",
    "        fig.add_trace(go.Scatter(x=x_axis, y=time_serie.values, mode=\"lines\", name=time_serie.name))\n",
    "    \n",
    "    # Atualiza o layout para permitir destaque ao clicar na legenda.\n",
    "    fig.update_layout(\n",
    "        # Seta um título para o plot.\n",
    "        title=serie_title,\n",
    "        # Seta um título para o eixo x do plot.\n",
    "        xaxis_title=serie_xaxis_title,\n",
    "        # Seta um título para o eixo y do plot.\n",
    "        yaxis_title=serie_yaxis_title,   \n",
    "    )\n",
    "    \n",
    "    # Exibe o gráfico criado.\n",
    "    fig.show()"
   ]
  },
  {
   "cell_type": "code",
   "execution_count": 139,
   "metadata": {},
   "outputs": [
    {
     "data": {
      "application/vnd.plotly.v1+json": {
       "config": {
        "plotlyServerURL": "https://plot.ly"
       },
       "data": [
        {
         "mode": "lines",
         "name": "Preço real de AMCR",
         "type": "scatter",
         "x": [
          "2023-12-12T00:00:00",
          "2023-12-13T00:00:00",
          "2023-12-14T00:00:00",
          "2023-12-15T00:00:00",
          "2023-12-18T00:00:00",
          "2023-12-19T00:00:00",
          "2023-12-20T00:00:00",
          "2023-12-21T00:00:00",
          "2023-12-22T00:00:00",
          "2023-12-26T00:00:00",
          "2023-12-27T00:00:00",
          "2023-12-28T00:00:00",
          "2023-12-29T00:00:00"
         ],
         "y": [
          9.092876434326172,
          9.381844520568848,
          9.352948188781738,
          9.246994018554688,
          9.324050903320312,
          9.381844520568848,
          9.266257286071777,
          9.352948188781738,
          9.324050903320312,
          9.324050903320312,
          9.362580299377441,
          9.352948188781738,
          9.285523414611816
         ]
        },
        {
         "mode": "lines",
         "name": "Preço estimado de AMCR",
         "type": "scatter",
         "x": [
          "2023-12-12T00:00:00",
          "2023-12-13T00:00:00",
          "2023-12-14T00:00:00",
          "2023-12-15T00:00:00",
          "2023-12-18T00:00:00",
          "2023-12-19T00:00:00",
          "2023-12-20T00:00:00",
          "2023-12-21T00:00:00",
          "2023-12-22T00:00:00",
          "2023-12-26T00:00:00",
          "2023-12-27T00:00:00",
          "2023-12-28T00:00:00",
          "2023-12-29T00:00:00"
         ],
         "y": [
          9.249418258666992,
          9.222012519836426,
          9.28402328491211,
          9.303301811218262,
          9.281477928161621,
          9.318096160888672,
          9.376121520996094,
          9.368585586547852,
          9.363470077514648,
          9.371801376342773,
          9.392814636230469,
          9.416847229003906,
          9.43080997467041
         ]
        }
       ],
       "layout": {
        "template": {
         "data": {
          "bar": [
           {
            "error_x": {
             "color": "#2a3f5f"
            },
            "error_y": {
             "color": "#2a3f5f"
            },
            "marker": {
             "line": {
              "color": "#E5ECF6",
              "width": 0.5
             },
             "pattern": {
              "fillmode": "overlay",
              "size": 10,
              "solidity": 0.2
             }
            },
            "type": "bar"
           }
          ],
          "barpolar": [
           {
            "marker": {
             "line": {
              "color": "#E5ECF6",
              "width": 0.5
             },
             "pattern": {
              "fillmode": "overlay",
              "size": 10,
              "solidity": 0.2
             }
            },
            "type": "barpolar"
           }
          ],
          "carpet": [
           {
            "aaxis": {
             "endlinecolor": "#2a3f5f",
             "gridcolor": "white",
             "linecolor": "white",
             "minorgridcolor": "white",
             "startlinecolor": "#2a3f5f"
            },
            "baxis": {
             "endlinecolor": "#2a3f5f",
             "gridcolor": "white",
             "linecolor": "white",
             "minorgridcolor": "white",
             "startlinecolor": "#2a3f5f"
            },
            "type": "carpet"
           }
          ],
          "choropleth": [
           {
            "colorbar": {
             "outlinewidth": 0,
             "ticks": ""
            },
            "type": "choropleth"
           }
          ],
          "contour": [
           {
            "colorbar": {
             "outlinewidth": 0,
             "ticks": ""
            },
            "colorscale": [
             [
              0,
              "#0d0887"
             ],
             [
              0.1111111111111111,
              "#46039f"
             ],
             [
              0.2222222222222222,
              "#7201a8"
             ],
             [
              0.3333333333333333,
              "#9c179e"
             ],
             [
              0.4444444444444444,
              "#bd3786"
             ],
             [
              0.5555555555555556,
              "#d8576b"
             ],
             [
              0.6666666666666666,
              "#ed7953"
             ],
             [
              0.7777777777777778,
              "#fb9f3a"
             ],
             [
              0.8888888888888888,
              "#fdca26"
             ],
             [
              1,
              "#f0f921"
             ]
            ],
            "type": "contour"
           }
          ],
          "contourcarpet": [
           {
            "colorbar": {
             "outlinewidth": 0,
             "ticks": ""
            },
            "type": "contourcarpet"
           }
          ],
          "heatmap": [
           {
            "colorbar": {
             "outlinewidth": 0,
             "ticks": ""
            },
            "colorscale": [
             [
              0,
              "#0d0887"
             ],
             [
              0.1111111111111111,
              "#46039f"
             ],
             [
              0.2222222222222222,
              "#7201a8"
             ],
             [
              0.3333333333333333,
              "#9c179e"
             ],
             [
              0.4444444444444444,
              "#bd3786"
             ],
             [
              0.5555555555555556,
              "#d8576b"
             ],
             [
              0.6666666666666666,
              "#ed7953"
             ],
             [
              0.7777777777777778,
              "#fb9f3a"
             ],
             [
              0.8888888888888888,
              "#fdca26"
             ],
             [
              1,
              "#f0f921"
             ]
            ],
            "type": "heatmap"
           }
          ],
          "heatmapgl": [
           {
            "colorbar": {
             "outlinewidth": 0,
             "ticks": ""
            },
            "colorscale": [
             [
              0,
              "#0d0887"
             ],
             [
              0.1111111111111111,
              "#46039f"
             ],
             [
              0.2222222222222222,
              "#7201a8"
             ],
             [
              0.3333333333333333,
              "#9c179e"
             ],
             [
              0.4444444444444444,
              "#bd3786"
             ],
             [
              0.5555555555555556,
              "#d8576b"
             ],
             [
              0.6666666666666666,
              "#ed7953"
             ],
             [
              0.7777777777777778,
              "#fb9f3a"
             ],
             [
              0.8888888888888888,
              "#fdca26"
             ],
             [
              1,
              "#f0f921"
             ]
            ],
            "type": "heatmapgl"
           }
          ],
          "histogram": [
           {
            "marker": {
             "pattern": {
              "fillmode": "overlay",
              "size": 10,
              "solidity": 0.2
             }
            },
            "type": "histogram"
           }
          ],
          "histogram2d": [
           {
            "colorbar": {
             "outlinewidth": 0,
             "ticks": ""
            },
            "colorscale": [
             [
              0,
              "#0d0887"
             ],
             [
              0.1111111111111111,
              "#46039f"
             ],
             [
              0.2222222222222222,
              "#7201a8"
             ],
             [
              0.3333333333333333,
              "#9c179e"
             ],
             [
              0.4444444444444444,
              "#bd3786"
             ],
             [
              0.5555555555555556,
              "#d8576b"
             ],
             [
              0.6666666666666666,
              "#ed7953"
             ],
             [
              0.7777777777777778,
              "#fb9f3a"
             ],
             [
              0.8888888888888888,
              "#fdca26"
             ],
             [
              1,
              "#f0f921"
             ]
            ],
            "type": "histogram2d"
           }
          ],
          "histogram2dcontour": [
           {
            "colorbar": {
             "outlinewidth": 0,
             "ticks": ""
            },
            "colorscale": [
             [
              0,
              "#0d0887"
             ],
             [
              0.1111111111111111,
              "#46039f"
             ],
             [
              0.2222222222222222,
              "#7201a8"
             ],
             [
              0.3333333333333333,
              "#9c179e"
             ],
             [
              0.4444444444444444,
              "#bd3786"
             ],
             [
              0.5555555555555556,
              "#d8576b"
             ],
             [
              0.6666666666666666,
              "#ed7953"
             ],
             [
              0.7777777777777778,
              "#fb9f3a"
             ],
             [
              0.8888888888888888,
              "#fdca26"
             ],
             [
              1,
              "#f0f921"
             ]
            ],
            "type": "histogram2dcontour"
           }
          ],
          "mesh3d": [
           {
            "colorbar": {
             "outlinewidth": 0,
             "ticks": ""
            },
            "type": "mesh3d"
           }
          ],
          "parcoords": [
           {
            "line": {
             "colorbar": {
              "outlinewidth": 0,
              "ticks": ""
             }
            },
            "type": "parcoords"
           }
          ],
          "pie": [
           {
            "automargin": true,
            "type": "pie"
           }
          ],
          "scatter": [
           {
            "fillpattern": {
             "fillmode": "overlay",
             "size": 10,
             "solidity": 0.2
            },
            "type": "scatter"
           }
          ],
          "scatter3d": [
           {
            "line": {
             "colorbar": {
              "outlinewidth": 0,
              "ticks": ""
             }
            },
            "marker": {
             "colorbar": {
              "outlinewidth": 0,
              "ticks": ""
             }
            },
            "type": "scatter3d"
           }
          ],
          "scattercarpet": [
           {
            "marker": {
             "colorbar": {
              "outlinewidth": 0,
              "ticks": ""
             }
            },
            "type": "scattercarpet"
           }
          ],
          "scattergeo": [
           {
            "marker": {
             "colorbar": {
              "outlinewidth": 0,
              "ticks": ""
             }
            },
            "type": "scattergeo"
           }
          ],
          "scattergl": [
           {
            "marker": {
             "colorbar": {
              "outlinewidth": 0,
              "ticks": ""
             }
            },
            "type": "scattergl"
           }
          ],
          "scattermapbox": [
           {
            "marker": {
             "colorbar": {
              "outlinewidth": 0,
              "ticks": ""
             }
            },
            "type": "scattermapbox"
           }
          ],
          "scatterpolar": [
           {
            "marker": {
             "colorbar": {
              "outlinewidth": 0,
              "ticks": ""
             }
            },
            "type": "scatterpolar"
           }
          ],
          "scatterpolargl": [
           {
            "marker": {
             "colorbar": {
              "outlinewidth": 0,
              "ticks": ""
             }
            },
            "type": "scatterpolargl"
           }
          ],
          "scatterternary": [
           {
            "marker": {
             "colorbar": {
              "outlinewidth": 0,
              "ticks": ""
             }
            },
            "type": "scatterternary"
           }
          ],
          "surface": [
           {
            "colorbar": {
             "outlinewidth": 0,
             "ticks": ""
            },
            "colorscale": [
             [
              0,
              "#0d0887"
             ],
             [
              0.1111111111111111,
              "#46039f"
             ],
             [
              0.2222222222222222,
              "#7201a8"
             ],
             [
              0.3333333333333333,
              "#9c179e"
             ],
             [
              0.4444444444444444,
              "#bd3786"
             ],
             [
              0.5555555555555556,
              "#d8576b"
             ],
             [
              0.6666666666666666,
              "#ed7953"
             ],
             [
              0.7777777777777778,
              "#fb9f3a"
             ],
             [
              0.8888888888888888,
              "#fdca26"
             ],
             [
              1,
              "#f0f921"
             ]
            ],
            "type": "surface"
           }
          ],
          "table": [
           {
            "cells": {
             "fill": {
              "color": "#EBF0F8"
             },
             "line": {
              "color": "white"
             }
            },
            "header": {
             "fill": {
              "color": "#C8D4E3"
             },
             "line": {
              "color": "white"
             }
            },
            "type": "table"
           }
          ]
         },
         "layout": {
          "annotationdefaults": {
           "arrowcolor": "#2a3f5f",
           "arrowhead": 0,
           "arrowwidth": 1
          },
          "autotypenumbers": "strict",
          "coloraxis": {
           "colorbar": {
            "outlinewidth": 0,
            "ticks": ""
           }
          },
          "colorscale": {
           "diverging": [
            [
             0,
             "#8e0152"
            ],
            [
             0.1,
             "#c51b7d"
            ],
            [
             0.2,
             "#de77ae"
            ],
            [
             0.3,
             "#f1b6da"
            ],
            [
             0.4,
             "#fde0ef"
            ],
            [
             0.5,
             "#f7f7f7"
            ],
            [
             0.6,
             "#e6f5d0"
            ],
            [
             0.7,
             "#b8e186"
            ],
            [
             0.8,
             "#7fbc41"
            ],
            [
             0.9,
             "#4d9221"
            ],
            [
             1,
             "#276419"
            ]
           ],
           "sequential": [
            [
             0,
             "#0d0887"
            ],
            [
             0.1111111111111111,
             "#46039f"
            ],
            [
             0.2222222222222222,
             "#7201a8"
            ],
            [
             0.3333333333333333,
             "#9c179e"
            ],
            [
             0.4444444444444444,
             "#bd3786"
            ],
            [
             0.5555555555555556,
             "#d8576b"
            ],
            [
             0.6666666666666666,
             "#ed7953"
            ],
            [
             0.7777777777777778,
             "#fb9f3a"
            ],
            [
             0.8888888888888888,
             "#fdca26"
            ],
            [
             1,
             "#f0f921"
            ]
           ],
           "sequentialminus": [
            [
             0,
             "#0d0887"
            ],
            [
             0.1111111111111111,
             "#46039f"
            ],
            [
             0.2222222222222222,
             "#7201a8"
            ],
            [
             0.3333333333333333,
             "#9c179e"
            ],
            [
             0.4444444444444444,
             "#bd3786"
            ],
            [
             0.5555555555555556,
             "#d8576b"
            ],
            [
             0.6666666666666666,
             "#ed7953"
            ],
            [
             0.7777777777777778,
             "#fb9f3a"
            ],
            [
             0.8888888888888888,
             "#fdca26"
            ],
            [
             1,
             "#f0f921"
            ]
           ]
          },
          "colorway": [
           "#636efa",
           "#EF553B",
           "#00cc96",
           "#ab63fa",
           "#FFA15A",
           "#19d3f3",
           "#FF6692",
           "#B6E880",
           "#FF97FF",
           "#FECB52"
          ],
          "font": {
           "color": "#2a3f5f"
          },
          "geo": {
           "bgcolor": "white",
           "lakecolor": "white",
           "landcolor": "#E5ECF6",
           "showlakes": true,
           "showland": true,
           "subunitcolor": "white"
          },
          "hoverlabel": {
           "align": "left"
          },
          "hovermode": "closest",
          "mapbox": {
           "style": "light"
          },
          "paper_bgcolor": "white",
          "plot_bgcolor": "#E5ECF6",
          "polar": {
           "angularaxis": {
            "gridcolor": "white",
            "linecolor": "white",
            "ticks": ""
           },
           "bgcolor": "#E5ECF6",
           "radialaxis": {
            "gridcolor": "white",
            "linecolor": "white",
            "ticks": ""
           }
          },
          "scene": {
           "xaxis": {
            "backgroundcolor": "#E5ECF6",
            "gridcolor": "white",
            "gridwidth": 2,
            "linecolor": "white",
            "showbackground": true,
            "ticks": "",
            "zerolinecolor": "white"
           },
           "yaxis": {
            "backgroundcolor": "#E5ECF6",
            "gridcolor": "white",
            "gridwidth": 2,
            "linecolor": "white",
            "showbackground": true,
            "ticks": "",
            "zerolinecolor": "white"
           },
           "zaxis": {
            "backgroundcolor": "#E5ECF6",
            "gridcolor": "white",
            "gridwidth": 2,
            "linecolor": "white",
            "showbackground": true,
            "ticks": "",
            "zerolinecolor": "white"
           }
          },
          "shapedefaults": {
           "line": {
            "color": "#2a3f5f"
           }
          },
          "ternary": {
           "aaxis": {
            "gridcolor": "white",
            "linecolor": "white",
            "ticks": ""
           },
           "baxis": {
            "gridcolor": "white",
            "linecolor": "white",
            "ticks": ""
           },
           "bgcolor": "#E5ECF6",
           "caxis": {
            "gridcolor": "white",
            "linecolor": "white",
            "ticks": ""
           }
          },
          "title": {
           "x": 0.05
          },
          "xaxis": {
           "automargin": true,
           "gridcolor": "white",
           "linecolor": "white",
           "ticks": "",
           "title": {
            "standoff": 15
           },
           "zerolinecolor": "white",
           "zerolinewidth": 2
          },
          "yaxis": {
           "automargin": true,
           "gridcolor": "white",
           "linecolor": "white",
           "ticks": "",
           "title": {
            "standoff": 15
           },
           "zerolinecolor": "white",
           "zerolinewidth": 2
          }
         }
        },
        "title": {
         "text": "Preço real de AMCR x Preço estimado de AMCR"
        },
        "xaxis": {
         "title": {
          "text": "Data"
         }
        },
        "yaxis": {
         "title": {
          "text": "Preço"
         }
        }
       }
      }
     },
     "metadata": {},
     "output_type": "display_data"
    },
    {
     "data": {
      "application/vnd.plotly.v1+json": {
       "config": {
        "plotlyServerURL": "https://plot.ly"
       },
       "data": [
        {
         "mode": "lines",
         "name": "Preço real de AAL",
         "type": "scatter",
         "x": [
          "2023-12-12T00:00:00",
          "2023-12-13T00:00:00",
          "2023-12-14T00:00:00",
          "2023-12-15T00:00:00",
          "2023-12-18T00:00:00",
          "2023-12-19T00:00:00",
          "2023-12-20T00:00:00",
          "2023-12-21T00:00:00",
          "2023-12-22T00:00:00",
          "2023-12-26T00:00:00",
          "2023-12-27T00:00:00",
          "2023-12-28T00:00:00",
          "2023-12-29T00:00:00"
         ],
         "y": [
          14.039999961853027,
          14.090000152587892,
          14.59000015258789,
          14.489999771118164,
          14.239999771118166,
          14.300000190734863,
          13.979999542236328,
          14.350000381469728,
          14.310000419616701,
          14.109999656677246,
          13.989999771118162,
          13.979999542236328,
          13.739999771118164
         ]
        },
        {
         "mode": "lines",
         "name": "Preço estimado de AAL",
         "type": "scatter",
         "x": [
          "2023-12-12T00:00:00",
          "2023-12-13T00:00:00",
          "2023-12-14T00:00:00",
          "2023-12-15T00:00:00",
          "2023-12-18T00:00:00",
          "2023-12-19T00:00:00",
          "2023-12-20T00:00:00",
          "2023-12-21T00:00:00",
          "2023-12-22T00:00:00",
          "2023-12-26T00:00:00",
          "2023-12-27T00:00:00",
          "2023-12-28T00:00:00",
          "2023-12-29T00:00:00"
         ],
         "y": [
          14.548574447631836,
          14.840982437133789,
          15.083600044250488,
          15.59679126739502,
          15.661730766296387,
          15.340614318847656,
          15.249847412109375,
          14.76652717590332,
          14.86931324005127,
          14.889236450195312,
          14.70089340209961,
          14.501299858093262,
          14.38997745513916
         ]
        }
       ],
       "layout": {
        "template": {
         "data": {
          "bar": [
           {
            "error_x": {
             "color": "#2a3f5f"
            },
            "error_y": {
             "color": "#2a3f5f"
            },
            "marker": {
             "line": {
              "color": "#E5ECF6",
              "width": 0.5
             },
             "pattern": {
              "fillmode": "overlay",
              "size": 10,
              "solidity": 0.2
             }
            },
            "type": "bar"
           }
          ],
          "barpolar": [
           {
            "marker": {
             "line": {
              "color": "#E5ECF6",
              "width": 0.5
             },
             "pattern": {
              "fillmode": "overlay",
              "size": 10,
              "solidity": 0.2
             }
            },
            "type": "barpolar"
           }
          ],
          "carpet": [
           {
            "aaxis": {
             "endlinecolor": "#2a3f5f",
             "gridcolor": "white",
             "linecolor": "white",
             "minorgridcolor": "white",
             "startlinecolor": "#2a3f5f"
            },
            "baxis": {
             "endlinecolor": "#2a3f5f",
             "gridcolor": "white",
             "linecolor": "white",
             "minorgridcolor": "white",
             "startlinecolor": "#2a3f5f"
            },
            "type": "carpet"
           }
          ],
          "choropleth": [
           {
            "colorbar": {
             "outlinewidth": 0,
             "ticks": ""
            },
            "type": "choropleth"
           }
          ],
          "contour": [
           {
            "colorbar": {
             "outlinewidth": 0,
             "ticks": ""
            },
            "colorscale": [
             [
              0,
              "#0d0887"
             ],
             [
              0.1111111111111111,
              "#46039f"
             ],
             [
              0.2222222222222222,
              "#7201a8"
             ],
             [
              0.3333333333333333,
              "#9c179e"
             ],
             [
              0.4444444444444444,
              "#bd3786"
             ],
             [
              0.5555555555555556,
              "#d8576b"
             ],
             [
              0.6666666666666666,
              "#ed7953"
             ],
             [
              0.7777777777777778,
              "#fb9f3a"
             ],
             [
              0.8888888888888888,
              "#fdca26"
             ],
             [
              1,
              "#f0f921"
             ]
            ],
            "type": "contour"
           }
          ],
          "contourcarpet": [
           {
            "colorbar": {
             "outlinewidth": 0,
             "ticks": ""
            },
            "type": "contourcarpet"
           }
          ],
          "heatmap": [
           {
            "colorbar": {
             "outlinewidth": 0,
             "ticks": ""
            },
            "colorscale": [
             [
              0,
              "#0d0887"
             ],
             [
              0.1111111111111111,
              "#46039f"
             ],
             [
              0.2222222222222222,
              "#7201a8"
             ],
             [
              0.3333333333333333,
              "#9c179e"
             ],
             [
              0.4444444444444444,
              "#bd3786"
             ],
             [
              0.5555555555555556,
              "#d8576b"
             ],
             [
              0.6666666666666666,
              "#ed7953"
             ],
             [
              0.7777777777777778,
              "#fb9f3a"
             ],
             [
              0.8888888888888888,
              "#fdca26"
             ],
             [
              1,
              "#f0f921"
             ]
            ],
            "type": "heatmap"
           }
          ],
          "heatmapgl": [
           {
            "colorbar": {
             "outlinewidth": 0,
             "ticks": ""
            },
            "colorscale": [
             [
              0,
              "#0d0887"
             ],
             [
              0.1111111111111111,
              "#46039f"
             ],
             [
              0.2222222222222222,
              "#7201a8"
             ],
             [
              0.3333333333333333,
              "#9c179e"
             ],
             [
              0.4444444444444444,
              "#bd3786"
             ],
             [
              0.5555555555555556,
              "#d8576b"
             ],
             [
              0.6666666666666666,
              "#ed7953"
             ],
             [
              0.7777777777777778,
              "#fb9f3a"
             ],
             [
              0.8888888888888888,
              "#fdca26"
             ],
             [
              1,
              "#f0f921"
             ]
            ],
            "type": "heatmapgl"
           }
          ],
          "histogram": [
           {
            "marker": {
             "pattern": {
              "fillmode": "overlay",
              "size": 10,
              "solidity": 0.2
             }
            },
            "type": "histogram"
           }
          ],
          "histogram2d": [
           {
            "colorbar": {
             "outlinewidth": 0,
             "ticks": ""
            },
            "colorscale": [
             [
              0,
              "#0d0887"
             ],
             [
              0.1111111111111111,
              "#46039f"
             ],
             [
              0.2222222222222222,
              "#7201a8"
             ],
             [
              0.3333333333333333,
              "#9c179e"
             ],
             [
              0.4444444444444444,
              "#bd3786"
             ],
             [
              0.5555555555555556,
              "#d8576b"
             ],
             [
              0.6666666666666666,
              "#ed7953"
             ],
             [
              0.7777777777777778,
              "#fb9f3a"
             ],
             [
              0.8888888888888888,
              "#fdca26"
             ],
             [
              1,
              "#f0f921"
             ]
            ],
            "type": "histogram2d"
           }
          ],
          "histogram2dcontour": [
           {
            "colorbar": {
             "outlinewidth": 0,
             "ticks": ""
            },
            "colorscale": [
             [
              0,
              "#0d0887"
             ],
             [
              0.1111111111111111,
              "#46039f"
             ],
             [
              0.2222222222222222,
              "#7201a8"
             ],
             [
              0.3333333333333333,
              "#9c179e"
             ],
             [
              0.4444444444444444,
              "#bd3786"
             ],
             [
              0.5555555555555556,
              "#d8576b"
             ],
             [
              0.6666666666666666,
              "#ed7953"
             ],
             [
              0.7777777777777778,
              "#fb9f3a"
             ],
             [
              0.8888888888888888,
              "#fdca26"
             ],
             [
              1,
              "#f0f921"
             ]
            ],
            "type": "histogram2dcontour"
           }
          ],
          "mesh3d": [
           {
            "colorbar": {
             "outlinewidth": 0,
             "ticks": ""
            },
            "type": "mesh3d"
           }
          ],
          "parcoords": [
           {
            "line": {
             "colorbar": {
              "outlinewidth": 0,
              "ticks": ""
             }
            },
            "type": "parcoords"
           }
          ],
          "pie": [
           {
            "automargin": true,
            "type": "pie"
           }
          ],
          "scatter": [
           {
            "fillpattern": {
             "fillmode": "overlay",
             "size": 10,
             "solidity": 0.2
            },
            "type": "scatter"
           }
          ],
          "scatter3d": [
           {
            "line": {
             "colorbar": {
              "outlinewidth": 0,
              "ticks": ""
             }
            },
            "marker": {
             "colorbar": {
              "outlinewidth": 0,
              "ticks": ""
             }
            },
            "type": "scatter3d"
           }
          ],
          "scattercarpet": [
           {
            "marker": {
             "colorbar": {
              "outlinewidth": 0,
              "ticks": ""
             }
            },
            "type": "scattercarpet"
           }
          ],
          "scattergeo": [
           {
            "marker": {
             "colorbar": {
              "outlinewidth": 0,
              "ticks": ""
             }
            },
            "type": "scattergeo"
           }
          ],
          "scattergl": [
           {
            "marker": {
             "colorbar": {
              "outlinewidth": 0,
              "ticks": ""
             }
            },
            "type": "scattergl"
           }
          ],
          "scattermapbox": [
           {
            "marker": {
             "colorbar": {
              "outlinewidth": 0,
              "ticks": ""
             }
            },
            "type": "scattermapbox"
           }
          ],
          "scatterpolar": [
           {
            "marker": {
             "colorbar": {
              "outlinewidth": 0,
              "ticks": ""
             }
            },
            "type": "scatterpolar"
           }
          ],
          "scatterpolargl": [
           {
            "marker": {
             "colorbar": {
              "outlinewidth": 0,
              "ticks": ""
             }
            },
            "type": "scatterpolargl"
           }
          ],
          "scatterternary": [
           {
            "marker": {
             "colorbar": {
              "outlinewidth": 0,
              "ticks": ""
             }
            },
            "type": "scatterternary"
           }
          ],
          "surface": [
           {
            "colorbar": {
             "outlinewidth": 0,
             "ticks": ""
            },
            "colorscale": [
             [
              0,
              "#0d0887"
             ],
             [
              0.1111111111111111,
              "#46039f"
             ],
             [
              0.2222222222222222,
              "#7201a8"
             ],
             [
              0.3333333333333333,
              "#9c179e"
             ],
             [
              0.4444444444444444,
              "#bd3786"
             ],
             [
              0.5555555555555556,
              "#d8576b"
             ],
             [
              0.6666666666666666,
              "#ed7953"
             ],
             [
              0.7777777777777778,
              "#fb9f3a"
             ],
             [
              0.8888888888888888,
              "#fdca26"
             ],
             [
              1,
              "#f0f921"
             ]
            ],
            "type": "surface"
           }
          ],
          "table": [
           {
            "cells": {
             "fill": {
              "color": "#EBF0F8"
             },
             "line": {
              "color": "white"
             }
            },
            "header": {
             "fill": {
              "color": "#C8D4E3"
             },
             "line": {
              "color": "white"
             }
            },
            "type": "table"
           }
          ]
         },
         "layout": {
          "annotationdefaults": {
           "arrowcolor": "#2a3f5f",
           "arrowhead": 0,
           "arrowwidth": 1
          },
          "autotypenumbers": "strict",
          "coloraxis": {
           "colorbar": {
            "outlinewidth": 0,
            "ticks": ""
           }
          },
          "colorscale": {
           "diverging": [
            [
             0,
             "#8e0152"
            ],
            [
             0.1,
             "#c51b7d"
            ],
            [
             0.2,
             "#de77ae"
            ],
            [
             0.3,
             "#f1b6da"
            ],
            [
             0.4,
             "#fde0ef"
            ],
            [
             0.5,
             "#f7f7f7"
            ],
            [
             0.6,
             "#e6f5d0"
            ],
            [
             0.7,
             "#b8e186"
            ],
            [
             0.8,
             "#7fbc41"
            ],
            [
             0.9,
             "#4d9221"
            ],
            [
             1,
             "#276419"
            ]
           ],
           "sequential": [
            [
             0,
             "#0d0887"
            ],
            [
             0.1111111111111111,
             "#46039f"
            ],
            [
             0.2222222222222222,
             "#7201a8"
            ],
            [
             0.3333333333333333,
             "#9c179e"
            ],
            [
             0.4444444444444444,
             "#bd3786"
            ],
            [
             0.5555555555555556,
             "#d8576b"
            ],
            [
             0.6666666666666666,
             "#ed7953"
            ],
            [
             0.7777777777777778,
             "#fb9f3a"
            ],
            [
             0.8888888888888888,
             "#fdca26"
            ],
            [
             1,
             "#f0f921"
            ]
           ],
           "sequentialminus": [
            [
             0,
             "#0d0887"
            ],
            [
             0.1111111111111111,
             "#46039f"
            ],
            [
             0.2222222222222222,
             "#7201a8"
            ],
            [
             0.3333333333333333,
             "#9c179e"
            ],
            [
             0.4444444444444444,
             "#bd3786"
            ],
            [
             0.5555555555555556,
             "#d8576b"
            ],
            [
             0.6666666666666666,
             "#ed7953"
            ],
            [
             0.7777777777777778,
             "#fb9f3a"
            ],
            [
             0.8888888888888888,
             "#fdca26"
            ],
            [
             1,
             "#f0f921"
            ]
           ]
          },
          "colorway": [
           "#636efa",
           "#EF553B",
           "#00cc96",
           "#ab63fa",
           "#FFA15A",
           "#19d3f3",
           "#FF6692",
           "#B6E880",
           "#FF97FF",
           "#FECB52"
          ],
          "font": {
           "color": "#2a3f5f"
          },
          "geo": {
           "bgcolor": "white",
           "lakecolor": "white",
           "landcolor": "#E5ECF6",
           "showlakes": true,
           "showland": true,
           "subunitcolor": "white"
          },
          "hoverlabel": {
           "align": "left"
          },
          "hovermode": "closest",
          "mapbox": {
           "style": "light"
          },
          "paper_bgcolor": "white",
          "plot_bgcolor": "#E5ECF6",
          "polar": {
           "angularaxis": {
            "gridcolor": "white",
            "linecolor": "white",
            "ticks": ""
           },
           "bgcolor": "#E5ECF6",
           "radialaxis": {
            "gridcolor": "white",
            "linecolor": "white",
            "ticks": ""
           }
          },
          "scene": {
           "xaxis": {
            "backgroundcolor": "#E5ECF6",
            "gridcolor": "white",
            "gridwidth": 2,
            "linecolor": "white",
            "showbackground": true,
            "ticks": "",
            "zerolinecolor": "white"
           },
           "yaxis": {
            "backgroundcolor": "#E5ECF6",
            "gridcolor": "white",
            "gridwidth": 2,
            "linecolor": "white",
            "showbackground": true,
            "ticks": "",
            "zerolinecolor": "white"
           },
           "zaxis": {
            "backgroundcolor": "#E5ECF6",
            "gridcolor": "white",
            "gridwidth": 2,
            "linecolor": "white",
            "showbackground": true,
            "ticks": "",
            "zerolinecolor": "white"
           }
          },
          "shapedefaults": {
           "line": {
            "color": "#2a3f5f"
           }
          },
          "ternary": {
           "aaxis": {
            "gridcolor": "white",
            "linecolor": "white",
            "ticks": ""
           },
           "baxis": {
            "gridcolor": "white",
            "linecolor": "white",
            "ticks": ""
           },
           "bgcolor": "#E5ECF6",
           "caxis": {
            "gridcolor": "white",
            "linecolor": "white",
            "ticks": ""
           }
          },
          "title": {
           "x": 0.05
          },
          "xaxis": {
           "automargin": true,
           "gridcolor": "white",
           "linecolor": "white",
           "ticks": "",
           "title": {
            "standoff": 15
           },
           "zerolinecolor": "white",
           "zerolinewidth": 2
          },
          "yaxis": {
           "automargin": true,
           "gridcolor": "white",
           "linecolor": "white",
           "ticks": "",
           "title": {
            "standoff": 15
           },
           "zerolinecolor": "white",
           "zerolinewidth": 2
          }
         }
        },
        "title": {
         "text": "Preço real de AAL x Preço estimado de AAL"
        },
        "xaxis": {
         "title": {
          "text": "Data"
         }
        },
        "yaxis": {
         "title": {
          "text": "Preço"
         }
        }
       }
      }
     },
     "metadata": {},
     "output_type": "display_data"
    },
    {
     "data": {
      "application/vnd.plotly.v1+json": {
       "config": {
        "plotlyServerURL": "https://plot.ly"
       },
       "data": [
        {
         "mode": "lines",
         "name": "Preço real de T",
         "type": "scatter",
         "x": [
          "2023-12-12T00:00:00",
          "2023-12-13T00:00:00",
          "2023-12-14T00:00:00",
          "2023-12-15T00:00:00",
          "2023-12-18T00:00:00",
          "2023-12-19T00:00:00",
          "2023-12-20T00:00:00",
          "2023-12-21T00:00:00",
          "2023-12-22T00:00:00",
          "2023-12-26T00:00:00",
          "2023-12-27T00:00:00",
          "2023-12-28T00:00:00",
          "2023-12-29T00:00:00"
         ],
         "y": [
          15.651473045349121,
          15.68962287902832,
          15.880376815795898,
          15.756386756896973,
          15.699159622192383,
          15.842227935791016,
          15.641934394836426,
          15.727774620056152,
          15.785000801086426,
          15.804076194763184,
          15.813612937927246,
          15.966217994689941,
          16.004369735717773
         ]
        },
        {
         "mode": "lines",
         "name": "Preço estimado de T",
         "type": "scatter",
         "x": [
          "2023-12-12T00:00:00",
          "2023-12-13T00:00:00",
          "2023-12-14T00:00:00",
          "2023-12-15T00:00:00",
          "2023-12-18T00:00:00",
          "2023-12-19T00:00:00",
          "2023-12-20T00:00:00",
          "2023-12-21T00:00:00",
          "2023-12-22T00:00:00",
          "2023-12-26T00:00:00",
          "2023-12-27T00:00:00",
          "2023-12-28T00:00:00",
          "2023-12-29T00:00:00"
         ],
         "y": [
          15.914538383483887,
          15.713305473327637,
          15.769137382507324,
          15.954659461975098,
          15.963713645935059,
          15.918603897094727,
          16.068363189697266,
          15.93818473815918,
          15.956182479858398,
          16.003305435180664,
          15.990163803100586,
          16.004711151123047,
          16.126449584960938
         ]
        }
       ],
       "layout": {
        "template": {
         "data": {
          "bar": [
           {
            "error_x": {
             "color": "#2a3f5f"
            },
            "error_y": {
             "color": "#2a3f5f"
            },
            "marker": {
             "line": {
              "color": "#E5ECF6",
              "width": 0.5
             },
             "pattern": {
              "fillmode": "overlay",
              "size": 10,
              "solidity": 0.2
             }
            },
            "type": "bar"
           }
          ],
          "barpolar": [
           {
            "marker": {
             "line": {
              "color": "#E5ECF6",
              "width": 0.5
             },
             "pattern": {
              "fillmode": "overlay",
              "size": 10,
              "solidity": 0.2
             }
            },
            "type": "barpolar"
           }
          ],
          "carpet": [
           {
            "aaxis": {
             "endlinecolor": "#2a3f5f",
             "gridcolor": "white",
             "linecolor": "white",
             "minorgridcolor": "white",
             "startlinecolor": "#2a3f5f"
            },
            "baxis": {
             "endlinecolor": "#2a3f5f",
             "gridcolor": "white",
             "linecolor": "white",
             "minorgridcolor": "white",
             "startlinecolor": "#2a3f5f"
            },
            "type": "carpet"
           }
          ],
          "choropleth": [
           {
            "colorbar": {
             "outlinewidth": 0,
             "ticks": ""
            },
            "type": "choropleth"
           }
          ],
          "contour": [
           {
            "colorbar": {
             "outlinewidth": 0,
             "ticks": ""
            },
            "colorscale": [
             [
              0,
              "#0d0887"
             ],
             [
              0.1111111111111111,
              "#46039f"
             ],
             [
              0.2222222222222222,
              "#7201a8"
             ],
             [
              0.3333333333333333,
              "#9c179e"
             ],
             [
              0.4444444444444444,
              "#bd3786"
             ],
             [
              0.5555555555555556,
              "#d8576b"
             ],
             [
              0.6666666666666666,
              "#ed7953"
             ],
             [
              0.7777777777777778,
              "#fb9f3a"
             ],
             [
              0.8888888888888888,
              "#fdca26"
             ],
             [
              1,
              "#f0f921"
             ]
            ],
            "type": "contour"
           }
          ],
          "contourcarpet": [
           {
            "colorbar": {
             "outlinewidth": 0,
             "ticks": ""
            },
            "type": "contourcarpet"
           }
          ],
          "heatmap": [
           {
            "colorbar": {
             "outlinewidth": 0,
             "ticks": ""
            },
            "colorscale": [
             [
              0,
              "#0d0887"
             ],
             [
              0.1111111111111111,
              "#46039f"
             ],
             [
              0.2222222222222222,
              "#7201a8"
             ],
             [
              0.3333333333333333,
              "#9c179e"
             ],
             [
              0.4444444444444444,
              "#bd3786"
             ],
             [
              0.5555555555555556,
              "#d8576b"
             ],
             [
              0.6666666666666666,
              "#ed7953"
             ],
             [
              0.7777777777777778,
              "#fb9f3a"
             ],
             [
              0.8888888888888888,
              "#fdca26"
             ],
             [
              1,
              "#f0f921"
             ]
            ],
            "type": "heatmap"
           }
          ],
          "heatmapgl": [
           {
            "colorbar": {
             "outlinewidth": 0,
             "ticks": ""
            },
            "colorscale": [
             [
              0,
              "#0d0887"
             ],
             [
              0.1111111111111111,
              "#46039f"
             ],
             [
              0.2222222222222222,
              "#7201a8"
             ],
             [
              0.3333333333333333,
              "#9c179e"
             ],
             [
              0.4444444444444444,
              "#bd3786"
             ],
             [
              0.5555555555555556,
              "#d8576b"
             ],
             [
              0.6666666666666666,
              "#ed7953"
             ],
             [
              0.7777777777777778,
              "#fb9f3a"
             ],
             [
              0.8888888888888888,
              "#fdca26"
             ],
             [
              1,
              "#f0f921"
             ]
            ],
            "type": "heatmapgl"
           }
          ],
          "histogram": [
           {
            "marker": {
             "pattern": {
              "fillmode": "overlay",
              "size": 10,
              "solidity": 0.2
             }
            },
            "type": "histogram"
           }
          ],
          "histogram2d": [
           {
            "colorbar": {
             "outlinewidth": 0,
             "ticks": ""
            },
            "colorscale": [
             [
              0,
              "#0d0887"
             ],
             [
              0.1111111111111111,
              "#46039f"
             ],
             [
              0.2222222222222222,
              "#7201a8"
             ],
             [
              0.3333333333333333,
              "#9c179e"
             ],
             [
              0.4444444444444444,
              "#bd3786"
             ],
             [
              0.5555555555555556,
              "#d8576b"
             ],
             [
              0.6666666666666666,
              "#ed7953"
             ],
             [
              0.7777777777777778,
              "#fb9f3a"
             ],
             [
              0.8888888888888888,
              "#fdca26"
             ],
             [
              1,
              "#f0f921"
             ]
            ],
            "type": "histogram2d"
           }
          ],
          "histogram2dcontour": [
           {
            "colorbar": {
             "outlinewidth": 0,
             "ticks": ""
            },
            "colorscale": [
             [
              0,
              "#0d0887"
             ],
             [
              0.1111111111111111,
              "#46039f"
             ],
             [
              0.2222222222222222,
              "#7201a8"
             ],
             [
              0.3333333333333333,
              "#9c179e"
             ],
             [
              0.4444444444444444,
              "#bd3786"
             ],
             [
              0.5555555555555556,
              "#d8576b"
             ],
             [
              0.6666666666666666,
              "#ed7953"
             ],
             [
              0.7777777777777778,
              "#fb9f3a"
             ],
             [
              0.8888888888888888,
              "#fdca26"
             ],
             [
              1,
              "#f0f921"
             ]
            ],
            "type": "histogram2dcontour"
           }
          ],
          "mesh3d": [
           {
            "colorbar": {
             "outlinewidth": 0,
             "ticks": ""
            },
            "type": "mesh3d"
           }
          ],
          "parcoords": [
           {
            "line": {
             "colorbar": {
              "outlinewidth": 0,
              "ticks": ""
             }
            },
            "type": "parcoords"
           }
          ],
          "pie": [
           {
            "automargin": true,
            "type": "pie"
           }
          ],
          "scatter": [
           {
            "fillpattern": {
             "fillmode": "overlay",
             "size": 10,
             "solidity": 0.2
            },
            "type": "scatter"
           }
          ],
          "scatter3d": [
           {
            "line": {
             "colorbar": {
              "outlinewidth": 0,
              "ticks": ""
             }
            },
            "marker": {
             "colorbar": {
              "outlinewidth": 0,
              "ticks": ""
             }
            },
            "type": "scatter3d"
           }
          ],
          "scattercarpet": [
           {
            "marker": {
             "colorbar": {
              "outlinewidth": 0,
              "ticks": ""
             }
            },
            "type": "scattercarpet"
           }
          ],
          "scattergeo": [
           {
            "marker": {
             "colorbar": {
              "outlinewidth": 0,
              "ticks": ""
             }
            },
            "type": "scattergeo"
           }
          ],
          "scattergl": [
           {
            "marker": {
             "colorbar": {
              "outlinewidth": 0,
              "ticks": ""
             }
            },
            "type": "scattergl"
           }
          ],
          "scattermapbox": [
           {
            "marker": {
             "colorbar": {
              "outlinewidth": 0,
              "ticks": ""
             }
            },
            "type": "scattermapbox"
           }
          ],
          "scatterpolar": [
           {
            "marker": {
             "colorbar": {
              "outlinewidth": 0,
              "ticks": ""
             }
            },
            "type": "scatterpolar"
           }
          ],
          "scatterpolargl": [
           {
            "marker": {
             "colorbar": {
              "outlinewidth": 0,
              "ticks": ""
             }
            },
            "type": "scatterpolargl"
           }
          ],
          "scatterternary": [
           {
            "marker": {
             "colorbar": {
              "outlinewidth": 0,
              "ticks": ""
             }
            },
            "type": "scatterternary"
           }
          ],
          "surface": [
           {
            "colorbar": {
             "outlinewidth": 0,
             "ticks": ""
            },
            "colorscale": [
             [
              0,
              "#0d0887"
             ],
             [
              0.1111111111111111,
              "#46039f"
             ],
             [
              0.2222222222222222,
              "#7201a8"
             ],
             [
              0.3333333333333333,
              "#9c179e"
             ],
             [
              0.4444444444444444,
              "#bd3786"
             ],
             [
              0.5555555555555556,
              "#d8576b"
             ],
             [
              0.6666666666666666,
              "#ed7953"
             ],
             [
              0.7777777777777778,
              "#fb9f3a"
             ],
             [
              0.8888888888888888,
              "#fdca26"
             ],
             [
              1,
              "#f0f921"
             ]
            ],
            "type": "surface"
           }
          ],
          "table": [
           {
            "cells": {
             "fill": {
              "color": "#EBF0F8"
             },
             "line": {
              "color": "white"
             }
            },
            "header": {
             "fill": {
              "color": "#C8D4E3"
             },
             "line": {
              "color": "white"
             }
            },
            "type": "table"
           }
          ]
         },
         "layout": {
          "annotationdefaults": {
           "arrowcolor": "#2a3f5f",
           "arrowhead": 0,
           "arrowwidth": 1
          },
          "autotypenumbers": "strict",
          "coloraxis": {
           "colorbar": {
            "outlinewidth": 0,
            "ticks": ""
           }
          },
          "colorscale": {
           "diverging": [
            [
             0,
             "#8e0152"
            ],
            [
             0.1,
             "#c51b7d"
            ],
            [
             0.2,
             "#de77ae"
            ],
            [
             0.3,
             "#f1b6da"
            ],
            [
             0.4,
             "#fde0ef"
            ],
            [
             0.5,
             "#f7f7f7"
            ],
            [
             0.6,
             "#e6f5d0"
            ],
            [
             0.7,
             "#b8e186"
            ],
            [
             0.8,
             "#7fbc41"
            ],
            [
             0.9,
             "#4d9221"
            ],
            [
             1,
             "#276419"
            ]
           ],
           "sequential": [
            [
             0,
             "#0d0887"
            ],
            [
             0.1111111111111111,
             "#46039f"
            ],
            [
             0.2222222222222222,
             "#7201a8"
            ],
            [
             0.3333333333333333,
             "#9c179e"
            ],
            [
             0.4444444444444444,
             "#bd3786"
            ],
            [
             0.5555555555555556,
             "#d8576b"
            ],
            [
             0.6666666666666666,
             "#ed7953"
            ],
            [
             0.7777777777777778,
             "#fb9f3a"
            ],
            [
             0.8888888888888888,
             "#fdca26"
            ],
            [
             1,
             "#f0f921"
            ]
           ],
           "sequentialminus": [
            [
             0,
             "#0d0887"
            ],
            [
             0.1111111111111111,
             "#46039f"
            ],
            [
             0.2222222222222222,
             "#7201a8"
            ],
            [
             0.3333333333333333,
             "#9c179e"
            ],
            [
             0.4444444444444444,
             "#bd3786"
            ],
            [
             0.5555555555555556,
             "#d8576b"
            ],
            [
             0.6666666666666666,
             "#ed7953"
            ],
            [
             0.7777777777777778,
             "#fb9f3a"
            ],
            [
             0.8888888888888888,
             "#fdca26"
            ],
            [
             1,
             "#f0f921"
            ]
           ]
          },
          "colorway": [
           "#636efa",
           "#EF553B",
           "#00cc96",
           "#ab63fa",
           "#FFA15A",
           "#19d3f3",
           "#FF6692",
           "#B6E880",
           "#FF97FF",
           "#FECB52"
          ],
          "font": {
           "color": "#2a3f5f"
          },
          "geo": {
           "bgcolor": "white",
           "lakecolor": "white",
           "landcolor": "#E5ECF6",
           "showlakes": true,
           "showland": true,
           "subunitcolor": "white"
          },
          "hoverlabel": {
           "align": "left"
          },
          "hovermode": "closest",
          "mapbox": {
           "style": "light"
          },
          "paper_bgcolor": "white",
          "plot_bgcolor": "#E5ECF6",
          "polar": {
           "angularaxis": {
            "gridcolor": "white",
            "linecolor": "white",
            "ticks": ""
           },
           "bgcolor": "#E5ECF6",
           "radialaxis": {
            "gridcolor": "white",
            "linecolor": "white",
            "ticks": ""
           }
          },
          "scene": {
           "xaxis": {
            "backgroundcolor": "#E5ECF6",
            "gridcolor": "white",
            "gridwidth": 2,
            "linecolor": "white",
            "showbackground": true,
            "ticks": "",
            "zerolinecolor": "white"
           },
           "yaxis": {
            "backgroundcolor": "#E5ECF6",
            "gridcolor": "white",
            "gridwidth": 2,
            "linecolor": "white",
            "showbackground": true,
            "ticks": "",
            "zerolinecolor": "white"
           },
           "zaxis": {
            "backgroundcolor": "#E5ECF6",
            "gridcolor": "white",
            "gridwidth": 2,
            "linecolor": "white",
            "showbackground": true,
            "ticks": "",
            "zerolinecolor": "white"
           }
          },
          "shapedefaults": {
           "line": {
            "color": "#2a3f5f"
           }
          },
          "ternary": {
           "aaxis": {
            "gridcolor": "white",
            "linecolor": "white",
            "ticks": ""
           },
           "baxis": {
            "gridcolor": "white",
            "linecolor": "white",
            "ticks": ""
           },
           "bgcolor": "#E5ECF6",
           "caxis": {
            "gridcolor": "white",
            "linecolor": "white",
            "ticks": ""
           }
          },
          "title": {
           "x": 0.05
          },
          "xaxis": {
           "automargin": true,
           "gridcolor": "white",
           "linecolor": "white",
           "ticks": "",
           "title": {
            "standoff": 15
           },
           "zerolinecolor": "white",
           "zerolinewidth": 2
          },
          "yaxis": {
           "automargin": true,
           "gridcolor": "white",
           "linecolor": "white",
           "ticks": "",
           "title": {
            "standoff": 15
           },
           "zerolinecolor": "white",
           "zerolinewidth": 2
          }
         }
        },
        "title": {
         "text": "Preço real de T x Preço estimado de T"
        },
        "xaxis": {
         "title": {
          "text": "Data"
         }
        },
        "yaxis": {
         "title": {
          "text": "Preço"
         }
        }
       }
      }
     },
     "metadata": {},
     "output_type": "display_data"
    },
    {
     "data": {
      "application/vnd.plotly.v1+json": {
       "config": {
        "plotlyServerURL": "https://plot.ly"
       },
       "data": [
        {
         "mode": "lines",
         "name": "Preço real de F",
         "type": "scatter",
         "x": [
          "2023-12-12T00:00:00",
          "2023-12-13T00:00:00",
          "2023-12-14T00:00:00",
          "2023-12-15T00:00:00",
          "2023-12-18T00:00:00",
          "2023-12-19T00:00:00",
          "2023-12-20T00:00:00",
          "2023-12-21T00:00:00",
          "2023-12-22T00:00:00",
          "2023-12-26T00:00:00",
          "2023-12-27T00:00:00",
          "2023-12-28T00:00:00",
          "2023-12-29T00:00:00"
         ],
         "y": [
          10.5717134475708,
          10.647496223449707,
          11.443217277526855,
          11.386380195617676,
          11.30112361907959,
          11.386380195617676,
          11.177976608276367,
          11.6895112991333,
          11.698984146118164,
          11.79371166229248,
          11.736875534057617,
          11.6895112991333,
          11.547417640686035
         ]
        },
        {
         "mode": "lines",
         "name": "Preço estimado de F",
         "type": "scatter",
         "x": [
          "2023-12-12T00:00:00",
          "2023-12-13T00:00:00",
          "2023-12-14T00:00:00",
          "2023-12-15T00:00:00",
          "2023-12-18T00:00:00",
          "2023-12-19T00:00:00",
          "2023-12-20T00:00:00",
          "2023-12-21T00:00:00",
          "2023-12-22T00:00:00",
          "2023-12-26T00:00:00",
          "2023-12-27T00:00:00",
          "2023-12-28T00:00:00",
          "2023-12-29T00:00:00"
         ],
         "y": [
          10.650126457214355,
          10.725909233093262,
          10.820206642150879,
          11.543730735778809,
          11.58719539642334,
          11.527575492858887,
          11.625274658203125,
          11.492204666137695,
          11.912251472473145,
          11.986933708190918,
          11.981843948364258,
          12.006921768188477,
          12.011940956115723
         ]
        }
       ],
       "layout": {
        "template": {
         "data": {
          "bar": [
           {
            "error_x": {
             "color": "#2a3f5f"
            },
            "error_y": {
             "color": "#2a3f5f"
            },
            "marker": {
             "line": {
              "color": "#E5ECF6",
              "width": 0.5
             },
             "pattern": {
              "fillmode": "overlay",
              "size": 10,
              "solidity": 0.2
             }
            },
            "type": "bar"
           }
          ],
          "barpolar": [
           {
            "marker": {
             "line": {
              "color": "#E5ECF6",
              "width": 0.5
             },
             "pattern": {
              "fillmode": "overlay",
              "size": 10,
              "solidity": 0.2
             }
            },
            "type": "barpolar"
           }
          ],
          "carpet": [
           {
            "aaxis": {
             "endlinecolor": "#2a3f5f",
             "gridcolor": "white",
             "linecolor": "white",
             "minorgridcolor": "white",
             "startlinecolor": "#2a3f5f"
            },
            "baxis": {
             "endlinecolor": "#2a3f5f",
             "gridcolor": "white",
             "linecolor": "white",
             "minorgridcolor": "white",
             "startlinecolor": "#2a3f5f"
            },
            "type": "carpet"
           }
          ],
          "choropleth": [
           {
            "colorbar": {
             "outlinewidth": 0,
             "ticks": ""
            },
            "type": "choropleth"
           }
          ],
          "contour": [
           {
            "colorbar": {
             "outlinewidth": 0,
             "ticks": ""
            },
            "colorscale": [
             [
              0,
              "#0d0887"
             ],
             [
              0.1111111111111111,
              "#46039f"
             ],
             [
              0.2222222222222222,
              "#7201a8"
             ],
             [
              0.3333333333333333,
              "#9c179e"
             ],
             [
              0.4444444444444444,
              "#bd3786"
             ],
             [
              0.5555555555555556,
              "#d8576b"
             ],
             [
              0.6666666666666666,
              "#ed7953"
             ],
             [
              0.7777777777777778,
              "#fb9f3a"
             ],
             [
              0.8888888888888888,
              "#fdca26"
             ],
             [
              1,
              "#f0f921"
             ]
            ],
            "type": "contour"
           }
          ],
          "contourcarpet": [
           {
            "colorbar": {
             "outlinewidth": 0,
             "ticks": ""
            },
            "type": "contourcarpet"
           }
          ],
          "heatmap": [
           {
            "colorbar": {
             "outlinewidth": 0,
             "ticks": ""
            },
            "colorscale": [
             [
              0,
              "#0d0887"
             ],
             [
              0.1111111111111111,
              "#46039f"
             ],
             [
              0.2222222222222222,
              "#7201a8"
             ],
             [
              0.3333333333333333,
              "#9c179e"
             ],
             [
              0.4444444444444444,
              "#bd3786"
             ],
             [
              0.5555555555555556,
              "#d8576b"
             ],
             [
              0.6666666666666666,
              "#ed7953"
             ],
             [
              0.7777777777777778,
              "#fb9f3a"
             ],
             [
              0.8888888888888888,
              "#fdca26"
             ],
             [
              1,
              "#f0f921"
             ]
            ],
            "type": "heatmap"
           }
          ],
          "heatmapgl": [
           {
            "colorbar": {
             "outlinewidth": 0,
             "ticks": ""
            },
            "colorscale": [
             [
              0,
              "#0d0887"
             ],
             [
              0.1111111111111111,
              "#46039f"
             ],
             [
              0.2222222222222222,
              "#7201a8"
             ],
             [
              0.3333333333333333,
              "#9c179e"
             ],
             [
              0.4444444444444444,
              "#bd3786"
             ],
             [
              0.5555555555555556,
              "#d8576b"
             ],
             [
              0.6666666666666666,
              "#ed7953"
             ],
             [
              0.7777777777777778,
              "#fb9f3a"
             ],
             [
              0.8888888888888888,
              "#fdca26"
             ],
             [
              1,
              "#f0f921"
             ]
            ],
            "type": "heatmapgl"
           }
          ],
          "histogram": [
           {
            "marker": {
             "pattern": {
              "fillmode": "overlay",
              "size": 10,
              "solidity": 0.2
             }
            },
            "type": "histogram"
           }
          ],
          "histogram2d": [
           {
            "colorbar": {
             "outlinewidth": 0,
             "ticks": ""
            },
            "colorscale": [
             [
              0,
              "#0d0887"
             ],
             [
              0.1111111111111111,
              "#46039f"
             ],
             [
              0.2222222222222222,
              "#7201a8"
             ],
             [
              0.3333333333333333,
              "#9c179e"
             ],
             [
              0.4444444444444444,
              "#bd3786"
             ],
             [
              0.5555555555555556,
              "#d8576b"
             ],
             [
              0.6666666666666666,
              "#ed7953"
             ],
             [
              0.7777777777777778,
              "#fb9f3a"
             ],
             [
              0.8888888888888888,
              "#fdca26"
             ],
             [
              1,
              "#f0f921"
             ]
            ],
            "type": "histogram2d"
           }
          ],
          "histogram2dcontour": [
           {
            "colorbar": {
             "outlinewidth": 0,
             "ticks": ""
            },
            "colorscale": [
             [
              0,
              "#0d0887"
             ],
             [
              0.1111111111111111,
              "#46039f"
             ],
             [
              0.2222222222222222,
              "#7201a8"
             ],
             [
              0.3333333333333333,
              "#9c179e"
             ],
             [
              0.4444444444444444,
              "#bd3786"
             ],
             [
              0.5555555555555556,
              "#d8576b"
             ],
             [
              0.6666666666666666,
              "#ed7953"
             ],
             [
              0.7777777777777778,
              "#fb9f3a"
             ],
             [
              0.8888888888888888,
              "#fdca26"
             ],
             [
              1,
              "#f0f921"
             ]
            ],
            "type": "histogram2dcontour"
           }
          ],
          "mesh3d": [
           {
            "colorbar": {
             "outlinewidth": 0,
             "ticks": ""
            },
            "type": "mesh3d"
           }
          ],
          "parcoords": [
           {
            "line": {
             "colorbar": {
              "outlinewidth": 0,
              "ticks": ""
             }
            },
            "type": "parcoords"
           }
          ],
          "pie": [
           {
            "automargin": true,
            "type": "pie"
           }
          ],
          "scatter": [
           {
            "fillpattern": {
             "fillmode": "overlay",
             "size": 10,
             "solidity": 0.2
            },
            "type": "scatter"
           }
          ],
          "scatter3d": [
           {
            "line": {
             "colorbar": {
              "outlinewidth": 0,
              "ticks": ""
             }
            },
            "marker": {
             "colorbar": {
              "outlinewidth": 0,
              "ticks": ""
             }
            },
            "type": "scatter3d"
           }
          ],
          "scattercarpet": [
           {
            "marker": {
             "colorbar": {
              "outlinewidth": 0,
              "ticks": ""
             }
            },
            "type": "scattercarpet"
           }
          ],
          "scattergeo": [
           {
            "marker": {
             "colorbar": {
              "outlinewidth": 0,
              "ticks": ""
             }
            },
            "type": "scattergeo"
           }
          ],
          "scattergl": [
           {
            "marker": {
             "colorbar": {
              "outlinewidth": 0,
              "ticks": ""
             }
            },
            "type": "scattergl"
           }
          ],
          "scattermapbox": [
           {
            "marker": {
             "colorbar": {
              "outlinewidth": 0,
              "ticks": ""
             }
            },
            "type": "scattermapbox"
           }
          ],
          "scatterpolar": [
           {
            "marker": {
             "colorbar": {
              "outlinewidth": 0,
              "ticks": ""
             }
            },
            "type": "scatterpolar"
           }
          ],
          "scatterpolargl": [
           {
            "marker": {
             "colorbar": {
              "outlinewidth": 0,
              "ticks": ""
             }
            },
            "type": "scatterpolargl"
           }
          ],
          "scatterternary": [
           {
            "marker": {
             "colorbar": {
              "outlinewidth": 0,
              "ticks": ""
             }
            },
            "type": "scatterternary"
           }
          ],
          "surface": [
           {
            "colorbar": {
             "outlinewidth": 0,
             "ticks": ""
            },
            "colorscale": [
             [
              0,
              "#0d0887"
             ],
             [
              0.1111111111111111,
              "#46039f"
             ],
             [
              0.2222222222222222,
              "#7201a8"
             ],
             [
              0.3333333333333333,
              "#9c179e"
             ],
             [
              0.4444444444444444,
              "#bd3786"
             ],
             [
              0.5555555555555556,
              "#d8576b"
             ],
             [
              0.6666666666666666,
              "#ed7953"
             ],
             [
              0.7777777777777778,
              "#fb9f3a"
             ],
             [
              0.8888888888888888,
              "#fdca26"
             ],
             [
              1,
              "#f0f921"
             ]
            ],
            "type": "surface"
           }
          ],
          "table": [
           {
            "cells": {
             "fill": {
              "color": "#EBF0F8"
             },
             "line": {
              "color": "white"
             }
            },
            "header": {
             "fill": {
              "color": "#C8D4E3"
             },
             "line": {
              "color": "white"
             }
            },
            "type": "table"
           }
          ]
         },
         "layout": {
          "annotationdefaults": {
           "arrowcolor": "#2a3f5f",
           "arrowhead": 0,
           "arrowwidth": 1
          },
          "autotypenumbers": "strict",
          "coloraxis": {
           "colorbar": {
            "outlinewidth": 0,
            "ticks": ""
           }
          },
          "colorscale": {
           "diverging": [
            [
             0,
             "#8e0152"
            ],
            [
             0.1,
             "#c51b7d"
            ],
            [
             0.2,
             "#de77ae"
            ],
            [
             0.3,
             "#f1b6da"
            ],
            [
             0.4,
             "#fde0ef"
            ],
            [
             0.5,
             "#f7f7f7"
            ],
            [
             0.6,
             "#e6f5d0"
            ],
            [
             0.7,
             "#b8e186"
            ],
            [
             0.8,
             "#7fbc41"
            ],
            [
             0.9,
             "#4d9221"
            ],
            [
             1,
             "#276419"
            ]
           ],
           "sequential": [
            [
             0,
             "#0d0887"
            ],
            [
             0.1111111111111111,
             "#46039f"
            ],
            [
             0.2222222222222222,
             "#7201a8"
            ],
            [
             0.3333333333333333,
             "#9c179e"
            ],
            [
             0.4444444444444444,
             "#bd3786"
            ],
            [
             0.5555555555555556,
             "#d8576b"
            ],
            [
             0.6666666666666666,
             "#ed7953"
            ],
            [
             0.7777777777777778,
             "#fb9f3a"
            ],
            [
             0.8888888888888888,
             "#fdca26"
            ],
            [
             1,
             "#f0f921"
            ]
           ],
           "sequentialminus": [
            [
             0,
             "#0d0887"
            ],
            [
             0.1111111111111111,
             "#46039f"
            ],
            [
             0.2222222222222222,
             "#7201a8"
            ],
            [
             0.3333333333333333,
             "#9c179e"
            ],
            [
             0.4444444444444444,
             "#bd3786"
            ],
            [
             0.5555555555555556,
             "#d8576b"
            ],
            [
             0.6666666666666666,
             "#ed7953"
            ],
            [
             0.7777777777777778,
             "#fb9f3a"
            ],
            [
             0.8888888888888888,
             "#fdca26"
            ],
            [
             1,
             "#f0f921"
            ]
           ]
          },
          "colorway": [
           "#636efa",
           "#EF553B",
           "#00cc96",
           "#ab63fa",
           "#FFA15A",
           "#19d3f3",
           "#FF6692",
           "#B6E880",
           "#FF97FF",
           "#FECB52"
          ],
          "font": {
           "color": "#2a3f5f"
          },
          "geo": {
           "bgcolor": "white",
           "lakecolor": "white",
           "landcolor": "#E5ECF6",
           "showlakes": true,
           "showland": true,
           "subunitcolor": "white"
          },
          "hoverlabel": {
           "align": "left"
          },
          "hovermode": "closest",
          "mapbox": {
           "style": "light"
          },
          "paper_bgcolor": "white",
          "plot_bgcolor": "#E5ECF6",
          "polar": {
           "angularaxis": {
            "gridcolor": "white",
            "linecolor": "white",
            "ticks": ""
           },
           "bgcolor": "#E5ECF6",
           "radialaxis": {
            "gridcolor": "white",
            "linecolor": "white",
            "ticks": ""
           }
          },
          "scene": {
           "xaxis": {
            "backgroundcolor": "#E5ECF6",
            "gridcolor": "white",
            "gridwidth": 2,
            "linecolor": "white",
            "showbackground": true,
            "ticks": "",
            "zerolinecolor": "white"
           },
           "yaxis": {
            "backgroundcolor": "#E5ECF6",
            "gridcolor": "white",
            "gridwidth": 2,
            "linecolor": "white",
            "showbackground": true,
            "ticks": "",
            "zerolinecolor": "white"
           },
           "zaxis": {
            "backgroundcolor": "#E5ECF6",
            "gridcolor": "white",
            "gridwidth": 2,
            "linecolor": "white",
            "showbackground": true,
            "ticks": "",
            "zerolinecolor": "white"
           }
          },
          "shapedefaults": {
           "line": {
            "color": "#2a3f5f"
           }
          },
          "ternary": {
           "aaxis": {
            "gridcolor": "white",
            "linecolor": "white",
            "ticks": ""
           },
           "baxis": {
            "gridcolor": "white",
            "linecolor": "white",
            "ticks": ""
           },
           "bgcolor": "#E5ECF6",
           "caxis": {
            "gridcolor": "white",
            "linecolor": "white",
            "ticks": ""
           }
          },
          "title": {
           "x": 0.05
          },
          "xaxis": {
           "automargin": true,
           "gridcolor": "white",
           "linecolor": "white",
           "ticks": "",
           "title": {
            "standoff": 15
           },
           "zerolinecolor": "white",
           "zerolinewidth": 2
          },
          "yaxis": {
           "automargin": true,
           "gridcolor": "white",
           "linecolor": "white",
           "ticks": "",
           "title": {
            "standoff": 15
           },
           "zerolinecolor": "white",
           "zerolinewidth": 2
          }
         }
        },
        "title": {
         "text": "Preço real de F x Preço estimado de F"
        },
        "xaxis": {
         "title": {
          "text": "Data"
         }
        },
        "yaxis": {
         "title": {
          "text": "Preço"
         }
        }
       }
      }
     },
     "metadata": {},
     "output_type": "display_data"
    },
    {
     "data": {
      "application/vnd.plotly.v1+json": {
       "config": {
        "plotlyServerURL": "https://plot.ly"
       },
       "data": [
        {
         "mode": "lines",
         "name": "Preço real de NVDA",
         "type": "scatter",
         "x": [
          "2023-12-12T00:00:00",
          "2023-12-13T00:00:00",
          "2023-12-14T00:00:00",
          "2023-12-15T00:00:00",
          "2023-12-18T00:00:00",
          "2023-12-19T00:00:00",
          "2023-12-20T00:00:00",
          "2023-12-21T00:00:00",
          "2023-12-22T00:00:00",
          "2023-12-26T00:00:00",
          "2023-12-27T00:00:00",
          "2023-12-28T00:00:00",
          "2023-12-29T00:00:00"
         ],
         "y": [
          47.65085220336915,
          48.08179855346679,
          48.34375762939453,
          48.883689880371094,
          50.07053756713867,
          49.597599029541016,
          48.10478973388672,
          48.98368072509766,
          48.82370376586914,
          49.272640228271484,
          49.410621643066406,
          49.51560974121094,
          49.51560974121094
         ]
        },
        {
         "mode": "lines",
         "name": "Preço estimado de NVDA",
         "type": "scatter",
         "x": [
          "2023-12-12T00:00:00",
          "2023-12-13T00:00:00",
          "2023-12-14T00:00:00",
          "2023-12-15T00:00:00",
          "2023-12-18T00:00:00",
          "2023-12-19T00:00:00",
          "2023-12-20T00:00:00",
          "2023-12-21T00:00:00",
          "2023-12-22T00:00:00",
          "2023-12-26T00:00:00",
          "2023-12-27T00:00:00",
          "2023-12-28T00:00:00",
          "2023-12-29T00:00:00"
         ],
         "y": [
          41.9359245300293,
          42.716670989990234,
          43.41698455810547,
          43.84361267089844,
          44.39955520629883,
          45.38863754272461,
          44.86695098876953,
          43.737953186035156,
          44.387359619140625,
          44.34086608886719,
          44.654239654541016,
          44.8289680480957,
          44.803009033203125
         ]
        }
       ],
       "layout": {
        "template": {
         "data": {
          "bar": [
           {
            "error_x": {
             "color": "#2a3f5f"
            },
            "error_y": {
             "color": "#2a3f5f"
            },
            "marker": {
             "line": {
              "color": "#E5ECF6",
              "width": 0.5
             },
             "pattern": {
              "fillmode": "overlay",
              "size": 10,
              "solidity": 0.2
             }
            },
            "type": "bar"
           }
          ],
          "barpolar": [
           {
            "marker": {
             "line": {
              "color": "#E5ECF6",
              "width": 0.5
             },
             "pattern": {
              "fillmode": "overlay",
              "size": 10,
              "solidity": 0.2
             }
            },
            "type": "barpolar"
           }
          ],
          "carpet": [
           {
            "aaxis": {
             "endlinecolor": "#2a3f5f",
             "gridcolor": "white",
             "linecolor": "white",
             "minorgridcolor": "white",
             "startlinecolor": "#2a3f5f"
            },
            "baxis": {
             "endlinecolor": "#2a3f5f",
             "gridcolor": "white",
             "linecolor": "white",
             "minorgridcolor": "white",
             "startlinecolor": "#2a3f5f"
            },
            "type": "carpet"
           }
          ],
          "choropleth": [
           {
            "colorbar": {
             "outlinewidth": 0,
             "ticks": ""
            },
            "type": "choropleth"
           }
          ],
          "contour": [
           {
            "colorbar": {
             "outlinewidth": 0,
             "ticks": ""
            },
            "colorscale": [
             [
              0,
              "#0d0887"
             ],
             [
              0.1111111111111111,
              "#46039f"
             ],
             [
              0.2222222222222222,
              "#7201a8"
             ],
             [
              0.3333333333333333,
              "#9c179e"
             ],
             [
              0.4444444444444444,
              "#bd3786"
             ],
             [
              0.5555555555555556,
              "#d8576b"
             ],
             [
              0.6666666666666666,
              "#ed7953"
             ],
             [
              0.7777777777777778,
              "#fb9f3a"
             ],
             [
              0.8888888888888888,
              "#fdca26"
             ],
             [
              1,
              "#f0f921"
             ]
            ],
            "type": "contour"
           }
          ],
          "contourcarpet": [
           {
            "colorbar": {
             "outlinewidth": 0,
             "ticks": ""
            },
            "type": "contourcarpet"
           }
          ],
          "heatmap": [
           {
            "colorbar": {
             "outlinewidth": 0,
             "ticks": ""
            },
            "colorscale": [
             [
              0,
              "#0d0887"
             ],
             [
              0.1111111111111111,
              "#46039f"
             ],
             [
              0.2222222222222222,
              "#7201a8"
             ],
             [
              0.3333333333333333,
              "#9c179e"
             ],
             [
              0.4444444444444444,
              "#bd3786"
             ],
             [
              0.5555555555555556,
              "#d8576b"
             ],
             [
              0.6666666666666666,
              "#ed7953"
             ],
             [
              0.7777777777777778,
              "#fb9f3a"
             ],
             [
              0.8888888888888888,
              "#fdca26"
             ],
             [
              1,
              "#f0f921"
             ]
            ],
            "type": "heatmap"
           }
          ],
          "heatmapgl": [
           {
            "colorbar": {
             "outlinewidth": 0,
             "ticks": ""
            },
            "colorscale": [
             [
              0,
              "#0d0887"
             ],
             [
              0.1111111111111111,
              "#46039f"
             ],
             [
              0.2222222222222222,
              "#7201a8"
             ],
             [
              0.3333333333333333,
              "#9c179e"
             ],
             [
              0.4444444444444444,
              "#bd3786"
             ],
             [
              0.5555555555555556,
              "#d8576b"
             ],
             [
              0.6666666666666666,
              "#ed7953"
             ],
             [
              0.7777777777777778,
              "#fb9f3a"
             ],
             [
              0.8888888888888888,
              "#fdca26"
             ],
             [
              1,
              "#f0f921"
             ]
            ],
            "type": "heatmapgl"
           }
          ],
          "histogram": [
           {
            "marker": {
             "pattern": {
              "fillmode": "overlay",
              "size": 10,
              "solidity": 0.2
             }
            },
            "type": "histogram"
           }
          ],
          "histogram2d": [
           {
            "colorbar": {
             "outlinewidth": 0,
             "ticks": ""
            },
            "colorscale": [
             [
              0,
              "#0d0887"
             ],
             [
              0.1111111111111111,
              "#46039f"
             ],
             [
              0.2222222222222222,
              "#7201a8"
             ],
             [
              0.3333333333333333,
              "#9c179e"
             ],
             [
              0.4444444444444444,
              "#bd3786"
             ],
             [
              0.5555555555555556,
              "#d8576b"
             ],
             [
              0.6666666666666666,
              "#ed7953"
             ],
             [
              0.7777777777777778,
              "#fb9f3a"
             ],
             [
              0.8888888888888888,
              "#fdca26"
             ],
             [
              1,
              "#f0f921"
             ]
            ],
            "type": "histogram2d"
           }
          ],
          "histogram2dcontour": [
           {
            "colorbar": {
             "outlinewidth": 0,
             "ticks": ""
            },
            "colorscale": [
             [
              0,
              "#0d0887"
             ],
             [
              0.1111111111111111,
              "#46039f"
             ],
             [
              0.2222222222222222,
              "#7201a8"
             ],
             [
              0.3333333333333333,
              "#9c179e"
             ],
             [
              0.4444444444444444,
              "#bd3786"
             ],
             [
              0.5555555555555556,
              "#d8576b"
             ],
             [
              0.6666666666666666,
              "#ed7953"
             ],
             [
              0.7777777777777778,
              "#fb9f3a"
             ],
             [
              0.8888888888888888,
              "#fdca26"
             ],
             [
              1,
              "#f0f921"
             ]
            ],
            "type": "histogram2dcontour"
           }
          ],
          "mesh3d": [
           {
            "colorbar": {
             "outlinewidth": 0,
             "ticks": ""
            },
            "type": "mesh3d"
           }
          ],
          "parcoords": [
           {
            "line": {
             "colorbar": {
              "outlinewidth": 0,
              "ticks": ""
             }
            },
            "type": "parcoords"
           }
          ],
          "pie": [
           {
            "automargin": true,
            "type": "pie"
           }
          ],
          "scatter": [
           {
            "fillpattern": {
             "fillmode": "overlay",
             "size": 10,
             "solidity": 0.2
            },
            "type": "scatter"
           }
          ],
          "scatter3d": [
           {
            "line": {
             "colorbar": {
              "outlinewidth": 0,
              "ticks": ""
             }
            },
            "marker": {
             "colorbar": {
              "outlinewidth": 0,
              "ticks": ""
             }
            },
            "type": "scatter3d"
           }
          ],
          "scattercarpet": [
           {
            "marker": {
             "colorbar": {
              "outlinewidth": 0,
              "ticks": ""
             }
            },
            "type": "scattercarpet"
           }
          ],
          "scattergeo": [
           {
            "marker": {
             "colorbar": {
              "outlinewidth": 0,
              "ticks": ""
             }
            },
            "type": "scattergeo"
           }
          ],
          "scattergl": [
           {
            "marker": {
             "colorbar": {
              "outlinewidth": 0,
              "ticks": ""
             }
            },
            "type": "scattergl"
           }
          ],
          "scattermapbox": [
           {
            "marker": {
             "colorbar": {
              "outlinewidth": 0,
              "ticks": ""
             }
            },
            "type": "scattermapbox"
           }
          ],
          "scatterpolar": [
           {
            "marker": {
             "colorbar": {
              "outlinewidth": 0,
              "ticks": ""
             }
            },
            "type": "scatterpolar"
           }
          ],
          "scatterpolargl": [
           {
            "marker": {
             "colorbar": {
              "outlinewidth": 0,
              "ticks": ""
             }
            },
            "type": "scatterpolargl"
           }
          ],
          "scatterternary": [
           {
            "marker": {
             "colorbar": {
              "outlinewidth": 0,
              "ticks": ""
             }
            },
            "type": "scatterternary"
           }
          ],
          "surface": [
           {
            "colorbar": {
             "outlinewidth": 0,
             "ticks": ""
            },
            "colorscale": [
             [
              0,
              "#0d0887"
             ],
             [
              0.1111111111111111,
              "#46039f"
             ],
             [
              0.2222222222222222,
              "#7201a8"
             ],
             [
              0.3333333333333333,
              "#9c179e"
             ],
             [
              0.4444444444444444,
              "#bd3786"
             ],
             [
              0.5555555555555556,
              "#d8576b"
             ],
             [
              0.6666666666666666,
              "#ed7953"
             ],
             [
              0.7777777777777778,
              "#fb9f3a"
             ],
             [
              0.8888888888888888,
              "#fdca26"
             ],
             [
              1,
              "#f0f921"
             ]
            ],
            "type": "surface"
           }
          ],
          "table": [
           {
            "cells": {
             "fill": {
              "color": "#EBF0F8"
             },
             "line": {
              "color": "white"
             }
            },
            "header": {
             "fill": {
              "color": "#C8D4E3"
             },
             "line": {
              "color": "white"
             }
            },
            "type": "table"
           }
          ]
         },
         "layout": {
          "annotationdefaults": {
           "arrowcolor": "#2a3f5f",
           "arrowhead": 0,
           "arrowwidth": 1
          },
          "autotypenumbers": "strict",
          "coloraxis": {
           "colorbar": {
            "outlinewidth": 0,
            "ticks": ""
           }
          },
          "colorscale": {
           "diverging": [
            [
             0,
             "#8e0152"
            ],
            [
             0.1,
             "#c51b7d"
            ],
            [
             0.2,
             "#de77ae"
            ],
            [
             0.3,
             "#f1b6da"
            ],
            [
             0.4,
             "#fde0ef"
            ],
            [
             0.5,
             "#f7f7f7"
            ],
            [
             0.6,
             "#e6f5d0"
            ],
            [
             0.7,
             "#b8e186"
            ],
            [
             0.8,
             "#7fbc41"
            ],
            [
             0.9,
             "#4d9221"
            ],
            [
             1,
             "#276419"
            ]
           ],
           "sequential": [
            [
             0,
             "#0d0887"
            ],
            [
             0.1111111111111111,
             "#46039f"
            ],
            [
             0.2222222222222222,
             "#7201a8"
            ],
            [
             0.3333333333333333,
             "#9c179e"
            ],
            [
             0.4444444444444444,
             "#bd3786"
            ],
            [
             0.5555555555555556,
             "#d8576b"
            ],
            [
             0.6666666666666666,
             "#ed7953"
            ],
            [
             0.7777777777777778,
             "#fb9f3a"
            ],
            [
             0.8888888888888888,
             "#fdca26"
            ],
            [
             1,
             "#f0f921"
            ]
           ],
           "sequentialminus": [
            [
             0,
             "#0d0887"
            ],
            [
             0.1111111111111111,
             "#46039f"
            ],
            [
             0.2222222222222222,
             "#7201a8"
            ],
            [
             0.3333333333333333,
             "#9c179e"
            ],
            [
             0.4444444444444444,
             "#bd3786"
            ],
            [
             0.5555555555555556,
             "#d8576b"
            ],
            [
             0.6666666666666666,
             "#ed7953"
            ],
            [
             0.7777777777777778,
             "#fb9f3a"
            ],
            [
             0.8888888888888888,
             "#fdca26"
            ],
            [
             1,
             "#f0f921"
            ]
           ]
          },
          "colorway": [
           "#636efa",
           "#EF553B",
           "#00cc96",
           "#ab63fa",
           "#FFA15A",
           "#19d3f3",
           "#FF6692",
           "#B6E880",
           "#FF97FF",
           "#FECB52"
          ],
          "font": {
           "color": "#2a3f5f"
          },
          "geo": {
           "bgcolor": "white",
           "lakecolor": "white",
           "landcolor": "#E5ECF6",
           "showlakes": true,
           "showland": true,
           "subunitcolor": "white"
          },
          "hoverlabel": {
           "align": "left"
          },
          "hovermode": "closest",
          "mapbox": {
           "style": "light"
          },
          "paper_bgcolor": "white",
          "plot_bgcolor": "#E5ECF6",
          "polar": {
           "angularaxis": {
            "gridcolor": "white",
            "linecolor": "white",
            "ticks": ""
           },
           "bgcolor": "#E5ECF6",
           "radialaxis": {
            "gridcolor": "white",
            "linecolor": "white",
            "ticks": ""
           }
          },
          "scene": {
           "xaxis": {
            "backgroundcolor": "#E5ECF6",
            "gridcolor": "white",
            "gridwidth": 2,
            "linecolor": "white",
            "showbackground": true,
            "ticks": "",
            "zerolinecolor": "white"
           },
           "yaxis": {
            "backgroundcolor": "#E5ECF6",
            "gridcolor": "white",
            "gridwidth": 2,
            "linecolor": "white",
            "showbackground": true,
            "ticks": "",
            "zerolinecolor": "white"
           },
           "zaxis": {
            "backgroundcolor": "#E5ECF6",
            "gridcolor": "white",
            "gridwidth": 2,
            "linecolor": "white",
            "showbackground": true,
            "ticks": "",
            "zerolinecolor": "white"
           }
          },
          "shapedefaults": {
           "line": {
            "color": "#2a3f5f"
           }
          },
          "ternary": {
           "aaxis": {
            "gridcolor": "white",
            "linecolor": "white",
            "ticks": ""
           },
           "baxis": {
            "gridcolor": "white",
            "linecolor": "white",
            "ticks": ""
           },
           "bgcolor": "#E5ECF6",
           "caxis": {
            "gridcolor": "white",
            "linecolor": "white",
            "ticks": ""
           }
          },
          "title": {
           "x": 0.05
          },
          "xaxis": {
           "automargin": true,
           "gridcolor": "white",
           "linecolor": "white",
           "ticks": "",
           "title": {
            "standoff": 15
           },
           "zerolinecolor": "white",
           "zerolinewidth": 2
          },
          "yaxis": {
           "automargin": true,
           "gridcolor": "white",
           "linecolor": "white",
           "ticks": "",
           "title": {
            "standoff": 15
           },
           "zerolinecolor": "white",
           "zerolinewidth": 2
          }
         }
        },
        "title": {
         "text": "Preço real de NVDA x Preço estimado de NVDA"
        },
        "xaxis": {
         "title": {
          "text": "Data"
         }
        },
        "yaxis": {
         "title": {
          "text": "Preço"
         }
        }
       }
      }
     },
     "metadata": {},
     "output_type": "display_data"
    }
   ],
   "source": [
    "for ticker in train_test_data.keys():\n",
    "        \n",
    "        # Redimensiona y_train para que ele seja bidimensional (Necessário para o MinMaxScaler).\n",
    "        resized_y_train = train_test_data[ticker]['y_train'].values.reshape(-1, 1)  \n",
    "\n",
    "        # Cria uma instancia do MinMaxScaler para o target do ticker em questão.\n",
    "        scaler_target = MinMaxScaler()\n",
    "\n",
    "        # Ajusta a instância criada acima ao conjunto de treino do target do ticker em questão.\n",
    "        scaler_target.fit_transform(resized_y_train)\n",
    "        \n",
    "        # Volta os valores de \"y_test_scaled_sequences\" para a escala normal e associa a esses valores as suas datas originais, criando assim\n",
    "        # uma série temporal.\n",
    "        real_y = pd.Series(scaler_target.inverse_transform(train_test_data[ticker]['y_test_scaled_sequences']).flatten(),\n",
    "                      index= train_test_data[ticker]['y_test'].index[len(train_test_data[ticker]['y_test']) - len(train_test_data[ticker]['y_test_scaled_sequences']):]\n",
    "        )\n",
    "        # Adiciona um nome a série temporal \"real_y\"\n",
    "        real_y.name = f\"Preço real de {ticker}\"\n",
    "        \n",
    "        # Volta os valores estimados para a escala normal e associa a esses valores as suas datas originais, criando assim\n",
    "        # uma série temporal.\n",
    "        predicted_y = pd.Series(\n",
    "            scaler_target.inverse_transform(train_test_data[ticker]['predicted']).flatten(),\n",
    "            index=train_test_data[ticker]['y_test'].index[len(train_test_data[ticker]['y_test']) - len(train_test_data[ticker]['y_test_scaled_sequences']):]\n",
    "        )\n",
    "        # Adiciona um nome a série temporal \"predicted_y\"\n",
    "        predicted_y.name = f\"Preço estimado de {ticker}\"\n",
    "        \n",
    "        # Plota um gráfico de linha comparativo para as variáveis \"real_y\" e \"predicted_y\" em questão.\n",
    "        plot_multiples_time_series_line_graphs([real_y, predicted_y], f\"Preço real de {ticker} x Preço estimado de {ticker}\", \"Data\", \"Preço\")   "
   ]
  },
  {
   "cell_type": "code",
   "execution_count": 140,
   "metadata": {},
   "outputs": [
    {
     "name": "stdout",
     "output_type": "stream",
     "text": [
      "O ticker AMCR teve um Erro Quadrático Médio de aproximadamente 1.25% associado as previsões feitas para ele.\n",
      "O ticker AAL teve um Erro Quadrático Médio de aproximadamente 3.09% associado as previsões feitas para ele.\n",
      "O ticker T teve um Erro Quadrático Médio de aproximadamente 2.49% associado as previsões feitas para ele.\n",
      "O ticker F teve um Erro Quadrático Médio de aproximadamente 1.74% associado as previsões feitas para ele.\n",
      "O ticker NVDA teve um Erro Quadrático Médio de aproximadamente 10.36% associado as previsões feitas para ele.\n"
     ]
    }
   ],
   "source": [
    "# Exibe o Erro Quadrático Médio associado as previsões feitas para cada um dos tickers presentes em \"train_test_data.keys()\".\n",
    "for i, ticker in enumerate(train_test_data.keys()):\n",
    "    print(f\"O ticker {ticker} teve um Erro Quadrático Médio de aproximadamente {train_test_data[ticker]['RMSE']*100:.2f}% associado as previsões feitas para ele.\")"
   ]
  },
  {
   "cell_type": "markdown",
   "metadata": {},
   "source": [
    "# **Alguns pontos interessantes**"
   ]
  },
  {
   "cell_type": "markdown",
   "metadata": {},
   "source": [
    "- Embora uma das consequências do Teorema da Aproximação Universal nos garanta que qualquer função contínua possa ser aproximada por uma rede neural de camada simples e com número finito de neurônios, tal teorema apenas nos diz que essa rede neural existe, mas não nos fornece qualquer informação sobre ela. Na prática, *nos dias atuais*, é praticamente impossível de se criar um modelo de IA que reflita os preços reais com ligeira perfeição. Mas, os modelos de IA atuais podem, se bem criados, serem muito bons em revelarem tendências futuras\n",
    "\n",
    "- Quais features precisariamos adicionar/remover do modelo apresentado para que ele refletisse de forma melhor os preços reais ?"
   ]
  },
  {
   "cell_type": "markdown",
   "metadata": {},
   "source": [
    "###"
   ]
  }
 ],
 "metadata": {
  "kernelspec": {
   "display_name": "Python 3 (ipykernel)",
   "language": "python",
   "name": "python3"
  },
  "language_info": {
   "codemirror_mode": {
    "name": "ipython",
    "version": 3
   },
   "file_extension": ".py",
   "mimetype": "text/x-python",
   "name": "python",
   "nbconvert_exporter": "python",
   "pygments_lexer": "ipython3",
   "version": "3.10.12"
  }
 },
 "nbformat": 4,
 "nbformat_minor": 2
}
