{
 "cells": [
  {
   "cell_type": "markdown",
   "metadata": {},
   "source": [
    "# **Configurando as bibliotecas do projeto**"
   ]
  },
  {
   "cell_type": "markdown",
   "metadata": {},
   "source": [
    "## *Instalação de bibliotecas*"
   ]
  },
  {
   "cell_type": "markdown",
   "metadata": {},
   "source": [
    "## *Importação de bibliotecas*"
   ]
  },
  {
   "cell_type": "code",
   "execution_count": 1,
   "metadata": {},
   "outputs": [],
   "source": [
    "'''\n",
    "    Essa célula será usada para a importação de bibliotecas.\n",
    "'''\n",
    "\n",
    "# Instala a biblioteca que será utilizada para se obter os dados financeiros.\n",
    "import yfinance as yf\n",
    "# Importa a biblioteca que será utilizada para a manipulação de DataFrames.\n",
    "import pandas as pd\n",
    "# Importa a biblioteca que será utilizada para lidar com objetos do tipo \"datetime\".\n",
    "from datetime import datetime, timedelta\n",
    "# Importa a biblioteca que será responsável pela tipagem de funções.\n",
    "from typing import Union, Optional\n",
    "# Importa a biblioteca que será utilizada para a manipulação de arrays e também para o uso de algumas funções matemáticas.\n",
    "import numpy as np"
   ]
  }
 ],
 "metadata": {
  "kernelspec": {
   "display_name": "Python 3",
   "language": "python",
   "name": "python3"
  },
  "language_info": {
   "codemirror_mode": {
    "name": "ipython",
    "version": 3
   },
   "file_extension": ".py",
   "mimetype": "text/x-python",
   "name": "python",
   "nbconvert_exporter": "python",
   "pygments_lexer": "ipython3",
   "version": "3.10.12"
  }
 },
 "nbformat": 4,
 "nbformat_minor": 2
}
